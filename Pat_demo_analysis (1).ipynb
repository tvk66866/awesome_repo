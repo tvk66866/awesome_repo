{
 "cells": [
  {
   "cell_type": "code",
   "execution_count": 92,
   "metadata": {},
   "outputs": [],
   "source": [
    "import pandas as pd"
   ]
  },
  {
   "cell_type": "code",
   "execution_count": 93,
   "metadata": {},
   "outputs": [],
   "source": [
    "import seaborn as sns"
   ]
  },
  {
   "cell_type": "code",
   "execution_count": 94,
   "metadata": {},
   "outputs": [],
   "source": [
    "import matplotlib.pyplot as plt\n",
    "from math import exp, expm1,log\n",
    "import numpy as np"
   ]
  },
  {
   "cell_type": "code",
   "execution_count": 95,
   "metadata": {},
   "outputs": [],
   "source": [
    "from sklearn.model_selection import train_test_split, cross_val_score\n",
    "from sklearn.linear_model import LinearRegression, Ridge, Lasso, LogisticRegression\n",
    "from sklearn.metrics import mean_squared_error, r2_score,confusion_matrix\n",
    "from sklearn.ensemble import RandomForestClassifier"
   ]
  },
  {
   "cell_type": "code",
   "execution_count": 96,
   "metadata": {},
   "outputs": [],
   "source": [
    "demog = pd.read_csv('Pat_demo_analysis.csv', delimiter = '|')"
   ]
  },
  {
   "cell_type": "code",
   "execution_count": 97,
   "metadata": {},
   "outputs": [],
   "source": [
    "#demog.info()"
   ]
  },
  {
   "cell_type": "code",
   "execution_count": 98,
   "metadata": {},
   "outputs": [
    {
     "data": {
      "text/plain": [
       "['PTNT_MSTR_ID',\n",
       " 'age',\n",
       " 'GENDER',\n",
       " 'COMNTY_NM',\n",
       " 'FIN_CLASS',\n",
       " 'HF_YN',\n",
       " 'category.1',\n",
       " 'category']"
      ]
     },
     "execution_count": 98,
     "metadata": {},
     "output_type": "execute_result"
    }
   ],
   "source": [
    "cols = demog.columns.tolist()\n",
    "cols = cols[-7: ] + cols[ : -7]\n",
    "cols"
   ]
  },
  {
   "cell_type": "code",
   "execution_count": 99,
   "metadata": {},
   "outputs": [],
   "source": [
    "#cols = cols[-6: ] + cols [ : -1]"
   ]
  },
  {
   "cell_type": "code",
   "execution_count": 100,
   "metadata": {},
   "outputs": [],
   "source": [
    "#cols"
   ]
  },
  {
   "cell_type": "code",
   "execution_count": 101,
   "metadata": {},
   "outputs": [],
   "source": [
    "demog = demog[cols]"
   ]
  },
  {
   "cell_type": "code",
   "execution_count": 102,
   "metadata": {},
   "outputs": [
    {
     "data": {
      "text/plain": [
       "array(['Self-pay', 'Medicare', 'Medicaid', 'Non-Government Insurance',\n",
       "       'Government Insurance', 'Commercial', \"Worker's Comp\", 'Other',\n",
       "       'Unknown', nan], dtype=object)"
      ]
     },
     "execution_count": 102,
     "metadata": {},
     "output_type": "execute_result"
    }
   ],
   "source": [
    "demog.FIN_CLASS.unique()"
   ]
  },
  {
   "cell_type": "code",
   "execution_count": 103,
   "metadata": {},
   "outputs": [],
   "source": [
    "demog= demog.dropna()"
   ]
  },
  {
   "cell_type": "code",
   "execution_count": 104,
   "metadata": {},
   "outputs": [
    {
     "data": {
      "text/plain": [
       "(701551, 8)"
      ]
     },
     "execution_count": 104,
     "metadata": {},
     "output_type": "execute_result"
    }
   ],
   "source": [
    "demog.shape"
   ]
  },
  {
   "cell_type": "code",
   "execution_count": 105,
   "metadata": {},
   "outputs": [
    {
     "data": {
      "text/plain": [
       "(701551, 8)"
      ]
     },
     "execution_count": 105,
     "metadata": {},
     "output_type": "execute_result"
    }
   ],
   "source": [
    "demog.shape"
   ]
  },
  {
   "cell_type": "code",
   "execution_count": 106,
   "metadata": {},
   "outputs": [],
   "source": [
    "#demog.head()"
   ]
  },
  {
   "cell_type": "code",
   "execution_count": 107,
   "metadata": {},
   "outputs": [],
   "source": [
    "#demog[(demog['category.1']== 'Diabetes')].head()"
   ]
  },
  {
   "cell_type": "code",
   "execution_count": 108,
   "metadata": {},
   "outputs": [
    {
     "data": {
      "text/plain": [
       "701551"
      ]
     },
     "execution_count": 108,
     "metadata": {},
     "output_type": "execute_result"
    }
   ],
   "source": [
    "demog.HF_YN.count()"
   ]
  },
  {
   "cell_type": "code",
   "execution_count": 109,
   "metadata": {},
   "outputs": [],
   "source": [
    "#pd.get_dummies(demog, prefix= )"
   ]
  },
  {
   "cell_type": "code",
   "execution_count": 110,
   "metadata": {},
   "outputs": [
    {
     "data": {
      "text/plain": [
       "Y    700726\n",
       "N       825\n",
       "Name: HF_YN, dtype: int64"
      ]
     },
     "execution_count": 110,
     "metadata": {},
     "output_type": "execute_result"
    }
   ],
   "source": [
    "demog.HF_YN.value_counts()"
   ]
  },
  {
   "cell_type": "code",
   "execution_count": 111,
   "metadata": {},
   "outputs": [],
   "source": [
    "cleanup_nums = {\"GENDER\":     {\"Male\": 1, \"Female\": 0},\n",
    "                \"HF_YN\": {\"Y\": 1, \"N\": 0 }}"
   ]
  },
  {
   "cell_type": "code",
   "execution_count": 112,
   "metadata": {},
   "outputs": [
    {
     "data": {
      "text/html": [
       "<div>\n",
       "<style scoped>\n",
       "    .dataframe tbody tr th:only-of-type {\n",
       "        vertical-align: middle;\n",
       "    }\n",
       "\n",
       "    .dataframe tbody tr th {\n",
       "        vertical-align: top;\n",
       "    }\n",
       "\n",
       "    .dataframe thead th {\n",
       "        text-align: right;\n",
       "    }\n",
       "</style>\n",
       "<table border=\"1\" class=\"dataframe\">\n",
       "  <thead>\n",
       "    <tr style=\"text-align: right;\">\n",
       "      <th></th>\n",
       "      <th>PTNT_MSTR_ID</th>\n",
       "      <th>age</th>\n",
       "      <th>GENDER</th>\n",
       "      <th>COMNTY_NM</th>\n",
       "      <th>FIN_CLASS</th>\n",
       "      <th>HF_YN</th>\n",
       "      <th>category.1</th>\n",
       "      <th>category</th>\n",
       "    </tr>\n",
       "  </thead>\n",
       "  <tbody>\n",
       "    <tr>\n",
       "      <th>0</th>\n",
       "      <td>613298623.0</td>\n",
       "      <td>84.0</td>\n",
       "      <td>1</td>\n",
       "      <td>St Louis</td>\n",
       "      <td>Self-pay</td>\n",
       "      <td>1</td>\n",
       "      <td>Coronary Artery Disease</td>\n",
       "      <td>1st degree AV block</td>\n",
       "    </tr>\n",
       "    <tr>\n",
       "      <th>1</th>\n",
       "      <td>613298623.0</td>\n",
       "      <td>84.0</td>\n",
       "      <td>1</td>\n",
       "      <td>St Louis</td>\n",
       "      <td>Self-pay</td>\n",
       "      <td>1</td>\n",
       "      <td>Hypertension</td>\n",
       "      <td>1st degree AV block</td>\n",
       "    </tr>\n",
       "    <tr>\n",
       "      <th>2</th>\n",
       "      <td>613337430.0</td>\n",
       "      <td>70.0</td>\n",
       "      <td>1</td>\n",
       "      <td>St Louis</td>\n",
       "      <td>Self-pay</td>\n",
       "      <td>1</td>\n",
       "      <td>Cardiomyopathy</td>\n",
       "      <td>1st degree AV block</td>\n",
       "    </tr>\n",
       "    <tr>\n",
       "      <th>3</th>\n",
       "      <td>613337430.0</td>\n",
       "      <td>70.0</td>\n",
       "      <td>1</td>\n",
       "      <td>St Louis</td>\n",
       "      <td>Self-pay</td>\n",
       "      <td>1</td>\n",
       "      <td>Diabetes</td>\n",
       "      <td>1st degree AV block</td>\n",
       "    </tr>\n",
       "    <tr>\n",
       "      <th>4</th>\n",
       "      <td>613519235.0</td>\n",
       "      <td>72.0</td>\n",
       "      <td>1</td>\n",
       "      <td>Springfield</td>\n",
       "      <td>Self-pay</td>\n",
       "      <td>1</td>\n",
       "      <td>Chronic Obstructive Pulmonary Disease (COPD)</td>\n",
       "      <td>1st degree AV block</td>\n",
       "    </tr>\n",
       "  </tbody>\n",
       "</table>\n",
       "</div>"
      ],
      "text/plain": [
       "   PTNT_MSTR_ID   age  GENDER    COMNTY_NM FIN_CLASS  HF_YN  \\\n",
       "0   613298623.0  84.0       1     St Louis  Self-pay      1   \n",
       "1   613298623.0  84.0       1     St Louis  Self-pay      1   \n",
       "2   613337430.0  70.0       1     St Louis  Self-pay      1   \n",
       "3   613337430.0  70.0       1     St Louis  Self-pay      1   \n",
       "4   613519235.0  72.0       1  Springfield  Self-pay      1   \n",
       "\n",
       "                                     category.1             category  \n",
       "0                       Coronary Artery Disease  1st degree AV block  \n",
       "1                                  Hypertension  1st degree AV block  \n",
       "2                                Cardiomyopathy  1st degree AV block  \n",
       "3                                      Diabetes  1st degree AV block  \n",
       "4  Chronic Obstructive Pulmonary Disease (COPD)  1st degree AV block  "
      ]
     },
     "execution_count": 112,
     "metadata": {},
     "output_type": "execute_result"
    }
   ],
   "source": [
    "demog.replace(cleanup_nums, inplace=True)\n",
    "demog.head()"
   ]
  },
  {
   "cell_type": "code",
   "execution_count": 113,
   "metadata": {},
   "outputs": [
    {
     "data": {
      "text/html": [
       "<div>\n",
       "<style scoped>\n",
       "    .dataframe tbody tr th:only-of-type {\n",
       "        vertical-align: middle;\n",
       "    }\n",
       "\n",
       "    .dataframe tbody tr th {\n",
       "        vertical-align: top;\n",
       "    }\n",
       "\n",
       "    .dataframe thead th {\n",
       "        text-align: right;\n",
       "    }\n",
       "</style>\n",
       "<table border=\"1\" class=\"dataframe\">\n",
       "  <thead>\n",
       "    <tr style=\"text-align: right;\">\n",
       "      <th></th>\n",
       "      <th>PTNT_MSTR_ID</th>\n",
       "      <th>age</th>\n",
       "      <th>GENDER</th>\n",
       "      <th>COMNTY_NM</th>\n",
       "      <th>HF_YN</th>\n",
       "      <th>pay_Commercial</th>\n",
       "      <th>pay_Government Insurance</th>\n",
       "      <th>pay_Medicaid</th>\n",
       "      <th>pay_Medicare</th>\n",
       "      <th>pay_Non-Government Insurance</th>\n",
       "      <th>...</th>\n",
       "      <th>arrhy_Sinus tachycardia</th>\n",
       "      <th>arrhy_Supraventricular tachycardia</th>\n",
       "      <th>arrhy_Torsades de pointes</th>\n",
       "      <th>arrhy_Unspecified bundle branch block</th>\n",
       "      <th>arrhy_Ventricular fibrillation</th>\n",
       "      <th>arrhy_Ventricular flutter</th>\n",
       "      <th>arrhy_Ventricular tachycardia, non-sustained</th>\n",
       "      <th>arrhy_Ventricular tachycardia, sustained monomorphic</th>\n",
       "      <th>arrhy_Ventricular tachycardia, sustained polymorphic</th>\n",
       "      <th>arrhy_Ventricular tachycardia, sustained, unknown morphology</th>\n",
       "    </tr>\n",
       "  </thead>\n",
       "  <tbody>\n",
       "    <tr>\n",
       "      <th>0</th>\n",
       "      <td>613298623.0</td>\n",
       "      <td>84.0</td>\n",
       "      <td>1</td>\n",
       "      <td>St Louis</td>\n",
       "      <td>1</td>\n",
       "      <td>0</td>\n",
       "      <td>0</td>\n",
       "      <td>0</td>\n",
       "      <td>0</td>\n",
       "      <td>0</td>\n",
       "      <td>...</td>\n",
       "      <td>0</td>\n",
       "      <td>0</td>\n",
       "      <td>0</td>\n",
       "      <td>0</td>\n",
       "      <td>0</td>\n",
       "      <td>0</td>\n",
       "      <td>0</td>\n",
       "      <td>0</td>\n",
       "      <td>0</td>\n",
       "      <td>0</td>\n",
       "    </tr>\n",
       "    <tr>\n",
       "      <th>1</th>\n",
       "      <td>613298623.0</td>\n",
       "      <td>84.0</td>\n",
       "      <td>1</td>\n",
       "      <td>St Louis</td>\n",
       "      <td>1</td>\n",
       "      <td>0</td>\n",
       "      <td>0</td>\n",
       "      <td>0</td>\n",
       "      <td>0</td>\n",
       "      <td>0</td>\n",
       "      <td>...</td>\n",
       "      <td>0</td>\n",
       "      <td>0</td>\n",
       "      <td>0</td>\n",
       "      <td>0</td>\n",
       "      <td>0</td>\n",
       "      <td>0</td>\n",
       "      <td>0</td>\n",
       "      <td>0</td>\n",
       "      <td>0</td>\n",
       "      <td>0</td>\n",
       "    </tr>\n",
       "    <tr>\n",
       "      <th>2</th>\n",
       "      <td>613337430.0</td>\n",
       "      <td>70.0</td>\n",
       "      <td>1</td>\n",
       "      <td>St Louis</td>\n",
       "      <td>1</td>\n",
       "      <td>0</td>\n",
       "      <td>0</td>\n",
       "      <td>0</td>\n",
       "      <td>0</td>\n",
       "      <td>0</td>\n",
       "      <td>...</td>\n",
       "      <td>0</td>\n",
       "      <td>0</td>\n",
       "      <td>0</td>\n",
       "      <td>0</td>\n",
       "      <td>0</td>\n",
       "      <td>0</td>\n",
       "      <td>0</td>\n",
       "      <td>0</td>\n",
       "      <td>0</td>\n",
       "      <td>0</td>\n",
       "    </tr>\n",
       "    <tr>\n",
       "      <th>3</th>\n",
       "      <td>613337430.0</td>\n",
       "      <td>70.0</td>\n",
       "      <td>1</td>\n",
       "      <td>St Louis</td>\n",
       "      <td>1</td>\n",
       "      <td>0</td>\n",
       "      <td>0</td>\n",
       "      <td>0</td>\n",
       "      <td>0</td>\n",
       "      <td>0</td>\n",
       "      <td>...</td>\n",
       "      <td>0</td>\n",
       "      <td>0</td>\n",
       "      <td>0</td>\n",
       "      <td>0</td>\n",
       "      <td>0</td>\n",
       "      <td>0</td>\n",
       "      <td>0</td>\n",
       "      <td>0</td>\n",
       "      <td>0</td>\n",
       "      <td>0</td>\n",
       "    </tr>\n",
       "    <tr>\n",
       "      <th>4</th>\n",
       "      <td>613519235.0</td>\n",
       "      <td>72.0</td>\n",
       "      <td>1</td>\n",
       "      <td>Springfield</td>\n",
       "      <td>1</td>\n",
       "      <td>0</td>\n",
       "      <td>0</td>\n",
       "      <td>0</td>\n",
       "      <td>0</td>\n",
       "      <td>0</td>\n",
       "      <td>...</td>\n",
       "      <td>0</td>\n",
       "      <td>0</td>\n",
       "      <td>0</td>\n",
       "      <td>0</td>\n",
       "      <td>0</td>\n",
       "      <td>0</td>\n",
       "      <td>0</td>\n",
       "      <td>0</td>\n",
       "      <td>0</td>\n",
       "      <td>0</td>\n",
       "    </tr>\n",
       "  </tbody>\n",
       "</table>\n",
       "<p>5 rows × 74 columns</p>\n",
       "</div>"
      ],
      "text/plain": [
       "   PTNT_MSTR_ID   age  GENDER    COMNTY_NM  HF_YN  pay_Commercial  \\\n",
       "0   613298623.0  84.0       1     St Louis      1               0   \n",
       "1   613298623.0  84.0       1     St Louis      1               0   \n",
       "2   613337430.0  70.0       1     St Louis      1               0   \n",
       "3   613337430.0  70.0       1     St Louis      1               0   \n",
       "4   613519235.0  72.0       1  Springfield      1               0   \n",
       "\n",
       "   pay_Government Insurance  pay_Medicaid  pay_Medicare  \\\n",
       "0                         0             0             0   \n",
       "1                         0             0             0   \n",
       "2                         0             0             0   \n",
       "3                         0             0             0   \n",
       "4                         0             0             0   \n",
       "\n",
       "   pay_Non-Government Insurance  \\\n",
       "0                             0   \n",
       "1                             0   \n",
       "2                             0   \n",
       "3                             0   \n",
       "4                             0   \n",
       "\n",
       "                               ...                               \\\n",
       "0                              ...                                \n",
       "1                              ...                                \n",
       "2                              ...                                \n",
       "3                              ...                                \n",
       "4                              ...                                \n",
       "\n",
       "   arrhy_Sinus tachycardia  arrhy_Supraventricular tachycardia  \\\n",
       "0                        0                                   0   \n",
       "1                        0                                   0   \n",
       "2                        0                                   0   \n",
       "3                        0                                   0   \n",
       "4                        0                                   0   \n",
       "\n",
       "   arrhy_Torsades de pointes  arrhy_Unspecified bundle branch block  \\\n",
       "0                          0                                      0   \n",
       "1                          0                                      0   \n",
       "2                          0                                      0   \n",
       "3                          0                                      0   \n",
       "4                          0                                      0   \n",
       "\n",
       "   arrhy_Ventricular fibrillation  arrhy_Ventricular flutter  \\\n",
       "0                               0                          0   \n",
       "1                               0                          0   \n",
       "2                               0                          0   \n",
       "3                               0                          0   \n",
       "4                               0                          0   \n",
       "\n",
       "   arrhy_Ventricular tachycardia, non-sustained  \\\n",
       "0                                             0   \n",
       "1                                             0   \n",
       "2                                             0   \n",
       "3                                             0   \n",
       "4                                             0   \n",
       "\n",
       "   arrhy_Ventricular tachycardia, sustained monomorphic  \\\n",
       "0                                                  0      \n",
       "1                                                  0      \n",
       "2                                                  0      \n",
       "3                                                  0      \n",
       "4                                                  0      \n",
       "\n",
       "   arrhy_Ventricular tachycardia, sustained polymorphic  \\\n",
       "0                                                  0      \n",
       "1                                                  0      \n",
       "2                                                  0      \n",
       "3                                                  0      \n",
       "4                                                  0      \n",
       "\n",
       "   arrhy_Ventricular tachycardia, sustained, unknown morphology  \n",
       "0                                                  0             \n",
       "1                                                  0             \n",
       "2                                                  0             \n",
       "3                                                  0             \n",
       "4                                                  0             \n",
       "\n",
       "[5 rows x 74 columns]"
      ]
     },
     "execution_count": 113,
     "metadata": {},
     "output_type": "execute_result"
    }
   ],
   "source": [
    "pd.get_dummies(demog, columns=[\"FIN_CLASS\", \"category.1\",\"category\"], prefix=[\"pay\", \"disease\",\"arrhy\"]).head()"
   ]
  },
  {
   "cell_type": "code",
   "execution_count": 114,
   "metadata": {},
   "outputs": [
    {
     "name": "stderr",
     "output_type": "stream",
     "text": [
      "C:\\Users\\thiruv4\\AppData\\Local\\Continuum\\anaconda3\\lib\\site-packages\\ipykernel_launcher.py:1: RuntimeWarning: divide by zero encountered in log\n",
      "  \"\"\"Entry point for launching an IPython kernel.\n"
     ]
    }
   ],
   "source": [
    "demog['age_lognorm'] = np.log(demog['age'])"
   ]
  },
  {
   "cell_type": "code",
   "execution_count": 115,
   "metadata": {},
   "outputs": [
    {
     "data": {
      "text/html": [
       "<div>\n",
       "<style scoped>\n",
       "    .dataframe tbody tr th:only-of-type {\n",
       "        vertical-align: middle;\n",
       "    }\n",
       "\n",
       "    .dataframe tbody tr th {\n",
       "        vertical-align: top;\n",
       "    }\n",
       "\n",
       "    .dataframe thead th {\n",
       "        text-align: right;\n",
       "    }\n",
       "</style>\n",
       "<table border=\"1\" class=\"dataframe\">\n",
       "  <thead>\n",
       "    <tr style=\"text-align: right;\">\n",
       "      <th></th>\n",
       "      <th>PTNT_MSTR_ID</th>\n",
       "      <th>age</th>\n",
       "      <th>GENDER</th>\n",
       "      <th>COMNTY_NM</th>\n",
       "      <th>FIN_CLASS</th>\n",
       "      <th>HF_YN</th>\n",
       "      <th>category.1</th>\n",
       "      <th>category</th>\n",
       "      <th>age_lognorm</th>\n",
       "    </tr>\n",
       "  </thead>\n",
       "  <tbody>\n",
       "    <tr>\n",
       "      <th>0</th>\n",
       "      <td>613298623.0</td>\n",
       "      <td>84.0</td>\n",
       "      <td>1</td>\n",
       "      <td>St Louis</td>\n",
       "      <td>Self-pay</td>\n",
       "      <td>1</td>\n",
       "      <td>Coronary Artery Disease</td>\n",
       "      <td>1st degree AV block</td>\n",
       "      <td>4.430817</td>\n",
       "    </tr>\n",
       "    <tr>\n",
       "      <th>1</th>\n",
       "      <td>613298623.0</td>\n",
       "      <td>84.0</td>\n",
       "      <td>1</td>\n",
       "      <td>St Louis</td>\n",
       "      <td>Self-pay</td>\n",
       "      <td>1</td>\n",
       "      <td>Hypertension</td>\n",
       "      <td>1st degree AV block</td>\n",
       "      <td>4.430817</td>\n",
       "    </tr>\n",
       "    <tr>\n",
       "      <th>2</th>\n",
       "      <td>613337430.0</td>\n",
       "      <td>70.0</td>\n",
       "      <td>1</td>\n",
       "      <td>St Louis</td>\n",
       "      <td>Self-pay</td>\n",
       "      <td>1</td>\n",
       "      <td>Cardiomyopathy</td>\n",
       "      <td>1st degree AV block</td>\n",
       "      <td>4.248495</td>\n",
       "    </tr>\n",
       "    <tr>\n",
       "      <th>3</th>\n",
       "      <td>613337430.0</td>\n",
       "      <td>70.0</td>\n",
       "      <td>1</td>\n",
       "      <td>St Louis</td>\n",
       "      <td>Self-pay</td>\n",
       "      <td>1</td>\n",
       "      <td>Diabetes</td>\n",
       "      <td>1st degree AV block</td>\n",
       "      <td>4.248495</td>\n",
       "    </tr>\n",
       "    <tr>\n",
       "      <th>4</th>\n",
       "      <td>613519235.0</td>\n",
       "      <td>72.0</td>\n",
       "      <td>1</td>\n",
       "      <td>Springfield</td>\n",
       "      <td>Self-pay</td>\n",
       "      <td>1</td>\n",
       "      <td>Chronic Obstructive Pulmonary Disease (COPD)</td>\n",
       "      <td>1st degree AV block</td>\n",
       "      <td>4.276666</td>\n",
       "    </tr>\n",
       "  </tbody>\n",
       "</table>\n",
       "</div>"
      ],
      "text/plain": [
       "   PTNT_MSTR_ID   age  GENDER    COMNTY_NM FIN_CLASS  HF_YN  \\\n",
       "0   613298623.0  84.0       1     St Louis  Self-pay      1   \n",
       "1   613298623.0  84.0       1     St Louis  Self-pay      1   \n",
       "2   613337430.0  70.0       1     St Louis  Self-pay      1   \n",
       "3   613337430.0  70.0       1     St Louis  Self-pay      1   \n",
       "4   613519235.0  72.0       1  Springfield  Self-pay      1   \n",
       "\n",
       "                                     category.1             category  \\\n",
       "0                       Coronary Artery Disease  1st degree AV block   \n",
       "1                                  Hypertension  1st degree AV block   \n",
       "2                                Cardiomyopathy  1st degree AV block   \n",
       "3                                      Diabetes  1st degree AV block   \n",
       "4  Chronic Obstructive Pulmonary Disease (COPD)  1st degree AV block   \n",
       "\n",
       "   age_lognorm  \n",
       "0     4.430817  \n",
       "1     4.430817  \n",
       "2     4.248495  \n",
       "3     4.248495  \n",
       "4     4.276666  "
      ]
     },
     "execution_count": 115,
     "metadata": {},
     "output_type": "execute_result"
    }
   ],
   "source": [
    "demog.head()"
   ]
  },
  {
   "cell_type": "code",
   "execution_count": null,
   "metadata": {},
   "outputs": [],
   "source": []
  },
  {
   "cell_type": "code",
   "execution_count": 116,
   "metadata": {},
   "outputs": [],
   "source": [
    "# demog = demog.drop(['PTNT_MSTR_ID','age'], axis=1)"
   ]
  },
  {
   "cell_type": "code",
   "execution_count": 117,
   "metadata": {
    "scrolled": true
   },
   "outputs": [
    {
     "data": {
      "text/html": [
       "<div>\n",
       "<style scoped>\n",
       "    .dataframe tbody tr th:only-of-type {\n",
       "        vertical-align: middle;\n",
       "    }\n",
       "\n",
       "    .dataframe tbody tr th {\n",
       "        vertical-align: top;\n",
       "    }\n",
       "\n",
       "    .dataframe thead th {\n",
       "        text-align: right;\n",
       "    }\n",
       "</style>\n",
       "<table border=\"1\" class=\"dataframe\">\n",
       "  <thead>\n",
       "    <tr style=\"text-align: right;\">\n",
       "      <th></th>\n",
       "      <th>PTNT_MSTR_ID</th>\n",
       "      <th>age</th>\n",
       "      <th>GENDER</th>\n",
       "      <th>COMNTY_NM</th>\n",
       "      <th>FIN_CLASS</th>\n",
       "      <th>HF_YN</th>\n",
       "      <th>category.1</th>\n",
       "      <th>category</th>\n",
       "      <th>age_lognorm</th>\n",
       "    </tr>\n",
       "  </thead>\n",
       "  <tbody>\n",
       "    <tr>\n",
       "      <th>0</th>\n",
       "      <td>613298623.0</td>\n",
       "      <td>84.0</td>\n",
       "      <td>1</td>\n",
       "      <td>St Louis</td>\n",
       "      <td>Self-pay</td>\n",
       "      <td>1</td>\n",
       "      <td>Coronary Artery Disease</td>\n",
       "      <td>1st degree AV block</td>\n",
       "      <td>4.430817</td>\n",
       "    </tr>\n",
       "    <tr>\n",
       "      <th>1</th>\n",
       "      <td>613298623.0</td>\n",
       "      <td>84.0</td>\n",
       "      <td>1</td>\n",
       "      <td>St Louis</td>\n",
       "      <td>Self-pay</td>\n",
       "      <td>1</td>\n",
       "      <td>Hypertension</td>\n",
       "      <td>1st degree AV block</td>\n",
       "      <td>4.430817</td>\n",
       "    </tr>\n",
       "    <tr>\n",
       "      <th>2</th>\n",
       "      <td>613337430.0</td>\n",
       "      <td>70.0</td>\n",
       "      <td>1</td>\n",
       "      <td>St Louis</td>\n",
       "      <td>Self-pay</td>\n",
       "      <td>1</td>\n",
       "      <td>Cardiomyopathy</td>\n",
       "      <td>1st degree AV block</td>\n",
       "      <td>4.248495</td>\n",
       "    </tr>\n",
       "    <tr>\n",
       "      <th>3</th>\n",
       "      <td>613337430.0</td>\n",
       "      <td>70.0</td>\n",
       "      <td>1</td>\n",
       "      <td>St Louis</td>\n",
       "      <td>Self-pay</td>\n",
       "      <td>1</td>\n",
       "      <td>Diabetes</td>\n",
       "      <td>1st degree AV block</td>\n",
       "      <td>4.248495</td>\n",
       "    </tr>\n",
       "    <tr>\n",
       "      <th>4</th>\n",
       "      <td>613519235.0</td>\n",
       "      <td>72.0</td>\n",
       "      <td>1</td>\n",
       "      <td>Springfield</td>\n",
       "      <td>Self-pay</td>\n",
       "      <td>1</td>\n",
       "      <td>Chronic Obstructive Pulmonary Disease (COPD)</td>\n",
       "      <td>1st degree AV block</td>\n",
       "      <td>4.276666</td>\n",
       "    </tr>\n",
       "  </tbody>\n",
       "</table>\n",
       "</div>"
      ],
      "text/plain": [
       "   PTNT_MSTR_ID   age  GENDER    COMNTY_NM FIN_CLASS  HF_YN  \\\n",
       "0   613298623.0  84.0       1     St Louis  Self-pay      1   \n",
       "1   613298623.0  84.0       1     St Louis  Self-pay      1   \n",
       "2   613337430.0  70.0       1     St Louis  Self-pay      1   \n",
       "3   613337430.0  70.0       1     St Louis  Self-pay      1   \n",
       "4   613519235.0  72.0       1  Springfield  Self-pay      1   \n",
       "\n",
       "                                     category.1             category  \\\n",
       "0                       Coronary Artery Disease  1st degree AV block   \n",
       "1                                  Hypertension  1st degree AV block   \n",
       "2                                Cardiomyopathy  1st degree AV block   \n",
       "3                                      Diabetes  1st degree AV block   \n",
       "4  Chronic Obstructive Pulmonary Disease (COPD)  1st degree AV block   \n",
       "\n",
       "   age_lognorm  \n",
       "0     4.430817  \n",
       "1     4.430817  \n",
       "2     4.248495  \n",
       "3     4.248495  \n",
       "4     4.276666  "
      ]
     },
     "execution_count": 117,
     "metadata": {},
     "output_type": "execute_result"
    }
   ],
   "source": [
    "demog.head()"
   ]
  },
  {
   "cell_type": "code",
   "execution_count": 118,
   "metadata": {},
   "outputs": [],
   "source": [
    "demog = pd.get_dummies(demog, columns=[\"FIN_CLASS\", \"category.1\",\"category\"], prefix=[\"pay\", \"disease\",\"arrhy\"])"
   ]
  },
  {
   "cell_type": "code",
   "execution_count": 119,
   "metadata": {},
   "outputs": [
    {
     "data": {
      "text/html": [
       "<div>\n",
       "<style scoped>\n",
       "    .dataframe tbody tr th:only-of-type {\n",
       "        vertical-align: middle;\n",
       "    }\n",
       "\n",
       "    .dataframe tbody tr th {\n",
       "        vertical-align: top;\n",
       "    }\n",
       "\n",
       "    .dataframe thead th {\n",
       "        text-align: right;\n",
       "    }\n",
       "</style>\n",
       "<table border=\"1\" class=\"dataframe\">\n",
       "  <thead>\n",
       "    <tr style=\"text-align: right;\">\n",
       "      <th></th>\n",
       "      <th>PTNT_MSTR_ID</th>\n",
       "      <th>age</th>\n",
       "      <th>GENDER</th>\n",
       "      <th>COMNTY_NM</th>\n",
       "      <th>HF_YN</th>\n",
       "      <th>age_lognorm</th>\n",
       "      <th>pay_Commercial</th>\n",
       "      <th>pay_Government Insurance</th>\n",
       "      <th>pay_Medicaid</th>\n",
       "      <th>pay_Medicare</th>\n",
       "      <th>...</th>\n",
       "      <th>arrhy_Sinus tachycardia</th>\n",
       "      <th>arrhy_Supraventricular tachycardia</th>\n",
       "      <th>arrhy_Torsades de pointes</th>\n",
       "      <th>arrhy_Unspecified bundle branch block</th>\n",
       "      <th>arrhy_Ventricular fibrillation</th>\n",
       "      <th>arrhy_Ventricular flutter</th>\n",
       "      <th>arrhy_Ventricular tachycardia, non-sustained</th>\n",
       "      <th>arrhy_Ventricular tachycardia, sustained monomorphic</th>\n",
       "      <th>arrhy_Ventricular tachycardia, sustained polymorphic</th>\n",
       "      <th>arrhy_Ventricular tachycardia, sustained, unknown morphology</th>\n",
       "    </tr>\n",
       "  </thead>\n",
       "  <tbody>\n",
       "    <tr>\n",
       "      <th>0</th>\n",
       "      <td>613298623.0</td>\n",
       "      <td>84.0</td>\n",
       "      <td>1</td>\n",
       "      <td>St Louis</td>\n",
       "      <td>1</td>\n",
       "      <td>4.430817</td>\n",
       "      <td>0</td>\n",
       "      <td>0</td>\n",
       "      <td>0</td>\n",
       "      <td>0</td>\n",
       "      <td>...</td>\n",
       "      <td>0</td>\n",
       "      <td>0</td>\n",
       "      <td>0</td>\n",
       "      <td>0</td>\n",
       "      <td>0</td>\n",
       "      <td>0</td>\n",
       "      <td>0</td>\n",
       "      <td>0</td>\n",
       "      <td>0</td>\n",
       "      <td>0</td>\n",
       "    </tr>\n",
       "    <tr>\n",
       "      <th>1</th>\n",
       "      <td>613298623.0</td>\n",
       "      <td>84.0</td>\n",
       "      <td>1</td>\n",
       "      <td>St Louis</td>\n",
       "      <td>1</td>\n",
       "      <td>4.430817</td>\n",
       "      <td>0</td>\n",
       "      <td>0</td>\n",
       "      <td>0</td>\n",
       "      <td>0</td>\n",
       "      <td>...</td>\n",
       "      <td>0</td>\n",
       "      <td>0</td>\n",
       "      <td>0</td>\n",
       "      <td>0</td>\n",
       "      <td>0</td>\n",
       "      <td>0</td>\n",
       "      <td>0</td>\n",
       "      <td>0</td>\n",
       "      <td>0</td>\n",
       "      <td>0</td>\n",
       "    </tr>\n",
       "    <tr>\n",
       "      <th>2</th>\n",
       "      <td>613337430.0</td>\n",
       "      <td>70.0</td>\n",
       "      <td>1</td>\n",
       "      <td>St Louis</td>\n",
       "      <td>1</td>\n",
       "      <td>4.248495</td>\n",
       "      <td>0</td>\n",
       "      <td>0</td>\n",
       "      <td>0</td>\n",
       "      <td>0</td>\n",
       "      <td>...</td>\n",
       "      <td>0</td>\n",
       "      <td>0</td>\n",
       "      <td>0</td>\n",
       "      <td>0</td>\n",
       "      <td>0</td>\n",
       "      <td>0</td>\n",
       "      <td>0</td>\n",
       "      <td>0</td>\n",
       "      <td>0</td>\n",
       "      <td>0</td>\n",
       "    </tr>\n",
       "    <tr>\n",
       "      <th>3</th>\n",
       "      <td>613337430.0</td>\n",
       "      <td>70.0</td>\n",
       "      <td>1</td>\n",
       "      <td>St Louis</td>\n",
       "      <td>1</td>\n",
       "      <td>4.248495</td>\n",
       "      <td>0</td>\n",
       "      <td>0</td>\n",
       "      <td>0</td>\n",
       "      <td>0</td>\n",
       "      <td>...</td>\n",
       "      <td>0</td>\n",
       "      <td>0</td>\n",
       "      <td>0</td>\n",
       "      <td>0</td>\n",
       "      <td>0</td>\n",
       "      <td>0</td>\n",
       "      <td>0</td>\n",
       "      <td>0</td>\n",
       "      <td>0</td>\n",
       "      <td>0</td>\n",
       "    </tr>\n",
       "    <tr>\n",
       "      <th>4</th>\n",
       "      <td>613519235.0</td>\n",
       "      <td>72.0</td>\n",
       "      <td>1</td>\n",
       "      <td>Springfield</td>\n",
       "      <td>1</td>\n",
       "      <td>4.276666</td>\n",
       "      <td>0</td>\n",
       "      <td>0</td>\n",
       "      <td>0</td>\n",
       "      <td>0</td>\n",
       "      <td>...</td>\n",
       "      <td>0</td>\n",
       "      <td>0</td>\n",
       "      <td>0</td>\n",
       "      <td>0</td>\n",
       "      <td>0</td>\n",
       "      <td>0</td>\n",
       "      <td>0</td>\n",
       "      <td>0</td>\n",
       "      <td>0</td>\n",
       "      <td>0</td>\n",
       "    </tr>\n",
       "  </tbody>\n",
       "</table>\n",
       "<p>5 rows × 75 columns</p>\n",
       "</div>"
      ],
      "text/plain": [
       "   PTNT_MSTR_ID   age  GENDER    COMNTY_NM  HF_YN  age_lognorm  \\\n",
       "0   613298623.0  84.0       1     St Louis      1     4.430817   \n",
       "1   613298623.0  84.0       1     St Louis      1     4.430817   \n",
       "2   613337430.0  70.0       1     St Louis      1     4.248495   \n",
       "3   613337430.0  70.0       1     St Louis      1     4.248495   \n",
       "4   613519235.0  72.0       1  Springfield      1     4.276666   \n",
       "\n",
       "   pay_Commercial  pay_Government Insurance  pay_Medicaid  pay_Medicare  \\\n",
       "0               0                         0             0             0   \n",
       "1               0                         0             0             0   \n",
       "2               0                         0             0             0   \n",
       "3               0                         0             0             0   \n",
       "4               0                         0             0             0   \n",
       "\n",
       "                               ...                               \\\n",
       "0                              ...                                \n",
       "1                              ...                                \n",
       "2                              ...                                \n",
       "3                              ...                                \n",
       "4                              ...                                \n",
       "\n",
       "   arrhy_Sinus tachycardia  arrhy_Supraventricular tachycardia  \\\n",
       "0                        0                                   0   \n",
       "1                        0                                   0   \n",
       "2                        0                                   0   \n",
       "3                        0                                   0   \n",
       "4                        0                                   0   \n",
       "\n",
       "   arrhy_Torsades de pointes  arrhy_Unspecified bundle branch block  \\\n",
       "0                          0                                      0   \n",
       "1                          0                                      0   \n",
       "2                          0                                      0   \n",
       "3                          0                                      0   \n",
       "4                          0                                      0   \n",
       "\n",
       "   arrhy_Ventricular fibrillation  arrhy_Ventricular flutter  \\\n",
       "0                               0                          0   \n",
       "1                               0                          0   \n",
       "2                               0                          0   \n",
       "3                               0                          0   \n",
       "4                               0                          0   \n",
       "\n",
       "   arrhy_Ventricular tachycardia, non-sustained  \\\n",
       "0                                             0   \n",
       "1                                             0   \n",
       "2                                             0   \n",
       "3                                             0   \n",
       "4                                             0   \n",
       "\n",
       "   arrhy_Ventricular tachycardia, sustained monomorphic  \\\n",
       "0                                                  0      \n",
       "1                                                  0      \n",
       "2                                                  0      \n",
       "3                                                  0      \n",
       "4                                                  0      \n",
       "\n",
       "   arrhy_Ventricular tachycardia, sustained polymorphic  \\\n",
       "0                                                  0      \n",
       "1                                                  0      \n",
       "2                                                  0      \n",
       "3                                                  0      \n",
       "4                                                  0      \n",
       "\n",
       "   arrhy_Ventricular tachycardia, sustained, unknown morphology  \n",
       "0                                                  0             \n",
       "1                                                  0             \n",
       "2                                                  0             \n",
       "3                                                  0             \n",
       "4                                                  0             \n",
       "\n",
       "[5 rows x 75 columns]"
      ]
     },
     "execution_count": 119,
     "metadata": {},
     "output_type": "execute_result"
    }
   ],
   "source": [
    "demog.head()"
   ]
  },
  {
   "cell_type": "code",
   "execution_count": 120,
   "metadata": {},
   "outputs": [],
   "source": [
    "# demog = demog.drop(['COMNTY_NM'], axis = 1)"
   ]
  },
  {
   "cell_type": "code",
   "execution_count": 121,
   "metadata": {},
   "outputs": [],
   "source": [
    "#sns.lmplot(x=\"age_lognorm\", y=\"HF_YN\", data=demog);"
   ]
  },
  {
   "cell_type": "code",
   "execution_count": 122,
   "metadata": {},
   "outputs": [],
   "source": [
    "#demog.shape"
   ]
  },
  {
   "cell_type": "code",
   "execution_count": 123,
   "metadata": {},
   "outputs": [],
   "source": [
    "#demog.corr()[:]"
   ]
  },
  {
   "cell_type": "code",
   "execution_count": 124,
   "metadata": {},
   "outputs": [],
   "source": [
    "demog = demog.replace([np.inf, -np.inf], np.nan).dropna(subset=[\"age_lognorm\"], how=\"all\")"
   ]
  },
  {
   "cell_type": "code",
   "execution_count": 125,
   "metadata": {},
   "outputs": [
    {
     "data": {
      "text/plain": [
       "(701549, 75)"
      ]
     },
     "execution_count": 125,
     "metadata": {},
     "output_type": "execute_result"
    }
   ],
   "source": [
    "demog.shape"
   ]
  },
  {
   "cell_type": "code",
   "execution_count": 126,
   "metadata": {},
   "outputs": [],
   "source": [
    "X = demog.drop(['HF_YN','COMNTY_NM','PTNT_MSTR_ID','age'],axis = 1)"
   ]
  },
  {
   "cell_type": "code",
   "execution_count": 127,
   "metadata": {},
   "outputs": [],
   "source": [
    "y = demog.HF_YN"
   ]
  },
  {
   "cell_type": "code",
   "execution_count": 128,
   "metadata": {},
   "outputs": [],
   "source": [
    "#demog.info()"
   ]
  },
  {
   "cell_type": "code",
   "execution_count": 129,
   "metadata": {},
   "outputs": [
    {
     "data": {
      "text/plain": [
       "1    700724\n",
       "0       825\n",
       "Name: HF_YN, dtype: int64"
      ]
     },
     "execution_count": 129,
     "metadata": {},
     "output_type": "execute_result"
    }
   ],
   "source": [
    "y.value_counts()"
   ]
  },
  {
   "cell_type": "code",
   "execution_count": 133,
   "metadata": {},
   "outputs": [
    {
     "name": "stdout",
     "output_type": "stream",
     "text": [
      "<class 'pandas.core.frame.DataFrame'>\n",
      "Int64Index: 701549 entries, 0 to 702432\n",
      "Data columns (total 71 columns):\n",
      "GENDER                                                            701549 non-null int64\n",
      "age_lognorm                                                       701549 non-null float64\n",
      "pay_Commercial                                                    701549 non-null int64\n",
      "pay_Government Insurance                                          701549 non-null int64\n",
      "pay_Medicaid                                                      701549 non-null int64\n",
      "pay_Medicare                                                      701549 non-null int64\n",
      "pay_Non-Government Insurance                                      701549 non-null int64\n",
      "pay_Other                                                         701549 non-null int64\n",
      "pay_Self-pay                                                      701549 non-null int64\n",
      "pay_Unknown                                                       701549 non-null int64\n",
      "pay_Worker's Comp                                                 701549 non-null int64\n",
      "disease_Aneurysm                                                  701549 non-null int64\n",
      "disease_Aortic Valve Stenosis, Regurgitation                      701549 non-null int64\n",
      "disease_Cancer                                                    701549 non-null int64\n",
      "disease_Cardiomyopathy                                            701549 non-null int64\n",
      "disease_Carotid Artery Disease                                    701549 non-null int64\n",
      "disease_Cerebral Vascular Accident/Stroke                         701549 non-null int64\n",
      "disease_Chronic Obstructive Pulmonary Disease (COPD)              701549 non-null int64\n",
      "disease_Congenital heart disease                                  701549 non-null int64\n",
      "disease_Coronary Artery Disease                                   701549 non-null int64\n",
      "disease_Deep Vein Thrombosis                                      701549 non-null int64\n",
      "disease_Diabetes                                                  701549 non-null int64\n",
      "disease_Dyslipidemia                                              701549 non-null int64\n",
      "disease_Endocarditis                                              701549 non-null int64\n",
      "disease_Familial or inherited conditions with high risk for VT    701549 non-null int64\n",
      "disease_Hypertension                                              701549 non-null int64\n",
      "disease_Hyperthyroidism                                           701549 non-null int64\n",
      "disease_Hypotension                                               701549 non-null int64\n",
      "disease_Hypothyroidism                                            701549 non-null int64\n",
      "disease_Idiopathic structural heart disease                       701549 non-null int64\n",
      "disease_Liver Disease                                             701549 non-null int64\n",
      "disease_Mitral Valve Stenosis, Regurgitation                      701549 non-null int64\n",
      "disease_Myocardial Infarction                                     701549 non-null int64\n",
      "disease_Peripheral Vascular Disease                               701549 non-null int64\n",
      "disease_Pulmonary Valve Stenosis, Regurgitation                   701549 non-null int64\n",
      "disease_Pulmonary hypertension (PH)                               701549 non-null int64\n",
      "disease_Renal Dysfunction                                         701549 non-null int64\n",
      "disease_Sleep Apnea                                               701549 non-null int64\n",
      "disease_Syncope                                                   701549 non-null int64\n",
      "disease_Thromboembolism                                           701549 non-null int64\n",
      "disease_Transient Ischemic Attack                                 701549 non-null int64\n",
      "disease_Tricuspid Valve Stenosis, Regurgitation                   701549 non-null int64\n",
      "arrhy_1st degree AV block                                         701549 non-null int64\n",
      "arrhy_2nd degree AV block                                         701549 non-null int64\n",
      "arrhy_3rd degree AV block                                         701549 non-null int64\n",
      "arrhy_AV junctional rhythm                                        701549 non-null int64\n",
      "arrhy_Arrhythmogenic RV dysplasia                                 701549 non-null int64\n",
      "arrhy_Atrial Fibrillation                                         701549 non-null int64\n",
      "arrhy_Atrial Flutter                                              701549 non-null int64\n",
      "arrhy_Bradycardia-tachycardia syndrome                            701549 non-null int64\n",
      "arrhy_Brugada syndrome                                            701549 non-null int64\n",
      "arrhy_Chronotropic incompetence                                   701549 non-null int64\n",
      "arrhy_Intraventricular conduction delay                           701549 non-null int64\n",
      "arrhy_Left bundle branch block                                    701549 non-null int64\n",
      "arrhy_Long Q/T syndrome                                           701549 non-null int64\n",
      "arrhy_Premature ventricular complexes                             701549 non-null int64\n",
      "arrhy_Primary / idiopathic electrical disease, other              701549 non-null int64\n",
      "arrhy_Primary / idiopathic electrical disease, unknown type       701549 non-null int64\n",
      "arrhy_Right bundle branch block                                   701549 non-null int64\n",
      "arrhy_Sinus arrest / pause / exit block                           701549 non-null int64\n",
      "arrhy_Sinus bradycardia                                           701549 non-null int64\n",
      "arrhy_Sinus tachycardia                                           701549 non-null int64\n",
      "arrhy_Supraventricular tachycardia                                701549 non-null int64\n",
      "arrhy_Torsades de pointes                                         701549 non-null int64\n",
      "arrhy_Unspecified bundle branch block                             701549 non-null int64\n",
      "arrhy_Ventricular fibrillation                                    701549 non-null int64\n",
      "arrhy_Ventricular flutter                                         701549 non-null int64\n",
      "arrhy_Ventricular tachycardia, non-sustained                      701549 non-null int64\n",
      "arrhy_Ventricular tachycardia, sustained monomorphic              701549 non-null int64\n",
      "arrhy_Ventricular tachycardia, sustained polymorphic              701549 non-null int64\n",
      "arrhy_Ventricular tachycardia, sustained, unknown morphology      701549 non-null int64\n",
      "dtypes: float64(1), int64(70)\n",
      "memory usage: 385.4 MB\n"
     ]
    }
   ],
   "source": [
    "X.info()"
   ]
  },
  {
   "cell_type": "code",
   "execution_count": 134,
   "metadata": {},
   "outputs": [],
   "source": [
    "X_train, X_test, y_train, y_test = train_test_split(X, y, test_size=0.33, random_state=42)"
   ]
  },
  {
   "cell_type": "code",
   "execution_count": 135,
   "metadata": {},
   "outputs": [
    {
     "data": {
      "text/plain": [
       "1    231232\n",
       "0       280\n",
       "Name: HF_YN, dtype: int64"
      ]
     },
     "execution_count": 135,
     "metadata": {},
     "output_type": "execute_result"
    }
   ],
   "source": [
    "y_test.value_counts()"
   ]
  },
  {
   "cell_type": "code",
   "execution_count": 136,
   "metadata": {},
   "outputs": [
    {
     "data": {
      "text/plain": [
       "0.0010256594029895982"
      ]
     },
     "execution_count": 136,
     "metadata": {},
     "output_type": "execute_result"
    }
   ],
   "source": [
    "lr = LinearRegression()\n",
    "lr.fit(X_train,y_train)\n",
    "lr.score(X_train,y_train)"
   ]
  },
  {
   "cell_type": "code",
   "execution_count": 137,
   "metadata": {},
   "outputs": [
    {
     "data": {
      "text/plain": [
       "0.0005709277741132058"
      ]
     },
     "execution_count": 137,
     "metadata": {},
     "output_type": "execute_result"
    }
   ],
   "source": [
    "cross_val_score(LinearRegression(),X_train,y_train, cv = 5, scoring = \"r2\").mean()"
   ]
  },
  {
   "cell_type": "code",
   "execution_count": 138,
   "metadata": {},
   "outputs": [],
   "source": [
    "pred_lr = lr.predict(X_test)"
   ]
  },
  {
   "cell_type": "code",
   "execution_count": 140,
   "metadata": {},
   "outputs": [
    {
     "data": {
      "text/html": [
       "<div>\n",
       "<style scoped>\n",
       "    .dataframe tbody tr th:only-of-type {\n",
       "        vertical-align: middle;\n",
       "    }\n",
       "\n",
       "    .dataframe tbody tr th {\n",
       "        vertical-align: top;\n",
       "    }\n",
       "\n",
       "    .dataframe thead th {\n",
       "        text-align: right;\n",
       "    }\n",
       "</style>\n",
       "<table border=\"1\" class=\"dataframe\">\n",
       "  <thead>\n",
       "    <tr style=\"text-align: right;\">\n",
       "      <th></th>\n",
       "      <th>GENDER</th>\n",
       "      <th>age_lognorm</th>\n",
       "      <th>pay_Commercial</th>\n",
       "      <th>pay_Government Insurance</th>\n",
       "      <th>pay_Medicaid</th>\n",
       "      <th>pay_Medicare</th>\n",
       "      <th>pay_Non-Government Insurance</th>\n",
       "      <th>pay_Other</th>\n",
       "      <th>pay_Self-pay</th>\n",
       "      <th>pay_Unknown</th>\n",
       "      <th>...</th>\n",
       "      <th>arrhy_Sinus tachycardia</th>\n",
       "      <th>arrhy_Supraventricular tachycardia</th>\n",
       "      <th>arrhy_Torsades de pointes</th>\n",
       "      <th>arrhy_Unspecified bundle branch block</th>\n",
       "      <th>arrhy_Ventricular fibrillation</th>\n",
       "      <th>arrhy_Ventricular flutter</th>\n",
       "      <th>arrhy_Ventricular tachycardia, non-sustained</th>\n",
       "      <th>arrhy_Ventricular tachycardia, sustained monomorphic</th>\n",
       "      <th>arrhy_Ventricular tachycardia, sustained polymorphic</th>\n",
       "      <th>arrhy_Ventricular tachycardia, sustained, unknown morphology</th>\n",
       "    </tr>\n",
       "  </thead>\n",
       "  <tbody>\n",
       "    <tr>\n",
       "      <th>62297</th>\n",
       "      <td>1</td>\n",
       "      <td>4.317488</td>\n",
       "      <td>0</td>\n",
       "      <td>0</td>\n",
       "      <td>0</td>\n",
       "      <td>0</td>\n",
       "      <td>1</td>\n",
       "      <td>0</td>\n",
       "      <td>0</td>\n",
       "      <td>0</td>\n",
       "      <td>...</td>\n",
       "      <td>0</td>\n",
       "      <td>0</td>\n",
       "      <td>0</td>\n",
       "      <td>0</td>\n",
       "      <td>0</td>\n",
       "      <td>0</td>\n",
       "      <td>0</td>\n",
       "      <td>0</td>\n",
       "      <td>0</td>\n",
       "      <td>0</td>\n",
       "    </tr>\n",
       "    <tr>\n",
       "      <th>701704</th>\n",
       "      <td>0</td>\n",
       "      <td>4.330733</td>\n",
       "      <td>0</td>\n",
       "      <td>0</td>\n",
       "      <td>0</td>\n",
       "      <td>0</td>\n",
       "      <td>1</td>\n",
       "      <td>0</td>\n",
       "      <td>0</td>\n",
       "      <td>0</td>\n",
       "      <td>...</td>\n",
       "      <td>0</td>\n",
       "      <td>0</td>\n",
       "      <td>0</td>\n",
       "      <td>0</td>\n",
       "      <td>0</td>\n",
       "      <td>0</td>\n",
       "      <td>0</td>\n",
       "      <td>0</td>\n",
       "      <td>0</td>\n",
       "      <td>1</td>\n",
       "    </tr>\n",
       "    <tr>\n",
       "      <th>42200</th>\n",
       "      <td>0</td>\n",
       "      <td>4.406719</td>\n",
       "      <td>0</td>\n",
       "      <td>0</td>\n",
       "      <td>0</td>\n",
       "      <td>0</td>\n",
       "      <td>1</td>\n",
       "      <td>0</td>\n",
       "      <td>0</td>\n",
       "      <td>0</td>\n",
       "      <td>...</td>\n",
       "      <td>0</td>\n",
       "      <td>0</td>\n",
       "      <td>0</td>\n",
       "      <td>0</td>\n",
       "      <td>0</td>\n",
       "      <td>0</td>\n",
       "      <td>0</td>\n",
       "      <td>0</td>\n",
       "      <td>0</td>\n",
       "      <td>0</td>\n",
       "    </tr>\n",
       "    <tr>\n",
       "      <th>3377</th>\n",
       "      <td>0</td>\n",
       "      <td>4.465908</td>\n",
       "      <td>0</td>\n",
       "      <td>0</td>\n",
       "      <td>0</td>\n",
       "      <td>0</td>\n",
       "      <td>1</td>\n",
       "      <td>0</td>\n",
       "      <td>0</td>\n",
       "      <td>0</td>\n",
       "      <td>...</td>\n",
       "      <td>0</td>\n",
       "      <td>0</td>\n",
       "      <td>0</td>\n",
       "      <td>0</td>\n",
       "      <td>0</td>\n",
       "      <td>0</td>\n",
       "      <td>0</td>\n",
       "      <td>0</td>\n",
       "      <td>0</td>\n",
       "      <td>0</td>\n",
       "    </tr>\n",
       "    <tr>\n",
       "      <th>5744</th>\n",
       "      <td>0</td>\n",
       "      <td>4.234107</td>\n",
       "      <td>0</td>\n",
       "      <td>0</td>\n",
       "      <td>0</td>\n",
       "      <td>1</td>\n",
       "      <td>0</td>\n",
       "      <td>0</td>\n",
       "      <td>0</td>\n",
       "      <td>0</td>\n",
       "      <td>...</td>\n",
       "      <td>0</td>\n",
       "      <td>0</td>\n",
       "      <td>0</td>\n",
       "      <td>0</td>\n",
       "      <td>0</td>\n",
       "      <td>0</td>\n",
       "      <td>0</td>\n",
       "      <td>0</td>\n",
       "      <td>0</td>\n",
       "      <td>0</td>\n",
       "    </tr>\n",
       "  </tbody>\n",
       "</table>\n",
       "<p>5 rows × 71 columns</p>\n",
       "</div>"
      ],
      "text/plain": [
       "        GENDER  age_lognorm  pay_Commercial  pay_Government Insurance  \\\n",
       "62297        1     4.317488               0                         0   \n",
       "701704       0     4.330733               0                         0   \n",
       "42200        0     4.406719               0                         0   \n",
       "3377         0     4.465908               0                         0   \n",
       "5744         0     4.234107               0                         0   \n",
       "\n",
       "        pay_Medicaid  pay_Medicare  pay_Non-Government Insurance  pay_Other  \\\n",
       "62297              0             0                             1          0   \n",
       "701704             0             0                             1          0   \n",
       "42200              0             0                             1          0   \n",
       "3377               0             0                             1          0   \n",
       "5744               0             1                             0          0   \n",
       "\n",
       "        pay_Self-pay  pay_Unknown  \\\n",
       "62297              0            0   \n",
       "701704             0            0   \n",
       "42200              0            0   \n",
       "3377               0            0   \n",
       "5744               0            0   \n",
       "\n",
       "                                    ...                               \\\n",
       "62297                               ...                                \n",
       "701704                              ...                                \n",
       "42200                               ...                                \n",
       "3377                                ...                                \n",
       "5744                                ...                                \n",
       "\n",
       "        arrhy_Sinus tachycardia  arrhy_Supraventricular tachycardia  \\\n",
       "62297                         0                                   0   \n",
       "701704                        0                                   0   \n",
       "42200                         0                                   0   \n",
       "3377                          0                                   0   \n",
       "5744                          0                                   0   \n",
       "\n",
       "        arrhy_Torsades de pointes  arrhy_Unspecified bundle branch block  \\\n",
       "62297                           0                                      0   \n",
       "701704                          0                                      0   \n",
       "42200                           0                                      0   \n",
       "3377                            0                                      0   \n",
       "5744                            0                                      0   \n",
       "\n",
       "        arrhy_Ventricular fibrillation  arrhy_Ventricular flutter  \\\n",
       "62297                                0                          0   \n",
       "701704                               0                          0   \n",
       "42200                                0                          0   \n",
       "3377                                 0                          0   \n",
       "5744                                 0                          0   \n",
       "\n",
       "        arrhy_Ventricular tachycardia, non-sustained  \\\n",
       "62297                                              0   \n",
       "701704                                             0   \n",
       "42200                                              0   \n",
       "3377                                               0   \n",
       "5744                                               0   \n",
       "\n",
       "        arrhy_Ventricular tachycardia, sustained monomorphic  \\\n",
       "62297                                                   0      \n",
       "701704                                                  0      \n",
       "42200                                                   0      \n",
       "3377                                                    0      \n",
       "5744                                                    0      \n",
       "\n",
       "        arrhy_Ventricular tachycardia, sustained polymorphic  \\\n",
       "62297                                                   0      \n",
       "701704                                                  0      \n",
       "42200                                                   0      \n",
       "3377                                                    0      \n",
       "5744                                                    0      \n",
       "\n",
       "        arrhy_Ventricular tachycardia, sustained, unknown morphology  \n",
       "62297                                                   0             \n",
       "701704                                                  1             \n",
       "42200                                                   0             \n",
       "3377                                                    0             \n",
       "5744                                                    0             \n",
       "\n",
       "[5 rows x 71 columns]"
      ]
     },
     "execution_count": 140,
     "metadata": {},
     "output_type": "execute_result"
    }
   ],
   "source": [
    "X_test.head()"
   ]
  },
  {
   "cell_type": "code",
   "execution_count": 170,
   "metadata": {},
   "outputs": [
    {
     "data": {
      "text/plain": [
       "1"
      ]
     },
     "execution_count": 170,
     "metadata": {},
     "output_type": "execute_result"
    }
   ],
   "source": [
    "len(pred[(pred_lr < 0.98)])"
   ]
  },
  {
   "cell_type": "code",
   "execution_count": 141,
   "metadata": {},
   "outputs": [
    {
     "data": {
      "text/html": [
       "<div>\n",
       "<style scoped>\n",
       "    .dataframe tbody tr th:only-of-type {\n",
       "        vertical-align: middle;\n",
       "    }\n",
       "\n",
       "    .dataframe tbody tr th {\n",
       "        vertical-align: top;\n",
       "    }\n",
       "\n",
       "    .dataframe thead th {\n",
       "        text-align: right;\n",
       "    }\n",
       "</style>\n",
       "<table border=\"1\" class=\"dataframe\">\n",
       "  <thead>\n",
       "    <tr style=\"text-align: right;\">\n",
       "      <th>HF_YN</th>\n",
       "      <th>0</th>\n",
       "      <th>1</th>\n",
       "    </tr>\n",
       "    <tr>\n",
       "      <th>row_0</th>\n",
       "      <th></th>\n",
       "      <th></th>\n",
       "    </tr>\n",
       "  </thead>\n",
       "  <tbody>\n",
       "    <tr>\n",
       "      <th>0.979709</th>\n",
       "      <td>0</td>\n",
       "      <td>1</td>\n",
       "    </tr>\n",
       "    <tr>\n",
       "      <th>0.980875</th>\n",
       "      <td>0</td>\n",
       "      <td>1</td>\n",
       "    </tr>\n",
       "    <tr>\n",
       "      <th>0.981913</th>\n",
       "      <td>0</td>\n",
       "      <td>1</td>\n",
       "    </tr>\n",
       "    <tr>\n",
       "      <th>0.982279</th>\n",
       "      <td>0</td>\n",
       "      <td>1</td>\n",
       "    </tr>\n",
       "    <tr>\n",
       "      <th>0.982299</th>\n",
       "      <td>0</td>\n",
       "      <td>1</td>\n",
       "    </tr>\n",
       "    <tr>\n",
       "      <th>0.982503</th>\n",
       "      <td>0</td>\n",
       "      <td>1</td>\n",
       "    </tr>\n",
       "    <tr>\n",
       "      <th>0.982694</th>\n",
       "      <td>0</td>\n",
       "      <td>1</td>\n",
       "    </tr>\n",
       "    <tr>\n",
       "      <th>0.982699</th>\n",
       "      <td>0</td>\n",
       "      <td>1</td>\n",
       "    </tr>\n",
       "    <tr>\n",
       "      <th>0.982725</th>\n",
       "      <td>0</td>\n",
       "      <td>1</td>\n",
       "    </tr>\n",
       "    <tr>\n",
       "      <th>0.982841</th>\n",
       "      <td>1</td>\n",
       "      <td>1</td>\n",
       "    </tr>\n",
       "    <tr>\n",
       "      <th>0.982843</th>\n",
       "      <td>0</td>\n",
       "      <td>1</td>\n",
       "    </tr>\n",
       "    <tr>\n",
       "      <th>0.982927</th>\n",
       "      <td>0</td>\n",
       "      <td>1</td>\n",
       "    </tr>\n",
       "    <tr>\n",
       "      <th>0.982947</th>\n",
       "      <td>0</td>\n",
       "      <td>1</td>\n",
       "    </tr>\n",
       "    <tr>\n",
       "      <th>0.982999</th>\n",
       "      <td>0</td>\n",
       "      <td>1</td>\n",
       "    </tr>\n",
       "    <tr>\n",
       "      <th>0.983019</th>\n",
       "      <td>0</td>\n",
       "      <td>1</td>\n",
       "    </tr>\n",
       "    <tr>\n",
       "      <th>0.983026</th>\n",
       "      <td>0</td>\n",
       "      <td>1</td>\n",
       "    </tr>\n",
       "    <tr>\n",
       "      <th>0.983027</th>\n",
       "      <td>0</td>\n",
       "      <td>1</td>\n",
       "    </tr>\n",
       "    <tr>\n",
       "      <th>0.983118</th>\n",
       "      <td>0</td>\n",
       "      <td>1</td>\n",
       "    </tr>\n",
       "    <tr>\n",
       "      <th>0.983239</th>\n",
       "      <td>0</td>\n",
       "      <td>1</td>\n",
       "    </tr>\n",
       "    <tr>\n",
       "      <th>0.983251</th>\n",
       "      <td>0</td>\n",
       "      <td>1</td>\n",
       "    </tr>\n",
       "    <tr>\n",
       "      <th>0.983261</th>\n",
       "      <td>0</td>\n",
       "      <td>1</td>\n",
       "    </tr>\n",
       "    <tr>\n",
       "      <th>0.983262</th>\n",
       "      <td>0</td>\n",
       "      <td>1</td>\n",
       "    </tr>\n",
       "    <tr>\n",
       "      <th>0.983366</th>\n",
       "      <td>0</td>\n",
       "      <td>1</td>\n",
       "    </tr>\n",
       "    <tr>\n",
       "      <th>0.983378</th>\n",
       "      <td>0</td>\n",
       "      <td>1</td>\n",
       "    </tr>\n",
       "    <tr>\n",
       "      <th>0.983384</th>\n",
       "      <td>0</td>\n",
       "      <td>1</td>\n",
       "    </tr>\n",
       "    <tr>\n",
       "      <th>0.983416</th>\n",
       "      <td>0</td>\n",
       "      <td>1</td>\n",
       "    </tr>\n",
       "    <tr>\n",
       "      <th>0.983462</th>\n",
       "      <td>0</td>\n",
       "      <td>1</td>\n",
       "    </tr>\n",
       "    <tr>\n",
       "      <th>0.983470</th>\n",
       "      <td>0</td>\n",
       "      <td>1</td>\n",
       "    </tr>\n",
       "    <tr>\n",
       "      <th>0.983496</th>\n",
       "      <td>0</td>\n",
       "      <td>1</td>\n",
       "    </tr>\n",
       "    <tr>\n",
       "      <th>0.983512</th>\n",
       "      <td>0</td>\n",
       "      <td>2</td>\n",
       "    </tr>\n",
       "    <tr>\n",
       "      <th>...</th>\n",
       "      <td>...</td>\n",
       "      <td>...</td>\n",
       "    </tr>\n",
       "    <tr>\n",
       "      <th>1.001631</th>\n",
       "      <td>0</td>\n",
       "      <td>1</td>\n",
       "    </tr>\n",
       "    <tr>\n",
       "      <th>1.001632</th>\n",
       "      <td>0</td>\n",
       "      <td>1</td>\n",
       "    </tr>\n",
       "    <tr>\n",
       "      <th>1.001637</th>\n",
       "      <td>0</td>\n",
       "      <td>1</td>\n",
       "    </tr>\n",
       "    <tr>\n",
       "      <th>1.001656</th>\n",
       "      <td>0</td>\n",
       "      <td>2</td>\n",
       "    </tr>\n",
       "    <tr>\n",
       "      <th>1.001682</th>\n",
       "      <td>0</td>\n",
       "      <td>1</td>\n",
       "    </tr>\n",
       "    <tr>\n",
       "      <th>1.001694</th>\n",
       "      <td>0</td>\n",
       "      <td>1</td>\n",
       "    </tr>\n",
       "    <tr>\n",
       "      <th>1.001694</th>\n",
       "      <td>0</td>\n",
       "      <td>1</td>\n",
       "    </tr>\n",
       "    <tr>\n",
       "      <th>1.001704</th>\n",
       "      <td>0</td>\n",
       "      <td>2</td>\n",
       "    </tr>\n",
       "    <tr>\n",
       "      <th>1.001718</th>\n",
       "      <td>0</td>\n",
       "      <td>1</td>\n",
       "    </tr>\n",
       "    <tr>\n",
       "      <th>1.001727</th>\n",
       "      <td>0</td>\n",
       "      <td>1</td>\n",
       "    </tr>\n",
       "    <tr>\n",
       "      <th>1.001752</th>\n",
       "      <td>0</td>\n",
       "      <td>1</td>\n",
       "    </tr>\n",
       "    <tr>\n",
       "      <th>1.001803</th>\n",
       "      <td>0</td>\n",
       "      <td>1</td>\n",
       "    </tr>\n",
       "    <tr>\n",
       "      <th>1.001805</th>\n",
       "      <td>0</td>\n",
       "      <td>1</td>\n",
       "    </tr>\n",
       "    <tr>\n",
       "      <th>1.001810</th>\n",
       "      <td>0</td>\n",
       "      <td>1</td>\n",
       "    </tr>\n",
       "    <tr>\n",
       "      <th>1.001820</th>\n",
       "      <td>0</td>\n",
       "      <td>1</td>\n",
       "    </tr>\n",
       "    <tr>\n",
       "      <th>1.001828</th>\n",
       "      <td>0</td>\n",
       "      <td>1</td>\n",
       "    </tr>\n",
       "    <tr>\n",
       "      <th>1.001832</th>\n",
       "      <td>0</td>\n",
       "      <td>1</td>\n",
       "    </tr>\n",
       "    <tr>\n",
       "      <th>1.001842</th>\n",
       "      <td>0</td>\n",
       "      <td>1</td>\n",
       "    </tr>\n",
       "    <tr>\n",
       "      <th>1.001868</th>\n",
       "      <td>0</td>\n",
       "      <td>1</td>\n",
       "    </tr>\n",
       "    <tr>\n",
       "      <th>1.001891</th>\n",
       "      <td>0</td>\n",
       "      <td>1</td>\n",
       "    </tr>\n",
       "    <tr>\n",
       "      <th>1.001939</th>\n",
       "      <td>0</td>\n",
       "      <td>1</td>\n",
       "    </tr>\n",
       "    <tr>\n",
       "      <th>1.001941</th>\n",
       "      <td>0</td>\n",
       "      <td>1</td>\n",
       "    </tr>\n",
       "    <tr>\n",
       "      <th>1.002017</th>\n",
       "      <td>0</td>\n",
       "      <td>1</td>\n",
       "    </tr>\n",
       "    <tr>\n",
       "      <th>1.002059</th>\n",
       "      <td>0</td>\n",
       "      <td>1</td>\n",
       "    </tr>\n",
       "    <tr>\n",
       "      <th>1.002130</th>\n",
       "      <td>0</td>\n",
       "      <td>1</td>\n",
       "    </tr>\n",
       "    <tr>\n",
       "      <th>1.002264</th>\n",
       "      <td>0</td>\n",
       "      <td>1</td>\n",
       "    </tr>\n",
       "    <tr>\n",
       "      <th>1.002291</th>\n",
       "      <td>0</td>\n",
       "      <td>1</td>\n",
       "    </tr>\n",
       "    <tr>\n",
       "      <th>1.002317</th>\n",
       "      <td>0</td>\n",
       "      <td>1</td>\n",
       "    </tr>\n",
       "    <tr>\n",
       "      <th>1.002408</th>\n",
       "      <td>0</td>\n",
       "      <td>1</td>\n",
       "    </tr>\n",
       "    <tr>\n",
       "      <th>1.002421</th>\n",
       "      <td>0</td>\n",
       "      <td>1</td>\n",
       "    </tr>\n",
       "  </tbody>\n",
       "</table>\n",
       "<p>11578 rows × 2 columns</p>\n",
       "</div>"
      ],
      "text/plain": [
       "HF_YN     0  1\n",
       "row_0         \n",
       "0.979709  0  1\n",
       "0.980875  0  1\n",
       "0.981913  0  1\n",
       "0.982279  0  1\n",
       "0.982299  0  1\n",
       "0.982503  0  1\n",
       "0.982694  0  1\n",
       "0.982699  0  1\n",
       "0.982725  0  1\n",
       "0.982841  1  1\n",
       "0.982843  0  1\n",
       "0.982927  0  1\n",
       "0.982947  0  1\n",
       "0.982999  0  1\n",
       "0.983019  0  1\n",
       "0.983026  0  1\n",
       "0.983027  0  1\n",
       "0.983118  0  1\n",
       "0.983239  0  1\n",
       "0.983251  0  1\n",
       "0.983261  0  1\n",
       "0.983262  0  1\n",
       "0.983366  0  1\n",
       "0.983378  0  1\n",
       "0.983384  0  1\n",
       "0.983416  0  1\n",
       "0.983462  0  1\n",
       "0.983470  0  1\n",
       "0.983496  0  1\n",
       "0.983512  0  2\n",
       "...      .. ..\n",
       "1.001631  0  1\n",
       "1.001632  0  1\n",
       "1.001637  0  1\n",
       "1.001656  0  2\n",
       "1.001682  0  1\n",
       "1.001694  0  1\n",
       "1.001694  0  1\n",
       "1.001704  0  2\n",
       "1.001718  0  1\n",
       "1.001727  0  1\n",
       "1.001752  0  1\n",
       "1.001803  0  1\n",
       "1.001805  0  1\n",
       "1.001810  0  1\n",
       "1.001820  0  1\n",
       "1.001828  0  1\n",
       "1.001832  0  1\n",
       "1.001842  0  1\n",
       "1.001868  0  1\n",
       "1.001891  0  1\n",
       "1.001939  0  1\n",
       "1.001941  0  1\n",
       "1.002017  0  1\n",
       "1.002059  0  1\n",
       "1.002130  0  1\n",
       "1.002264  0  1\n",
       "1.002291  0  1\n",
       "1.002317  0  1\n",
       "1.002408  0  1\n",
       "1.002421  0  1\n",
       "\n",
       "[11578 rows x 2 columns]"
      ]
     },
     "execution_count": 141,
     "metadata": {},
     "output_type": "execute_result"
    }
   ],
   "source": [
    "pd.crosstab(pred_lr,y_test)"
   ]
  },
  {
   "cell_type": "code",
   "execution_count": 142,
   "metadata": {},
   "outputs": [
    {
     "data": {
      "text/plain": [
       "0.9989213615098386"
      ]
     },
     "execution_count": 142,
     "metadata": {},
     "output_type": "execute_result"
    }
   ],
   "source": [
    "#rf = RandomForestClassifier(n_estimators=100, max_depth=2,random_state=0)\n",
    "rf = RandomForestClassifier()\n",
    "rf.fit(X_train,y_train)\n",
    "rf.score(X_train,y_train)"
   ]
  },
  {
   "cell_type": "code",
   "execution_count": 143,
   "metadata": {},
   "outputs": [
    {
     "data": {
      "text/plain": [
       "0.998687337452207"
      ]
     },
     "execution_count": 143,
     "metadata": {},
     "output_type": "execute_result"
    }
   ],
   "source": [
    "cross_val_score(RandomForestClassifier(),X_train,y_train, cv = 5, scoring = \"accuracy\").mean()"
   ]
  },
  {
   "cell_type": "code",
   "execution_count": 144,
   "metadata": {},
   "outputs": [
    {
     "data": {
      "text/plain": [
       "1    231232\n",
       "0       280\n",
       "Name: HF_YN, dtype: int64"
      ]
     },
     "execution_count": 144,
     "metadata": {},
     "output_type": "execute_result"
    }
   ],
   "source": [
    "y_test.value_counts()"
   ]
  },
  {
   "cell_type": "code",
   "execution_count": 145,
   "metadata": {},
   "outputs": [],
   "source": [
    "pred = rf.predict(X_test)"
   ]
  },
  {
   "cell_type": "code",
   "execution_count": 146,
   "metadata": {},
   "outputs": [
    {
     "data": {
      "text/plain": [
       "array([1, 0], dtype=int64)"
      ]
     },
     "execution_count": 146,
     "metadata": {},
     "output_type": "execute_result"
    }
   ],
   "source": [
    "y_test.unique()"
   ]
  },
  {
   "cell_type": "code",
   "execution_count": 172,
   "metadata": {},
   "outputs": [
    {
     "data": {
      "text/plain": [
       "1    469492\n",
       "0       545\n",
       "Name: HF_YN, dtype: int64"
      ]
     },
     "execution_count": 172,
     "metadata": {},
     "output_type": "execute_result"
    }
   ],
   "source": [
    "y_train.value_counts()"
   ]
  },
  {
   "cell_type": "code",
   "execution_count": 147,
   "metadata": {},
   "outputs": [
    {
     "data": {
      "text/html": [
       "<div>\n",
       "<style scoped>\n",
       "    .dataframe tbody tr th:only-of-type {\n",
       "        vertical-align: middle;\n",
       "    }\n",
       "\n",
       "    .dataframe tbody tr th {\n",
       "        vertical-align: top;\n",
       "    }\n",
       "\n",
       "    .dataframe thead th {\n",
       "        text-align: right;\n",
       "    }\n",
       "</style>\n",
       "<table border=\"1\" class=\"dataframe\">\n",
       "  <thead>\n",
       "    <tr style=\"text-align: right;\">\n",
       "      <th>HF_YN</th>\n",
       "      <th>0</th>\n",
       "      <th>1</th>\n",
       "    </tr>\n",
       "    <tr>\n",
       "      <th>row_0</th>\n",
       "      <th></th>\n",
       "      <th></th>\n",
       "    </tr>\n",
       "  </thead>\n",
       "  <tbody>\n",
       "    <tr>\n",
       "      <th>0</th>\n",
       "      <td>1</td>\n",
       "      <td>54</td>\n",
       "    </tr>\n",
       "    <tr>\n",
       "      <th>1</th>\n",
       "      <td>279</td>\n",
       "      <td>231178</td>\n",
       "    </tr>\n",
       "  </tbody>\n",
       "</table>\n",
       "</div>"
      ],
      "text/plain": [
       "HF_YN    0       1\n",
       "row_0             \n",
       "0        1      54\n",
       "1      279  231178"
      ]
     },
     "execution_count": 147,
     "metadata": {},
     "output_type": "execute_result"
    }
   ],
   "source": [
    "pd.crosstab(pred,y_test)"
   ]
  },
  {
   "cell_type": "code",
   "execution_count": 148,
   "metadata": {},
   "outputs": [
    {
     "data": {
      "text/plain": [
       "0.9985616296347489"
      ]
     },
     "execution_count": 148,
     "metadata": {},
     "output_type": "execute_result"
    }
   ],
   "source": [
    "rf.score(X_test,y_test.values)"
   ]
  },
  {
   "cell_type": "code",
   "execution_count": 152,
   "metadata": {},
   "outputs": [
    {
     "data": {
      "text/plain": [
       "(array([5.50000e+01, 0.00000e+00, 0.00000e+00, 0.00000e+00, 2.31457e+05]),\n",
       " array([0. , 0.2, 0.4, 0.6, 0.8, 1. ]),\n",
       " <a list of 5 Patch objects>)"
      ]
     },
     "execution_count": 152,
     "metadata": {},
     "output_type": "execute_result"
    },
    {
     "data": {
      "image/png": "[encoded data removed]",
      "text/plain": [
       "<Figure size 792x576 with 1 Axes>"
      ]
     },
     "metadata": {
      "needs_background": "light"
     },
     "output_type": "display_data"
    }
   ],
   "source": [
    "# index_values=range(0,len(y_test))\n",
    "plt.figure(figsize = (11,8))\n",
    "plt.hist(pred, bins = 5)\n",
    "# plt.scatter(pd.Series(index_values),pred,color = 'blue')\n"
   ]
  },
  {
   "cell_type": "code",
   "execution_count": 155,
   "metadata": {},
   "outputs": [
    {
     "data": {
      "text/plain": [
       "numpy.ndarray"
      ]
     },
     "execution_count": 155,
     "metadata": {},
     "output_type": "execute_result"
    }
   ],
   "source": [
    "type(pred_lr)"
   ]
  },
  {
   "cell_type": "code",
   "execution_count": 154,
   "metadata": {},
   "outputs": [
    {
     "data": {
      "text/plain": [
       "numpy.ndarray"
      ]
     },
     "execution_count": 154,
     "metadata": {},
     "output_type": "execute_result"
    }
   ],
   "source": [
    "type(y_test.values)"
   ]
  },
  {
   "cell_type": "code",
   "execution_count": null,
   "metadata": {},
   "outputs": [],
   "source": [
    "importance= []\n",
    "importance = rf.feature_importances_.round(2)\n",
    "print(importance)\n",
    "np.sort(importance)"
   ]
  },
  {
   "cell_type": "code",
   "execution_count": null,
   "metadata": {},
   "outputs": [],
   "source": [
    "X.columns"
   ]
  },
  {
   "cell_type": "code",
   "execution_count": null,
   "metadata": {},
   "outputs": [],
   "source": [
    "lr.score(X_test,y_test)"
   ]
  },
  {
   "cell_type": "code",
   "execution_count": null,
   "metadata": {},
   "outputs": [],
   "source": [
    "lg = LogisticRegression()\n",
    "lg.fit(X_train,y_train)\n",
    "lg.score(X_train,y_train)"
   ]
  },
  {
   "cell_type": "code",
   "execution_count": null,
   "metadata": {},
   "outputs": [],
   "source": [
    "pred = lg.predict(X_test)\n"
   ]
  },
  {
   "cell_type": "code",
   "execution_count": null,
   "metadata": {},
   "outputs": [],
   "source": [
    "#"
   ]
  },
  {
   "cell_type": "code",
   "execution_count": null,
   "metadata": {},
   "outputs": [],
   "source": [
    "cross_val_score(LogisticRegression(),X_train,y_train, cv = 5, scoring = \"accuracy\").mean()"
   ]
  },
  {
   "cell_type": "code",
   "execution_count": null,
   "metadata": {},
   "outputs": [],
   "source": [
    "confusion_matrix(pred,y_test)"
   ]
  },
  {
   "cell_type": "code",
   "execution_count": null,
   "metadata": {},
   "outputs": [],
   "source": []
  },
  {
   "cell_type": "code",
   "execution_count": null,
   "metadata": {},
   "outputs": [],
   "source": [
    "y.count()"
   ]
  },
  {
   "cell_type": "code",
   "execution_count": null,
   "metadata": {},
   "outputs": [],
   "source": [
    "print(len(y_test))\n",
    "print(len(y_train))"
   ]
  },
  {
   "cell_type": "code",
   "execution_count": null,
   "metadata": {},
   "outputs": [],
   "source": [
    "X.columns"
   ]
  },
  {
   "cell_type": "code",
   "execution_count": null,
   "metadata": {},
   "outputs": [],
   "source": [
    "# sns.swarmplot(pred,y_test)"
   ]
  },
  {
   "cell_type": "code",
   "execution_count": null,
   "metadata": {},
   "outputs": [],
   "source": []
  },
  {
   "cell_type": "code",
   "execution_count": null,
   "metadata": {},
   "outputs": [],
   "source": []
  },
  {
   "cell_type": "code",
   "execution_count": null,
   "metadata": {},
   "outputs": [],
   "source": [
    "# log(demog.age,10)"
   ]
  },
  {
   "cell_type": "raw",
   "metadata": {},
   "source": []
  },
  {
   "cell_type": "code",
   "execution_count": null,
   "metadata": {},
   "outputs": [],
   "source": [
    "# sns.boxplot(demog.age_lognorm)"
   ]
  },
  {
   "cell_type": "code",
   "execution_count": null,
   "metadata": {},
   "outputs": [],
   "source": []
  },
  {
   "cell_type": "code",
   "execution_count": null,
   "metadata": {},
   "outputs": [],
   "source": [
    "#plt.plot(demog[(demog.HF_YN == 'Y') & (demog.CRT_YN == 'Y') & (demog.MEDTRNC_CRT_YN == 'Y')]['FIRST_CNTCT_DT_DYS']);"
   ]
  },
  {
   "cell_type": "code",
   "execution_count": null,
   "metadata": {},
   "outputs": [],
   "source": [
    "#demog.ETHNCTY.unique()"
   ]
  },
  {
   "cell_type": "code",
   "execution_count": null,
   "metadata": {},
   "outputs": [],
   "source": [
    "#demog.RACE.unique()"
   ]
  },
  {
   "cell_type": "code",
   "execution_count": null,
   "metadata": {},
   "outputs": [],
   "source": [
    "#sns.swarmplot(demog.FIRST_CNTCT_DT_DYS)"
   ]
  },
  {
   "cell_type": "code",
   "execution_count": null,
   "metadata": {},
   "outputs": [],
   "source": []
  },
  {
   "cell_type": "code",
   "execution_count": null,
   "metadata": {},
   "outputs": [],
   "source": [
    "# !pip install mpl_toolkits.basemap"
   ]
  },
  {
   "cell_type": "code",
   "execution_count": null,
   "metadata": {},
   "outputs": [],
   "source": []
  }
 ],
 "metadata": {
  "kernelspec": {
   "display_name": "Python 3",
   "language": "python",
   "name": "python3"
  },
  "language_info": {
   "codemirror_mode": {
    "name": "ipython",
    "version": 3
   },
   "file_extension": ".py",
   "mimetype": "text/x-python",
   "name": "python",
   "nbconvert_exporter": "python",
   "pygments_lexer": "ipython3",
   "version": "3.6.6"
  }
 },
 "nbformat": 4,
 "nbformat_minor": 2
}
