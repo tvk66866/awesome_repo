{
 "cells": [
  {
   "cell_type": "code",
   "execution_count": 192,
   "metadata": {},
   "outputs": [],
   "source": [
    "# Sample Python code for user authorization\n",
    "\n",
    "import os\n",
    "\n",
    "import google.oauth2.credentials\n",
    "\n",
    "from googleapiclient.discovery import build\n",
    "from googleapiclient.errors import HttpError\n",
    "from google_auth_oauthlib.flow import InstalledAppFlow\n",
    "\n",
    "# The CLIENT_SECRETS_FILE variable specifies the name of a file that contains\n",
    "# the OAuth 2.0 information for this application, including its client_id and\n",
    "# client_secret.\n",
    "CLIENT_SECRETS_FILE = \"client_secret_vas.json\"\n",
    "\n",
    "# This OAuth 2.0 access scope allows for full read/write access to the\n",
    "# authenticated user's account and requires requests to use an SSL connection.\n",
    "SCOPES = ['https://www.googleapis.com/auth/youtube.force-ssl']\n",
    "API_SERVICE_NAME = 'youtube'\n",
    "API_VERSION = 'v3'\n",
    "\n",
    "def get_authenticated_service():\n",
    "  flow = InstalledAppFlow.from_client_secrets_file(CLIENT_SECRETS_FILE, SCOPES)\n",
    "  credentials = flow.run_console()\n",
    "  return build(API_SERVICE_NAME, API_VERSION, credentials = credentials)\n",
    "\n",
    "def channels_list_by_username(service, **kwargs):\n",
    "  results = service.channels().list(\n",
    "    **kwargs\n",
    "  ).execute()\n",
    "  print(results)\n",
    "  print('This channel\\'s ID is %s. Its title is %s, it has %s views, Custom URL %s.' %\n",
    "       (results['items'][0]['id'],\n",
    "        results['items'][0]['snippet']['title'],\n",
    "        results['items'][0]['statistics']['viewCount'],\n",
    "       results['items'][0]['snippet']['publishedAt']))"
   ]
  },
  {
   "cell_type": "code",
   "execution_count": 193,
   "metadata": {},
   "outputs": [
    {
     "name": "stdout",
     "output_type": "stream",
     "text": [
      "Please visit this URL to authorize this application: https://accounts.google.com/o/oauth2/auth?response_type=code&client_id=955959357103-8kjjifqlkbamn5m7cd824gs1homirf8h.apps.googleusercontent.com&redirect_uri=urn%3Aietf%3Awg%3Aoauth%3A2.0%3Aoob&scope=https%3A%2F%2Fwww.googleapis.com%2Fauth%2Fyoutube.force-ssl&state=h8R9f5Xl0FbK6mcmymFnDo3qJgC3fu&prompt=consent&access_type=offline\n",
      "Enter the authorization code: 4/pQBJhqbWdrhan6G5OaxaOGXUtHM-jF5U0fk6dhd0_twHmu1q2YEaAas\n",
      "{'kind': 'youtube#channelListResponse', 'etag': '\"XI7nbFXulYBIpL0ayR_gDh3eu1k/rhE_6glQrxqUV1rVhmZfg5C321I\"', 'pageInfo': {'totalResults': 1, 'resultsPerPage': 5}, 'items': [{'kind': 'youtube#channel', 'etag': '\"XI7nbFXulYBIpL0ayR_gDh3eu1k/ypU8bcm2XQW0HgArnGD5y9u9Pms\"', 'id': 'UC5fyyQd4s2lTcMRzH-NjnxA', 'snippet': {'title': 'Vasanthakumar Thirugnanam', 'description': '', 'customUrl': 'tvk66866', 'publishedAt': '2007-03-20T17:04:49.000Z', 'thumbnails': {'default': {'url': 'https://yt3.ggpht.com/a-/AN66SAy3t7qi5yrufh0bndX1wY6wq22IwrTgxfPcEA=s88-mo-c-c0xffffffff-rj-k-no', 'width': 88, 'height': 88}, 'medium': {'url': 'https://yt3.ggpht.com/a-/AN66SAy3t7qi5yrufh0bndX1wY6wq22IwrTgxfPcEA=s240-mo-c-c0xffffffff-rj-k-no', 'width': 240, 'height': 240}, 'high': {'url': 'https://yt3.ggpht.com/a-/AN66SAy3t7qi5yrufh0bndX1wY6wq22IwrTgxfPcEA=s800-mo-c-c0xffffffff-rj-k-no', 'width': 800, 'height': 800}}, 'localized': {'title': 'Vasanthakumar Thirugnanam', 'description': ''}}, 'contentDetails': {'relatedPlaylists': {'likes': 'LL5fyyQd4s2lTcMRzH-NjnxA', 'favorites': 'FL5fyyQd4s2lTcMRzH-NjnxA', 'uploads': 'UU5fyyQd4s2lTcMRzH-NjnxA', 'watchHistory': 'HL', 'watchLater': 'WL'}}, 'statistics': {'viewCount': '67', 'commentCount': '0', 'subscriberCount': '0', 'hiddenSubscriberCount': True, 'videoCount': '52'}}]}\n",
      "This channel's ID is UC5fyyQd4s2lTcMRzH-NjnxA. Its title is Vasanthakumar Thirugnanam, it has 67 views, Custom URL 2007-03-20T17:04:49.000Z.\n"
     ]
    }
   ],
   "source": [
    "if __name__ == '__main__':\n",
    "  # When running locally, disable OAuthlib's HTTPs verification. When\n",
    "  # running in production *do not* leave this option enabled.\n",
    "  os.environ['OAUTHLIB_INSECURE_TRANSPORT'] = '1'\n",
    "  service = get_authenticated_service()\n",
    "  channels_list_by_username(service,\n",
    "      part='snippet,contentDetails,statistics',\n",
    "      forUsername='tvk66866')"
   ]
  },
  {
   "cell_type": "code",
   "execution_count": 68,
   "metadata": {},
   "outputs": [
    {
     "data": {
      "text/plain": [
       "<googleapiclient.http.HttpRequest at 0x111d5ff60>"
      ]
     },
     "execution_count": 68,
     "metadata": {},
     "output_type": "execute_result"
    }
   ],
   "source": [
    "result_activities = service.activities().list(part = 'title')\n",
    "result_activities"
   ]
  },
  {
   "cell_type": "code",
   "execution_count": 3,
   "metadata": {},
   "outputs": [
    {
     "data": {
      "text/plain": [
       "<googleapiclient.discovery.Resource at 0x10f905f60>"
      ]
     },
     "execution_count": 3,
     "metadata": {},
     "output_type": "execute_result"
    }
   ],
   "source": [
    "service.comments()"
   ]
  },
  {
   "cell_type": "code",
   "execution_count": 236,
   "metadata": {},
   "outputs": [
    {
     "name": "stdout",
     "output_type": "stream",
     "text": [
      "This channel's ID is UC5fyyQd4s2lTcMRzH-NjnxA. \n",
      " Its title is Vasanthakumar Thirugnanam,\n",
      " it has 67 views, \n",
      " Creation date: 2007-03-20T17:04:49.000Z.\n"
     ]
    }
   ],
   "source": [
    "result_live = service.channels().list(part='snippet,contentDetails,statistics',forUsername = \"tvk66866\").execute()\n",
    "print('This channel\\'s ID is %s. \\n Its title is %s,\\n it has %s views, \\n Creation date: %s.' %\n",
    "       (result_live['items'][0]['id'],\n",
    "        result_live['items'][0]['snippet']['title'],\n",
    "        result_live['items'][0]['statistics']['viewCount'],\n",
    "       result_live['items'][0]['snippet']['publishedAt']))"
   ]
  },
  {
   "cell_type": "code",
   "execution_count": 272,
   "metadata": {},
   "outputs": [
    {
     "name": "stdout",
     "output_type": "stream",
     "text": [
      "dict_keys(['kind', 'etag', 'nextPageToken', 'pageInfo', 'items'])\n",
      "This channel's ID is UExUaF82Q0Z5UDZfeUlZSnBxYVFTRGlOdjVWOTJSYkpBYS41NkI0NEY2RDEwNTU3Q0M2. \n",
      " Its title is Vishnu Sahasranamam MS Subbulakshmi Full Version ORIGINAL,\n",
      " it has views, \n",
      " Video ID: 6TNE-i8ZvKs.\n"
     ]
    }
   ],
   "source": [
    "result_live = service.playlistItems().list(part='snippet,contentDetails', playlistId = 'PLTh_6CFyP6_yIYJpqaQSDiNv5V92RbJAa').execute()\n",
    "print(result_sub.keys())\n",
    "print('This channel\\'s ID is %s. \\n Its title is %s,\\n it has views, \\n Video ID: %s.' %\n",
    "       (result_live['items'][0]['id'],\n",
    "        result_live['items'][0]['snippet']['title'],\n",
    "#         result_live['items'][0]['statistics']['viewCount'],\n",
    "       result_live['items'][0]['contentDetails']['videoId']))"
   ]
  },
  {
   "cell_type": "code",
   "execution_count": 268,
   "metadata": {},
   "outputs": [
    {
     "name": "stdout",
     "output_type": "stream",
     "text": [
      "{\n",
      "    \"etag\": \"\\\"XI7nbFXulYBIpL0ayR_gDh3eu1k/TpNdN0nuO22BVMwYWJtg64FOW5k\\\"\",\n",
      "    \"items\": [\n",
      "        {\n",
      "            \"contentDetails\": {\n",
      "                \"videoId\": \"6TNE-i8ZvKs\",\n",
      "                \"videoPublishedAt\": \"2016-08-31T16:44:39.000Z\"\n",
      "            },\n",
      "            \"etag\": \"\\\"XI7nbFXulYBIpL0ayR_gDh3eu1k/ysNprxcyaceKQgQGtCQSjmFVj7M\\\"\",\n",
      "            \"id\": \"UExUaF82Q0Z5UDZfeUlZSnBxYVFTRGlOdjVWOTJSYkpBYS41NkI0NEY2RDEwNTU3Q0M2\",\n",
      "            \"kind\": \"youtube#playlistItem\",\n",
      "            \"snippet\": {\n",
      "                \"channelId\": \"UC5fyyQd4s2lTcMRzH-NjnxA\",\n",
      "                \"channelTitle\": \"Vasanthakumar Thirugnanam\",\n",
      "                \"description\": \"A Devotional Song Dedicated To The \\nUltimate Supreme God: LORD VISHNU\\n\\nPlease Like, SHARE and Subscribe for more devotional Songs :)\\n\\nComment down below which devotional song you require and it'll be uploaded :D\\n\\nI Request at least 100k people to listen to this divinity\\n\\nTo Know more about the chanting benefits visit: \\nhttp://gestyy.com/wpS2pW\\n\\nPlease SUBSCRIBE to this channel\\nhttps://www.youtube.com/channel/UC7fGj33U5PbaC-3LY7ZNDYA\\nto get cook tasty Indian recipes :)\",\n",
      "                \"playlistId\": \"PLTh_6CFyP6_yIYJpqaQSDiNv5V92RbJAa\",\n",
      "                \"position\": 0,\n",
      "                \"publishedAt\": \"2018-11-30T07:06:46.000Z\",\n",
      "                \"resourceId\": {\n",
      "                    \"kind\": \"youtube#video\",\n",
      "                    \"videoId\": \"6TNE-i8ZvKs\"\n",
      "                },\n",
      "                \"thumbnails\": {\n",
      "                    \"default\": {\n",
      "                        \"height\": 90,\n",
      "                        \"url\": \"https://i.ytimg.com/vi/6TNE-i8ZvKs/default.jpg\",\n",
      "                        \"width\": 120\n",
      "                    },\n",
      "                    \"high\": {\n",
      "                        \"height\": 360,\n",
      "                        \"url\": \"https://i.ytimg.com/vi/6TNE-i8ZvKs/hqdefault.jpg\",\n",
      "                        \"width\": 480\n",
      "                    },\n",
      "                    \"maxres\": {\n",
      "                        \"height\": 720,\n",
      "                        \"url\": \"https://i.ytimg.com/vi/6TNE-i8ZvKs/maxresdefault.jpg\",\n",
      "                        \"width\": 1280\n",
      "                    },\n",
      "                    \"medium\": {\n",
      "                        \"height\": 180,\n",
      "                        \"url\": \"https://i.ytimg.com/vi/6TNE-i8ZvKs/mqdefault.jpg\",\n",
      "                        \"width\": 320\n",
      "                    },\n",
      "                    \"standard\": {\n",
      "                        \"height\": 480,\n",
      "                        \"url\": \"https://i.ytimg.com/vi/6TNE-i8ZvKs/sddefault.jpg\",\n",
      "                        \"width\": 640\n",
      "                    }\n",
      "                },\n",
      "                \"title\": \"Vishnu Sahasranamam MS Subbulakshmi Full Version ORIGINAL\"\n",
      "            }\n",
      "        },\n",
      "        {\n",
      "            \"contentDetails\": {\n",
      "                \"videoId\": \"NbYVVNGnicI\",\n",
      "                \"videoPublishedAt\": \"2009-09-22T02:19:01.000Z\"\n",
      "            },\n",
      "            \"etag\": \"\\\"XI7nbFXulYBIpL0ayR_gDh3eu1k/-UXt1YOcCSYeNT2GhJVN2PwPk28\\\"\",\n",
      "            \"id\": \"UExUaF82Q0Z5UDZfeUlZSnBxYVFTRGlOdjVWOTJSYkpBYS4yODlGNEE0NkRGMEEzMEQy\",\n",
      "            \"kind\": \"youtube#playlistItem\",\n",
      "            \"snippet\": {\n",
      "                \"channelId\": \"UC5fyyQd4s2lTcMRzH-NjnxA\",\n",
      "                \"channelTitle\": \"Vasanthakumar Thirugnanam\",\n",
      "                \"description\": \"Adi Shankaracharya was possibly one of the great saints of his time.. After brahmopadesa, as is usual during those times, he was asked to beg alms for his lunch. One day when he went to a Brahmin house, the lady of the house was so poor that she did not have anything to give him. She searched hard and found one small fruit of gooseberry, which she gave to Sankara the boy. He was so touched by her gesture that he sang these 21 mellifluous hymns on Goddess Lakshmi, who poured golden goose berries as rain to the poor womans house. Even today it is believed that poverty would be banished by singing this hymn.\\r\\n1\\r\\nAngam hare pulaka bhooshanamasrayanthi,\\r\\nBhringanga neva mukulabharanam thamalam,\\r\\nAngikrithakhila vibhuthirapanga leela,\\r\\nMangalyadasthu mama mangala devathaya.\\r\\n\\r\\n2\\r\\nMugdha muhurvidhadhadathi vadhane Murare,\\r\\nPremathrapapranihithani gathagathani,\\r\\nMala dhrishotmadhukareeva maheth pale ya,\\r\\nSa ne sriyam dhisathu sagarasambhavaya.\\r\\n\\r\\n3\\r\\nAmeelithaksha madhigamya mudha Mukundam\\r\\nAnandakandamanimeshamananga thanthram,\\r\\nAkekara stiththa kaninika pashma nethram,\\r\\nBhoothyai bhavenmama bhjangasayananganaya.\\r\\n\\r\\n4\\r\\nBahwanthare madhujitha srithakausthube ya,\\r\\nHaravaleeva nari neela mayi vibhathi,\\r\\nKamapradha bhagavatho api kadaksha mala,\\r\\nKalyanamavahathu me kamalalayaya\\r\\n\\r\\n5\\r\\nKalambudhaalithorasi kaida bhare,\\r\\nDharaadhare sphurathi yaa thadinganeva,\\r\\nMathu samastha jagatham mahaneeya murthy,\\r\\nBadrani me dhisathu bhargava nandanaya\\r\\n\\r\\n6\\r\\nPraptham padam pradhamatha khalu yat prabhavath,\\r\\nMangalyabhaji madhu madhini manamathena,\\r\\nMayyapadetha mathara meekshanardham,\\r\\nManthalasam cha makaralaya kanyakaya.\\r\\n\\r\\n7\\r\\nViswamarendra padhavee bramadhana dhaksham,\\r\\nAnanda hethu radhikam madhu vishwoapi,\\r\\nEshanna sheedhathu mayi kshanameekshanartham,\\r\\nIndhivarodhara sahodharamidhiraya\\r\\n\\r\\n8\\r\\nIshta visishtamathayopi yaya dhayardhra,\\r\\nDhrishtya thravishta papadam sulabham labhanthe,\\r\\nHrishtim prahrushta kamlodhara deepthirishtam,\\r\\nPushtim krishishta mama pushkravishtaraya.\\r\\n\\r\\n9\\r\\nDhadyaddhayanupavanopi dravinambhudaraam,\\r\\nAsminna kinchina vihanga sisou vishanne,\\r\\nDhushkaramagarmmapaneeya chiraya dhooram,\\r\\nNarayana pranayinee nayanambhuvaha.\\r\\n\\r\\n10\\r\\nGheerdhevathethi garuda dwaja sundarithi,\\r\\nSakambhareethi sasi shekara vallebhethi,\\r\\nSrishti sthithi pralaya kelishu samsthitha ya,\\r\\nThasyai namas thribhvanai ka guros tharunyai.\\r\\n\\r\\n11\\r\\nSruthyai namosthu shubha karma phala prasoothyai,\\r\\nRathyai namosthu ramaneeya gunarnavayai,\\r\\nShakthyai namosthu satha pathra nikethanayai,\\r\\nPushtayi namosthu purushotthama vallabhayai.\\r\\n\\r\\n12\\r\\nNamosthu naleekha nibhananai,\\r\\nNamosthu dhugdhogdhadhi janma bhoomayai,\\r\\nNamosthu somamrutha sodharayai,\\r\\nNamosthu narayana vallabhayai.\\r\\n\\r\\n13\\r\\nNamosthu hemambhuja peetikayai,\\r\\nNamosthu bhoo mandala nayikayai,\\r\\nNamosthu devathi dhaya prayai,\\r\\nNamosthu Sarngayudha vallabhayai.\\r\\n\\r\\n14\\r\\nNamosthu devyai bhrugu nandanayai,\\r\\nNamosthu vishnorurasi sthithayai,\\r\\nNamosthu lakshmyai kamalalayai,\\r\\nNamosthu dhamodhra vallabhayai.\\r\\n\\r\\n15\\r\\nNamosthu Kanthyai kamalekshanayai,\\r\\nNamosthu bhoothyai bhuvanaprasoothyai,\\r\\nNamosthu devadhibhir archithayai,\\r\\nNamosthu nandhathmaja vallabhayai.\\r\\n\\r\\n16\\r\\nSampath karaani sakalendriya nandanani,\\r\\nSamrajya dhana vibhavani saroruhakshi,\\r\\nTwad vandanani dhuritha haranodhythani,\\r\\nMamev matharanisam kalayanthu manye.\\r\\n\\r\\n17\\r\\nYath Kadaksha samupasana vidhi,\\r\\nSevakasya sakalartha sapadha,\\r\\nSanthanodhi vachananga manasai,\\r\\nTwaam murari hridayeswareem bhaje\\r\\n\\r\\n18\\r\\nSarasija nilaye saroja hasthe,\\r\\nDhavalathamamsuka gandha maya shobhe,\\r\\nBhagavathi hari vallabhe manogne,\\r\\nTribhuvana bhoothikari praseeda mahye\\r\\n\\r\\n19\\r\\nDhiggasthibhi kanaka kumbha mukha vasrushta,\\r\\nSarvahini vimala charu jalaapluthangim,\\r\\nPrathar namami jagathaam janani masesha,\\r\\nLokadhinatha grahini mamrithabhi puthreem.\\r\\n\\r\\n20\\r\\nKamale Kamalaksha vallabhe twam,\\r\\nKaruna poora tharingithaira pangai,\\r\\nAvalokaya mamakinchananam,\\r\\nPrathamam pathamakrithrimam dhyaya\\r\\n\\r\\n21\\r\\nSthuvanthi ye sthuthibhirameeranwaham,\\r\\nThrayeemayim thribhuvanamatharam ramam,\\r\\nGunadhika guruthara bhagya bhagina,\\r\\nBhavanthi the bhuvi budha bhavithasayo.\",\n",
      "                \"playlistId\": \"PLTh_6CFyP6_yIYJpqaQSDiNv5V92RbJAa\",\n",
      "                \"position\": 1,\n",
      "                \"publishedAt\": \"2018-11-30T07:07:05.000Z\",\n",
      "                \"resourceId\": {\n",
      "                    \"kind\": \"youtube#video\",\n",
      "                    \"videoId\": \"NbYVVNGnicI\"\n",
      "                },\n",
      "                \"thumbnails\": {\n",
      "                    \"default\": {\n",
      "                        \"height\": 90,\n",
      "                        \"url\": \"https://i.ytimg.com/vi/NbYVVNGnicI/default.jpg\",\n",
      "                        \"width\": 120\n",
      "                    },\n",
      "                    \"high\": {\n",
      "                        \"height\": 360,\n",
      "                        \"url\": \"https://i.ytimg.com/vi/NbYVVNGnicI/hqdefault.jpg\",\n",
      "                        \"width\": 480\n",
      "                    },\n",
      "                    \"medium\": {\n",
      "                        \"height\": 180,\n",
      "                        \"url\": \"https://i.ytimg.com/vi/NbYVVNGnicI/mqdefault.jpg\",\n",
      "                        \"width\": 320\n",
      "                    }\n",
      "                },\n",
      "                \"title\": \"MS SUBBULAKSHMI : KANAKADHARA STOTRAM\"\n",
      "            }\n",
      "        },\n",
      "        {\n",
      "            \"contentDetails\": {\n",
      "                \"videoId\": \"NJJIt8jh1Uc\",\n",
      "                \"videoPublishedAt\": \"2008-06-16T16:10:21.000Z\"\n",
      "            },\n",
      "            \"etag\": \"\\\"XI7nbFXulYBIpL0ayR_gDh3eu1k/mZOijcrtkvThMEsuHTtXcdjRuPo\\\"\",\n",
      "            \"id\": \"UExUaF82Q0Z5UDZfeUlZSnBxYVFTRGlOdjVWOTJSYkpBYS4wMTcyMDhGQUE4NTIzM0Y5\",\n",
      "            \"kind\": \"youtube#playlistItem\",\n",
      "            \"snippet\": {\n",
      "                \"channelId\": \"UC5fyyQd4s2lTcMRzH-NjnxA\",\n",
      "                \"channelTitle\": \"Vasanthakumar Thirugnanam\",\n",
      "                \"description\": \"\\u0ba4\\u0bbf\\u0bb0\\u0bc8\\u0baa\\u0bcd\\u0baa\\u0b9f\\u0bae\\u0bcd:- \\u0ba4\\u0bbe\\u0baf\\u0bcd \\u0bae\\u0bc2\\u0b95\\u0bbe\\u0bae\\u0bcd\\u0baa\\u0bbf\\u0b95\\u0bc8 - 1982;\\n\\u0b87\\u0b9a\\u0bc8:- \\u0b87\\u0bb3\\u0bc8\\u0baf\\u0bb0\\u0bbe\\u0b9c\\u0bbe;\\n\\u0b87\\u0baf\\u0bb1\\u0bcd\\u0bb1\\u0bbf\\u0baf\\u0bb5\\u0bb0\\u0bcd:- \\u0b95\\u0bb5\\u0bbf\\u0b9e\\u0bb0\\u0bcd \\u0bb5\\u0bbe\\u0bb2\\u0bbf;\\n\\u0baa\\u0bbe\\u0b9f\\u0bbf\\u0baf\\u0bb5\\u0bb0\\u0bcd:- \\u0b87\\u0bb3\\u0bc8\\u0baf\\u0bb0\\u0bbe\\u0b9c\\u0bbe, \\u0b9a\\u0bc1\\u0bb0\\u0bc7\\u0ba8\\u0bcd\\u0ba4\\u0bb0\\u0bcd, \\u0ba4\\u0bc0\\u0baa\\u0ba9\\u0bcd \\u0b9a\\u0b95\\u0bcd\\u0bb0\\u0bb5\\u0bb0\\u0bcd\\u0ba4\\u0bcd\\u0ba4\\u0bbf.\\n\\n\\n\\n\\u0b9a\\u0bbf\\u0bb5 \\u0bb7\\u0b95\\u0bcd\\u0ba4\\u0bbf\\u0baf \\u0ba4\\u0bc2\\u0baf\\u0ba4\\u0bc1 \\u0baa\\u0bb5\\u0ba4\\u0bbf ..\\n\\u0b9a\\u0ba4\\u0bcd\\u0ba4\\u0bbf\\u0baf\\u0baa\\u0bcd \\u0baa\\u0bbf\\u0bb0\\u0baa\\u0bbf\\u0bb5\\u0bbf\\u0ba4\\u0bc1\\u0bae\\u0bcd ..\\n\\u0ba8\\u0b9a\\u0bc7 \\u0ba4\\u0bc7\\u0bb5\\u0bae\\u0bcd \\u0ba4\\u0bc7\\u0bb5\\u0bcb\\u0ba9\\u0b95\\u0bb3 \\u0b95\\u0bc1\\u0b9a\\u0bb2\\u0bb9\\u0b9a\\u0bcd\\u0baa\\u0ba8\\u0bcd\\u0ba4\\u0bbf\\u0ba4\\u0bc1\\u0bae\\u0baa\\u0bc0 ..\\n\\u0b85\\u0b95\\u0bb8\\u0bcd\\u0ba4\\u0bcd\\u0bae\\u0bbe\\u0bae\\u0bcd ..\\u0b86\\u0bb0\\u0bbe\\u0ba4\\u0bcd\\u0baf\\u0bbe\\u0bae\\u0bcd ..\\n\\u0bb9\\u0bb0\\u0bbf\\u0bb9\\u0bb0 \\u0bb5\\u0bbf\\u0bb0\\u0bbf\\u0b9e\\u0bcd\\u0b9a\\u0bbe\\u0ba4\\u0bbf \\u0baa\\u0bbf\\u0bb1\\u0bb5\\u0bbf .\\n\\u0baa\\u0bcd\\u0bb0\\u0ba9\\u0bae\\u0bcd\\u0ba4\\u0bc1\\u0bae\\u0bcd \\u0bb8\\u0bcd\\u0ba4\\u0bcb\\u0ba4\\u0bc1\\u0bae\\u0bcd \\u0bae ..\\n\\u0b95\\u0ba4\\u0bae\\u0bb9\\u0bbf\\u0bb0\\u0bcd\\u0ba4\\u0bcd\\u0ba4 \\u0baa\\u0bc1\\u0ba3\\u0bcd\\u0baf\\u0bbe\\u0b95 \\u0baa\\u0bbf\\u0bb0\\u0baa\\u0bbe\\u0bb5\\u0ba4\\u0bbf ...\\u0b86 \\n\\n\\u0b9c\\u0ba9\\u0ba9\\u0bbf \\u0b9c\\u0ba9\\u0ba9\\u0bbf \\u0b9c\\u0b95\\u0bae\\u0bcd \\u0ba8\\u0bc0 \\u0b85\\u0b95\\u0bae\\u0bcd \\u0ba8\\u0bc0\\n\\u0b9c\\u0b95\\u0ba4\\u0bcd \\u0b95\\u0bbe\\u0bb0\\u0ba3\\u0bbf \\u0ba8\\u0bc0 \\u0baa\\u0bb0\\u0bbf\\u0baa\\u0bc2\\u0bb0\\u0ba3\\u0bbf \\u0ba8\\u0bc0\\n\\u0b9c\\u0b95\\u0ba4\\u0bcd \\u0b95\\u0bbe\\u0bb0\\u0ba3\\u0bbf \\u0ba8\\u0bc0 \\u0baa\\u0bb0\\u0bbf\\u0baa\\u0bc2\\u0bb0\\u0ba3\\u0bbf \\u0ba8\\u0bc0\\n\\n\\u0b92\\u0bb0\\u0bc1 \\u0bae\\u0bbe\\u0ba9\\u0bcd \\u0bae\\u0bb4\\u0bc1\\u0bb5\\u0bc1\\u0bae\\u0bcd \\u0b95\\u0bc2\\u0ba9\\u0bcd \\u0baa\\u0bbf\\u0bb1\\u0bc8\\u0baf\\u0bc1\\u0bae\\u0bcd \\n\\u0b9a\\u0b9f\\u0bc8 \\u0bb5\\u0bbe\\u0bb0\\u0bcd \\u0b95\\u0bc1\\u0bb4\\u0bb2\\u0bc1\\u0bae\\u0bcd \\u0baa\\u0bbf\\u0b9f\\u0bc8 \\u0bb5\\u0bbe\\u0b95\\u0ba9\\u0bae\\u0bc1\\u0bae\\u0bcd\\n\\u0b95\\u0bca\\u0ba3\\u0bcd\\u0b9f \\u0ba8\\u0bbe\\u0baf\\u0b95\\u0ba9\\u0bbf\\u0ba9\\u0bcd \\u0b95\\u0bc1\\u0bb3\\u0bbf\\u0bb0\\u0bcd \\u0ba4\\u0bc7\\u0b95\\u0ba4\\u0bcd\\u0ba4\\u0bbf\\u0bb2\\u0bc7\\n\\u0ba8\\u0bbf\\u0ba9\\u0bcd\\u0bb1 \\u0ba8\\u0bbe\\u0baf\\u0b95\\u0bbf\\u0baf\\u0bc7 \\u0b87\\u0b9f \\u0baa\\u0bbe\\u0b95\\u0ba4\\u0bcd\\u0ba4\\u0bbf\\u0bb2\\u0bc7 \\n\\u0b9c\\u0b95\\u0ba9\\u0bcd \\u0bae\\u0bcb\\u0bb9\\u0bbf\\u0ba9\\u0bbf \\u0ba8\\u0bc0 \\u0b9a\\u0bbf\\u0bae\\u0bcd\\u0bae \\u0bb5\\u0bbe\\u0bb9\\u0bbf\\u0ba9\\u0bbf \\u0ba8\\u0bc0\\n\\u0b9c\\u0ba9\\u0ba9\\u0bbf ....\\n\\n\\u0b9a\\u0ba4\\u0bc1\\u0bb0\\u0bcd \\u0bb5\\u0bc7\\u0ba4\\u0b99\\u0bcd\\u0b95\\u0bb3\\u0bc1\\u0bae\\u0bcd \\u0baa\\u0b9e\\u0bcd\\u0b9a \\u0baa\\u0bc2\\u0ba4\\u0b99\\u0bcd\\u0b95\\u0bb3\\u0bc1\\u0bae\\u0bcd\\n\\u0bb7\\u0ba9\\u0bcd \\u0bae\\u0bbe\\u0bb0\\u0bcd\\u0b95\\u0bcd\\u0b95\\u0b99\\u0bcd\\u0b95\\u0bb3\\u0bc1\\u0bae\\u0bcd \\u0b9a\\u0baa\\u0bcd\\u0ba4 \\u0ba4\\u0bc0\\u0bb0\\u0bcd\\u0ba4\\u0bcd\\u0ba4\\u0b99\\u0bcd\\u0b95\\u0bb3\\u0bc1\\u0bae\\u0bcd\\n\\u0b85\\u0bb7\\u0bcd\\u0b9f \\u0baf\\u0bcb\\u0b95\\u0b99\\u0bcd\\u0b95\\u0bb3\\u0bc1\\u0bae\\u0bcd \\u0ba8\\u0bb5 \\u0baf\\u0bbe\\u0b95\\u0b99\\u0bcd\\u0b95\\u0bb3\\u0bc1\\u0bae\\u0bcd\\n\\u0ba4\\u0bca\\u0bb4\\u0bc1\\u0bae\\u0bcd \\u0baa\\u0bc2\\u0b99\\u0bcd\\u0b95\\u0bb4\\u0bb2\\u0bc7  \\u0bae\\u0bb2\\u0bc8 \\u0bae\\u0bbe\\u0bae\\u0b95\\u0bb3\\u0bc7\\n\\u0b85\\u0bb2\\u0bc8 \\u0bae\\u0bbe\\u0bae\\u0b95\\u0bb3\\u0bcd \\u0ba8\\u0bc0 \\u0b95\\u0bb2\\u0bc8 \\u0bae\\u0bbe\\u0bae\\u0b95\\u0bb3\\u0bcd \\u0ba8\\u0bc0.\\n\\n\\u0b9c\\u0ba9\\u0ba9\\u0bbf ....\\n\\n\\u0bb8\\u0bcd\\u0bb5\\u0bb0\\u0bcd\\u0ba3 \\u0bb0\\u0bc7\\u0b95\\u0bc8\\u0baf\\u0bc1\\u0b9f\\u0ba9\\u0bcd \\u0bb8\\u0bcd\\u0bb5\\u0baf\\u0bae\\u0bbe\\u0b95\\u0bbf \\u0bb5\\u0ba8\\u0bcd\\u0ba4\\n\\u0bb2\\u0bbf\\u0b99\\u0bcd\\u0b95 \\u0bb0\\u0bc2\\u0baa\\u0bbf\\u0ba3\\u0bbf\\u0baf\\u0bc7 \\u0bae\\u0bc2\\u0b95\\u0bbe\\u0bae\\u0bcd\\u0baa\\u0bbf\\u0b95\\u0bc8\\u0baf\\u0bc7 \\n\\u0baa\\u0bb2 \\u0bb8\\u0bcd\\u0ba4\\u0bcb\\u0ba4\\u0bcd\\u0ba4\\u0bbf\\u0bb0\\u0b99\\u0bcd\\u0b95\\u0bb3\\u0bcd \\u0ba4\\u0bb0\\u0bcd\\u0bae \\u0b9a\\u0bbe\\u0ba4\\u0bcd\\u0ba4\\u0bbf\\u0bb0\\u0b99\\u0bcd\\u0b95\\u0bb3\\u0bcd\\n\\u0baa\\u0ba3\\u0bbf\\u0ba8\\u0bcd\\u0ba4\\u0bc7 \\u0ba4\\u0bc1\\u0bb5\\u0bb4\\u0bc1\\u0bae\\u0bcd \\u0bae\\u0ba3\\u0bbf \\u0ba8\\u0bc7\\u0ba4\\u0bcd\\u0ba4\\u0bbf\\u0bb0\\u0b99\\u0bcd\\u0b95\\u0bb3\\u0bcd\\n\\u0b9a\\u0b95\\u0bcd\\u0ba4\\u0bbf \\u0baa\\u0bc0\\u0b9f\\u0bae\\u0bc1\\u0bae\\u0bcd \\u0ba8\\u0bc0 \\u0b9a\\u0bb0\\u0bcd\\u0bb5 \\u0bae\\u0bcb\\u0b9f\\u0bcd\\u0b9a\\u0bae\\u0bc1\\u0bae\\u0bcd \\u0ba8\\u0bc0.\\n\\n\\u0b9c\\u0ba9\\u0ba9\\u0bbf \\u0b9c\\u0ba9\\u0ba9\\u0bbf \\u0b9c\\u0b95\\u0bae\\u0bcd \\u0ba8\\u0bc0 \\u0b85\\u0b95\\u0bae\\u0bcd \\u0ba8\\u0bc0\\n\\u0b9c\\u0b95\\u0ba4\\u0bcd \\u0b95\\u0bbe\\u0bb0\\u0ba3\\u0bbf \\u0ba8\\u0bc0 \\u0baa\\u0bb0\\u0bbf\\u0baa\\u0bc2\\u0bb0\\u0ba3\\u0bbf \\u0ba8\\u0bc0\\n\\u0b9c\\u0b95\\u0ba4\\u0bcd \\u0b95\\u0bbe\\u0bb0\\u0ba3\\u0bbf \\u0ba8\\u0bc0 \\u0baa\\u0bb0\\u0bbf\\u0baa\\u0bc2\\u0bb0\\u0ba3\\u0bbf \\u0ba8\\u0bc0\",\n",
      "                \"playlistId\": \"PLTh_6CFyP6_yIYJpqaQSDiNv5V92RbJAa\",\n",
      "                \"position\": 2,\n",
      "                \"publishedAt\": \"2018-11-30T07:07:42.000Z\",\n",
      "                \"resourceId\": {\n",
      "                    \"kind\": \"youtube#video\",\n",
      "                    \"videoId\": \"NJJIt8jh1Uc\"\n",
      "                },\n",
      "                \"thumbnails\": {\n",
      "                    \"default\": {\n",
      "                        \"height\": 90,\n",
      "                        \"url\": \"https://i.ytimg.com/vi/NJJIt8jh1Uc/default.jpg\",\n",
      "                        \"width\": 120\n",
      "                    },\n",
      "                    \"high\": {\n",
      "                        \"height\": 360,\n",
      "                        \"url\": \"https://i.ytimg.com/vi/NJJIt8jh1Uc/hqdefault.jpg\",\n",
      "                        \"width\": 480\n",
      "                    },\n",
      "                    \"medium\": {\n",
      "                        \"height\": 180,\n",
      "                        \"url\": \"https://i.ytimg.com/vi/NJJIt8jh1Uc/mqdefault.jpg\",\n",
      "                        \"width\": 320\n",
      "                    }\n",
      "                },\n",
      "                \"title\": \"Janani janani\"\n",
      "            }\n",
      "        },\n",
      "        {\n",
      "            \"contentDetails\": {\n",
      "                \"videoId\": \"nyBZL1TxnPs\",\n",
      "                \"videoPublishedAt\": \"2011-11-06T12:15:20.000Z\"\n",
      "            },\n",
      "            \"etag\": \"\\\"XI7nbFXulYBIpL0ayR_gDh3eu1k/GKVuSOVLYjASrHglsaTQRWicnUI\\\"\",\n",
      "            \"id\": \"UExUaF82Q0Z5UDZfeUlZSnBxYVFTRGlOdjVWOTJSYkpBYS41MjE1MkI0OTQ2QzJGNzNG\",\n",
      "            \"kind\": \"youtube#playlistItem\",\n",
      "            \"snippet\": {\n",
      "                \"channelId\": \"UC5fyyQd4s2lTcMRzH-NjnxA\",\n",
      "                \"channelTitle\": \"Vasanthakumar Thirugnanam\",\n",
      "                \"description\": \"To Subscribe : http://goo.gl/ET52WR\\nfacebook: https://facebook.com/abhineeshcom\\n\\nHARIVARASANAM Original Sound Track from Sabarimala Temple-K.J Yesudas.\\n\\n\\u0d39\\u0d30\\u0d3f\\u0d35\\u0d30\\u0d3e\\u0d38\\u0d28\\u0d02 \\u0d35\\u0d3f\\u0d36\\u0d4d\\u0d35\\u0d2e\\u0d4b\\u0d39\\u0d28\\u0d02\\n\\u0d39\\u0d30\\u0d3f\\u0d26\\u0d27\\u0d3f\\u0d36\\u0d4d\\u0d35\\u0d30\\u0d02 \\u0d06\\u0d30\\u0d3e\\u0d26\\u0d4d\\u0d27\\u0d4d\\u0d2f\\u0d2a\\u0d3e\\u0d26\\u0d41\\u0d15\\u0d02\\n\\u0d05\\u0d30\\u0d3f\\u0d35\\u0d3f\\u0d2e\\u0d7c\\u0d26\\u0d4d\\u0d26\\u0d28\\u0d02 \\u0d28\\u0d3f\\u0d24\\u0d4d\\u0d2f\\u0d28\\u0d7c\\u0d24\\u0d4d\\u0d24\\u0d28\\u0d02\\n\\u0d39\\u0d30\\u0d3f\\u0d39\\u0d30\\u0d3e\\u0d24\\u0d4d\\u0d2e\\u0d1c\\u0d02 \\u0d26\\u0d47\\u0d35\\u0d2e\\u0d3e\\u0d36\\u0d4d\\u0d30\\u0d2f\\u0d47\\n\\u0d36\\u0d30\\u0d23\\u0d2e\\u0d2f\\u0d4d\\u0d2f\\u0d2a\\u0d4d\\u0d2a\\u0d3e \\u0d38\\u0d4d\\u0d35\\u0d3e\\u0d2e\\u0d3f \\u0d36\\u0d30\\u0d23\\u0d2e\\u0d2f\\u0d4d\\u0d2f\\u0d2a\\u0d4d\\u0d2a\\u0d3e\\n\\u0d36\\u0d30\\u0d23\\u0d2e\\u0d2f\\u0d4d\\u0d2f\\u0d2a\\u0d4d\\u0d2a\\u0d3e \\u0d38\\u0d4d\\u0d35\\u0d3e\\u0d2e\\u0d3f \\u0d36\\u0d30\\u0d23\\u0d2e\\u0d2f\\u0d4d\\u0d2f\\u0d2a\\u0d4d\\u0d2a\\u0d3e\\n\\n\\u0d36\\u0d30\\u0d23\\u0d15\\u0d40\\u0d7c\\u0d24\\u0d4d\\u0d24\\u0d28\\u0d02 \\u0d2d\\u0d15\\u0d4d\\u0d24\\u0d4d\\u0d24\\u0d2e\\u0d3e\\u0d28\\u0d38\\u0d02 \\n\\u0d2d\\u0d30\\u0d23\\u0d32\\u0d4b\\u0d32\\u0d41\\u0d2a\\u0d02 \\u0d28\\u0d7c\\u0d24\\u0d4d\\u0d24\\u0d28\\u0d3e\\u0d32\\u0d38\\u0d02\\n\\u0d05\\u0d30\\u0d41\\u0d23\\u0d2d\\u0d3e\\u0d38\\u0d41\\u0d30\\u0d02 \\u0d2d\\u0d42\\u0d24\\u0d28\\u0d3e\\u0d2f\\u0d15\\u0d02\\n\\u0d39\\u0d30\\u0d3f\\u0d39\\u0d30\\u0d3e\\u0d24\\u0d4d\\u0d2e\\u0d1c\\u0d02 \\u0d26\\u0d47\\u0d35\\u0d2e\\u0d3e\\u0d36\\u0d4d\\u0d30\\u0d2f\\u0d47\\n\\u0d36\\u0d30\\u0d23\\u0d2e\\u0d2f\\u0d4d\\u0d2f\\u0d2a\\u0d4d\\u0d2a\\u0d3e \\u0d38\\u0d4d\\u0d35\\u0d3e\\u0d2e\\u0d3f \\u0d36\\u0d30\\u0d23\\u0d2e\\u0d2f\\u0d4d\\u0d2f\\u0d2a\\u0d4d\\u0d2a\\u0d3e\\n\\u0d36\\u0d30\\u0d23\\u0d2e\\u0d2f\\u0d4d\\u0d2f\\u0d2a\\u0d4d\\u0d2a\\u0d3e \\u0d38\\u0d4d\\u0d35\\u0d3e\\u0d2e\\u0d3f \\u0d36\\u0d30\\u0d23\\u0d2e\\u0d2f\\u0d4d\\u0d2f\\u0d2a\\u0d4d\\u0d2a\\u0d3e\\n\\n\\u0d2a\\u0d4d\\u0d30\\u0d23\\u0d2f \\u0d38\\u0d24\\u0d4d\\u0d2f\\u0d15\\u0d02 \\u0d2a\\u0d4d\\u0d30\\u0d3e\\u0d23 \\u0d28\\u0d3e\\u0d2f\\u0d15\\u0d02\\n\\u0d2a\\u0d4d\\u0d30\\u0d23\\u0d24 \\u0d15\\u0d32\\u0d4d\\u0d2a\\u0d15\\u0d02 \\u0d38\\u0d41\\u0d2a\\u0d4d\\u0d30\\u0d2d\\u0d3e\\u0d1e\\u0d4d\\u0d1a\\u0d3f\\u0d24\\u0d02\\n\\u0d2a\\u0d4d\\u0d30\\u0d23\\u0d35 \\u0d2e\\u0d28\\u0d4d\\u0d26\\u0d3f\\u0d30\\u0d02 \\u0d15\\u0d40\\u0d30\\u0d4d\\u200d\\u0d24\\u0d4d\\u0d24\\u0d28\\u0d2a\\u0d4d\\u0d30\\u0d3f\\u0d2f\\u0d02\\n\\u0d39\\u0d30\\u0d3f\\u0d39\\u0d30\\u0d3e\\u0d24\\u0d4d\\u0d2e\\u0d1c\\u0d02 \\u0d26\\u0d47\\u0d35\\u0d2e\\u0d3e\\u0d36\\u0d4d\\u0d30\\u0d2f\\u0d47\\n\\u0d36\\u0d30\\u0d23\\u0d2e\\u0d2f\\u0d4d\\u0d2f\\u0d2a\\u0d4d\\u0d2a\\u0d3e \\u0d38\\u0d4d\\u0d35\\u0d3e\\u0d2e\\u0d3f \\u0d36\\u0d30\\u0d23\\u0d2e\\u0d2f\\u0d4d\\u0d2f\\u0d2a\\u0d4d\\u0d2a\\u0d3e\\n\\u0d36\\u0d30\\u0d23\\u0d2e\\u0d2f\\u0d4d\\u0d2f\\u0d2a\\u0d4d\\u0d2a\\u0d3e \\u0d38\\u0d4d\\u0d35\\u0d3e\\u0d2e\\u0d3f \\u0d36\\u0d30\\u0d23\\u0d2e\\u0d2f\\u0d4d\\u0d2f\\u0d2a\\u0d4d\\u0d2a\\u0d3e\\n\\n\\u0d24\\u0d41\\u0d30\\u0d17 \\u0d35\\u0d3e\\u0d39\\u0d28\\u0d02 \\u0d38\\u0d41\\u0d28\\u0d4d\\u0d26\\u0d30\\u0d3e\\u0d28\\u0d28\\u0d02\\n\\u0d35\\u0d30\\u0d17\\u0d27\\u0d3e\\u0d2f\\u0d41\\u0d27\\u0d02 \\u0d35\\u0d47\\u0d26 \\u0d35\\u0d30\\u0d4d\\u200d\\u0d23\\u0d3f\\u0d24\\u0d02\\n\\u0d17\\u0d41\\u0d30\\u0d41 \\u0d15\\u0d43\\u0d2a\\u0d3e\\u0d15\\u0d30\\u0d02 \\u0d15\\u0d40\\u0d30\\u0d4d\\u200d\\u0d24\\u0d4d\\u0d24\\u0d28\\u0d2a\\u0d4d\\u0d30\\u0d3f\\u0d2f\\u0d02\\n\\u0d39\\u0d30\\u0d3f\\u0d39\\u0d30\\u0d3e\\u0d24\\u0d4d\\u0d2e\\u0d1c\\u0d02 \\u0d26\\u0d47\\u0d35\\u0d2e\\u0d3e\\u0d36\\u0d4d\\u0d30\\u0d2f\\u0d47\\n\\u0d36\\u0d30\\u0d23\\u0d2e\\u0d2f\\u0d4d\\u0d2f\\u0d2a\\u0d4d\\u0d2a\\u0d3e \\u0d38\\u0d4d\\u0d35\\u0d3e\\u0d2e\\u0d3f \\u0d36\\u0d30\\u0d23\\u0d2e\\u0d2f\\u0d4d\\u0d2f\\u0d2a\\u0d4d\\u0d2a\\u0d3e\\n\\u0d36\\u0d30\\u0d23\\u0d2e\\u0d2f\\u0d4d\\u0d2f\\u0d2a\\u0d4d\\u0d2a\\u0d3e \\u0d38\\u0d4d\\u0d35\\u0d3e\\u0d2e\\u0d3f \\u0d36\\u0d30\\u0d23\\u0d2e\\u0d2f\\u0d4d\\u0d2f\\u0d2a\\u0d4d\\u0d2a\\u0d3e \\n\\n\\u0d24\\u0d4d\\u0d30\\u0d3f\\u0d2d\\u0d41\\u0d35\\u0d28\\u0d3e\\u0d30\\u0d4d\\u200d\\u0d1a\\u0d4d\\u0d1a\\u0d3f\\u0d24\\u0d02 \\u0d26\\u0d47\\u0d35\\u0d24\\u0d3e\\u0d24\\u0d4d\\u0d2e\\u0d15\\u0d02\\n\\u0d24\\u0d4d\\u0d30\\u0d3f\\u0d28\\u0d2f\\u0d28\\u0d02 \\u0d2a\\u0d4d\\u0d30\\u0d2d\\u0d41\\u0d02 \\u0d26\\u0d3f\\u0d35\\u0d4d\\u0d2f \\u0d26\\u0d47\\u0d36\\u0d3f\\u0d15\\u0d02\\n\\u0d24\\u0d4d\\u0d30\\u0d3f\\u0d26\\u0d36 \\u0d2a\\u0d42\\u0d1c\\u0d3f\\u0d24\\u0d02 \\u0d1a\\u0d3f\\u0d28\\u0d4d\\u0d24\\u0d3f\\u0d24 \\u0d2a\\u0d4d\\u0d30\\u0d26\\u0d02\\n\\u0d39\\u0d30\\u0d3f\\u0d39\\u0d30\\u0d3e\\u0d24\\u0d4d\\u0d2e\\u0d1c\\u0d02 \\u0d26\\u0d47\\u0d35\\u0d2e\\u0d3e\\u0d36\\u0d4d\\u0d30\\u0d2f\\u0d47\\n\\u0d36\\u0d30\\u0d23\\u0d2e\\u0d2f\\u0d4d\\u0d2f\\u0d2a\\u0d4d\\u0d2a\\u0d3e \\u0d38\\u0d4d\\u0d35\\u0d3e\\u0d2e\\u0d3f \\u0d36\\u0d30\\u0d23\\u0d2e\\u0d2f\\u0d4d\\u0d2f\\u0d2a\\u0d4d\\u0d2a\\u0d3e\\n\\u0d36\\u0d30\\u0d23\\u0d2e\\u0d2f\\u0d4d\\u0d2f\\u0d2a\\u0d4d\\u0d2a\\u0d3e \\u0d38\\u0d4d\\u0d35\\u0d3e\\u0d2e\\u0d3f \\u0d36\\u0d30\\u0d23\\u0d2e\\u0d2f\\u0d4d\\u0d2f\\u0d2a\\u0d4d\\u0d2a\\u0d3e\\n\\n\\u0d2d\\u0d35 \\u0d2d\\u0d2f\\u0d3e\\u0d2a\\u0d39\\u0d02 \\u0d2d\\u0d3e\\u0d35\\u0d41\\u0d15\\u0d3e\\u0d35\\u0d15\\u0d02\\n\\u0d2d\\u0d41\\u0d35\\u0d28 \\u0d2e\\u0d4b\\u0d39\\u0d28\\u0d02 \\u0d2d\\u0d42\\u0d24\\u0d3f \\u0d2d\\u0d42\\u0d37\\u0d23\\u0d02\\n\\u0d27\\u0d35\\u0d33 \\u0d35\\u0d3e\\u0d39\\u0d28\\u0d02 \\u0d26\\u0d3f\\u0d35\\u0d4d\\u0d2f \\u0d35\\u0d3e\\u0d30\\u0d23\\u0d02\\n\\u0d39\\u0d30\\u0d3f\\u0d39\\u0d30\\u0d3e\\u0d24\\u0d4d\\u0d2e\\u0d1c\\u0d02 \\u0d26\\u0d47\\u0d35\\u0d2e\\u0d3e\\u0d36\\u0d4d\\u0d30\\u0d2f\\u0d47\\n\\u0d36\\u0d30\\u0d23\\u0d2e\\u0d2f\\u0d4d\\u0d2f\\u0d2a\\u0d4d\\u0d2a\\u0d3e \\u0d38\\u0d4d\\u0d35\\u0d3e\\u0d2e\\u0d3f \\u0d36\\u0d30\\u0d23\\u0d2e\\u0d2f\\u0d4d\\u0d2f\\u0d2a\\u0d4d\\u0d2a\\u0d3e\\n\\u0d36\\u0d30\\u0d23\\u0d2e\\u0d2f\\u0d4d\\u0d2f\\u0d2a\\u0d4d\\u0d2a\\u0d3e \\u0d38\\u0d4d\\u0d35\\u0d3e\\u0d2e\\u0d3f \\u0d36\\u0d30\\u0d23\\u0d2e\\u0d2f\\u0d4d\\u0d2f\\u0d2a\\u0d4d\\u0d2a\\u0d3e\\n\\n\\u0d15\\u0d33\\u0d2e\\u0d43\\u0d26\\u0d41\\u0d38\\u0d4d\\u0d2e\\u0d3f\\u0d24\\u0d02 \\u0d38\\u0d41\\u0d28\\u0d4d\\u0d26\\u0d30\\u0d3e\\u0d28\\u0d28\\u0d02\\n\\u0d15\\u0d33\\u0d2d\\u0d15\\u0d4b\\u0d2e\\u0d33\\u0d02 \\u0d17\\u0d3e\\u0d24\\u0d4d\\u0d30\\u0d2e\\u0d4b\\u0d39\\u0d28\\u0d02\\n\\u0d15\\u0d33\\u0d2d\\u0d15\\u0d47\\u0d38\\u0d30\\u0d3f \\u0d35\\u0d3e\\u0d1c\\u0d3f \\u0d35\\u0d3e\\u0d39\\u0d28\\u0d02\\n\\u0d39\\u0d30\\u0d3f\\u0d39\\u0d30\\u0d3e\\u0d24\\u0d4d\\u0d2e\\u0d1c\\u0d02 \\u0d26\\u0d47\\u0d35\\u0d2e\\u0d3e\\u0d36\\u0d4d\\u0d30\\u0d2f\\u0d47\\n\\u0d36\\u0d30\\u0d23\\u0d2e\\u0d2f\\u0d4d\\u0d2f\\u0d2a\\u0d4d\\u0d2a\\u0d3e \\u0d38\\u0d4d\\u0d35\\u0d3e\\u0d2e\\u0d3f \\u0d36\\u0d30\\u0d23\\u0d2e\\u0d2f\\u0d4d\\u0d2f\\u0d2a\\u0d4d\\u0d2a\\u0d3e\\n\\u0d36\\u0d30\\u0d23\\u0d2e\\u0d2f\\u0d4d\\u0d2f\\u0d2a\\u0d4d\\u0d2a\\u0d3e \\u0d38\\u0d4d\\u0d35\\u0d3e\\u0d2e\\u0d3f \\u0d36\\u0d30\\u0d23\\u0d2e\\u0d2f\\u0d4d\\u0d2f\\u0d2a\\u0d4d\\u0d2a\\u0d3e\\n\\n\\u0d36\\u0d4d\\u0d30\\u0d3f\\u0d24\\u0d1c\\u0d28\\u0d2a\\u0d4d\\u0d30\\u0d3f\\u0d2f\\u0d02 \\u0d1a\\u0d3f\\u0d28\\u0d4d\\u0d24\\u0d3f\\u0d24\\u0d2a\\u0d4d\\u0d30\\u0d26\\u0d02\\n\\u0d36\\u0d4d\\u0d30\\u0d41\\u0d24\\u0d3f\\u0d35\\u0d3f\\u0d2d\\u0d42\\u0d37\\u0d23\\u0d02 \\u0d38\\u0d3e\\u0d27\\u0d41\\u0d1c\\u0d40\\u0d35\\u0d28\\u0d02\\n\\u0d36\\u0d4d\\u0d30\\u0d41\\u0d24\\u0d3f\\u0d2e\\u0d28\\u0d4b\\u0d39\\u0d30\\u0d02 \\u0d17\\u0d40\\u0d24\\u0d32\\u0d3e\\u0d32\\u0d38\\u0d02\\n\\u0d39\\u0d30\\u0d3f\\u0d39\\u0d30\\u0d3e\\u0d24\\u0d4d\\u0d2e\\u0d1c\\u0d02 \\u0d26\\u0d47\\u0d35\\u0d2e\\u0d3e\\u0d36\\u0d4d\\u0d30\\u0d2f\\u0d47\\n\\u0d36\\u0d30\\u0d23\\u0d2e\\u0d2f\\u0d4d\\u0d2f\\u0d2a\\u0d4d\\u0d2a\\u0d3e \\u0d38\\u0d4d\\u0d35\\u0d3e\\u0d2e\\u0d3f \\u0d36\\u0d30\\u0d23\\u0d2e\\u0d2f\\u0d4d\\u0d2f\\u0d2a\\u0d4d\\u0d2a\\u0d3e\\n\\u0d36\\u0d30\\u0d23\\u0d2e\\u0d2f\\u0d4d\\u0d2f\\u0d2a\\u0d4d\\u0d2a\\u0d3e \\u0d38\\u0d4d\\u0d35\\u0d3e\\u0d2e\\u0d3f \\u0d36\\u0d30\\u0d23\\u0d2e\\u0d2f\\u0d4d\\u0d2f\\u0d2a\\u0d4d\\u0d2a\\u0d3e\\n\\u0d36\\u0d30\\u0d23\\u0d2e\\u0d2f\\u0d4d\\u0d2f\\u0d2a\\u0d4d\\u0d2a\\u0d3e \\u0d38\\u0d4d\\u0d35\\u0d3e\\u0d2e\\u0d3f \\u0d36\\u0d30\\u0d23\\u0d2e\\u0d2f\\u0d4d\\u0d2f\\u0d2a\\u0d4d\\u0d2a\\u0d3e\\n\\u0d36\\u0d30\\u0d23\\u0d2e\\u0d2f\\u0d4d\\u0d2f\\u0d2a\\u0d4d\\u0d2a\\u0d3e \\u0d38\\u0d4d\\u0d35\\u0d3e\\u0d2e\\u0d3f \\u0d36\\u0d30\\u0d23\\u0d2e\\u0d2f\\u0d4d\\u0d2f\\u0d2a\\u0d4d\\u0d2a\\u0d3e \\n\\u0d38\\u0d4d\\u0d35\\u0d3e\\u0d2e\\u0d3f \\u0d36\\u0d30\\u0d23\\u0d2e\\u0d2f\\u0d4d\\u0d2f\\u0d2a\\u0d4d\\u0d2a\\u0d3e \\n\\u0d38\\u0d4d\\u0d35\\u0d3e\\u0d2e\\u0d3f \\u0d36\\u0d30\\u0d23\\u0d2e\\u0d2f\\u0d4d\\u0d2f\\u0d2a\\u0d4d\\u0d2a\\u0d3e \\n\\u0d38\\u0d4d\\u0d35\\u0d3e\\u0d2e\\u0d3f \\u0d36\\u0d30\\u0d23\\u0d2e\\u0d2f\\u0d4d\\u0d2f\\u0d2a\\u0d4d\\u0d2a\\u0d3e \\n\\n\\u0d2a\\u0d1e\\u0d4d\\u0d1a\\u0d3e\\u0d26\\u0d40\\u0d36\\u0d4d\\u0d35\\u0d30\\u0d3f \\u0d2e\\u0d02\\u0d17\\u0d33\\u0d02 \\u0d39\\u0d30\\u0d3f\\u0d39\\u0d30 \\u0d2a\\u0d4d\\u0d30\\u0d47\\u0d2e\\u0d3e\\u0d15\\u0d4d\\u0d30\\u0d3f\\u0d24\\u0d46 \\u0d2e\\u0d02\\u0d17\\u0d33\\u0d02\\n\\u0d2a\\u0d3f\\u0d28\\u0d4d\\u0d1a\\u0d3e\\u0d32\\u0d02\\u0d15\\u0d43\\u0d24 \\u0d2e\\u0d02\\u0d17\\u0d33\\u0d02 \\u0d2a\\u0d4d\\u0d30\\u0d23\\u0d2e\\u0d24\\u0d3e\\u0d02 \\u0d1a\\u0d3f\\u0d28\\u0d4d\\u0d24\\u0d3e \\u0d2e\\u0d23\\u0d47 \\u0d2e\\u0d02\\u0d17\\u0d33\\u0d02\\n\\u0d2a\\u0d1e\\u0d4d\\u0d1a\\u0d3e\\u0d38\\u0d4d\\u0d2f \\u0d26\\u0d4d\\u0d35\\u0d1c \\u0d2e\\u0d02\\u0d17\\u0d33\\u0d02 \\u0d24\\u0d4d\\u0d30\\u0d3f\\u0d1c\\u0d17\\u0d24\\u0d3e\\u0d2e\\u0d3e\\u0d26\\u0d4d\\u0d2f \\u0d2a\\u0d4d\\u0d30\\u0d2d\\u0d4b \\u0d2e\\u0d02\\u0d17\\u0d33\\u0d02\\n\\u0d2a\\u0d1e\\u0d4d\\u0d1a\\u0d3e\\u0d38\\u0d4d\\u0d24\\u0d4d\\u0d30\\u0d4b\\u0d2a\\u0d2e \\u0d2e\\u0d02\\u0d17\\u0d33\\u0d02 \\u0d36\\u0d4d\\u0d30\\u0d41\\u0d24\\u0d3f \\u0d36\\u0d3f\\u0d30\\u0d4b\\u0d32\\u0d19\\u0d4d\\u0d15\\u0d3e\\u0d30 \\u0d38\\u0d28\\u0d4d\\u200d \\u0d2e\\u0d02\\u0d17\\u0d33\\u0d02\\n\\u0d13\\u0d02 \\u0d13\\u0d02 \\u0d13\\u0d02\",\n",
      "                \"playlistId\": \"PLTh_6CFyP6_yIYJpqaQSDiNv5V92RbJAa\",\n",
      "                \"position\": 3,\n",
      "                \"publishedAt\": \"2018-11-30T07:08:01.000Z\",\n",
      "                \"resourceId\": {\n",
      "                    \"kind\": \"youtube#video\",\n",
      "                    \"videoId\": \"nyBZL1TxnPs\"\n",
      "                },\n",
      "                \"thumbnails\": {\n",
      "                    \"default\": {\n",
      "                        \"height\": 90,\n",
      "                        \"url\": \"https://i.ytimg.com/vi/nyBZL1TxnPs/default.jpg\",\n",
      "                        \"width\": 120\n",
      "                    },\n",
      "                    \"high\": {\n",
      "                        \"height\": 360,\n",
      "                        \"url\": \"https://i.ytimg.com/vi/nyBZL1TxnPs/hqdefault.jpg\",\n",
      "                        \"width\": 480\n",
      "                    },\n",
      "                    \"medium\": {\n",
      "                        \"height\": 180,\n",
      "                        \"url\": \"https://i.ytimg.com/vi/nyBZL1TxnPs/mqdefault.jpg\",\n",
      "                        \"width\": 320\n",
      "                    },\n",
      "                    \"standard\": {\n",
      "                        \"height\": 480,\n",
      "                        \"url\": \"https://i.ytimg.com/vi/nyBZL1TxnPs/sddefault.jpg\",\n",
      "                        \"width\": 640\n",
      "                    }\n",
      "                },\n",
      "                \"title\": \"Harivarasanam-Original Sound Track from the temple-by K.J.Yesudas\"\n",
      "            }\n",
      "        }\n",
      "    ],\n",
      "    \"kind\": \"youtube#playlistItemListResponse\",\n",
      "    \"pageInfo\": {\n",
      "        \"resultsPerPage\": 5,\n",
      "        \"totalResults\": 4\n",
      "    }\n",
      "}\n"
     ]
    }
   ],
   "source": [
    "print(json.dumps(result_live, sort_keys=True,indent=4))"
   ]
  },
  {
   "cell_type": "code",
   "execution_count": 256,
   "metadata": {},
   "outputs": [
    {
     "ename": "AttributeError",
     "evalue": "'function' object has no attribute 'getRating'",
     "output_type": "error",
     "traceback": [
      "\u001b[0;31m---------------------------------------------------------------------------\u001b[0m",
      "\u001b[0;31mAttributeError\u001b[0m                            Traceback (most recent call last)",
      "\u001b[0;32m<ipython-input-256-875c62801996>\u001b[0m in \u001b[0;36m<module>\u001b[0;34m\u001b[0m\n\u001b[0;32m----> 1\u001b[0;31m \u001b[0mresult_pl\u001b[0m \u001b[0;34m=\u001b[0m \u001b[0mservice\u001b[0m\u001b[0;34m.\u001b[0m\u001b[0mvideos\u001b[0m\u001b[0;34m.\u001b[0m\u001b[0mgetRating\u001b[0m\u001b[0;34m(\u001b[0m\u001b[0mid\u001b[0m \u001b[0;34m=\u001b[0m \u001b[0;34m'nyBZL1TxnPs'\u001b[0m\u001b[0;34m)\u001b[0m\u001b[0;34m.\u001b[0m\u001b[0mlist\u001b[0m\u001b[0;34m(\u001b[0m\u001b[0mpart\u001b[0m\u001b[0;34m=\u001b[0m\u001b[0;34m'snippet'\u001b[0m\u001b[0;34m,\u001b[0m\u001b[0mid\u001b[0m \u001b[0;34m=\u001b[0m \u001b[0;34m'PLTh_6CFyP6_yIYJpqaQSDiNv5V92RbJAa'\u001b[0m\u001b[0;34m)\u001b[0m\u001b[0;34m.\u001b[0m\u001b[0mexecute\u001b[0m\u001b[0;34m(\u001b[0m\u001b[0;34m)\u001b[0m\u001b[0;34m\u001b[0m\u001b[0m\n\u001b[0m\u001b[1;32m      2\u001b[0m \u001b[0;32mfor\u001b[0m \u001b[0mn\u001b[0m \u001b[0;32min\u001b[0m \u001b[0mrange\u001b[0m\u001b[0;34m(\u001b[0m\u001b[0mlen\u001b[0m\u001b[0;34m(\u001b[0m\u001b[0mresult_pl\u001b[0m\u001b[0;34m[\u001b[0m\u001b[0;34m'items'\u001b[0m\u001b[0;34m]\u001b[0m\u001b[0;34m)\u001b[0m\u001b[0;34m)\u001b[0m\u001b[0;34m:\u001b[0m\u001b[0;34m\u001b[0m\u001b[0m\n\u001b[1;32m      3\u001b[0m     print('This channel\\'s ID is %s. \\n Its title is %s,\\n it has views, \\n Creation date: %s.' %\n\u001b[1;32m      4\u001b[0m        (result_pl['items'][n]['id'],\n\u001b[1;32m      5\u001b[0m         \u001b[0mresult_pl\u001b[0m\u001b[0;34m[\u001b[0m\u001b[0;34m'items'\u001b[0m\u001b[0;34m]\u001b[0m\u001b[0;34m[\u001b[0m\u001b[0mn\u001b[0m\u001b[0;34m]\u001b[0m\u001b[0;34m[\u001b[0m\u001b[0;34m'snippet'\u001b[0m\u001b[0;34m]\u001b[0m\u001b[0;34m[\u001b[0m\u001b[0;34m'title'\u001b[0m\u001b[0;34m]\u001b[0m\u001b[0;34m,\u001b[0m\u001b[0;34m\u001b[0m\u001b[0m\n",
      "\u001b[0;31mAttributeError\u001b[0m: 'function' object has no attribute 'getRating'"
     ]
    }
   ],
   "source": [
    "result_pl = service.videos.getRating(id = 'nyBZL1TxnPs').list(part='snippet',id = 'PLTh_6CFyP6_yIYJpqaQSDiNv5V92RbJAa').execute()\n",
    "for n in range(len(result_pl['items'])):\n",
    "    print('This channel\\'s ID is %s. \\n Its title is %s,\\n it has views, \\n Creation date: %s.' %\n",
    "       (result_pl['items'][n]['id'],\n",
    "        result_pl['items'][n]['snippet']['title'],\n",
    "#         result_pl['items'][0]['statistics']['viewCount'],\n",
    "       result_pl['items'][n]['snippet']['publishedAt']))"
   ]
  },
  {
   "cell_type": "code",
   "execution_count": 121,
   "metadata": {},
   "outputs": [],
   "source": [
    "import json"
   ]
  },
  {
   "cell_type": "code",
   "execution_count": 248,
   "metadata": {},
   "outputs": [
    {
     "name": "stdout",
     "output_type": "stream",
     "text": [
      "{\n",
      "    \"etag\": \"\\\"XI7nbFXulYBIpL0ayR_gDh3eu1k/An1kz-0nJyerEwumQW1_lZ8ZOH8\\\"\",\n",
      "    \"items\": [],\n",
      "    \"kind\": \"youtube#playlistItemListResponse\",\n",
      "    \"pageInfo\": {\n",
      "        \"resultsPerPage\": 5,\n",
      "        \"totalResults\": 0\n",
      "    }\n",
      "}\n"
     ]
    }
   ],
   "source": [
    "print(json.dumps(result_pl, sort_keys=True,indent=4))"
   ]
  },
  {
   "cell_type": "code",
   "execution_count": 149,
   "metadata": {},
   "outputs": [
    {
     "data": {
      "text/plain": [
       "dict_keys(['kind', 'etag', 'pageInfo', 'items'])"
      ]
     },
     "execution_count": 149,
     "metadata": {},
     "output_type": "execute_result"
    }
   ],
   "source": [
    "result_live.keys()"
   ]
  },
  {
   "cell_type": "code",
   "execution_count": 150,
   "metadata": {},
   "outputs": [
    {
     "data": {
      "text/plain": [
       "1"
      ]
     },
     "execution_count": 150,
     "metadata": {},
     "output_type": "execute_result"
    }
   ],
   "source": [
    "len(result_live['items'])"
   ]
  },
  {
   "cell_type": "code",
   "execution_count": 128,
   "metadata": {},
   "outputs": [
    {
     "data": {
      "text/plain": [
       "dict_keys(['kind', 'etag', 'id', 'snippet'])"
      ]
     },
     "execution_count": 128,
     "metadata": {},
     "output_type": "execute_result"
    }
   ],
   "source": [
    "result_pl['items'][0].keys()"
   ]
  },
  {
   "cell_type": "code",
   "execution_count": 140,
   "metadata": {},
   "outputs": [
    {
     "data": {
      "text/plain": [
       "'2015 Romantic songs'"
      ]
     },
     "execution_count": 140,
     "metadata": {},
     "output_type": "execute_result"
    }
   ],
   "source": [
    "result_pl['items'][0]['snippet']['title']"
   ]
  },
  {
   "cell_type": "code",
   "execution_count": 142,
   "metadata": {},
   "outputs": [
    {
     "data": {
      "text/plain": [
       "range(0, 5)"
      ]
     },
     "execution_count": 142,
     "metadata": {},
     "output_type": "execute_result"
    }
   ],
   "source": [
    "range(len(result_pl['items']))"
   ]
  },
  {
   "cell_type": "code",
   "execution_count": 194,
   "metadata": {},
   "outputs": [
    {
     "name": "stdout",
     "output_type": "stream",
     "text": [
      "dict_keys(['kind', 'etag', 'nextPageToken', 'pageInfo', 'items'])\n",
      "4\n",
      "dict_keys(['kind', 'etag', 'id', 'snippet'])\n",
      "dict_keys(['publishedAt', 'title', 'description', 'resourceId', 'channelId', 'thumbnails'])\n",
      "0 Dr. Najeeb Lectures\n",
      "1 GE Research\n",
      "2 Indian Cinema\n",
      "3 mathantics\n"
     ]
    }
   ],
   "source": [
    "result_sub = service.subscriptions().list(part='snippet',channelId = result_live['items'][0]['id']).execute()\n",
    "print(result_sub.keys())\n",
    "print(len(result_sub['items']))\n",
    "print(result_sub['items'][0].keys())\n",
    "print(result_sub['items'][0]['snippet'].keys())\n",
    "for n in range(len(result_sub['items'])):\n",
    "    print(n,result_sub['items'][n]['snippet']['title'])"
   ]
  },
  {
   "cell_type": "code",
   "execution_count": 285,
   "metadata": {},
   "outputs": [
    {
     "name": "stdout",
     "output_type": "stream",
     "text": [
      "Vasanthakumar Thirugnanam  ,youtube Playlist :  12 \n",
      "\n",
      "1 | PLTh_6CFyP6_yIYJpqaQSDiNv5V92RbJAa | Swami songs |  | 2018-11-30T07:06:46.000Z 6TNE-i8ZvKs\n",
      "2 | PLTh_6CFyP6_xLlgJI71BsGyOVqk0mvSyg | 2015 Romantic songs |  | 2015-10-07T18:41:53.000Z VVoO9cdk5Eo\n",
      "3 | PLTh_6CFyP6_zO7-S428qbMZo7DW5LDksV | Homelist |  | 2015-03-01T17:02:59.000Z 4poitLquUuA\n"
     ]
    },
    {
     "ename": "IndexError",
     "evalue": "list index out of range",
     "output_type": "error",
     "traceback": [
      "\u001b[0;31m---------------------------------------------------------------------------\u001b[0m",
      "\u001b[0;31mIndexError\u001b[0m                                Traceback (most recent call last)",
      "\u001b[0;32m<ipython-input-285-4662b0a60bc2>\u001b[0m in \u001b[0;36m<module>\u001b[0;34m\u001b[0m\n\u001b[1;32m     12\u001b[0m         \u001b[0mresult_pl\u001b[0m \u001b[0;34m=\u001b[0m \u001b[0mservice\u001b[0m\u001b[0;34m.\u001b[0m\u001b[0mplaylistItems\u001b[0m\u001b[0;34m(\u001b[0m\u001b[0;34m)\u001b[0m\u001b[0;34m.\u001b[0m\u001b[0mlist\u001b[0m\u001b[0;34m(\u001b[0m\u001b[0mpart\u001b[0m\u001b[0;34m=\u001b[0m\u001b[0;34m'snippet,contentDetails'\u001b[0m\u001b[0;34m,\u001b[0m \u001b[0mplaylistId\u001b[0m \u001b[0;34m=\u001b[0m \u001b[0mresult_vd\u001b[0m\u001b[0;34m[\u001b[0m\u001b[0;34m'items'\u001b[0m\u001b[0;34m]\u001b[0m\u001b[0;34m[\u001b[0m\u001b[0mn\u001b[0m\u001b[0;34m]\u001b[0m\u001b[0;34m[\u001b[0m\u001b[0;34m'id'\u001b[0m\u001b[0;34m]\u001b[0m\u001b[0;34m)\u001b[0m\u001b[0;34m.\u001b[0m\u001b[0mexecute\u001b[0m\u001b[0;34m(\u001b[0m\u001b[0;34m)\u001b[0m\u001b[0;34m\u001b[0m\u001b[0m\n\u001b[1;32m     13\u001b[0m         print(n+1,'|',result_vd['items'][n]['id'],'|',result_vd['items'][n]['snippet']['title'],'|',result_vd['items'][n]['snippet']['description'],'|',\n\u001b[0;32m---> 14\u001b[0;31m              result_vd['items'][n]['snippet']['publishedAt'],result_pl['items'][n]['contentDetails']['videoId'])\n\u001b[0m\u001b[1;32m     15\u001b[0m \u001b[0;34m\u001b[0m\u001b[0m\n\u001b[1;32m     16\u001b[0m     \u001b[0;31m#Vasanth Playlist\u001b[0m\u001b[0;34m\u001b[0m\u001b[0;34m\u001b[0m\u001b[0m\n",
      "\u001b[0;31mIndexError\u001b[0m: list index out of range"
     ]
    }
   ],
   "source": [
    "u_name = ['tvk66866','nithvasanthakumar']\n",
    "\n",
    "for u in u_name:\n",
    "    result_list = service.channels().list(part='snippet,contentDetails,statistics',forUsername = u).execute()\n",
    "    \n",
    "#     result_vas = service.channels().list(part='snippet,contentDetails,statistics',forUsername = \"tvk66866\").execute()\n",
    "    # print(result_list)\n",
    "    #Niths Playlist\n",
    "    result_vd = service.playlists().list(part='snippet',channelId = result_list['items'][0]['id'],maxResults = 50).execute()\n",
    "    print(result_list['items'][0]['snippet']['title'],' ,youtube Playlist : ',len(result_vd['items']),'\\n')\n",
    "    for n in range(len(result_vd['items'])):\n",
    "        result_pl = service.playlistItems().list(part='snippet,contentDetails', playlistId = result_vd['items'][n]['id']).execute()\n",
    "        print(n+1,'|',result_vd['items'][n]['id'],'|',result_vd['items'][n]['snippet']['title'],'|',result_vd['items'][n]['snippet']['description'],'|',\n",
    "             result_vd['items'][n]['snippet']['publishedAt'],result_pl['items'][n]['contentDetails']['videoId'])\n",
    "\n",
    "    #Vasanth Playlist    \n",
    "#     result_vs = service.playlists().list(part='snippet',channelId = result_list['items'][0]['id'],maxResults = 50).execute()\n",
    "#     print('\\n\\n',result_vas['items'][0]['snippet']['title'],' ,youtube Playlist : ',len(result_vs['items']),'\\n')\n",
    "#     for n in range(len(result_vs['items'])):\n",
    "#         print(n+1,'|',result_vs['items'][n]['id'],'|',result_vs['items'][n]['snippet']['title'],'|',result_vs['items'][n]['snippet']['description'],'|',\n",
    "#              result_vs['items'][n]['snippet']['publishedAt'],'|',result_live['items'][0]['contentDetails']['videoId'])"
   ]
  },
  {
   "cell_type": "code",
   "execution_count": 260,
   "metadata": {},
   "outputs": [
    {
     "data": {
      "text/plain": [
       "{'kind': 'youtube#videoGetRatingResponse',\n",
       " 'etag': '\"XI7nbFXulYBIpL0ayR_gDh3eu1k/05SRLk09DPNWPNMI0VxryO5Rl9k\"',\n",
       " 'items': [{'videoId': 'nyBZL1TxnPs', 'rating': 'like'}]}"
      ]
     },
     "execution_count": 260,
     "metadata": {},
     "output_type": "execute_result"
    }
   ],
   "source": [
    "service.videos().getRating(id = 'nyBZL1TxnPs').execute()"
   ]
  },
  {
   "cell_type": "code",
   "execution_count": null,
   "metadata": {},
   "outputs": [],
   "source": []
  }
 ],
 "metadata": {
  "kernelspec": {
   "display_name": "Python 3",
   "language": "python",
   "name": "python3"
  },
  "language_info": {
   "codemirror_mode": {
    "name": "ipython",
    "version": 3
   },
   "file_extension": ".py",
   "mimetype": "text/x-python",
   "name": "python",
   "nbconvert_exporter": "python",
   "pygments_lexer": "ipython3",
   "version": "3.6.6"
  }
 },
 "nbformat": 4,
 "nbformat_minor": 2
}
