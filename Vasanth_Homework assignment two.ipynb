{
 "cells": [
  {
   "cell_type": "markdown",
   "metadata": {
    "button": false,
    "new_sheet": false,
    "run_control": {
     "read_only": false
    }
   },
   "source": [
    "# Homework Assignment 2"
   ]
  },
  {
   "cell_type": "markdown",
   "metadata": {
    "button": false,
    "new_sheet": false,
    "run_control": {
     "read_only": false
    }
   },
   "source": [
    "## Section 1: Admissions Dataset"
   ]
  },
  {
   "cell_type": "code",
   "execution_count": 2,
   "metadata": {
    "button": false,
    "new_sheet": false,
    "run_control": {
     "read_only": false
    }
   },
   "outputs": [],
   "source": [
    "#First round of imports\n",
    "\n",
    "import pandas as pd\n",
    "import numpy as np\n",
    "import matplotlib.pyplot as plt\n",
    "%matplotlib inline"
   ]
  },
  {
   "cell_type": "code",
   "execution_count": 3,
   "metadata": {},
   "outputs": [],
   "source": [
    "import seaborn as sns"
   ]
  },
  {
   "cell_type": "code",
   "execution_count": 4,
   "metadata": {},
   "outputs": [],
   "source": [
    "from sklearn.neighbors import KNeighborsClassifier"
   ]
  },
  {
   "cell_type": "code",
   "execution_count": 5,
   "metadata": {},
   "outputs": [],
   "source": [
    "from sklearn.tree import DecisionTreeRegressor\n",
    "from sklearn import metrics\n",
    "\n",
    "from sklearn.ensemble import BaggingRegressor, RandomForestRegressor, RandomForestClassifier\n",
    "from sklearn.tree import DecisionTreeClassifier\n",
    "\n",
    "\n",
    "from sklearn.feature_selection import SelectFromModel\n",
    "from sklearn.model_selection import GridSearchCV"
   ]
  },
  {
   "cell_type": "code",
   "execution_count": 6,
   "metadata": {},
   "outputs": [],
   "source": [
    "plt.style.use(\"fivethirtyeight\")\n",
    "from sklearn.model_selection import train_test_split, cross_val_score\n",
    "from sklearn.metrics import accuracy_score, precision_score, recall_score, confusion_matrix, classification_report, roc_auc_score, roc_curve, log_loss\n",
    "from sklearn.linear_model import LogisticRegression\n",
    "from sklearn.datasets import make_classification;\n"
   ]
  },
  {
   "cell_type": "code",
   "execution_count": 38,
   "metadata": {
    "button": false,
    "new_sheet": false,
    "run_control": {
     "read_only": false
    }
   },
   "outputs": [
    {
     "data": {
      "text/html": [
       "<div>\n",
       "<style scoped>\n",
       "    .dataframe tbody tr th:only-of-type {\n",
       "        vertical-align: middle;\n",
       "    }\n",
       "\n",
       "    .dataframe tbody tr th {\n",
       "        vertical-align: top;\n",
       "    }\n",
       "\n",
       "    .dataframe thead th {\n",
       "        text-align: right;\n",
       "    }\n",
       "</style>\n",
       "<table border=\"1\" class=\"dataframe\">\n",
       "  <thead>\n",
       "    <tr style=\"text-align: right;\">\n",
       "      <th></th>\n",
       "      <th>admit</th>\n",
       "      <th>gre</th>\n",
       "      <th>gpa</th>\n",
       "      <th>prestige</th>\n",
       "    </tr>\n",
       "  </thead>\n",
       "  <tbody>\n",
       "    <tr>\n",
       "      <th>0</th>\n",
       "      <td>0</td>\n",
       "      <td>380.0</td>\n",
       "      <td>3.61</td>\n",
       "      <td>3.0</td>\n",
       "    </tr>\n",
       "    <tr>\n",
       "      <th>1</th>\n",
       "      <td>1</td>\n",
       "      <td>660.0</td>\n",
       "      <td>3.67</td>\n",
       "      <td>3.0</td>\n",
       "    </tr>\n",
       "    <tr>\n",
       "      <th>2</th>\n",
       "      <td>1</td>\n",
       "      <td>800.0</td>\n",
       "      <td>4.00</td>\n",
       "      <td>1.0</td>\n",
       "    </tr>\n",
       "    <tr>\n",
       "      <th>3</th>\n",
       "      <td>1</td>\n",
       "      <td>640.0</td>\n",
       "      <td>3.19</td>\n",
       "      <td>4.0</td>\n",
       "    </tr>\n",
       "    <tr>\n",
       "      <th>4</th>\n",
       "      <td>0</td>\n",
       "      <td>520.0</td>\n",
       "      <td>2.93</td>\n",
       "      <td>4.0</td>\n",
       "    </tr>\n",
       "  </tbody>\n",
       "</table>\n",
       "</div>"
      ],
      "text/plain": [
       "   admit    gre   gpa  prestige\n",
       "0      0  380.0  3.61       3.0\n",
       "1      1  660.0  3.67       3.0\n",
       "2      1  800.0  4.00       1.0\n",
       "3      1  640.0  3.19       4.0\n",
       "4      0  520.0  2.93       4.0"
      ]
     },
     "execution_count": 38,
     "metadata": {},
     "output_type": "execute_result"
    }
   ],
   "source": [
    "#data\n",
    "admissions = pd.read_csv(\"../data/dataset-ucla-admissions.csv\")\n",
    "\n",
    "admissions.head()"
   ]
  },
  {
   "cell_type": "markdown",
   "metadata": {
    "button": false,
    "new_sheet": false,
    "run_control": {
     "read_only": false
    }
   },
   "source": [
    "**Question 1:**\n",
    "\n",
    "What is the target/outcome variable? What are the features? Which features are continous or categorical? What is the null accuracy? If there are categorical variables, turn them into dummy variables and concatenate them with the data."
   ]
  },
  {
   "cell_type": "markdown",
   "metadata": {},
   "source": [
    "Answer:\n",
    "Target = admit\n",
    "Featrures = gre, gpa, prestige\n",
    "continuous feature = gre,gpa\n",
    "categorical feature = prestige\n"
   ]
  },
  {
   "cell_type": "code",
   "execution_count": 39,
   "metadata": {},
   "outputs": [
    {
     "data": {
      "text/plain": [
       "0    0.6825\n",
       "1    0.3175\n",
       "Name: admit, dtype: float64"
      ]
     },
     "execution_count": 39,
     "metadata": {},
     "output_type": "execute_result"
    }
   ],
   "source": [
    "admissions.admit.value_counts(normalize = True)"
   ]
  },
  {
   "cell_type": "code",
   "execution_count": 40,
   "metadata": {
    "button": false,
    "new_sheet": false,
    "run_control": {
     "read_only": false
    }
   },
   "outputs": [
    {
     "data": {
      "text/plain": [
       "array([ 3.,  1.,  4.,  2., nan])"
      ]
     },
     "execution_count": 40,
     "metadata": {},
     "output_type": "execute_result"
    }
   ],
   "source": [
    "admissions.prestige.unique()\n",
    "                                                                                        "
   ]
  },
  {
   "cell_type": "code",
   "execution_count": 41,
   "metadata": {},
   "outputs": [],
   "source": [
    "prestige_d = pd.get_dummies(admissions.prestige,prefix = 'prestige',drop_first = True)"
   ]
  },
  {
   "cell_type": "code",
   "execution_count": 42,
   "metadata": {},
   "outputs": [
    {
     "data": {
      "text/html": [
       "<div>\n",
       "<style scoped>\n",
       "    .dataframe tbody tr th:only-of-type {\n",
       "        vertical-align: middle;\n",
       "    }\n",
       "\n",
       "    .dataframe tbody tr th {\n",
       "        vertical-align: top;\n",
       "    }\n",
       "\n",
       "    .dataframe thead th {\n",
       "        text-align: right;\n",
       "    }\n",
       "</style>\n",
       "<table border=\"1\" class=\"dataframe\">\n",
       "  <thead>\n",
       "    <tr style=\"text-align: right;\">\n",
       "      <th></th>\n",
       "      <th>prestige_2.0</th>\n",
       "      <th>prestige_3.0</th>\n",
       "      <th>prestige_4.0</th>\n",
       "    </tr>\n",
       "  </thead>\n",
       "  <tbody>\n",
       "    <tr>\n",
       "      <th>0</th>\n",
       "      <td>0</td>\n",
       "      <td>1</td>\n",
       "      <td>0</td>\n",
       "    </tr>\n",
       "    <tr>\n",
       "      <th>1</th>\n",
       "      <td>0</td>\n",
       "      <td>1</td>\n",
       "      <td>0</td>\n",
       "    </tr>\n",
       "    <tr>\n",
       "      <th>2</th>\n",
       "      <td>0</td>\n",
       "      <td>0</td>\n",
       "      <td>0</td>\n",
       "    </tr>\n",
       "    <tr>\n",
       "      <th>3</th>\n",
       "      <td>0</td>\n",
       "      <td>0</td>\n",
       "      <td>1</td>\n",
       "    </tr>\n",
       "    <tr>\n",
       "      <th>4</th>\n",
       "      <td>0</td>\n",
       "      <td>0</td>\n",
       "      <td>1</td>\n",
       "    </tr>\n",
       "  </tbody>\n",
       "</table>\n",
       "</div>"
      ],
      "text/plain": [
       "   prestige_2.0  prestige_3.0  prestige_4.0\n",
       "0             0             1             0\n",
       "1             0             1             0\n",
       "2             0             0             0\n",
       "3             0             0             1\n",
       "4             0             0             1"
      ]
     },
     "execution_count": 42,
     "metadata": {},
     "output_type": "execute_result"
    }
   ],
   "source": [
    "prestige_d.head()"
   ]
  },
  {
   "cell_type": "code",
   "execution_count": 43,
   "metadata": {},
   "outputs": [
    {
     "data": {
      "text/html": [
       "<div>\n",
       "<style scoped>\n",
       "    .dataframe tbody tr th:only-of-type {\n",
       "        vertical-align: middle;\n",
       "    }\n",
       "\n",
       "    .dataframe tbody tr th {\n",
       "        vertical-align: top;\n",
       "    }\n",
       "\n",
       "    .dataframe thead th {\n",
       "        text-align: right;\n",
       "    }\n",
       "</style>\n",
       "<table border=\"1\" class=\"dataframe\">\n",
       "  <thead>\n",
       "    <tr style=\"text-align: right;\">\n",
       "      <th></th>\n",
       "      <th>admit</th>\n",
       "      <th>gre</th>\n",
       "      <th>gpa</th>\n",
       "      <th>prestige</th>\n",
       "      <th>prestige_2.0</th>\n",
       "      <th>prestige_3.0</th>\n",
       "      <th>prestige_4.0</th>\n",
       "    </tr>\n",
       "  </thead>\n",
       "  <tbody>\n",
       "    <tr>\n",
       "      <th>0</th>\n",
       "      <td>0</td>\n",
       "      <td>380.0</td>\n",
       "      <td>3.61</td>\n",
       "      <td>3.0</td>\n",
       "      <td>0</td>\n",
       "      <td>1</td>\n",
       "      <td>0</td>\n",
       "    </tr>\n",
       "    <tr>\n",
       "      <th>1</th>\n",
       "      <td>1</td>\n",
       "      <td>660.0</td>\n",
       "      <td>3.67</td>\n",
       "      <td>3.0</td>\n",
       "      <td>0</td>\n",
       "      <td>1</td>\n",
       "      <td>0</td>\n",
       "    </tr>\n",
       "    <tr>\n",
       "      <th>2</th>\n",
       "      <td>1</td>\n",
       "      <td>800.0</td>\n",
       "      <td>4.00</td>\n",
       "      <td>1.0</td>\n",
       "      <td>0</td>\n",
       "      <td>0</td>\n",
       "      <td>0</td>\n",
       "    </tr>\n",
       "    <tr>\n",
       "      <th>3</th>\n",
       "      <td>1</td>\n",
       "      <td>640.0</td>\n",
       "      <td>3.19</td>\n",
       "      <td>4.0</td>\n",
       "      <td>0</td>\n",
       "      <td>0</td>\n",
       "      <td>1</td>\n",
       "    </tr>\n",
       "    <tr>\n",
       "      <th>4</th>\n",
       "      <td>0</td>\n",
       "      <td>520.0</td>\n",
       "      <td>2.93</td>\n",
       "      <td>4.0</td>\n",
       "      <td>0</td>\n",
       "      <td>0</td>\n",
       "      <td>1</td>\n",
       "    </tr>\n",
       "  </tbody>\n",
       "</table>\n",
       "</div>"
      ],
      "text/plain": [
       "   admit    gre   gpa  prestige  prestige_2.0  prestige_3.0  prestige_4.0\n",
       "0      0  380.0  3.61       3.0             0             1             0\n",
       "1      1  660.0  3.67       3.0             0             1             0\n",
       "2      1  800.0  4.00       1.0             0             0             0\n",
       "3      1  640.0  3.19       4.0             0             0             1\n",
       "4      0  520.0  2.93       4.0             0             0             1"
      ]
     },
     "execution_count": 43,
     "metadata": {},
     "output_type": "execute_result"
    }
   ],
   "source": [
    "del admissions_tr\n",
    "admissions_tr = pd.concat([admissions,prestige_d],axis = 1)\n",
    "admissions_tr.head()"
   ]
  },
  {
   "cell_type": "code",
   "execution_count": 44,
   "metadata": {},
   "outputs": [
    {
     "name": "stdout",
     "output_type": "stream",
     "text": [
      "<class 'pandas.core.frame.DataFrame'>\n",
      "RangeIndex: 400 entries, 0 to 399\n",
      "Data columns (total 7 columns):\n",
      "admit           400 non-null int64\n",
      "gre             398 non-null float64\n",
      "gpa             398 non-null float64\n",
      "prestige        399 non-null float64\n",
      "prestige_2.0    400 non-null uint8\n",
      "prestige_3.0    400 non-null uint8\n",
      "prestige_4.0    400 non-null uint8\n",
      "dtypes: float64(3), int64(1), uint8(3)\n",
      "memory usage: 13.8 KB\n"
     ]
    }
   ],
   "source": [
    "admissions_tr.info()"
   ]
  },
  {
   "cell_type": "code",
   "execution_count": 45,
   "metadata": {},
   "outputs": [],
   "source": [
    "admissions_tr.dropna(inplace = True)"
   ]
  },
  {
   "cell_type": "code",
   "execution_count": 46,
   "metadata": {},
   "outputs": [
    {
     "name": "stdout",
     "output_type": "stream",
     "text": [
      "<class 'pandas.core.frame.DataFrame'>\n",
      "Int64Index: 397 entries, 0 to 399\n",
      "Data columns (total 7 columns):\n",
      "admit           397 non-null int64\n",
      "gre             397 non-null float64\n",
      "gpa             397 non-null float64\n",
      "prestige        397 non-null float64\n",
      "prestige_2.0    397 non-null uint8\n",
      "prestige_3.0    397 non-null uint8\n",
      "prestige_4.0    397 non-null uint8\n",
      "dtypes: float64(3), int64(1), uint8(3)\n",
      "memory usage: 16.7 KB\n"
     ]
    }
   ],
   "source": [
    "admissions_tr.info()"
   ]
  },
  {
   "cell_type": "code",
   "execution_count": 57,
   "metadata": {},
   "outputs": [
    {
     "data": {
      "text/plain": [
       "array([0, 1])"
      ]
     },
     "execution_count": 57,
     "metadata": {},
     "output_type": "execute_result"
    }
   ],
   "source": [
    "admissions_tr.admit.unique()"
   ]
  },
  {
   "cell_type": "code",
   "execution_count": null,
   "metadata": {},
   "outputs": [],
   "source": []
  },
  {
   "cell_type": "code",
   "execution_count": null,
   "metadata": {},
   "outputs": [],
   "source": []
  },
  {
   "cell_type": "markdown",
   "metadata": {
    "button": false,
    "new_sheet": false,
    "run_control": {
     "read_only": false
    }
   },
   "source": [
    "**Question 2:**\n",
    "\n",
    "What do you think is the goal of using machine learning with this dataset."
   ]
  },
  {
   "cell_type": "markdown",
   "metadata": {
    "button": false,
    "collapsed": true,
    "new_sheet": false,
    "run_control": {
     "read_only": false
    }
   },
   "source": [
    "Answer: To predict the admission status of the candidate."
   ]
  },
  {
   "cell_type": "markdown",
   "metadata": {
    "button": false,
    "new_sheet": false,
    "run_control": {
     "read_only": false
    }
   },
   "source": [
    "**Question 3:** Make a scatter plot of gpa vs gre color-encoded using the admit feature. What does this graph tell you?"
   ]
  },
  {
   "cell_type": "code",
   "execution_count": 59,
   "metadata": {
    "button": false,
    "new_sheet": false,
    "run_control": {
     "read_only": false
    }
   },
   "outputs": [
    {
     "data": {
      "image/png": "[encoded data removed]",
      "text/plain": [
       "<Figure size 792x612 with 1 Axes>"
      ]
     },
     "metadata": {
      "needs_background": "light"
     },
     "output_type": "display_data"
    }
   ],
   "source": [
    "plt.figure(figsize = (11,8.5))\n",
    "sns.scatterplot(x = admissions_tr.gpa, y = admissions_tr.gre, hue = admissions_tr.admit);"
   ]
  },
  {
   "cell_type": "code",
   "execution_count": 153,
   "metadata": {},
   "outputs": [
    {
     "data": {
      "image/png": "[encoded data removed]",
      "text/plain": [
       "<Figure size 792x612 with 1 Axes>"
      ]
     },
     "metadata": {},
     "output_type": "display_data"
    }
   ],
   "source": [
    "plt.figure(figsize = (11,8.5))\n",
    "sns.scatterplot(x = admissions_tr.gpa, y = admissions_tr.gre, hue = admissions_tr.prestige);"
   ]
  },
  {
   "cell_type": "markdown",
   "metadata": {},
   "source": [
    "majority of Students were admitted when the gre and gpa scores are high. "
   ]
  },
  {
   "cell_type": "markdown",
   "metadata": {
    "button": false,
    "new_sheet": false,
    "run_control": {
     "read_only": false
    }
   },
   "source": [
    "**Question 4:** \n",
    "\n",
    "    - 1. Make a train test split using a quarter of the data for testing.\n",
    "    - 2. Fit a Logistic Regression model on the training data.\n",
    "    - 3. Evaluate the model on both the training and testing datasets using accuracy score.\n",
    "    - 4. Whats difference in the accuracy score of training and testing datasets? Is this evidence of overfitting?"
   ]
  },
  {
   "cell_type": "code",
   "execution_count": 14,
   "metadata": {},
   "outputs": [],
   "source": [
    "import warnings\n",
    "warnings.filterwarnings('ignore')"
   ]
  },
  {
   "cell_type": "code",
   "execution_count": 128,
   "metadata": {},
   "outputs": [],
   "source": [
    "X = admissions_tr.drop(['admit','prestige'],axis = 1)\n",
    "y = admissions_tr.admit"
   ]
  },
  {
   "cell_type": "code",
   "execution_count": 129,
   "metadata": {},
   "outputs": [
    {
     "data": {
      "text/html": [
       "<div>\n",
       "<style scoped>\n",
       "    .dataframe tbody tr th:only-of-type {\n",
       "        vertical-align: middle;\n",
       "    }\n",
       "\n",
       "    .dataframe tbody tr th {\n",
       "        vertical-align: top;\n",
       "    }\n",
       "\n",
       "    .dataframe thead th {\n",
       "        text-align: right;\n",
       "    }\n",
       "</style>\n",
       "<table border=\"1\" class=\"dataframe\">\n",
       "  <thead>\n",
       "    <tr style=\"text-align: right;\">\n",
       "      <th></th>\n",
       "      <th>gre</th>\n",
       "      <th>gpa</th>\n",
       "      <th>prestige_2.0</th>\n",
       "      <th>prestige_3.0</th>\n",
       "      <th>prestige_4.0</th>\n",
       "    </tr>\n",
       "  </thead>\n",
       "  <tbody>\n",
       "    <tr>\n",
       "      <th>0</th>\n",
       "      <td>380.0</td>\n",
       "      <td>3.61</td>\n",
       "      <td>0</td>\n",
       "      <td>1</td>\n",
       "      <td>0</td>\n",
       "    </tr>\n",
       "    <tr>\n",
       "      <th>1</th>\n",
       "      <td>660.0</td>\n",
       "      <td>3.67</td>\n",
       "      <td>0</td>\n",
       "      <td>1</td>\n",
       "      <td>0</td>\n",
       "    </tr>\n",
       "    <tr>\n",
       "      <th>2</th>\n",
       "      <td>800.0</td>\n",
       "      <td>4.00</td>\n",
       "      <td>0</td>\n",
       "      <td>0</td>\n",
       "      <td>0</td>\n",
       "    </tr>\n",
       "    <tr>\n",
       "      <th>3</th>\n",
       "      <td>640.0</td>\n",
       "      <td>3.19</td>\n",
       "      <td>0</td>\n",
       "      <td>0</td>\n",
       "      <td>1</td>\n",
       "    </tr>\n",
       "    <tr>\n",
       "      <th>4</th>\n",
       "      <td>520.0</td>\n",
       "      <td>2.93</td>\n",
       "      <td>0</td>\n",
       "      <td>0</td>\n",
       "      <td>1</td>\n",
       "    </tr>\n",
       "  </tbody>\n",
       "</table>\n",
       "</div>"
      ],
      "text/plain": [
       "     gre   gpa  prestige_2.0  prestige_3.0  prestige_4.0\n",
       "0  380.0  3.61             0             1             0\n",
       "1  660.0  3.67             0             1             0\n",
       "2  800.0  4.00             0             0             0\n",
       "3  640.0  3.19             0             0             1\n",
       "4  520.0  2.93             0             0             1"
      ]
     },
     "execution_count": 129,
     "metadata": {},
     "output_type": "execute_result"
    }
   ],
   "source": [
    "X.head()"
   ]
  },
  {
   "cell_type": "code",
   "execution_count": 148,
   "metadata": {
    "button": false,
    "new_sheet": false,
    "run_control": {
     "read_only": false
    }
   },
   "outputs": [
    {
     "name": "stdout",
     "output_type": "stream",
     "text": [
      "The model accurately classified 74.00 percent of the testing data\n"
     ]
    }
   ],
   "source": [
    "#Step 1\n",
    "X_train, X_test, y_train, y_test = train_test_split(X, y, test_size=0.25,random_state=5)\n",
    "#Step 2\n",
    "lr = LogisticRegression()\n",
    "lr.fit(X_train, y_train)\n",
    "\n",
    "#Step 3\n",
    "preds = lr.predict(X_test)\n",
    "\n",
    "#Step 4\n",
    "testing_score = accuracy_score(y_test, preds)\n",
    "\n",
    "print (\"The model accurately classified {:.2f} percent of the testing data\".format(testing_score*100))"
   ]
  },
  {
   "cell_type": "code",
   "execution_count": 149,
   "metadata": {},
   "outputs": [
    {
     "data": {
      "text/plain": [
       "0.7103274559193955"
      ]
     },
     "execution_count": 149,
     "metadata": {},
     "output_type": "execute_result"
    }
   ],
   "source": [
    "preds = lr.predict(X)\n",
    "accuracy_score(y, preds)"
   ]
  },
  {
   "cell_type": "code",
   "execution_count": 132,
   "metadata": {},
   "outputs": [],
   "source": [
    "#accuracy\n",
    "lg_acc_score_train = cross_val_score(LogisticRegression(), X_train, y_train, cv = 5, scoring=\"accuracy\").mean()"
   ]
  },
  {
   "cell_type": "code",
   "execution_count": 133,
   "metadata": {},
   "outputs": [],
   "source": [
    "#accuracy\n",
    "lg_acc_score_test = cross_val_score(LogisticRegression(), X_test, y_test, cv = 5, scoring=\"accuracy\").mean()"
   ]
  },
  {
   "cell_type": "code",
   "execution_count": 134,
   "metadata": {},
   "outputs": [
    {
     "data": {
      "text/plain": [
       "-0.015607238435070725"
      ]
     },
     "execution_count": 134,
     "metadata": {},
     "output_type": "execute_result"
    }
   ],
   "source": [
    "lg_acc_score_train - lg_acc_score_test"
   ]
  },
  {
   "cell_type": "markdown",
   "metadata": {},
   "source": [
    "Question 5: Use grid search to determine the K-Neigbors values in a KNN model trained on this dataset and to determine the best max_depth value in a Decision Tree model as well. Which model is better? Use roc_auc as your evaluation metric."
   ]
  },
  {
   "cell_type": "code",
   "execution_count": 137,
   "metadata": {},
   "outputs": [
    {
     "name": "stdout",
     "output_type": "stream",
     "text": [
      "0.825733614479002\n",
      "{'max_depth': 9, 'min_samples_split': 28}\n",
      "0.6679869948131912\n"
     ]
    }
   ],
   "source": [
    "depths_range = list(range(2,20))\n",
    "param_grid_dt = {'min_samples_split' : list(range(2, 30 ,2)), \"max_depth\": depths_range}\n",
    "#Intialize Grid\n",
    "grid_ac = GridSearchCV(estimator = RandomForestClassifier(), \n",
    "                        param_grid = param_grid_dt, cv = 5, scoring = \"precision\")\n",
    "\n",
    "#Fit grid on data\n",
    "grid_ac.fit(X,y)\n",
    "\n",
    "pred_rf = grid_ac.predict(X)\n",
    "y_prob = grid_ac.predict_proba(X)\n",
    "y_score = y_prob[ : , 1]\n",
    "print(roc_auc_score(y, y_score))\n",
    "print(grid_ac.best_params_)\n",
    "print(grid_ac.best_score_)"
   ]
  },
  {
   "cell_type": "code",
   "execution_count": 138,
   "metadata": {},
   "outputs": [
    {
     "name": "stdout",
     "output_type": "stream",
     "text": [
      "0.8341240555262696\n",
      "{'algorithm': 'auto', 'leaf_size': 1, 'n_jobs': -1, 'n_neighbors': 4}\n",
      "0.6700251889168766\n"
     ]
    }
   ],
   "source": [
    "parameters = {'n_neighbors':[2,3,4,5,6,7],\n",
    "              'leaf_size':[1,3,5],\n",
    "              'algorithm':['auto', 'kd_tree'],\n",
    "              'n_jobs':[-1]}\n",
    "\n",
    "#Fit the model\n",
    "clf = GridSearchCV(estimator = KNeighborsClassifier(), param_grid=parameters)\n",
    "clf.fit(X,y)\n",
    "\n",
    "#predictions on test data\n",
    "prediction=clf.predict(X)\n",
    "\n",
    "\n",
    "y_prob = clf.predict_proba(X)\n",
    "y_score = y_prob[ : , 1]\n",
    "\n",
    "print(roc_auc_score(y, y_score))\n",
    "print(clf.best_params_)\n",
    "print(clf.best_score_)"
   ]
  },
  {
   "cell_type": "code",
   "execution_count": 119,
   "metadata": {},
   "outputs": [],
   "source": [
    "def tn(y_true, y_pred): return confusion_matrix(y_true, y_pred)[0, 0]\n",
    "def fp(y_true, y_pred): return confusion_matrix(y_true, y_pred)[0, 1]\n",
    "def fn(y_true, y_pred): return confusion_matrix(y_true, y_pred)[1, 0]\n",
    "def tp(y_true, y_pred): return confusion_matrix(y_true, y_pred)[1, 1]"
   ]
  },
  {
   "cell_type": "code",
   "execution_count": 124,
   "metadata": {},
   "outputs": [
    {
     "data": {
      "text/plain": [
       "85"
      ]
     },
     "execution_count": 124,
     "metadata": {},
     "output_type": "execute_result"
    }
   ],
   "source": [
    "fn(y,prediction)"
   ]
  },
  {
   "cell_type": "code",
   "execution_count": 139,
   "metadata": {},
   "outputs": [
    {
     "data": {
      "text/plain": [
       "array([[257,  14],\n",
       "       [ 84,  42]])"
      ]
     },
     "execution_count": 139,
     "metadata": {},
     "output_type": "execute_result"
    }
   ],
   "source": [
    "confusion_matrix(y,prediction)"
   ]
  },
  {
   "cell_type": "code",
   "execution_count": 140,
   "metadata": {},
   "outputs": [
    {
     "data": {
      "text/html": [
       "<div>\n",
       "<style scoped>\n",
       "    .dataframe tbody tr th:only-of-type {\n",
       "        vertical-align: middle;\n",
       "    }\n",
       "\n",
       "    .dataframe tbody tr th {\n",
       "        vertical-align: top;\n",
       "    }\n",
       "\n",
       "    .dataframe thead th {\n",
       "        text-align: right;\n",
       "    }\n",
       "</style>\n",
       "<table border=\"1\" class=\"dataframe\">\n",
       "  <thead>\n",
       "    <tr style=\"text-align: right;\">\n",
       "      <th>col_0</th>\n",
       "      <th>0</th>\n",
       "      <th>1</th>\n",
       "    </tr>\n",
       "    <tr>\n",
       "      <th>admit</th>\n",
       "      <th></th>\n",
       "      <th></th>\n",
       "    </tr>\n",
       "  </thead>\n",
       "  <tbody>\n",
       "    <tr>\n",
       "      <th>0</th>\n",
       "      <td>257</td>\n",
       "      <td>14</td>\n",
       "    </tr>\n",
       "    <tr>\n",
       "      <th>1</th>\n",
       "      <td>84</td>\n",
       "      <td>42</td>\n",
       "    </tr>\n",
       "  </tbody>\n",
       "</table>\n",
       "</div>"
      ],
      "text/plain": [
       "col_0    0   1\n",
       "admit         \n",
       "0      257  14\n",
       "1       84  42"
      ]
     },
     "execution_count": 140,
     "metadata": {},
     "output_type": "execute_result"
    }
   ],
   "source": [
    "pd.crosstab(y,prediction)"
   ]
  },
  {
   "cell_type": "code",
   "execution_count": 141,
   "metadata": {},
   "outputs": [
    {
     "data": {
      "text/plain": [
       "array([[256,  15],\n",
       "       [ 77,  49]])"
      ]
     },
     "execution_count": 141,
     "metadata": {},
     "output_type": "execute_result"
    }
   ],
   "source": [
    "confusion_matrix(y,pred_rf)"
   ]
  },
  {
   "cell_type": "code",
   "execution_count": null,
   "metadata": {},
   "outputs": [],
   "source": []
  },
  {
   "cell_type": "code",
   "execution_count": 80,
   "metadata": {},
   "outputs": [
    {
     "data": {
      "text/plain": [
       "{'max_depth': 3, 'min_samples_split': 28}"
      ]
     },
     "execution_count": 80,
     "metadata": {},
     "output_type": "execute_result"
    }
   ],
   "source": [
    "grid_ac.best_params_"
   ]
  },
  {
   "cell_type": "code",
   "execution_count": 154,
   "metadata": {},
   "outputs": [
    {
     "name": "stdout",
     "output_type": "stream",
     "text": [
      "The model accurately labelled 73.55 percent of the data\n"
     ]
    }
   ],
   "source": [
    "#intialize model and set n_neighbors equal to 5\n",
    "knn5 = KNeighborsClassifier(n_neighbors=9)\n",
    "#Fit the model on the \"fake data\"\n",
    "knn5.fit(X,y)\n",
    "#Find the accuracy score of the model on the data\n",
    "score5 = float(knn5.score(X,y))\n",
    "print (\"The model accurately labelled {:.2f} percent of the data\".format(score5*100))"
   ]
  },
  {
   "cell_type": "code",
   "execution_count": 144,
   "metadata": {},
   "outputs": [
    {
     "data": {
      "image/png": "[encoded data removed]",
      "text/plain": [
       "<Figure size 1008x720 with 1 Axes>"
      ]
     },
     "metadata": {},
     "output_type": "display_data"
    }
   ],
   "source": [
    "#Initialize neighbors list\n",
    "neighbors = range(3, 20, 2)\n",
    "#Intialize list with cross validated scores\n",
    "cv_scores = []\n",
    "\n",
    "for i in neighbors:\n",
    "    #Fit model with i\n",
    "    model = KNeighborsClassifier(n_neighbors=i)\n",
    "    cv_score = cross_val_score(model, X, y, cv =5 , scoring=\"accuracy\").mean()\n",
    "    #Append cv_score to cv_scores\n",
    "    cv_scores.append(cv_score)\n",
    "    \n",
    "    \n",
    "#Plot line plot of neighbors vs cv_scores\n",
    "plt.figure(figsize=(14, 10))\n",
    "plt.plot(neighbors, cv_scores, linewidth = 5)\n",
    "plt.xlabel(\"N Neighbors\")\n",
    "plt.ylabel(\"Cross Validated Accuracy Score\")\n",
    "plt.show()"
   ]
  },
  {
   "cell_type": "code",
   "execution_count": 107,
   "metadata": {},
   "outputs": [
    {
     "data": {
      "text/plain": [
       "array([0.34441814, 0.37033467, 0.44733191, 0.29229823, 0.06685843,\n",
       "       0.33083005, 0.18097822, 0.0949094 , 0.19265642, 0.38391163,\n",
       "       0.28119251, 0.33783515, 0.14861883, 0.47537709, 0.32273162,\n",
       "       0.59050538, 0.37221687, 0.60972424, 0.59472713, 0.22000288,\n",
       "       0.25053006, 0.50228385, 0.42440446, 0.21073683, 0.31184102,\n",
       "       0.21419912, 0.29743876, 0.27719355, 0.60459171, 0.16182864,\n",
       "       0.15643442, 0.66983358, 0.34338794, 0.27670825, 0.44637579,\n",
       "       0.32804142, 0.44036567, 0.5324025 , 0.18941352, 0.19433154,\n",
       "       0.13228147, 0.09630377, 0.12256806, 0.37340938, 0.45831971,\n",
       "       0.5163157 , 0.07337162, 0.1492653 , 0.2245117 , 0.406453  ,\n",
       "       0.424796  , 0.3963811 , 0.10223952, 0.23715219, 0.18884006,\n",
       "       0.1918191 , 0.30576702, 0.24358204, 0.12309148, 0.26471284,\n",
       "       0.54042281, 0.17975044, 0.20669366, 0.36820783, 0.40056055,\n",
       "       0.34466067, 0.252707  , 0.37599287, 0.39824191, 0.27660135,\n",
       "       0.31508274, 0.28402879, 0.33417331, 0.12596147, 0.19408074,\n",
       "       0.09017049, 0.44772815, 0.31997621, 0.37196725, 0.07449574,\n",
       "       0.12173477, 0.35900278, 0.58614067, 0.16849866, 0.22009456,\n",
       "       0.15146199, 0.61087965, 0.27226732, 0.20463052, 0.68067604,\n",
       "       0.11665619, 0.26226204, 0.40632413, 0.31149722, 0.23208456,\n",
       "       0.6242662 , 0.46158941, 0.33831332, 0.22157389, 0.48477317])"
      ]
     },
     "execution_count": 107,
     "metadata": {},
     "output_type": "execute_result"
    }
   ],
   "source": [
    "prob_lg = lr.predict_proba(X_test)\n",
    "prob_lg[:, 1]"
   ]
  },
  {
   "cell_type": "markdown",
   "metadata": {
    "button": false,
    "new_sheet": false,
    "run_control": {
     "read_only": false
    }
   },
   "source": [
    "**Question 6:** If you work in an admissions department, would you rather have a model that minimizes false negatives or minimizes false positives? Why?"
   ]
  },
  {
   "cell_type": "markdown",
   "metadata": {
    "button": false,
    "collapsed": true,
    "new_sheet": false,
    "run_control": {
     "read_only": false
    }
   },
   "source": [
    "I would rather have a model that minimizes false negatives to ensure no good candidates are missed. "
   ]
  },
  {
   "cell_type": "markdown",
   "metadata": {
    "button": false,
    "new_sheet": false,
    "run_control": {
     "read_only": false
    }
   },
   "source": [
    "**Question 7:** Using the Logistic Regression from Question 4, what is the probability of admission of the following prospective students:\n",
    "\n",
    "    - Student 1: GRE = 560, GPA = 3.6, Prestige = 2.\n",
    "    - Student 2: GRE = 750, GPA = 3.8, Prestige = 4.\n",
    "    - Student 3: GRE = 660, GPA = 3.1, Prestige = 1."
   ]
  },
  {
   "cell_type": "code",
   "execution_count": 147,
   "metadata": {},
   "outputs": [
    {
     "data": {
      "text/html": [
       "<div>\n",
       "<style scoped>\n",
       "    .dataframe tbody tr th:only-of-type {\n",
       "        vertical-align: middle;\n",
       "    }\n",
       "\n",
       "    .dataframe tbody tr th {\n",
       "        vertical-align: top;\n",
       "    }\n",
       "\n",
       "    .dataframe thead th {\n",
       "        text-align: right;\n",
       "    }\n",
       "</style>\n",
       "<table border=\"1\" class=\"dataframe\">\n",
       "  <thead>\n",
       "    <tr style=\"text-align: right;\">\n",
       "      <th></th>\n",
       "      <th>gre</th>\n",
       "      <th>gpa</th>\n",
       "      <th>prestige_2.0</th>\n",
       "      <th>prestige_3.0</th>\n",
       "      <th>prestige_4.0</th>\n",
       "    </tr>\n",
       "  </thead>\n",
       "  <tbody>\n",
       "    <tr>\n",
       "      <th>0</th>\n",
       "      <td>380.0</td>\n",
       "      <td>3.61</td>\n",
       "      <td>0</td>\n",
       "      <td>1</td>\n",
       "      <td>0</td>\n",
       "    </tr>\n",
       "    <tr>\n",
       "      <th>1</th>\n",
       "      <td>660.0</td>\n",
       "      <td>3.67</td>\n",
       "      <td>0</td>\n",
       "      <td>1</td>\n",
       "      <td>0</td>\n",
       "    </tr>\n",
       "    <tr>\n",
       "      <th>2</th>\n",
       "      <td>800.0</td>\n",
       "      <td>4.00</td>\n",
       "      <td>0</td>\n",
       "      <td>0</td>\n",
       "      <td>0</td>\n",
       "    </tr>\n",
       "    <tr>\n",
       "      <th>3</th>\n",
       "      <td>640.0</td>\n",
       "      <td>3.19</td>\n",
       "      <td>0</td>\n",
       "      <td>0</td>\n",
       "      <td>1</td>\n",
       "    </tr>\n",
       "    <tr>\n",
       "      <th>4</th>\n",
       "      <td>520.0</td>\n",
       "      <td>2.93</td>\n",
       "      <td>0</td>\n",
       "      <td>0</td>\n",
       "      <td>1</td>\n",
       "    </tr>\n",
       "  </tbody>\n",
       "</table>\n",
       "</div>"
      ],
      "text/plain": [
       "     gre   gpa  prestige_2.0  prestige_3.0  prestige_4.0\n",
       "0  380.0  3.61             0             1             0\n",
       "1  660.0  3.67             0             1             0\n",
       "2  800.0  4.00             0             0             0\n",
       "3  640.0  3.19             0             0             1\n",
       "4  520.0  2.93             0             0             1"
      ]
     },
     "execution_count": 147,
     "metadata": {},
     "output_type": "execute_result"
    }
   ],
   "source": [
    "X.head()"
   ]
  },
  {
   "cell_type": "code",
   "execution_count": 166,
   "metadata": {
    "button": false,
    "new_sheet": false,
    "run_control": {
     "read_only": false
    }
   },
   "outputs": [
    {
     "data": {
      "text/html": [
       "<div>\n",
       "<style scoped>\n",
       "    .dataframe tbody tr th:only-of-type {\n",
       "        vertical-align: middle;\n",
       "    }\n",
       "\n",
       "    .dataframe tbody tr th {\n",
       "        vertical-align: top;\n",
       "    }\n",
       "\n",
       "    .dataframe thead th {\n",
       "        text-align: right;\n",
       "    }\n",
       "</style>\n",
       "<table border=\"1\" class=\"dataframe\">\n",
       "  <thead>\n",
       "    <tr style=\"text-align: right;\">\n",
       "      <th></th>\n",
       "      <th>gre</th>\n",
       "      <th>gpa</th>\n",
       "      <th>prestige_2.0</th>\n",
       "      <th>prestige_3.0</th>\n",
       "      <th>prestige_4.0</th>\n",
       "    </tr>\n",
       "  </thead>\n",
       "  <tbody>\n",
       "    <tr>\n",
       "      <th>0</th>\n",
       "      <td>560</td>\n",
       "      <td>3.6</td>\n",
       "      <td>1</td>\n",
       "      <td>0</td>\n",
       "      <td>0</td>\n",
       "    </tr>\n",
       "    <tr>\n",
       "      <th>1</th>\n",
       "      <td>750</td>\n",
       "      <td>3.8</td>\n",
       "      <td>0</td>\n",
       "      <td>0</td>\n",
       "      <td>1</td>\n",
       "    </tr>\n",
       "    <tr>\n",
       "      <th>2</th>\n",
       "      <td>660</td>\n",
       "      <td>3.1</td>\n",
       "      <td>0</td>\n",
       "      <td>0</td>\n",
       "      <td>0</td>\n",
       "    </tr>\n",
       "  </tbody>\n",
       "</table>\n",
       "</div>"
      ],
      "text/plain": [
       "   gre  gpa  prestige_2.0  prestige_3.0  prestige_4.0\n",
       "0  560  3.6             1             0             0\n",
       "1  750  3.8             0             0             1\n",
       "2  660  3.1             0             0             0"
      ]
     },
     "execution_count": 166,
     "metadata": {},
     "output_type": "execute_result"
    }
   ],
   "source": [
    "X_prod = pd.DataFrame({'gre':[560,750,660],'gpa':[3.6,3.8,3.1],'prestige_2.0':[1,0,0],'prestige_3.0':[0,0,0],'prestige_4.0':[0,1,0]})\n",
    "X_prod"
   ]
  },
  {
   "cell_type": "code",
   "execution_count": 167,
   "metadata": {
    "button": false,
    "new_sheet": false,
    "run_control": {
     "read_only": false
    }
   },
   "outputs": [
    {
     "data": {
      "text/plain": [
       "array([0.357864  , 0.27430945, 0.52028323])"
      ]
     },
     "execution_count": 167,
     "metadata": {},
     "output_type": "execute_result"
    }
   ],
   "source": [
    "lr.fit(X,y)\n",
    "prod_lg_prob = lr.predict_proba(X_prod)\n",
    "prod_lg_prob[:, 1]\n",
    "#prod_lg_prob"
   ]
  },
  {
   "cell_type": "code",
   "execution_count": 168,
   "metadata": {
    "button": false,
    "new_sheet": false,
    "run_control": {
     "read_only": false
    }
   },
   "outputs": [
    {
     "data": {
      "text/plain": [
       "array([0, 0, 0])"
      ]
     },
     "execution_count": 168,
     "metadata": {},
     "output_type": "execute_result"
    }
   ],
   "source": [
    "knn5.predict(X_prod)"
   ]
  },
  {
   "cell_type": "code",
   "execution_count": null,
   "metadata": {},
   "outputs": [],
   "source": []
  },
  {
   "cell_type": "code",
   "execution_count": null,
   "metadata": {},
   "outputs": [],
   "source": []
  },
  {
   "cell_type": "markdown",
   "metadata": {
    "button": false,
    "new_sheet": false,
    "run_control": {
     "read_only": false
    }
   },
   "source": [
    "## Section 2: Mystery Dataset\n",
    "\n",
    "In this section you will work with a \"mystery\" supervised classification dataset, in that you have no context to work with — the names of the features come from San Francisco neighborhoods but aren't related to anything to San Francisco.\n",
    "\n",
    "<br>\n",
    "\n",
    "In this section I want to devise the best possible model with the fewest number of features. Some of the features are informative, while others are junk, your task is to find the good ones while dropping the bad ones.\n",
    "\n",
    "<br>\n",
    "\n",
    "I want you to thoroughly test at least three algorithms in order to find the best one with the best parameters."
   ]
  },
  {
   "cell_type": "code",
   "execution_count": 169,
   "metadata": {
    "button": false,
    "new_sheet": false,
    "run_control": {
     "read_only": false
    }
   },
   "outputs": [
    {
     "data": {
      "text/html": [
       "<div>\n",
       "<style scoped>\n",
       "    .dataframe tbody tr th:only-of-type {\n",
       "        vertical-align: middle;\n",
       "    }\n",
       "\n",
       "    .dataframe tbody tr th {\n",
       "        vertical-align: top;\n",
       "    }\n",
       "\n",
       "    .dataframe thead th {\n",
       "        text-align: right;\n",
       "    }\n",
       "</style>\n",
       "<table border=\"1\" class=\"dataframe\">\n",
       "  <thead>\n",
       "    <tr style=\"text-align: right;\">\n",
       "      <th></th>\n",
       "      <th>haight</th>\n",
       "      <th>mission</th>\n",
       "      <th>soma</th>\n",
       "      <th>sunset</th>\n",
       "      <th>richmond</th>\n",
       "      <th>glen_park</th>\n",
       "      <th>castro</th>\n",
       "      <th>potrero</th>\n",
       "      <th>hayes_valley</th>\n",
       "      <th>fillmore</th>\n",
       "      <th>bernal</th>\n",
       "      <th>marina</th>\n",
       "      <th>north_beach</th>\n",
       "      <th>excelsior</th>\n",
       "      <th>target</th>\n",
       "    </tr>\n",
       "  </thead>\n",
       "  <tbody>\n",
       "    <tr>\n",
       "      <th>0</th>\n",
       "      <td>-3.126509</td>\n",
       "      <td>7.807749</td>\n",
       "      <td>0.959736</td>\n",
       "      <td>-2.248569</td>\n",
       "      <td>4.557675</td>\n",
       "      <td>1.110156</td>\n",
       "      <td>0.617296</td>\n",
       "      <td>0.356864</td>\n",
       "      <td>0.860267</td>\n",
       "      <td>-0.395962</td>\n",
       "      <td>-1.144975</td>\n",
       "      <td>-1.805742</td>\n",
       "      <td>1.498388</td>\n",
       "      <td>2.157730</td>\n",
       "      <td>1</td>\n",
       "    </tr>\n",
       "    <tr>\n",
       "      <th>1</th>\n",
       "      <td>0.941629</td>\n",
       "      <td>2.935495</td>\n",
       "      <td>-0.584966</td>\n",
       "      <td>-0.880963</td>\n",
       "      <td>-1.262072</td>\n",
       "      <td>0.120989</td>\n",
       "      <td>3.970787</td>\n",
       "      <td>2.509629</td>\n",
       "      <td>1.400017</td>\n",
       "      <td>0.574335</td>\n",
       "      <td>-3.389879</td>\n",
       "      <td>-0.898020</td>\n",
       "      <td>0.512079</td>\n",
       "      <td>4.340694</td>\n",
       "      <td>1</td>\n",
       "    </tr>\n",
       "    <tr>\n",
       "      <th>2</th>\n",
       "      <td>-0.724688</td>\n",
       "      <td>4.192606</td>\n",
       "      <td>-1.139602</td>\n",
       "      <td>0.856972</td>\n",
       "      <td>0.906893</td>\n",
       "      <td>-2.799484</td>\n",
       "      <td>0.584498</td>\n",
       "      <td>3.468955</td>\n",
       "      <td>1.011336</td>\n",
       "      <td>0.839612</td>\n",
       "      <td>-1.384781</td>\n",
       "      <td>-0.241726</td>\n",
       "      <td>1.502255</td>\n",
       "      <td>-1.539356</td>\n",
       "      <td>1</td>\n",
       "    </tr>\n",
       "    <tr>\n",
       "      <th>3</th>\n",
       "      <td>-2.641034</td>\n",
       "      <td>6.963189</td>\n",
       "      <td>0.962412</td>\n",
       "      <td>-0.838858</td>\n",
       "      <td>1.549620</td>\n",
       "      <td>-2.335671</td>\n",
       "      <td>-0.838585</td>\n",
       "      <td>1.924333</td>\n",
       "      <td>2.794306</td>\n",
       "      <td>-0.421610</td>\n",
       "      <td>-1.273275</td>\n",
       "      <td>0.833424</td>\n",
       "      <td>2.268457</td>\n",
       "      <td>-0.004678</td>\n",
       "      <td>0</td>\n",
       "    </tr>\n",
       "    <tr>\n",
       "      <th>4</th>\n",
       "      <td>1.259116</td>\n",
       "      <td>4.741797</td>\n",
       "      <td>1.084332</td>\n",
       "      <td>0.186698</td>\n",
       "      <td>4.794145</td>\n",
       "      <td>-1.093006</td>\n",
       "      <td>2.161358</td>\n",
       "      <td>3.264167</td>\n",
       "      <td>-0.060052</td>\n",
       "      <td>1.154145</td>\n",
       "      <td>-2.030773</td>\n",
       "      <td>-1.442986</td>\n",
       "      <td>0.588193</td>\n",
       "      <td>0.533464</td>\n",
       "      <td>1</td>\n",
       "    </tr>\n",
       "  </tbody>\n",
       "</table>\n",
       "</div>"
      ],
      "text/plain": [
       "     haight   mission      soma    sunset  richmond  glen_park    castro  \\\n",
       "0 -3.126509  7.807749  0.959736 -2.248569  4.557675   1.110156  0.617296   \n",
       "1  0.941629  2.935495 -0.584966 -0.880963 -1.262072   0.120989  3.970787   \n",
       "2 -0.724688  4.192606 -1.139602  0.856972  0.906893  -2.799484  0.584498   \n",
       "3 -2.641034  6.963189  0.962412 -0.838858  1.549620  -2.335671 -0.838585   \n",
       "4  1.259116  4.741797  1.084332  0.186698  4.794145  -1.093006  2.161358   \n",
       "\n",
       "    potrero  hayes_valley  fillmore    bernal    marina  north_beach  \\\n",
       "0  0.356864      0.860267 -0.395962 -1.144975 -1.805742     1.498388   \n",
       "1  2.509629      1.400017  0.574335 -3.389879 -0.898020     0.512079   \n",
       "2  3.468955      1.011336  0.839612 -1.384781 -0.241726     1.502255   \n",
       "3  1.924333      2.794306 -0.421610 -1.273275  0.833424     2.268457   \n",
       "4  3.264167     -0.060052  1.154145 -2.030773 -1.442986     0.588193   \n",
       "\n",
       "   excelsior  target  \n",
       "0   2.157730       1  \n",
       "1   4.340694       1  \n",
       "2  -1.539356       1  \n",
       "3  -0.004678       0  \n",
       "4   0.533464       1  "
      ]
     },
     "execution_count": 169,
     "metadata": {},
     "output_type": "execute_result"
    }
   ],
   "source": [
    "data = pd.read_csv(\"../data/homework_2_data.csv\", index_col=[0])\n",
    "\n",
    "data.head()"
   ]
  },
  {
   "cell_type": "code",
   "execution_count": 170,
   "metadata": {
    "button": false,
    "new_sheet": false,
    "run_control": {
     "read_only": false
    }
   },
   "outputs": [
    {
     "name": "stdout",
     "output_type": "stream",
     "text": [
      "<class 'pandas.core.frame.DataFrame'>\n",
      "Int64Index: 4000 entries, 0 to 3999\n",
      "Data columns (total 15 columns):\n",
      "haight          4000 non-null float64\n",
      "mission         4000 non-null float64\n",
      "soma            4000 non-null float64\n",
      "sunset          4000 non-null float64\n",
      "richmond        4000 non-null float64\n",
      "glen_park       4000 non-null float64\n",
      "castro          4000 non-null float64\n",
      "potrero         4000 non-null float64\n",
      "hayes_valley    4000 non-null float64\n",
      "fillmore        4000 non-null float64\n",
      "bernal          4000 non-null float64\n",
      "marina          4000 non-null float64\n",
      "north_beach     4000 non-null float64\n",
      "excelsior       4000 non-null float64\n",
      "target          4000 non-null int64\n",
      "dtypes: float64(14), int64(1)\n",
      "memory usage: 500.0 KB\n"
     ]
    }
   ],
   "source": [
    "data.info()"
   ]
  },
  {
   "cell_type": "code",
   "execution_count": 172,
   "metadata": {
    "button": false,
    "new_sheet": false,
    "run_control": {
     "read_only": false
    }
   },
   "outputs": [
    {
     "data": {
      "text/plain": [
       "0    0.63825\n",
       "1    0.36175\n",
       "Name: target, dtype: float64"
      ]
     },
     "execution_count": 172,
     "metadata": {},
     "output_type": "execute_result"
    }
   ],
   "source": [
    "data.target.value_counts(normalize = True)"
   ]
  },
  {
   "cell_type": "code",
   "execution_count": 173,
   "metadata": {
    "button": false,
    "new_sheet": false,
    "run_control": {
     "read_only": false
    }
   },
   "outputs": [],
   "source": [
    "X = data.drop('target',axis = 1)\n",
    "y = data.target"
   ]
  },
  {
   "cell_type": "code",
   "execution_count": 176,
   "metadata": {
    "button": false,
    "new_sheet": false,
    "run_control": {
     "read_only": false
    }
   },
   "outputs": [],
   "source": [
    "X_train, X_test, y_train, y_test = train_test_split(X, y, test_size=0.25,random_state=5)"
   ]
  },
  {
   "cell_type": "code",
   "execution_count": 177,
   "metadata": {
    "button": false,
    "new_sheet": false,
    "run_control": {
     "read_only": false
    }
   },
   "outputs": [
    {
     "name": "stdout",
     "output_type": "stream",
     "text": [
      "Accuracy: 0.824\n",
      "Confusion Metrix:\n",
      " [[554  94]\n",
      " [ 82 270]]\n"
     ]
    }
   ],
   "source": [
    "#Without Hyper Parameters Tuning\n",
    "#1-1,DesicionTree\n",
    "#importing module\n",
    "from sklearn.tree import DecisionTreeClassifier\n",
    "#making the instance\n",
    "model= DecisionTreeClassifier(random_state=1234)\n",
    "#learning\n",
    "model.fit(X_train,y_train)\n",
    "#Prediction\n",
    "prediction=model.predict(X_test)\n",
    "#importing the metrics module\n",
    "from sklearn import metrics\n",
    "#evaluation(Accuracy)\n",
    "print(\"Accuracy:\",metrics.accuracy_score(prediction,y_test))\n",
    "#evaluation(Confusion Metrix)\n",
    "print(\"Confusion Metrix:\\n\",metrics.confusion_matrix(prediction,y_test))"
   ]
  },
  {
   "cell_type": "code",
   "execution_count": 178,
   "metadata": {},
   "outputs": [
    {
     "name": "stdout",
     "output_type": "stream",
     "text": [
      "Accuracy: 0.86\n",
      "Confusion Metrix:\n",
      " [[594  98]\n",
      " [ 42 266]]\n"
     ]
    }
   ],
   "source": [
    "#Without Hyper Parameters Tuning\n",
    "#1-2,Randomforest\n",
    "#importing module\n",
    "from sklearn.ensemble import RandomForestClassifier\n",
    "#making the instance\n",
    "model=RandomForestClassifier(n_jobs=-1,random_state=123)\n",
    "#learning\n",
    "model.fit(X_train,y_train)\n",
    "#Prediction\n",
    "prediction=model.predict(X_test)\n",
    "#importing the metrics module\n",
    "from sklearn import metrics\n",
    "#evaluation(Accuracy)\n",
    "print(\"Accuracy:\",metrics.accuracy_score(prediction,y_test))\n",
    "#evaluation(Confusion Metrix)\n",
    "print(\"Confusion Metrix:\\n\",metrics.confusion_matrix(prediction,y_test))"
   ]
  },
  {
   "cell_type": "code",
   "execution_count": 179,
   "metadata": {},
   "outputs": [
    {
     "name": "stdout",
     "output_type": "stream",
     "text": [
      "Accuracy: 0.912\n",
      "Confusion Metrix:\n",
      " [[599  51]\n",
      " [ 37 313]]\n"
     ]
    }
   ],
   "source": [
    "#Without Hyper Parameters Tuning\n",
    "#1-3,SVM\n",
    "#importing module\n",
    "from sklearn import svm\n",
    "#making the instance\n",
    "model = svm.SVC(random_state=123)\n",
    "#learning\n",
    "model.fit(X_train,y_train)\n",
    "#Prediction\n",
    "prediction=model.predict(X_test)\n",
    "#importing the metrics module\n",
    "from sklearn import metrics\n",
    "#evaluation(Accuracy)\n",
    "print(\"Accuracy:\",metrics.accuracy_score(prediction,y_test))\n",
    "#evaluation(Confusion Metrix)\n",
    "print(\"Confusion Metrix:\\n\",metrics.confusion_matrix(prediction,y_test))"
   ]
  },
  {
   "cell_type": "code",
   "execution_count": 180,
   "metadata": {},
   "outputs": [
    {
     "name": "stdout",
     "output_type": "stream",
     "text": [
      "Accuracy: 0.88\n",
      "Confusion Metrix:\n",
      " [[596  80]\n",
      " [ 40 284]]\n"
     ]
    }
   ],
   "source": [
    "#Without Hyper Parameters Tuning\n",
    "#1-4,kNearestNeighbors\n",
    "#importing module\n",
    "from sklearn.neighbors import KNeighborsClassifier\n",
    "#making the instance\n",
    "model = KNeighborsClassifier(n_jobs=-1)\n",
    "#learning\n",
    "model.fit(X_train,y_train)\n",
    "#Prediction\n",
    "prediction=model.predict(X_test)\n",
    "#importing the metrics module\n",
    "from sklearn import metrics\n",
    "#evaluation(Accuracy)\n",
    "print(\"Accuracy:\",metrics.accuracy_score(prediction,y_test))\n",
    "#evaluation(Confusion Metrix)\n",
    "print(\"Confusion Metrix:\\n\",metrics.confusion_matrix(prediction,y_test))"
   ]
  },
  {
   "cell_type": "code",
   "execution_count": 181,
   "metadata": {},
   "outputs": [
    {
     "name": "stdout",
     "output_type": "stream",
     "text": [
      "Best Hyper Parameters: {'max_features': 'auto', 'min_samples_leaf': 2, 'min_samples_split': 13, 'random_state': 123}\n",
      "Accuracy: 0.781\n",
      "Confusion Metrix:\n",
      " [[549 132]\n",
      " [ 87 232]]\n"
     ]
    }
   ],
   "source": [
    "#With Hyper Parameters Tuning\n",
    "#2-1,DesicionTree\n",
    "#importing modules\n",
    "from sklearn.model_selection import GridSearchCV\n",
    "from sklearn.tree import DecisionTreeClassifier\n",
    "#making the instance\n",
    "model= DecisionTreeClassifier(random_state=1234)\n",
    "#Hyper Parameters Set\n",
    "params = {'max_features': ['auto', 'sqrt', 'log2'],\n",
    "          'min_samples_split': [2,3,4,5,6,7,8,9,10,11,12,13,14,15], \n",
    "          'min_samples_leaf':[1,2,3,4,5,6,7,8,9,10,11],\n",
    "          'random_state':[123]}\n",
    "#Making models with hyper parameters sets\n",
    "model1 = GridSearchCV(model, param_grid=params, n_jobs=-1)\n",
    "#Learning\n",
    "model1.fit(X_train,y_train)\n",
    "#The best hyper parameters set\n",
    "print(\"Best Hyper Parameters:\",model1.best_params_)\n",
    "#Prediction\n",
    "prediction=model1.predict(X_test)\n",
    "#importing the metrics module\n",
    "from sklearn import metrics\n",
    "#evaluation(Accuracy)\n",
    "print(\"Accuracy:\",metrics.accuracy_score(prediction,y_test))\n",
    "#evaluation(Confusion Metrix)\n",
    "print(\"Confusion Metrix:\\n\",metrics.confusion_matrix(prediction,y_test))"
   ]
  },
  {
   "cell_type": "code",
   "execution_count": 182,
   "metadata": {},
   "outputs": [
    {
     "name": "stdout",
     "output_type": "stream",
     "text": [
      "Best Hyper Parameters:\n",
      " {'criterion': 'gini', 'min_samples_leaf': 1, 'min_samples_split': 7, 'n_estimators': 25, 'n_jobs': -1, 'random_state': 123}\n",
      "Accuracy: 0.875\n",
      "Confusion Metrix:\n",
      " [[587  76]\n",
      " [ 49 288]]\n"
     ]
    }
   ],
   "source": [
    "#With Hyper Parameters Tuning\n",
    "#2-2,Randomforest\n",
    "#importing modules\n",
    "from sklearn.model_selection import GridSearchCV\n",
    "from sklearn.ensemble import RandomForestClassifier\n",
    "#making the instance\n",
    "model=RandomForestClassifier()\n",
    "#hyper parameters set\n",
    "params = {'criterion':['gini','entropy'],\n",
    "          'n_estimators':[10,15,20,25,30],\n",
    "          'min_samples_leaf':[1,2,3],\n",
    "          'min_samples_split':[3,4,5,6,7], \n",
    "          'random_state':[123],\n",
    "          'n_jobs':[-1]}\n",
    "#Making models with hyper parameters sets\n",
    "model1 = GridSearchCV(model, param_grid=params, n_jobs=-1)\n",
    "#learning\n",
    "model1.fit(X_train,y_train)\n",
    "#The best hyper parameters set\n",
    "print(\"Best Hyper Parameters:\\n\",model1.best_params_)\n",
    "#Prediction\n",
    "prediction=model1.predict(X_test)\n",
    "#importing the metrics module\n",
    "from sklearn import metrics\n",
    "#evaluation(Accuracy)\n",
    "print(\"Accuracy:\",metrics.accuracy_score(prediction,y_test))\n",
    "#evaluation(Confusion Metrix)\n",
    "print(\"Confusion Metrix:\\n\",metrics.confusion_matrix(prediction,y_test))"
   ]
  },
  {
   "cell_type": "code",
   "execution_count": 183,
   "metadata": {},
   "outputs": [
    {
     "name": "stdout",
     "output_type": "stream",
     "text": [
      "Best Hyper Parameters:\n",
      " {'C': 6, 'kernel': 'rbf'}\n",
      "Accuracy: 0.905\n",
      "Confusion Metrix:\n",
      " [[596  55]\n",
      " [ 40 309]]\n"
     ]
    }
   ],
   "source": [
    "#With Hyper Parameters Tuning\n",
    "#2-3,SVM\n",
    "#importing modules\n",
    "from sklearn.model_selection import GridSearchCV\n",
    "from sklearn import svm\n",
    "#making the instance\n",
    "model=svm.SVC()\n",
    "#Hyper Parameters Set\n",
    "params = {'C': [6,7,8,9,10,11,12], \n",
    "          'kernel': ['linear','rbf']}\n",
    "#Making models with hyper parameters sets\n",
    "model1 = GridSearchCV(model, param_grid=params, n_jobs=-1)\n",
    "#Learning\n",
    "model1.fit(X_train,y_train)\n",
    "#The best hyper parameters set\n",
    "print(\"Best Hyper Parameters:\\n\",model1.best_params_)\n",
    "#Prediction\n",
    "prediction=model1.predict(X_test)\n",
    "#importing the metrics module\n",
    "from sklearn import metrics\n",
    "#evaluation(Accuracy)\n",
    "print(\"Accuracy:\",metrics.accuracy_score(prediction,y_test))\n",
    "#evaluation(Confusion Metrix)\n",
    "print(\"Confusion Metrix:\\n\",metrics.confusion_matrix(prediction,y_test))"
   ]
  },
  {
   "cell_type": "code",
   "execution_count": 184,
   "metadata": {},
   "outputs": [
    {
     "name": "stdout",
     "output_type": "stream",
     "text": [
      "Best Hyper Parameters:\n",
      " {'algorithm': 'auto', 'leaf_size': 1, 'n_jobs': -1, 'n_neighbors': 10, 'weights': 'distance'}\n",
      "Accuracy: 0.885\n",
      "Confusion Metrix:\n",
      " [[596  75]\n",
      " [ 40 289]]\n"
     ]
    }
   ],
   "source": [
    "#With Hyper Parameters Tuning\n",
    "#2-4,kNearestNeighbors\n",
    "#importing modules\n",
    "from sklearn.model_selection import GridSearchCV\n",
    "from sklearn.neighbors import KNeighborsClassifier\n",
    "#making the instance\n",
    "model = KNeighborsClassifier(n_jobs=-1)\n",
    "#Hyper Parameters Set\n",
    "params = {'n_neighbors':[5,6,7,8,9,10],\n",
    "          'leaf_size':[1,2,3,5],\n",
    "          'weights':['uniform', 'distance'],\n",
    "          'algorithm':['auto', 'ball_tree','kd_tree','brute'],\n",
    "          'n_jobs':[-1]}\n",
    "#Making models with hyper parameters sets\n",
    "model1 = GridSearchCV(model, param_grid=params, n_jobs=1)\n",
    "#Learning\n",
    "model1.fit(X_train,y_train)\n",
    "#The best hyper parameters set\n",
    "print(\"Best Hyper Parameters:\\n\",model1.best_params_)\n",
    "#Prediction\n",
    "prediction=model1.predict(X_test)\n",
    "#importing the metrics module\n",
    "from sklearn import metrics\n",
    "#evaluation(Accuracy)\n",
    "print(\"Accuracy:\",metrics.accuracy_score(prediction,y_test))\n",
    "#evaluation(Confusion Metrix)\n",
    "print(\"Confusion Metrix:\\n\",metrics.confusion_matrix(prediction,y_test))"
   ]
  },
  {
   "cell_type": "code",
   "execution_count": null,
   "metadata": {},
   "outputs": [],
   "source": [
    "# data.Target.value counts = 0    0.63825\n",
    "#                            1    0.36175\n",
    "\n",
    "#Result           Without HyperParameterTuning      With HyperParameterTuning\n",
    "#DecisionTree     0.824                    0.781   →not improved\n",
    "#Randomforest     0.86                    0.875   →the same result\n",
    "#SVM              0.912                   0.905    →not improved\n",
    "#kNearestNeighbor 0.88                     0.885    →the same result \n",
    "\n",
    "#The default hyper parameters set of DecisionTree, Randomforest and kNearestNeighbor looks not so bad."
   ]
  },
  {
   "cell_type": "code",
   "execution_count": 186,
   "metadata": {},
   "outputs": [
    {
     "data": {
      "text/html": [
       "<div>\n",
       "<style scoped>\n",
       "    .dataframe tbody tr th:only-of-type {\n",
       "        vertical-align: middle;\n",
       "    }\n",
       "\n",
       "    .dataframe tbody tr th {\n",
       "        vertical-align: top;\n",
       "    }\n",
       "\n",
       "    .dataframe thead th {\n",
       "        text-align: right;\n",
       "    }\n",
       "</style>\n",
       "<table border=\"1\" class=\"dataframe\">\n",
       "  <thead>\n",
       "    <tr style=\"text-align: right;\">\n",
       "      <th></th>\n",
       "      <th>haight</th>\n",
       "      <th>mission</th>\n",
       "      <th>soma</th>\n",
       "      <th>sunset</th>\n",
       "      <th>richmond</th>\n",
       "      <th>glen_park</th>\n",
       "      <th>castro</th>\n",
       "      <th>potrero</th>\n",
       "      <th>hayes_valley</th>\n",
       "      <th>fillmore</th>\n",
       "      <th>bernal</th>\n",
       "      <th>marina</th>\n",
       "      <th>north_beach</th>\n",
       "      <th>excelsior</th>\n",
       "      <th>target</th>\n",
       "    </tr>\n",
       "  </thead>\n",
       "  <tbody>\n",
       "    <tr>\n",
       "      <th>haight</th>\n",
       "      <td>1.000000</td>\n",
       "      <td>-0.691099</td>\n",
       "      <td>-0.003451</td>\n",
       "      <td>0.017411</td>\n",
       "      <td>0.023025</td>\n",
       "      <td>-0.055019</td>\n",
       "      <td>-0.106320</td>\n",
       "      <td>-0.034309</td>\n",
       "      <td>-0.299097</td>\n",
       "      <td>0.006428</td>\n",
       "      <td>0.164962</td>\n",
       "      <td>0.028713</td>\n",
       "      <td>0.324309</td>\n",
       "      <td>-0.423019</td>\n",
       "      <td>-0.171926</td>\n",
       "    </tr>\n",
       "    <tr>\n",
       "      <th>mission</th>\n",
       "      <td>-0.691099</td>\n",
       "      <td>1.000000</td>\n",
       "      <td>0.013116</td>\n",
       "      <td>-0.006411</td>\n",
       "      <td>0.448394</td>\n",
       "      <td>0.023159</td>\n",
       "      <td>0.229411</td>\n",
       "      <td>0.248336</td>\n",
       "      <td>0.672682</td>\n",
       "      <td>-0.004066</td>\n",
       "      <td>-0.223609</td>\n",
       "      <td>-0.013775</td>\n",
       "      <td>-0.132077</td>\n",
       "      <td>0.508043</td>\n",
       "      <td>0.136988</td>\n",
       "    </tr>\n",
       "    <tr>\n",
       "      <th>soma</th>\n",
       "      <td>-0.003451</td>\n",
       "      <td>0.013116</td>\n",
       "      <td>1.000000</td>\n",
       "      <td>-0.017127</td>\n",
       "      <td>-0.008683</td>\n",
       "      <td>0.023943</td>\n",
       "      <td>0.033782</td>\n",
       "      <td>0.008518</td>\n",
       "      <td>0.011988</td>\n",
       "      <td>-0.003719</td>\n",
       "      <td>-0.015025</td>\n",
       "      <td>-0.003473</td>\n",
       "      <td>-0.021821</td>\n",
       "      <td>0.030777</td>\n",
       "      <td>0.010718</td>\n",
       "    </tr>\n",
       "    <tr>\n",
       "      <th>sunset</th>\n",
       "      <td>0.017411</td>\n",
       "      <td>-0.006411</td>\n",
       "      <td>-0.017127</td>\n",
       "      <td>1.000000</td>\n",
       "      <td>0.028527</td>\n",
       "      <td>-0.017834</td>\n",
       "      <td>0.011205</td>\n",
       "      <td>0.017100</td>\n",
       "      <td>-0.018217</td>\n",
       "      <td>0.000801</td>\n",
       "      <td>-0.007153</td>\n",
       "      <td>0.004034</td>\n",
       "      <td>-0.024942</td>\n",
       "      <td>-0.000102</td>\n",
       "      <td>-0.026396</td>\n",
       "    </tr>\n",
       "    <tr>\n",
       "      <th>richmond</th>\n",
       "      <td>0.023025</td>\n",
       "      <td>0.448394</td>\n",
       "      <td>-0.008683</td>\n",
       "      <td>0.028527</td>\n",
       "      <td>1.000000</td>\n",
       "      <td>0.011149</td>\n",
       "      <td>-0.038702</td>\n",
       "      <td>0.076728</td>\n",
       "      <td>0.091362</td>\n",
       "      <td>-0.007679</td>\n",
       "      <td>-0.202575</td>\n",
       "      <td>-0.023585</td>\n",
       "      <td>-0.067719</td>\n",
       "      <td>0.170600</td>\n",
       "      <td>-0.196710</td>\n",
       "    </tr>\n",
       "    <tr>\n",
       "      <th>glen_park</th>\n",
       "      <td>-0.055019</td>\n",
       "      <td>0.023159</td>\n",
       "      <td>0.023943</td>\n",
       "      <td>-0.017834</td>\n",
       "      <td>0.011149</td>\n",
       "      <td>1.000000</td>\n",
       "      <td>0.119650</td>\n",
       "      <td>-0.043640</td>\n",
       "      <td>-0.034043</td>\n",
       "      <td>0.010605</td>\n",
       "      <td>-0.019650</td>\n",
       "      <td>0.006034</td>\n",
       "      <td>-0.432634</td>\n",
       "      <td>0.374960</td>\n",
       "      <td>0.005610</td>\n",
       "    </tr>\n",
       "    <tr>\n",
       "      <th>castro</th>\n",
       "      <td>-0.106320</td>\n",
       "      <td>0.229411</td>\n",
       "      <td>0.033782</td>\n",
       "      <td>0.011205</td>\n",
       "      <td>-0.038702</td>\n",
       "      <td>0.119650</td>\n",
       "      <td>1.000000</td>\n",
       "      <td>-0.019393</td>\n",
       "      <td>0.118713</td>\n",
       "      <td>0.016342</td>\n",
       "      <td>0.063033</td>\n",
       "      <td>0.006320</td>\n",
       "      <td>-0.278914</td>\n",
       "      <td>0.441421</td>\n",
       "      <td>0.187220</td>\n",
       "    </tr>\n",
       "    <tr>\n",
       "      <th>potrero</th>\n",
       "      <td>-0.034309</td>\n",
       "      <td>0.248336</td>\n",
       "      <td>0.008518</td>\n",
       "      <td>0.017100</td>\n",
       "      <td>0.076728</td>\n",
       "      <td>-0.043640</td>\n",
       "      <td>-0.019393</td>\n",
       "      <td>1.000000</td>\n",
       "      <td>-0.044419</td>\n",
       "      <td>-0.035553</td>\n",
       "      <td>0.093639</td>\n",
       "      <td>0.033770</td>\n",
       "      <td>0.060056</td>\n",
       "      <td>-0.368261</td>\n",
       "      <td>-0.199197</td>\n",
       "    </tr>\n",
       "    <tr>\n",
       "      <th>hayes_valley</th>\n",
       "      <td>-0.299097</td>\n",
       "      <td>0.672682</td>\n",
       "      <td>0.011988</td>\n",
       "      <td>-0.018217</td>\n",
       "      <td>0.091362</td>\n",
       "      <td>-0.034043</td>\n",
       "      <td>0.118713</td>\n",
       "      <td>-0.044419</td>\n",
       "      <td>1.000000</td>\n",
       "      <td>0.015605</td>\n",
       "      <td>0.105327</td>\n",
       "      <td>0.001810</td>\n",
       "      <td>-0.011746</td>\n",
       "      <td>0.453605</td>\n",
       "      <td>0.176853</td>\n",
       "    </tr>\n",
       "    <tr>\n",
       "      <th>fillmore</th>\n",
       "      <td>0.006428</td>\n",
       "      <td>-0.004066</td>\n",
       "      <td>-0.003719</td>\n",
       "      <td>0.000801</td>\n",
       "      <td>-0.007679</td>\n",
       "      <td>0.010605</td>\n",
       "      <td>0.016342</td>\n",
       "      <td>-0.035553</td>\n",
       "      <td>0.015605</td>\n",
       "      <td>1.000000</td>\n",
       "      <td>-0.003304</td>\n",
       "      <td>-0.019405</td>\n",
       "      <td>-0.006632</td>\n",
       "      <td>0.026074</td>\n",
       "      <td>0.028804</td>\n",
       "    </tr>\n",
       "    <tr>\n",
       "      <th>bernal</th>\n",
       "      <td>0.164962</td>\n",
       "      <td>-0.223609</td>\n",
       "      <td>-0.015025</td>\n",
       "      <td>-0.007153</td>\n",
       "      <td>-0.202575</td>\n",
       "      <td>-0.019650</td>\n",
       "      <td>0.063033</td>\n",
       "      <td>0.093639</td>\n",
       "      <td>0.105327</td>\n",
       "      <td>-0.003304</td>\n",
       "      <td>1.000000</td>\n",
       "      <td>0.022885</td>\n",
       "      <td>0.250826</td>\n",
       "      <td>-0.516126</td>\n",
       "      <td>-0.011225</td>\n",
       "    </tr>\n",
       "    <tr>\n",
       "      <th>marina</th>\n",
       "      <td>0.028713</td>\n",
       "      <td>-0.013775</td>\n",
       "      <td>-0.003473</td>\n",
       "      <td>0.004034</td>\n",
       "      <td>-0.023585</td>\n",
       "      <td>0.006034</td>\n",
       "      <td>0.006320</td>\n",
       "      <td>0.033770</td>\n",
       "      <td>0.001810</td>\n",
       "      <td>-0.019405</td>\n",
       "      <td>0.022885</td>\n",
       "      <td>1.000000</td>\n",
       "      <td>0.025445</td>\n",
       "      <td>-0.028492</td>\n",
       "      <td>-0.012432</td>\n",
       "    </tr>\n",
       "    <tr>\n",
       "      <th>north_beach</th>\n",
       "      <td>0.324309</td>\n",
       "      <td>-0.132077</td>\n",
       "      <td>-0.021821</td>\n",
       "      <td>-0.024942</td>\n",
       "      <td>-0.067719</td>\n",
       "      <td>-0.432634</td>\n",
       "      <td>-0.278914</td>\n",
       "      <td>0.060056</td>\n",
       "      <td>-0.011746</td>\n",
       "      <td>-0.006632</td>\n",
       "      <td>0.250826</td>\n",
       "      <td>0.025445</td>\n",
       "      <td>1.000000</td>\n",
       "      <td>-0.678071</td>\n",
       "      <td>0.198166</td>\n",
       "    </tr>\n",
       "    <tr>\n",
       "      <th>excelsior</th>\n",
       "      <td>-0.423019</td>\n",
       "      <td>0.508043</td>\n",
       "      <td>0.030777</td>\n",
       "      <td>-0.000102</td>\n",
       "      <td>0.170600</td>\n",
       "      <td>0.374960</td>\n",
       "      <td>0.441421</td>\n",
       "      <td>-0.368261</td>\n",
       "      <td>0.453605</td>\n",
       "      <td>0.026074</td>\n",
       "      <td>-0.516126</td>\n",
       "      <td>-0.028492</td>\n",
       "      <td>-0.678071</td>\n",
       "      <td>1.000000</td>\n",
       "      <td>0.121039</td>\n",
       "    </tr>\n",
       "    <tr>\n",
       "      <th>target</th>\n",
       "      <td>-0.171926</td>\n",
       "      <td>0.136988</td>\n",
       "      <td>0.010718</td>\n",
       "      <td>-0.026396</td>\n",
       "      <td>-0.196710</td>\n",
       "      <td>0.005610</td>\n",
       "      <td>0.187220</td>\n",
       "      <td>-0.199197</td>\n",
       "      <td>0.176853</td>\n",
       "      <td>0.028804</td>\n",
       "      <td>-0.011225</td>\n",
       "      <td>-0.012432</td>\n",
       "      <td>0.198166</td>\n",
       "      <td>0.121039</td>\n",
       "      <td>1.000000</td>\n",
       "    </tr>\n",
       "  </tbody>\n",
       "</table>\n",
       "</div>"
      ],
      "text/plain": [
       "                haight   mission      soma    sunset  richmond  glen_park  \\\n",
       "haight        1.000000 -0.691099 -0.003451  0.017411  0.023025  -0.055019   \n",
       "mission      -0.691099  1.000000  0.013116 -0.006411  0.448394   0.023159   \n",
       "soma         -0.003451  0.013116  1.000000 -0.017127 -0.008683   0.023943   \n",
       "sunset        0.017411 -0.006411 -0.017127  1.000000  0.028527  -0.017834   \n",
       "richmond      0.023025  0.448394 -0.008683  0.028527  1.000000   0.011149   \n",
       "glen_park    -0.055019  0.023159  0.023943 -0.017834  0.011149   1.000000   \n",
       "castro       -0.106320  0.229411  0.033782  0.011205 -0.038702   0.119650   \n",
       "potrero      -0.034309  0.248336  0.008518  0.017100  0.076728  -0.043640   \n",
       "hayes_valley -0.299097  0.672682  0.011988 -0.018217  0.091362  -0.034043   \n",
       "fillmore      0.006428 -0.004066 -0.003719  0.000801 -0.007679   0.010605   \n",
       "bernal        0.164962 -0.223609 -0.015025 -0.007153 -0.202575  -0.019650   \n",
       "marina        0.028713 -0.013775 -0.003473  0.004034 -0.023585   0.006034   \n",
       "north_beach   0.324309 -0.132077 -0.021821 -0.024942 -0.067719  -0.432634   \n",
       "excelsior    -0.423019  0.508043  0.030777 -0.000102  0.170600   0.374960   \n",
       "target       -0.171926  0.136988  0.010718 -0.026396 -0.196710   0.005610   \n",
       "\n",
       "                castro   potrero  hayes_valley  fillmore    bernal    marina  \\\n",
       "haight       -0.106320 -0.034309     -0.299097  0.006428  0.164962  0.028713   \n",
       "mission       0.229411  0.248336      0.672682 -0.004066 -0.223609 -0.013775   \n",
       "soma          0.033782  0.008518      0.011988 -0.003719 -0.015025 -0.003473   \n",
       "sunset        0.011205  0.017100     -0.018217  0.000801 -0.007153  0.004034   \n",
       "richmond     -0.038702  0.076728      0.091362 -0.007679 -0.202575 -0.023585   \n",
       "glen_park     0.119650 -0.043640     -0.034043  0.010605 -0.019650  0.006034   \n",
       "castro        1.000000 -0.019393      0.118713  0.016342  0.063033  0.006320   \n",
       "potrero      -0.019393  1.000000     -0.044419 -0.035553  0.093639  0.033770   \n",
       "hayes_valley  0.118713 -0.044419      1.000000  0.015605  0.105327  0.001810   \n",
       "fillmore      0.016342 -0.035553      0.015605  1.000000 -0.003304 -0.019405   \n",
       "bernal        0.063033  0.093639      0.105327 -0.003304  1.000000  0.022885   \n",
       "marina        0.006320  0.033770      0.001810 -0.019405  0.022885  1.000000   \n",
       "north_beach  -0.278914  0.060056     -0.011746 -0.006632  0.250826  0.025445   \n",
       "excelsior     0.441421 -0.368261      0.453605  0.026074 -0.516126 -0.028492   \n",
       "target        0.187220 -0.199197      0.176853  0.028804 -0.011225 -0.012432   \n",
       "\n",
       "              north_beach  excelsior    target  \n",
       "haight           0.324309  -0.423019 -0.171926  \n",
       "mission         -0.132077   0.508043  0.136988  \n",
       "soma            -0.021821   0.030777  0.010718  \n",
       "sunset          -0.024942  -0.000102 -0.026396  \n",
       "richmond        -0.067719   0.170600 -0.196710  \n",
       "glen_park       -0.432634   0.374960  0.005610  \n",
       "castro          -0.278914   0.441421  0.187220  \n",
       "potrero          0.060056  -0.368261 -0.199197  \n",
       "hayes_valley    -0.011746   0.453605  0.176853  \n",
       "fillmore        -0.006632   0.026074  0.028804  \n",
       "bernal           0.250826  -0.516126 -0.011225  \n",
       "marina           0.025445  -0.028492 -0.012432  \n",
       "north_beach      1.000000  -0.678071  0.198166  \n",
       "excelsior       -0.678071   1.000000  0.121039  \n",
       "target           0.198166   0.121039  1.000000  "
      ]
     },
     "execution_count": 186,
     "metadata": {},
     "output_type": "execute_result"
    }
   ],
   "source": [
    "data.corr()"
   ]
  },
  {
   "cell_type": "code",
   "execution_count": 187,
   "metadata": {},
   "outputs": [],
   "source": [
    "\n",
    "#making the instance\n",
    "model=RandomForestClassifier(n_jobs=-1,random_state=123)\n",
    "#learning\n",
    "model.fit(X,y)\n",
    "#Prediction\n",
    "prediction=model.predict(X)"
   ]
  },
  {
   "cell_type": "code",
   "execution_count": 188,
   "metadata": {},
   "outputs": [
    {
     "data": {
      "text/plain": [
       "array([0.07098178, 0.06699225, 0.02891994, 0.03055856, 0.12785922,\n",
       "       0.10611607, 0.06824089, 0.08197662, 0.06528219, 0.02948735,\n",
       "       0.06054573, 0.02842741, 0.12873618, 0.1058758 ])"
      ]
     },
     "execution_count": 188,
     "metadata": {},
     "output_type": "execute_result"
    }
   ],
   "source": [
    "model.feature_importances_"
   ]
  },
  {
   "cell_type": "code",
   "execution_count": 189,
   "metadata": {},
   "outputs": [
    {
     "data": {
      "text/plain": [
       "Index(['haight', 'mission', 'soma', 'sunset', 'richmond', 'glen_park',\n",
       "       'castro', 'potrero', 'hayes_valley', 'fillmore', 'bernal', 'marina',\n",
       "       'north_beach', 'excelsior', 'target'],\n",
       "      dtype='object')"
      ]
     },
     "execution_count": 189,
     "metadata": {},
     "output_type": "execute_result"
    }
   ],
   "source": [
    "data.columns"
   ]
  },
  {
   "cell_type": "code",
   "execution_count": 199,
   "metadata": {},
   "outputs": [
    {
     "data": {
      "text/html": [
       "<div>\n",
       "<style scoped>\n",
       "    .dataframe tbody tr th:only-of-type {\n",
       "        vertical-align: middle;\n",
       "    }\n",
       "\n",
       "    .dataframe tbody tr th {\n",
       "        vertical-align: top;\n",
       "    }\n",
       "\n",
       "    .dataframe thead th {\n",
       "        text-align: right;\n",
       "    }\n",
       "</style>\n",
       "<table border=\"1\" class=\"dataframe\">\n",
       "  <thead>\n",
       "    <tr style=\"text-align: right;\">\n",
       "      <th></th>\n",
       "      <th>col</th>\n",
       "      <th>imp</th>\n",
       "    </tr>\n",
       "  </thead>\n",
       "  <tbody>\n",
       "    <tr>\n",
       "      <th>4</th>\n",
       "      <td>richmond</td>\n",
       "      <td>0.127859</td>\n",
       "    </tr>\n",
       "    <tr>\n",
       "      <th>5</th>\n",
       "      <td>glen_park</td>\n",
       "      <td>0.106116</td>\n",
       "    </tr>\n",
       "    <tr>\n",
       "      <th>12</th>\n",
       "      <td>north_beach</td>\n",
       "      <td>0.128736</td>\n",
       "    </tr>\n",
       "    <tr>\n",
       "      <th>13</th>\n",
       "      <td>excelsior</td>\n",
       "      <td>0.105876</td>\n",
       "    </tr>\n",
       "  </tbody>\n",
       "</table>\n",
       "</div>"
      ],
      "text/plain": [
       "            col       imp\n",
       "4      richmond  0.127859\n",
       "5     glen_park  0.106116\n",
       "12  north_beach  0.128736\n",
       "13    excelsior  0.105876"
      ]
     },
     "execution_count": 199,
     "metadata": {},
     "output_type": "execute_result"
    }
   ],
   "source": [
    "data_imp = pd.DataFrame({'col': data.columns[0:14],'imp':model.feature_importances_})\n",
    "data_imp[data_imp.imp > 0.1]\n",
    "# Important features based on the feature importance"
   ]
  },
  {
   "cell_type": "code",
   "execution_count": 194,
   "metadata": {},
   "outputs": [],
   "source": [
    "X_imp = data.drop(['haight', 'mission', 'soma', 'sunset', 'castro','potrero','hayes_valley', 'fillmore','bernal', 'marina'],axis = 1)\n",
    "y = data.target"
   ]
  },
  {
   "cell_type": "code",
   "execution_count": 195,
   "metadata": {
    "scrolled": true
   },
   "outputs": [
    {
     "data": {
      "text/html": [
       "<div>\n",
       "<style scoped>\n",
       "    .dataframe tbody tr th:only-of-type {\n",
       "        vertical-align: middle;\n",
       "    }\n",
       "\n",
       "    .dataframe tbody tr th {\n",
       "        vertical-align: top;\n",
       "    }\n",
       "\n",
       "    .dataframe thead th {\n",
       "        text-align: right;\n",
       "    }\n",
       "</style>\n",
       "<table border=\"1\" class=\"dataframe\">\n",
       "  <thead>\n",
       "    <tr style=\"text-align: right;\">\n",
       "      <th></th>\n",
       "      <th>richmond</th>\n",
       "      <th>glen_park</th>\n",
       "      <th>north_beach</th>\n",
       "      <th>excelsior</th>\n",
       "      <th>target</th>\n",
       "    </tr>\n",
       "  </thead>\n",
       "  <tbody>\n",
       "    <tr>\n",
       "      <th>0</th>\n",
       "      <td>4.557675</td>\n",
       "      <td>1.110156</td>\n",
       "      <td>1.498388</td>\n",
       "      <td>2.157730</td>\n",
       "      <td>1</td>\n",
       "    </tr>\n",
       "    <tr>\n",
       "      <th>1</th>\n",
       "      <td>-1.262072</td>\n",
       "      <td>0.120989</td>\n",
       "      <td>0.512079</td>\n",
       "      <td>4.340694</td>\n",
       "      <td>1</td>\n",
       "    </tr>\n",
       "    <tr>\n",
       "      <th>2</th>\n",
       "      <td>0.906893</td>\n",
       "      <td>-2.799484</td>\n",
       "      <td>1.502255</td>\n",
       "      <td>-1.539356</td>\n",
       "      <td>1</td>\n",
       "    </tr>\n",
       "    <tr>\n",
       "      <th>3</th>\n",
       "      <td>1.549620</td>\n",
       "      <td>-2.335671</td>\n",
       "      <td>2.268457</td>\n",
       "      <td>-0.004678</td>\n",
       "      <td>0</td>\n",
       "    </tr>\n",
       "    <tr>\n",
       "      <th>4</th>\n",
       "      <td>4.794145</td>\n",
       "      <td>-1.093006</td>\n",
       "      <td>0.588193</td>\n",
       "      <td>0.533464</td>\n",
       "      <td>1</td>\n",
       "    </tr>\n",
       "  </tbody>\n",
       "</table>\n",
       "</div>"
      ],
      "text/plain": [
       "   richmond  glen_park  north_beach  excelsior  target\n",
       "0  4.557675   1.110156     1.498388   2.157730       1\n",
       "1 -1.262072   0.120989     0.512079   4.340694       1\n",
       "2  0.906893  -2.799484     1.502255  -1.539356       1\n",
       "3  1.549620  -2.335671     2.268457  -0.004678       0\n",
       "4  4.794145  -1.093006     0.588193   0.533464       1"
      ]
     },
     "execution_count": 195,
     "metadata": {},
     "output_type": "execute_result"
    }
   ],
   "source": [
    "X_imp.head()"
   ]
  },
  {
   "cell_type": "markdown",
   "metadata": {},
   "source": [
    "# Using only the selected features for Model"
   ]
  },
  {
   "cell_type": "code",
   "execution_count": 202,
   "metadata": {},
   "outputs": [
    {
     "name": "stdout",
     "output_type": "stream",
     "text": [
      "Accuracy: 1.0\n",
      "Confusion Metrix:\n",
      " [[636   0]\n",
      " [  0 364]]\n"
     ]
    }
   ],
   "source": [
    "model=RandomForestClassifier(n_jobs=-1,random_state=123)\n",
    "#Train the model with only the selected features\n",
    "X_train, X_test, y_train, y_test = train_test_split(X_imp, y, test_size=0.25,random_state=5)\n",
    "#learning\n",
    "model.fit(X_train,y_train)\n",
    "#Prediction\n",
    "prediction=model.predict(X_test)\n",
    "#importing the metrics module\n",
    "from sklearn import metrics\n",
    "#evaluation(Accuracy)\n",
    "print(\"Accuracy:\",metrics.accuracy_score(prediction,y_test))\n",
    "#evaluation(Confusion Metrix)\n",
    "print(\"Confusion Metrix:\\n\",metrics.confusion_matrix(prediction,y_test))"
   ]
  },
  {
   "cell_type": "code",
   "execution_count": null,
   "metadata": {},
   "outputs": [],
   "source": []
  },
  {
   "cell_type": "code",
   "execution_count": null,
   "metadata": {},
   "outputs": [],
   "source": []
  },
  {
   "cell_type": "markdown",
   "metadata": {
    "button": false,
    "new_sheet": false,
    "run_control": {
     "read_only": false
    }
   },
   "source": [
    "## Section 3: Movie Revenue Prediction\n",
    "\n",
    "Use the movie_metadata dataset to fit a regression model to predict gross. Use Linear, Polynomial, Ridge, Lasso regression. Use rMSE as your evaluation metric.\n",
    "\n",
    "<br>\n",
    "\n",
    "Once you've made the best possible model, I want you to pick three movies that are set to be released in early 2019 and use the model to predict how much revenue those movies will bring in."
   ]
  },
  {
   "cell_type": "code",
   "execution_count": 7,
   "metadata": {
    "button": false,
    "new_sheet": false,
    "run_control": {
     "read_only": false
    }
   },
   "outputs": [
    {
     "data": {
      "text/html": [
       "<div>\n",
       "<style scoped>\n",
       "    .dataframe tbody tr th:only-of-type {\n",
       "        vertical-align: middle;\n",
       "    }\n",
       "\n",
       "    .dataframe tbody tr th {\n",
       "        vertical-align: top;\n",
       "    }\n",
       "\n",
       "    .dataframe thead th {\n",
       "        text-align: right;\n",
       "    }\n",
       "</style>\n",
       "<table border=\"1\" class=\"dataframe\">\n",
       "  <thead>\n",
       "    <tr style=\"text-align: right;\">\n",
       "      <th></th>\n",
       "      <th>color</th>\n",
       "      <th>director_name</th>\n",
       "      <th>num_critic_for_reviews</th>\n",
       "      <th>duration</th>\n",
       "      <th>director_facebook_likes</th>\n",
       "      <th>actor_3_facebook_likes</th>\n",
       "      <th>actor_2_name</th>\n",
       "      <th>actor_1_facebook_likes</th>\n",
       "      <th>gross</th>\n",
       "      <th>genres</th>\n",
       "      <th>...</th>\n",
       "      <th>num_user_for_reviews</th>\n",
       "      <th>language</th>\n",
       "      <th>country</th>\n",
       "      <th>content_rating</th>\n",
       "      <th>budget</th>\n",
       "      <th>title_year</th>\n",
       "      <th>actor_2_facebook_likes</th>\n",
       "      <th>imdb_score</th>\n",
       "      <th>aspect_ratio</th>\n",
       "      <th>movie_facebook_likes</th>\n",
       "    </tr>\n",
       "  </thead>\n",
       "  <tbody>\n",
       "    <tr>\n",
       "      <th>0</th>\n",
       "      <td>Color</td>\n",
       "      <td>James Cameron</td>\n",
       "      <td>723.0</td>\n",
       "      <td>178.0</td>\n",
       "      <td>0.0</td>\n",
       "      <td>855.0</td>\n",
       "      <td>Joel David Moore</td>\n",
       "      <td>1000.0</td>\n",
       "      <td>760505847.0</td>\n",
       "      <td>Action|Adventure|Fantasy|Sci-Fi</td>\n",
       "      <td>...</td>\n",
       "      <td>3054.0</td>\n",
       "      <td>English</td>\n",
       "      <td>USA</td>\n",
       "      <td>PG-13</td>\n",
       "      <td>237000000.0</td>\n",
       "      <td>2009.0</td>\n",
       "      <td>936.0</td>\n",
       "      <td>7.9</td>\n",
       "      <td>1.78</td>\n",
       "      <td>33000</td>\n",
       "    </tr>\n",
       "    <tr>\n",
       "      <th>1</th>\n",
       "      <td>Color</td>\n",
       "      <td>Gore Verbinski</td>\n",
       "      <td>302.0</td>\n",
       "      <td>169.0</td>\n",
       "      <td>563.0</td>\n",
       "      <td>1000.0</td>\n",
       "      <td>Orlando Bloom</td>\n",
       "      <td>40000.0</td>\n",
       "      <td>309404152.0</td>\n",
       "      <td>Action|Adventure|Fantasy</td>\n",
       "      <td>...</td>\n",
       "      <td>1238.0</td>\n",
       "      <td>English</td>\n",
       "      <td>USA</td>\n",
       "      <td>PG-13</td>\n",
       "      <td>300000000.0</td>\n",
       "      <td>2007.0</td>\n",
       "      <td>5000.0</td>\n",
       "      <td>7.1</td>\n",
       "      <td>2.35</td>\n",
       "      <td>0</td>\n",
       "    </tr>\n",
       "    <tr>\n",
       "      <th>2</th>\n",
       "      <td>Color</td>\n",
       "      <td>Sam Mendes</td>\n",
       "      <td>602.0</td>\n",
       "      <td>148.0</td>\n",
       "      <td>0.0</td>\n",
       "      <td>161.0</td>\n",
       "      <td>Rory Kinnear</td>\n",
       "      <td>11000.0</td>\n",
       "      <td>200074175.0</td>\n",
       "      <td>Action|Adventure|Thriller</td>\n",
       "      <td>...</td>\n",
       "      <td>994.0</td>\n",
       "      <td>English</td>\n",
       "      <td>UK</td>\n",
       "      <td>PG-13</td>\n",
       "      <td>245000000.0</td>\n",
       "      <td>2015.0</td>\n",
       "      <td>393.0</td>\n",
       "      <td>6.8</td>\n",
       "      <td>2.35</td>\n",
       "      <td>85000</td>\n",
       "    </tr>\n",
       "    <tr>\n",
       "      <th>3</th>\n",
       "      <td>Color</td>\n",
       "      <td>Christopher Nolan</td>\n",
       "      <td>813.0</td>\n",
       "      <td>164.0</td>\n",
       "      <td>22000.0</td>\n",
       "      <td>23000.0</td>\n",
       "      <td>Christian Bale</td>\n",
       "      <td>27000.0</td>\n",
       "      <td>448130642.0</td>\n",
       "      <td>Action|Thriller</td>\n",
       "      <td>...</td>\n",
       "      <td>2701.0</td>\n",
       "      <td>English</td>\n",
       "      <td>USA</td>\n",
       "      <td>PG-13</td>\n",
       "      <td>250000000.0</td>\n",
       "      <td>2012.0</td>\n",
       "      <td>23000.0</td>\n",
       "      <td>8.5</td>\n",
       "      <td>2.35</td>\n",
       "      <td>164000</td>\n",
       "    </tr>\n",
       "    <tr>\n",
       "      <th>4</th>\n",
       "      <td>NaN</td>\n",
       "      <td>Doug Walker</td>\n",
       "      <td>NaN</td>\n",
       "      <td>NaN</td>\n",
       "      <td>131.0</td>\n",
       "      <td>NaN</td>\n",
       "      <td>Rob Walker</td>\n",
       "      <td>131.0</td>\n",
       "      <td>NaN</td>\n",
       "      <td>Documentary</td>\n",
       "      <td>...</td>\n",
       "      <td>NaN</td>\n",
       "      <td>NaN</td>\n",
       "      <td>NaN</td>\n",
       "      <td>NaN</td>\n",
       "      <td>NaN</td>\n",
       "      <td>NaN</td>\n",
       "      <td>12.0</td>\n",
       "      <td>7.1</td>\n",
       "      <td>NaN</td>\n",
       "      <td>0</td>\n",
       "    </tr>\n",
       "  </tbody>\n",
       "</table>\n",
       "<p>5 rows × 28 columns</p>\n",
       "</div>"
      ],
      "text/plain": [
       "   color      director_name  num_critic_for_reviews  duration  \\\n",
       "0  Color      James Cameron                   723.0     178.0   \n",
       "1  Color     Gore Verbinski                   302.0     169.0   \n",
       "2  Color         Sam Mendes                   602.0     148.0   \n",
       "3  Color  Christopher Nolan                   813.0     164.0   \n",
       "4    NaN        Doug Walker                     NaN       NaN   \n",
       "\n",
       "   director_facebook_likes  actor_3_facebook_likes      actor_2_name  \\\n",
       "0                      0.0                   855.0  Joel David Moore   \n",
       "1                    563.0                  1000.0     Orlando Bloom   \n",
       "2                      0.0                   161.0      Rory Kinnear   \n",
       "3                  22000.0                 23000.0    Christian Bale   \n",
       "4                    131.0                     NaN        Rob Walker   \n",
       "\n",
       "   actor_1_facebook_likes        gross                           genres  \\\n",
       "0                  1000.0  760505847.0  Action|Adventure|Fantasy|Sci-Fi   \n",
       "1                 40000.0  309404152.0         Action|Adventure|Fantasy   \n",
       "2                 11000.0  200074175.0        Action|Adventure|Thriller   \n",
       "3                 27000.0  448130642.0                  Action|Thriller   \n",
       "4                   131.0          NaN                      Documentary   \n",
       "\n",
       "          ...          num_user_for_reviews language  country  content_rating  \\\n",
       "0         ...                        3054.0  English      USA           PG-13   \n",
       "1         ...                        1238.0  English      USA           PG-13   \n",
       "2         ...                         994.0  English       UK           PG-13   \n",
       "3         ...                        2701.0  English      USA           PG-13   \n",
       "4         ...                           NaN      NaN      NaN             NaN   \n",
       "\n",
       "        budget  title_year actor_2_facebook_likes imdb_score  aspect_ratio  \\\n",
       "0  237000000.0      2009.0                  936.0        7.9          1.78   \n",
       "1  300000000.0      2007.0                 5000.0        7.1          2.35   \n",
       "2  245000000.0      2015.0                  393.0        6.8          2.35   \n",
       "3  250000000.0      2012.0                23000.0        8.5          2.35   \n",
       "4          NaN         NaN                   12.0        7.1           NaN   \n",
       "\n",
       "  movie_facebook_likes  \n",
       "0                33000  \n",
       "1                    0  \n",
       "2                85000  \n",
       "3               164000  \n",
       "4                    0  \n",
       "\n",
       "[5 rows x 28 columns]"
      ]
     },
     "execution_count": 7,
     "metadata": {},
     "output_type": "execute_result"
    }
   ],
   "source": [
    "movies = pd.read_csv(\"../data/movie_metadata.csv\")\n",
    "\n",
    "movies.head()"
   ]
  },
  {
   "cell_type": "code",
   "execution_count": 87,
   "metadata": {
    "button": false,
    "new_sheet": false,
    "run_control": {
     "read_only": false
    }
   },
   "outputs": [
    {
     "data": {
      "text/plain": [
       "array(['English', nan, 'Japanese', 'French', 'Mandarin', 'Aboriginal',\n",
       "       'Spanish', 'Filipino', 'Hindi', 'Russian', 'Maya', 'Kazakh',\n",
       "       'Telugu', 'Cantonese', 'Icelandic', 'German', 'Aramaic', 'Italian',\n",
       "       'Dutch', 'Dari', 'Hebrew', 'Chinese', 'Mongolian', 'Swedish',\n",
       "       'Korean', 'Thai', 'Polish', 'Bosnian', 'None', 'Hungarian',\n",
       "       'Portuguese', 'Danish', 'Arabic', 'Norwegian', 'Czech', 'Kannada',\n",
       "       'Zulu', 'Panjabi', 'Tamil', 'Dzongkha', 'Vietnamese', 'Indonesian',\n",
       "       'Urdu', 'Romanian', 'Persian', 'Slovenian', 'Greek', 'Swahili'],\n",
       "      dtype=object)"
      ]
     },
     "execution_count": 87,
     "metadata": {},
     "output_type": "execute_result"
    }
   ],
   "source": [
    "movies.language.unique()"
   ]
  },
  {
   "cell_type": "code",
   "execution_count": 8,
   "metadata": {
    "button": false,
    "new_sheet": false,
    "run_control": {
     "read_only": false
    }
   },
   "outputs": [
    {
     "name": "stdout",
     "output_type": "stream",
     "text": [
      "<class 'pandas.core.frame.DataFrame'>\n",
      "RangeIndex: 5043 entries, 0 to 5042\n",
      "Data columns (total 28 columns):\n",
      "color                        5024 non-null object\n",
      "director_name                4939 non-null object\n",
      "num_critic_for_reviews       4993 non-null float64\n",
      "duration                     5028 non-null float64\n",
      "director_facebook_likes      4939 non-null float64\n",
      "actor_3_facebook_likes       5020 non-null float64\n",
      "actor_2_name                 5030 non-null object\n",
      "actor_1_facebook_likes       5036 non-null float64\n",
      "gross                        4159 non-null float64\n",
      "genres                       5043 non-null object\n",
      "actor_1_name                 5036 non-null object\n",
      "movie_title                  5043 non-null object\n",
      "num_voted_users              5043 non-null int64\n",
      "cast_total_facebook_likes    5043 non-null int64\n",
      "actor_3_name                 5020 non-null object\n",
      "facenumber_in_poster         5030 non-null float64\n",
      "plot_keywords                4890 non-null object\n",
      "movie_imdb_link              5043 non-null object\n",
      "num_user_for_reviews         5022 non-null float64\n",
      "language                     5031 non-null object\n",
      "country                      5038 non-null object\n",
      "content_rating               4740 non-null object\n",
      "budget                       4551 non-null float64\n",
      "title_year                   4935 non-null float64\n",
      "actor_2_facebook_likes       5030 non-null float64\n",
      "imdb_score                   5043 non-null float64\n",
      "aspect_ratio                 4714 non-null float64\n",
      "movie_facebook_likes         5043 non-null int64\n",
      "dtypes: float64(13), int64(3), object(12)\n",
      "memory usage: 1.1+ MB\n"
     ]
    }
   ],
   "source": [
    "movies.info()"
   ]
  },
  {
   "cell_type": "code",
   "execution_count": 9,
   "metadata": {
    "button": false,
    "new_sheet": false,
    "run_control": {
     "read_only": false
    }
   },
   "outputs": [
    {
     "data": {
      "text/plain": [
       "48468407.52680933"
      ]
     },
     "execution_count": 9,
     "metadata": {},
     "output_type": "execute_result"
    }
   ],
   "source": [
    "movies.gross.mean()"
   ]
  },
  {
   "cell_type": "code",
   "execution_count": 8,
   "metadata": {},
   "outputs": [
    {
     "name": "stdout",
     "output_type": "stream",
     "text": [
      "<class 'pandas.core.frame.DataFrame'>\n",
      "Int64Index: 3756 entries, 0 to 5042\n",
      "Data columns (total 28 columns):\n",
      "color                        3756 non-null object\n",
      "director_name                3756 non-null object\n",
      "num_critic_for_reviews       3756 non-null float64\n",
      "duration                     3756 non-null float64\n",
      "director_facebook_likes      3756 non-null float64\n",
      "actor_3_facebook_likes       3756 non-null float64\n",
      "actor_2_name                 3756 non-null object\n",
      "actor_1_facebook_likes       3756 non-null float64\n",
      "gross                        3756 non-null float64\n",
      "genres                       3756 non-null object\n",
      "actor_1_name                 3756 non-null object\n",
      "movie_title                  3756 non-null object\n",
      "num_voted_users              3756 non-null int64\n",
      "cast_total_facebook_likes    3756 non-null int64\n",
      "actor_3_name                 3756 non-null object\n",
      "facenumber_in_poster         3756 non-null float64\n",
      "plot_keywords                3756 non-null object\n",
      "movie_imdb_link              3756 non-null object\n",
      "num_user_for_reviews         3756 non-null float64\n",
      "language                     3756 non-null object\n",
      "country                      3756 non-null object\n",
      "content_rating               3756 non-null object\n",
      "budget                       3756 non-null float64\n",
      "title_year                   3756 non-null float64\n",
      "actor_2_facebook_likes       3756 non-null float64\n",
      "imdb_score                   3756 non-null float64\n",
      "aspect_ratio                 3756 non-null float64\n",
      "movie_facebook_likes         3756 non-null int64\n",
      "dtypes: float64(13), int64(3), object(12)\n",
      "memory usage: 851.0+ KB\n"
     ]
    }
   ],
   "source": [
    "movies_nn = movies.dropna()\n",
    "movies_nn.info()"
   ]
  },
  {
   "cell_type": "code",
   "execution_count": 9,
   "metadata": {},
   "outputs": [
    {
     "data": {
      "text/plain": [
       "array(['Color', ' Black and White'], dtype=object)"
      ]
     },
     "execution_count": 9,
     "metadata": {},
     "output_type": "execute_result"
    }
   ],
   "source": [
    "movies_nn.color.unique()"
   ]
  },
  {
   "cell_type": "code",
   "execution_count": 10,
   "metadata": {},
   "outputs": [],
   "source": [
    "movies_nn = movies_nn[movies_nn.language == 'English']"
   ]
  },
  {
   "cell_type": "code",
   "execution_count": 80,
   "metadata": {},
   "outputs": [
    {
     "data": {
      "text/plain": [
       "(3598, 28)"
      ]
     },
     "execution_count": 80,
     "metadata": {},
     "output_type": "execute_result"
    }
   ],
   "source": [
    "movies_nn.shape"
   ]
  },
  {
   "cell_type": "code",
   "execution_count": 24,
   "metadata": {},
   "outputs": [
    {
     "data": {
      "text/plain": [
       "array(['Action|Adventure|Fantasy|Sci-Fi', 'Action|Adventure|Fantasy',\n",
       "       'Action|Adventure|Thriller', 'Action|Thriller',\n",
       "       'Action|Adventure|Sci-Fi', 'Action|Adventure|Romance',\n",
       "       'Adventure|Animation|Comedy|Family|Fantasy|Musical|Romance',\n",
       "       'Adventure|Family|Fantasy|Mystery', 'Action|Adventure',\n",
       "       'Action|Adventure|Western', 'Action|Adventure|Family|Fantasy',\n",
       "       'Action|Adventure|Comedy|Family|Fantasy|Sci-Fi',\n",
       "       'Adventure|Fantasy', 'Action|Adventure|Drama|History',\n",
       "       'Adventure|Family|Fantasy', 'Action|Adventure|Drama|Romance',\n",
       "       'Drama|Romance', 'Action|Adventure|Sci-Fi|Thriller',\n",
       "       'Action|Adventure|Fantasy|Romance',\n",
       "       'Action|Adventure|Fantasy|Sci-Fi|Thriller',\n",
       "       'Adventure|Animation|Comedy|Family|Fantasy',\n",
       "       'Adventure|Animation|Comedy|Family|Sport', 'Action|Crime|Thriller',\n",
       "       'Action|Adventure|Horror|Sci-Fi|Thriller',\n",
       "       'Adventure|Animation|Family|Sci-Fi',\n",
       "       'Action|Comedy|Crime|Thriller', 'Animation|Drama|Family|Fantasy',\n",
       "       'Action|Crime|Drama|Thriller', 'Adventure|Animation|Comedy|Family',\n",
       "       'Action|Adventure|Animation|Comedy|Family|Sci-Fi',\n",
       "       'Adventure|Drama|Family|Mystery', 'Action|Comedy|Sci-Fi|Western',\n",
       "       'Action|Adventure|Fantasy|Horror|Thriller',\n",
       "       'Action|Adventure|Comedy|Sci-Fi', 'Comedy|Family|Fantasy',\n",
       "       'Adventure|Animation|Comedy|Drama|Family|Fantasy',\n",
       "       'Adventure|Drama|Family|Fantasy', 'Action|Adventure|Drama|Fantasy',\n",
       "       'Action|Adventure|Family|Fantasy|Romance',\n",
       "       'Action|Adventure|Drama|Sci-Fi',\n",
       "       'Action|Adventure|Family|Mystery|Sci-Fi',\n",
       "       'Action|Adventure|Animation|Comedy|Drama|Family|Sci-Fi',\n",
       "       'Adventure|Animation|Comedy|Family|Sci-Fi',\n",
       "       'Adventure|Animation|Family|Fantasy', 'Action|Sci-Fi',\n",
       "       'Adventure|Drama|Sci-Fi', 'Drama|Fantasy|Romance',\n",
       "       'Adventure|Sci-Fi', 'Action|Adventure|Drama|Thriller',\n",
       "       'Action|Drama|History|Romance|War',\n",
       "       'Action|Adventure|Biography|Drama|History|Romance|War',\n",
       "       'Action|Drama', 'Drama|Horror|Sci-Fi',\n",
       "       'Adventure|Comedy|Family|Fantasy',\n",
       "       'Animation|Comedy|Family|Fantasy',\n",
       "       'Action|Adventure|Animation|Comedy|Family',\n",
       "       'Adventure|Animation|Comedy|Family|Fantasy|Musical',\n",
       "       'Mystery|Thriller', 'Adventure|Animation|Comedy|Drama|Family',\n",
       "       'Action|Adventure|Animation|Comedy|Family|Fantasy|Sci-Fi',\n",
       "       'Comedy|Fantasy|Horror', 'Drama|Fantasy|Horror|Thriller',\n",
       "       'Action|Drama|Thriller', 'Adventure',\n",
       "       'Action|Comedy|Fantasy|Sci-Fi',\n",
       "       'Action|Adventure|Comedy|Family|Fantasy|Mystery|Sci-Fi',\n",
       "       'Action|Adventure|Animation|Fantasy', 'Comedy|Crime',\n",
       "       'Action|Drama|History|War', 'Action|Adventure|Drama',\n",
       "       'Action|Adventure|Animation|Comedy|Family|Fantasy',\n",
       "       'Action|Drama|Mystery|Sci-Fi', 'Action|Adventure|Comedy|Thriller',\n",
       "       'Action|Adventure|Animation|Fantasy|Romance|Sci-Fi',\n",
       "       'Action|Adventure|Drama|History|War',\n",
       "       'Adventure|Drama|Fantasy|Romance',\n",
       "       'Animation|Comedy|Family|Musical',\n",
       "       'Adventure|Drama|Thriller|Western',\n",
       "       'Adventure|Animation|Comedy|Family|Western',\n",
       "       'Action|Mystery|Thriller', 'Adventure|Sci-Fi|Thriller',\n",
       "       'Adventure|Animation|Comedy|Family|Fantasy|Sci-Fi',\n",
       "       'Action|Crime|Mystery|Thriller', 'Action|Adventure|Family|Mystery',\n",
       "       'Adventure|Drama|Romance|War',\n",
       "       'Adventure|Animation|Family|Thriller',\n",
       "       'Action|Animation|Comedy|Family|Sci-Fi', 'Action|Comedy|Fantasy',\n",
       "       'Adventure|Animation|Comedy|Family|Musical',\n",
       "       'Action|Adventure|Crime|Mystery|Thriller',\n",
       "       'Action|Adventure|History', 'Action', 'Adventure|Drama|Fantasy',\n",
       "       'Action|Fantasy|Thriller', 'Action|Adventure|Comedy|Crime',\n",
       "       'Adventure|Mystery|Sci-Fi', 'Action|Drama|Sci-Fi|Thriller',\n",
       "       'Action|Crime|Sci-Fi|Thriller', 'Action|Family|Sport',\n",
       "       'Comedy|Drama|Romance', 'Action|Comedy|Romance',\n",
       "       'Action|Adventure|Mystery|Sci-Fi', 'Action|Drama|War',\n",
       "       'Adventure|Drama|Sci-Fi|Thriller',\n",
       "       'Action|Adventure|Comedy|Family|Fantasy', 'Crime|Thriller',\n",
       "       'Action|Comedy|Crime|Romance|Thriller', 'Biography|Drama',\n",
       "       'Action|Comedy|Crime|Sci-Fi|Thriller', 'Action|Drama|Fantasy|War',\n",
       "       'Animation|Comedy|Family|Music|Western',\n",
       "       'Action|Adventure|Mystery|Sci-Fi|Thriller',\n",
       "       'Action|Drama|Sci-Fi|Sport', 'Action|Crime|Romance|Thriller',\n",
       "       'Action|Adventure|Comedy', 'Biography|Drama|Sport',\n",
       "       'Action|Mystery|Sci-Fi|Thriller',\n",
       "       'Animation|Family|Fantasy|Musical|Romance',\n",
       "       'Action|Adventure|Romance|Sci-Fi|Thriller', 'Comedy|Romance',\n",
       "       'Action|Drama|Romance', 'Biography|Crime|Drama|History|Romance',\n",
       "       'Biography|Crime|Drama', 'Action|Comedy|Thriller',\n",
       "       'Action|Comedy|Crime', 'Action|Drama|Mystery|Thriller',\n",
       "       'Drama|Western', 'Animation|Drama|Family|Musical|Romance',\n",
       "       'Action|Adventure|Comedy|Family|Mystery',\n",
       "       'Action|Romance|Thriller', 'Action|Fantasy|Horror|Mystery',\n",
       "       'Adventure|Drama|Thriller', 'Biography|Comedy|Crime|Drama',\n",
       "       'Action|Sci-Fi|War', 'Drama|Sci-Fi',\n",
       "       'Action|Adventure|Animation|Family|Fantasy',\n",
       "       'Action|Crime|Fantasy|Romance|Thriller', 'Adventure|Comedy|Sci-Fi',\n",
       "       'Action|Crime|Sport|Thriller',\n",
       "       'Action|Adventure|Biography|Drama|History|Thriller',\n",
       "       'Action|Comedy|Sci-Fi', 'Action|Drama|Thriller|War',\n",
       "       'Drama|Mystery|Thriller', 'Action|Adventure|Fantasy|Thriller',\n",
       "       'Crime|Drama', 'Animation|Comedy|Family|Sport',\n",
       "       'Comedy|Sci-Fi|Thriller', 'Drama|History|War', 'Comedy',\n",
       "       'Adventure|Animation|Comedy|Family|Romance',\n",
       "       'Drama|Family|Fantasy|Romance', 'Drama|Fantasy|Thriller',\n",
       "       'Drama|Mystery|Romance|Sci-Fi|Thriller',\n",
       "       'Drama|History|War|Western', 'Action|Adventure|Animation|Family',\n",
       "       'Adventure|Comedy|Family|Mystery|Sci-Fi',\n",
       "       'Drama|Fantasy|Horror|Mystery|Thriller',\n",
       "       'Animation|Comedy|Family|Sci-Fi',\n",
       "       'Adventure|Comedy|Drama|Fantasy|Romance',\n",
       "       'Action|Adventure|Comedy|Crime|Thriller', 'Crime|Drama|Thriller',\n",
       "       'Adventure|Animation|Family|Fantasy|Musical|War', 'Action|Comedy',\n",
       "       'Crime|Drama|Mystery|Thriller',\n",
       "       'Action|Adventure|Animation|Family|Fantasy|Sci-Fi',\n",
       "       'Adventure|Animation|Comedy|Family|Fantasy|Music',\n",
       "       'Drama|History|Thriller|War', 'Action|Animation|Comedy|Sci-Fi',\n",
       "       'Comedy|Family|Fantasy|Horror|Mystery',\n",
       "       'Drama|Mystery|Sci-Fi|Thriller', 'Action|Horror|Sci-Fi|Thriller',\n",
       "       'Action|Adventure|Comedy|Crime|Mystery|Thriller',\n",
       "       'Comedy|Drama|Sci-Fi', 'Action|Family|Fantasy|Musical',\n",
       "       'Drama|History|Sport', 'Adventure|Drama|Romance',\n",
       "       'Animation|Comedy|Family|Music|Romance',\n",
       "       'Animation|Comedy|Family|Fantasy|Musical|Romance',\n",
       "       'Adventure|Comedy|Family', 'Action|Crime|Drama|Mystery|Thriller',\n",
       "       'Action|Adventure|Comedy|Fantasy',\n",
       "       'Adventure|Comedy|Drama|Family|Fantasy',\n",
       "       'Action|Comedy|Fantasy|Romance', 'Comedy|Romance|Sci-Fi',\n",
       "       'Adventure|Comedy|Mystery', 'Comedy|Drama|Fantasy|Romance',\n",
       "       'Action|Comedy|Family|Fantasy',\n",
       "       'Action|Adventure|Fantasy|Horror|Sci-Fi',\n",
       "       'Crime|Drama|History|Mystery|Thriller', 'Comedy|Drama',\n",
       "       'Adventure|Animation|Comedy|Drama|Family|Fantasy|Sci-Fi',\n",
       "       'Action|Drama|Romance|Sci-Fi|Thriller', 'Comedy|Crime|Sport',\n",
       "       'Comedy|Family|Fantasy|Romance',\n",
       "       'Adventure|Drama|History|Romance|War', 'Comedy|Family|Sci-Fi',\n",
       "       'Fantasy|Horror|Mystery|Thriller',\n",
       "       'Adventure|Animation|Comedy|Family|Fantasy|Sci-Fi|Sport',\n",
       "       'Adventure|Comedy|Crime|Family|Mystery', 'Drama|Sci-Fi|Thriller',\n",
       "       'Action|Crime|Mystery|Romance|Thriller',\n",
       "       'Action|Adventure|Comedy|Romance',\n",
       "       'Adventure|Animation|Family|Western', 'Comedy|Family|Romance',\n",
       "       'Action|Adventure|Family|Sci-Fi|Thriller',\n",
       "       'Animation|Family|Fantasy|Music',\n",
       "       'Action|Adventure|Family|Fantasy|Thriller', 'Comedy|Fantasy',\n",
       "       'Action|Adventure|Comedy|Fantasy|Thriller',\n",
       "       'Action|Sci-Fi|Thriller', 'Drama|History|Thriller',\n",
       "       'Adventure|Animation|Family', 'Drama|Musical|Romance',\n",
       "       'Action|Adventure|Drama|History|Romance',\n",
       "       'Adventure|Animation|Drama|Family|Musical',\n",
       "       'Animation|Comedy|Family|Fantasy|Sci-Fi',\n",
       "       'Adventure|Animation|Drama|Family|Fantasy', 'Sci-Fi|Thriller',\n",
       "       'Animation|Comedy|Family', 'Action|Crime|Fantasy|Thriller',\n",
       "       'Comedy|Drama|Family|Music|Musical|Romance',\n",
       "       'Horror|Mystery|Thriller', 'Action|Adventure|Comedy|Family|Sci-Fi',\n",
       "       'Crime|Mystery|Thriller', 'Comedy|Family',\n",
       "       'Biography|Comedy|Drama|History', 'Drama|Music|Musical',\n",
       "       'Comedy|Crime|Music', 'Action|Comedy|Romance|Thriller',\n",
       "       'Animation|Comedy|Family|Fantasy|Mystery',\n",
       "       'Comedy|Crime|Drama|Romance', 'Action|Adventure|Romance|Thriller',\n",
       "       'Drama|History|Romance', 'Action|Drama|Fantasy|Romance',\n",
       "       'Action|Adventure|Animation|Family|Sci-Fi', 'Action|Drama|Sci-Fi',\n",
       "       'Animation|Comedy|Fantasy', 'Action|Fantasy',\n",
       "       'Action|Animation|Comedy|Family',\n",
       "       'Action|Adventure|Comedy|Romance|Thriller', 'Action|Comedy|Sport',\n",
       "       'Biography|Drama|History|War', 'Adventure|Animation|Comedy',\n",
       "       'Action|Drama|Sport', 'Adventure|Drama|Family',\n",
       "       'Drama|Mystery|Romance|Thriller',\n",
       "       'Adventure|Animation|Comedy|Family|Fantasy|Romance',\n",
       "       'Adventure|Drama|War', 'Action|Adventure|Crime|Thriller',\n",
       "       'Fantasy|Mystery|Romance|Sci-Fi|Thriller',\n",
       "       'Drama|Fantasy|Mystery|Thriller',\n",
       "       'Animation|Comedy|Family|Fantasy|Music',\n",
       "       'Drama|Horror|Romance|Thriller', 'Drama|War', 'Drama',\n",
       "       'Action|Drama|Fantasy|Horror|War',\n",
       "       'Adventure|Family|Fantasy|Romance',\n",
       "       'Adventure|Biography|Drama|History|War',\n",
       "       'Action|Adventure|Horror|Sci-Fi', 'Action|Fantasy|Horror',\n",
       "       'Comedy|Drama|Musical|Romance', 'Action|Sci-Fi|Sport',\n",
       "       'Action|Adventure|Animation|Comedy|Crime|Family|Fantasy',\n",
       "       'Action|Crime|Mystery|Sci-Fi|Thriller',\n",
       "       'Action|Comedy|Crime|Drama|Thriller',\n",
       "       'Adventure|Drama|History|Romance', 'Biography|Drama|Thriller',\n",
       "       'Action|Adventure|Fantasy|War', 'Comedy|Fantasy|Romance',\n",
       "       'Drama|Horror|Sci-Fi|Thriller', 'Adventure|Drama|History',\n",
       "       'Action|Adventure|Comedy|Romance|Thriller|Western',\n",
       "       'Biography|Drama|Sport|War', 'Comedy|Drama|Family|Musical',\n",
       "       'Action|Adventure|Fantasy|Horror|Sci-Fi|Thriller', 'Drama|Sport',\n",
       "       'Action|Fantasy|Sci-Fi|Thriller', 'Drama|Mystery|Romance',\n",
       "       'Adventure|Biography|Drama|History|Sport|Thriller',\n",
       "       'Crime|Drama|Fantasy', 'Adventure|Biography|Crime|Drama|Western',\n",
       "       'Action|War', 'Comedy|Romance|Sport',\n",
       "       'Crime|Drama|Mystery|Thriller|Western', 'Comedy|Sport',\n",
       "       'Comedy|Drama|Family', 'Crime|Drama|Fantasy|Mystery',\n",
       "       'Adventure|Animation|Biography|Drama|Family|Fantasy|Musical',\n",
       "       'Drama|Romance|Western', 'Documentary|Music', 'Drama|Thriller',\n",
       "       'Animation|Family|Fantasy', 'Action|Fantasy|Horror|Sci-Fi',\n",
       "       'Biography|Comedy|Drama', 'Action|Horror|Sci-Fi',\n",
       "       'Adventure|Comedy', 'Biography|Drama|History|Sport',\n",
       "       'Comedy|Crime|Romance|Thriller', 'Comedy|Crime|Romance',\n",
       "       'Horror|Mystery|Sci-Fi|Thriller', 'Biography|Drama|Music',\n",
       "       'Drama|Fantasy|Sport', 'Adventure|Comedy|Drama|Music',\n",
       "       'Action|Fantasy|Horror|Sci-Fi|Thriller',\n",
       "       'Adventure|Animation|Comedy|Drama|Family|Fantasy|Romance',\n",
       "       'Horror|Sci-Fi|Thriller', 'Drama|Fantasy|Mystery|Romance|Thriller',\n",
       "       'Action|Adventure|Drama|History|Romance|War',\n",
       "       'Drama|Fantasy|Mystery|Romance', 'Fantasy|Horror|Mystery|Romance',\n",
       "       'Adventure|Comedy|Family|Romance|Sci-Fi', 'Drama|Horror|Thriller',\n",
       "       'Action|Comedy|Mystery|Romance',\n",
       "       'Action|Adventure|Comedy|Romance|Sci-Fi',\n",
       "       'Action|Biography|Drama|History|Thriller|War',\n",
       "       'Adventure|Comedy|Family|Fantasy|Horror',\n",
       "       'Comedy|Family|Romance|Sci-Fi', 'Action|Adventure|Thriller|War',\n",
       "       'Comedy|Drama|Romance|Sport', 'Action|Comedy|Crime|Drama',\n",
       "       'Drama|Music|Romance|War', 'Action|Comedy|Drama|Family|Thriller',\n",
       "       'Action|Crime',\n",
       "       'Adventure|Animation|Drama|Family|History|Musical|Romance',\n",
       "       'Action|Adventure|Drama|Romance|Sci-Fi',\n",
       "       'Action|Adventure|Comedy|Family|Romance',\n",
       "       'Action|Adventure|Comedy|Western',\n",
       "       'Biography|Drama|History|Musical',\n",
       "       'Adventure|Drama|Horror|Thriller', 'Action|Drama|Sport|Thriller',\n",
       "       'Drama|Musical|Romance|Thriller', 'Comedy|Drama|Family|Fantasy',\n",
       "       'Adventure|Comedy|Crime|Family|Musical',\n",
       "       'Drama|Music|Musical|Romance', 'Action|Adventure|Romance|Sci-Fi',\n",
       "       'Adventure|Animation|Drama|Family|Fantasy|Musical|Mystery|Romance',\n",
       "       'Action|Horror|Thriller', 'Drama|History|Horror',\n",
       "       'Drama|Romance|Sport', 'Comedy|Family|Musical|Romance',\n",
       "       'Romance|Sci-Fi|Thriller', 'Biography|Comedy|Drama|Romance',\n",
       "       'Mystery|Sci-Fi|Thriller', 'Drama|Fantasy|Horror',\n",
       "       'Adventure|Comedy|Drama|Fantasy|Musical',\n",
       "       'Action|Adventure|Family|Fantasy|Sci-Fi|Thriller',\n",
       "       'Adventure|Comedy|Family|Fantasy|Romance|Sport',\n",
       "       'Adventure|Horror|Mystery', 'Crime|Drama|Romance|Thriller',\n",
       "       'Comedy|Crime|Drama|Thriller', 'Drama|Fantasy',\n",
       "       'Adventure|Comedy|Drama', 'Action|Biography|Drama|History|War',\n",
       "       'Adventure|Comedy|Fantasy', 'Adventure|Comedy|Crime|Drama|Family',\n",
       "       'Action|Biography|Crime|Drama|Thriller', 'Comedy|Sci-Fi',\n",
       "       'Action|Adventure|Comedy|Crime|Music|Mystery',\n",
       "       'Action|Crime|Drama|Sci-Fi|Thriller',\n",
       "       'Action|Adventure|Comedy|Drama|War', 'Drama|Mystery|Sci-Fi',\n",
       "       'Crime|Drama|Music', 'Adventure|Crime|Drama|Western',\n",
       "       'Comedy|Drama|Thriller',\n",
       "       'Action|Comedy|Crime|Music|Romance|Thriller',\n",
       "       'Crime|Romance|Thriller', 'Action|Adventure|Drama|Sci-Fi|Thriller',\n",
       "       'Action|Drama|Fantasy|Thriller|Western',\n",
       "       'Action|Drama|Mystery|Thriller|War', 'Action|Comedy|Crime|Romance',\n",
       "       'Action|Adventure|Family|Fantasy|Sci-Fi',\n",
       "       'Adventure|Comedy|Family|Musical', 'Action|Horror',\n",
       "       'Action|Adventure|Horror|Thriller', 'Comedy|Drama|Music|Romance',\n",
       "       'Action|Crime|Drama|Romance|Thriller',\n",
       "       'Comedy|Family|Romance|Sport', 'Drama|Family|Fantasy',\n",
       "       'Drama|Fantasy|Musical|Romance',\n",
       "       'Adventure|Comedy|Family|Fantasy|Sci-Fi', 'Comedy|Musical',\n",
       "       'Biography|Drama|History', 'Action|Crime|Drama|Thriller|War',\n",
       "       'Comedy|Crime|Thriller', 'Biography|Drama|History|Thriller',\n",
       "       'Action|Adventure|Crime|Drama|Mystery|Thriller',\n",
       "       'Animation|Family|Fantasy|Musical', 'Adventure|Drama|Western',\n",
       "       'Biography|Drama|History|Romance', 'Drama|Horror|Mystery|Thriller',\n",
       "       'Action|Fantasy|Western', 'Drama|Music',\n",
       "       'Action|Drama|Family|Sport', 'Action|Biography|Drama|Thriller|War',\n",
       "       'Comedy|Drama|Sport', 'Horror|Mystery',\n",
       "       'Adventure|Comedy|Sci-Fi|Western', 'Fantasy|Horror|Romance',\n",
       "       'Biography|Drama|Romance', 'Action|Adventure|Drama|Romance|War',\n",
       "       'Adventure|Comedy|Crime|Romance',\n",
       "       'Comedy|Drama|Family|Fantasy|Romance', 'Horror',\n",
       "       'Action|Adventure|Drama|Romance|Thriller',\n",
       "       'Biography|Drama|Music|Musical', 'Drama|History', 'Comedy|Western',\n",
       "       'Action|Adventure|Crime|Fantasy|Mystery|Thriller',\n",
       "       'Adventure|Drama|Mystery', 'Biography|Crime|Drama|Music',\n",
       "       'Crime|Drama|Horror|Thriller', 'Horror|Thriller',\n",
       "       'Adventure|Animation|Comedy|Drama|Family|Fantasy|Musical',\n",
       "       'Action|Adventure|Comedy|Music|Thriller',\n",
       "       'Adventure|Animation|Comedy|Crime|Family',\n",
       "       'Comedy|Romance|Sci-Fi|Thriller', 'Comedy|Crime|Family|Romance',\n",
       "       'Crime|Horror|Thriller', 'Action|Horror|Mystery|Sci-Fi|Thriller',\n",
       "       'Comedy|Fantasy|Sci-Fi',\n",
       "       'Adventure|Animation|Comedy|Fantasy|Romance',\n",
       "       'Action|Adventure|Family|Thriller',\n",
       "       'Adventure|Comedy|Drama|Romance|Thriller|War',\n",
       "       'Action|Drama|Fantasy', 'Drama|Fantasy|Romance|Sci-Fi',\n",
       "       'Animation|Comedy|Family|Horror|Sci-Fi',\n",
       "       'Biography|Drama|Romance|Sport', 'Adventure|Drama',\n",
       "       'Horror|Mystery|Sci-Fi', 'Action|Adventure|Drama|Thriller|Western',\n",
       "       'Adventure|Family|Fantasy|Sci-Fi', 'Action|Biography|Drama|Sport',\n",
       "       'Drama|Family',\n",
       "       'Action|Adventure|Crime|Drama|Family|Fantasy|Romance|Thriller',\n",
       "       'Biography|Comedy|Romance', 'Biography|Drama|War',\n",
       "       'Drama|Romance|War', 'Adventure|Comedy|Family|Sci-Fi',\n",
       "       'Biography|Drama|Family|History|Sport',\n",
       "       'Biography|Comedy|Drama|History|Music', 'Fantasy|Horror',\n",
       "       'Comedy|Drama|Romance|Sci-Fi',\n",
       "       'Adventure|Animation|Comedy|Family|War',\n",
       "       'Action|Comedy|Sci-Fi|Thriller', 'Comedy|Horror',\n",
       "       'Drama|Thriller|War', 'Comedy|Music', 'Action|Western',\n",
       "       'Action|Adventure|Family|Sci-Fi',\n",
       "       'Adventure|Biography|Drama|Thriller', 'Drama|Romance|War|Western',\n",
       "       'Action|Adventure|Comedy|Drama|Thriller', 'Drama|Music|Romance',\n",
       "       'Action|Adventure|Crime|Drama|Thriller',\n",
       "       'Crime|Horror|Mystery|Thriller', 'Adventure|Comedy|Family|Sport',\n",
       "       'Comedy|Drama|Fantasy', 'Comedy|Family|Sport',\n",
       "       'Action|Adventure|Drama|Family', 'Drama|Family|Sport',\n",
       "       'Action|Thriller|Western', 'Action|Drama|Fantasy|Horror|Thriller',\n",
       "       'Animation|Comedy|Family|Fantasy|Musical',\n",
       "       'Action|Crime|Drama|Mystery|Sci-Fi|Thriller',\n",
       "       'Adventure|Comedy|Crime|Drama', 'Drama|Mystery',\n",
       "       'Comedy|Fantasy|Horror|Thriller',\n",
       "       'Crime|Drama|Mystery|Sci-Fi|Thriller', 'Comedy|Crime|Musical',\n",
       "       'Comedy|Drama|Family|Music|Romance', 'Comedy|Horror|Romance',\n",
       "       'Comedy|Family|Fantasy|Sport',\n",
       "       'Animation|Comedy|Family|Mystery|Sci-Fi',\n",
       "       'Drama|Mystery|Romance|War',\n",
       "       'Animation|Drama|Family|Fantasy|Musical|Romance',\n",
       "       'Comedy|Horror|Musical|Sci-Fi', 'Crime|Drama|Sport',\n",
       "       'Action|Adventure|Animation|Drama|Mystery|Sci-Fi|Thriller',\n",
       "       'Action|Adventure|Crime|Drama|Romance', 'Action|Comedy|Horror',\n",
       "       'Adventure|Horror|Thriller', 'Adventure|Fantasy|Mystery',\n",
       "       'Biography|Crime|Drama|History|Western',\n",
       "       'Action|Biography|Crime|Drama', 'Biography|Drama|Music|Romance',\n",
       "       'Biography|Crime|Drama|History|Music',\n",
       "       'Adventure|Animation|Comedy|Drama|Family|Musical',\n",
       "       'Comedy|Drama|Music', 'Drama|Romance|Thriller',\n",
       "       'Action|Fantasy|Horror|Thriller', 'Adventure|Biography',\n",
       "       'Action|Comedy|Family', 'Action|Horror|Romance',\n",
       "       'Action|Comedy|Crime|Music',\n",
       "       'Action|Drama|Fantasy|Mystery|Sci-Fi|Thriller',\n",
       "       'Action|Crime|Drama|History|Western', 'Comedy|Crime|Drama',\n",
       "       'Comedy|Family|Fantasy|Music|Romance',\n",
       "       'Adventure|Comedy|Crime|Music',\n",
       "       'Action|Adventure|Comedy|Sci-Fi|Thriller',\n",
       "       'Action|Crime|Drama|Western',\n",
       "       'Action|Adventure|Comedy|Family|Romance|Sci-Fi',\n",
       "       'Action|Fantasy|Romance|Sci-Fi', 'Comedy|Crime|Mystery|Romance',\n",
       "       'Adventure|Family', 'Comedy|Drama|Family|Romance',\n",
       "       'Action|Drama|Music|Romance',\n",
       "       'Adventure|Comedy|Family|Fantasy|Horror|Mystery',\n",
       "       'Action|Biography|Drama|History|Romance|Western',\n",
       "       'Biography|Drama|Family',\n",
       "       'Action|Adventure|Comedy|Crime|Family|Romance|Thriller',\n",
       "       'Drama|Romance|Sci-Fi', 'Comedy|Fantasy|Horror|Romance',\n",
       "       'Comedy|Family|Music', 'Action|Comedy|Music',\n",
       "       'Adventure|Comedy|Crime', 'Biography|Comedy|Drama|Sport',\n",
       "       'Fantasy|Horror|Thriller', 'Comedy|Drama|Romance|Thriller',\n",
       "       'Adventure|Comedy|Family|Romance',\n",
       "       'Biography|Crime|Drama|History|Thriller', 'Crime|Drama|History',\n",
       "       'Biography|Drama|Thriller|War',\n",
       "       'Drama|Music|Mystery|Romance|Thriller',\n",
       "       'Action|Adventure|Fantasy|Horror', 'Crime|Drama|Mystery|Romance',\n",
       "       'Action|Drama|Western', 'Comedy|War',\n",
       "       'Adventure|Comedy|Family|Fantasy|Music|Sci-Fi',\n",
       "       'Adventure|Family|Fantasy|Music|Musical',\n",
       "       'Action|Adventure|Animation|Comedy|Fantasy',\n",
       "       'Adventure|Comedy|Horror|Sci-Fi', 'Horror|Sci-Fi',\n",
       "       'Biography|Comedy|Drama|Family|Sport',\n",
       "       'Action|Crime|Drama|Thriller|Western',\n",
       "       'Drama|Fantasy|Romance|Thriller', 'Comedy|Mystery',\n",
       "       'Comedy|Drama|Musical|Romance|War',\n",
       "       'Animation|Comedy|Fantasy|Musical', 'Action|Comedy|Documentary',\n",
       "       'Adventure|Comedy|Drama|Family|Romance',\n",
       "       'Adventure|Comedy|Drama|Family|Mystery',\n",
       "       'Drama|Family|Music|Romance', 'Fantasy|Romance',\n",
       "       'Adventure|Animation|Family|Musical',\n",
       "       'Animation|Comedy|Drama|Family|Musical',\n",
       "       'Biography|Crime|Drama|History',\n",
       "       'Adventure|Comedy|Fantasy|Music|Sci-Fi',\n",
       "       'Action|Adventure|Drama|Mystery',\n",
       "       'Comedy|Crime|Family|Mystery|Romance|Thriller',\n",
       "       'Action|Adventure|Drama|Romance|Western',\n",
       "       'Adventure|Biography|Drama',\n",
       "       'Adventure|Drama|Horror|Mystery|Thriller', 'Crime|Fantasy|Horror',\n",
       "       'Animation|Family|Fantasy|Mystery', 'Comedy|Family|Music|Musical',\n",
       "       'Drama|Mystery|Romance|Thriller|War', 'Action|Crime|Drama|Sport',\n",
       "       'Drama|Fantasy|Horror|Mystery', 'Comedy|Drama|Music|War',\n",
       "       'Comedy|Musical|Romance', 'Comedy|Crime|Drama|Mystery|Romance',\n",
       "       'Biography|Comedy|Drama|History|Music|Musical',\n",
       "       'Animation|Drama|Mystery|Sci-Fi|Thriller',\n",
       "       'Adventure|Comedy|Drama|Romance', 'Biography|Comedy|Musical',\n",
       "       'Crime|Drama|Western',\n",
       "       'Action|Comedy|Crime|Fantasy|Horror|Mystery|Sci-Fi|Thriller',\n",
       "       'Crime|Drama|Mystery', 'Adventure|Comedy|Romance',\n",
       "       'Family|Fantasy|Music', 'Crime|Drama|Music|Thriller',\n",
       "       'Action|Comedy|Crime|Fantasy',\n",
       "       'Action|Drama|Fantasy|Mystery|Thriller',\n",
       "       'Biography|Drama|History|Music', 'Biography|Drama|Family|Sport',\n",
       "       'Adventure|Fantasy|Mystery|Thriller',\n",
       "       'Biography|Drama|Romance|War',\n",
       "       'Action|Horror|Romance|Sci-Fi|Thriller',\n",
       "       'Action|Drama|History|Romance|War|Western',\n",
       "       'Action|Animation|Sci-Fi|Thriller',\n",
       "       'Action|Animation|Comedy|Crime|Family',\n",
       "       'Drama|Family|Music|Musical', 'Drama|Family|Musical|Romance',\n",
       "       'Comedy|Drama|Family|Fantasy|Sci-Fi', 'Comedy|Music|Romance',\n",
       "       'Adventure|Comedy|Family|Fantasy|Musical',\n",
       "       'Adventure|Crime|Drama|Romance', 'Biography|Crime|Drama|Thriller',\n",
       "       'Comedy|Mystery|Sci-Fi|Thriller', 'Action|Comedy|Crime|Family',\n",
       "       'Action|Comedy|Mystery', 'Comedy|Crime|Mystery',\n",
       "       'Action|Crime|Sci-Fi', 'Drama|History|Romance|War',\n",
       "       'Comedy|Horror|Sci-Fi', 'Drama|Family|Romance',\n",
       "       'Adventure|Comedy|Family|Music|Romance', 'Comedy|Horror|Thriller',\n",
       "       'Comedy|Family|Music|Romance',\n",
       "       'Adventure|Fantasy|Horror|Mystery|Thriller',\n",
       "       'Crime|Drama|Musical|Romance', 'Family|Music|Romance',\n",
       "       'Biography|Drama|History|Thriller|War',\n",
       "       'Adventure|Crime|Drama|Mystery|Western',\n",
       "       'Comedy|Crime|Drama|Thriller|War', 'Fantasy|Horror|Mystery',\n",
       "       'Action|Comedy|Drama|War', 'Comedy|Drama|Fantasy|Music|Romance',\n",
       "       'Adventure|Mystery|Thriller', 'Comedy|Drama|War',\n",
       "       'Comedy|Mystery|Romance', 'Biography|Crime|Drama|War',\n",
       "       'Biography|Comedy|Drama|War', 'Comedy|Crime|Family|Sci-Fi',\n",
       "       'Adventure|Family|Sci-Fi', 'Adventure|Comedy|Romance|Sci-Fi',\n",
       "       'Action|Adventure|Comedy|Family',\n",
       "       'Biography|Comedy|Crime|Drama|Romance', 'Crime|Drama|Musical',\n",
       "       'Comedy|Drama|Family|Sport',\n",
       "       'Action|Adventure|Comedy|Fantasy|Mystery',\n",
       "       'Action|Adventure|Drama|Thriller|War', 'Crime|Drama|Music|Romance',\n",
       "       'Adventure|Animation|Comedy|Crime',\n",
       "       'Adventure|Comedy|Fantasy|Sci-Fi',\n",
       "       'Comedy|Drama|Family|Fantasy|Musical', 'Comedy|Crime|Family',\n",
       "       'Crime|Drama|Romance', 'Drama|Fantasy|Music|Romance',\n",
       "       'Family|Sci-Fi', 'Action|Comedy|War',\n",
       "       'Adventure|Comedy|Music|Sci-Fi', 'Drama|Family|Musical',\n",
       "       'Action|Comedy|Drama|Music', 'Adventure|Comedy|Drama|Fantasy',\n",
       "       'Fantasy|Horror|Sci-Fi', 'Comedy|Romance|Thriller',\n",
       "       'Biography|Crime|Drama|Romance',\n",
       "       'Adventure|Comedy|Drama|Romance|Sci-Fi', 'Action|Crime|Drama',\n",
       "       'Adventure|Biography|Drama|War', 'Action|Comedy|Drama',\n",
       "       'Documentary|Drama', 'Action|Biography|Drama|History|Romance|War',\n",
       "       'Horror|Musical|Sci-Fi', 'Biography|Drama|Family|Musical|Romance',\n",
       "       'Comedy|Crime|Drama|Romance|Thriller', 'Drama|Horror',\n",
       "       'Animation|Comedy|Drama|Romance', 'Comedy|Crime|Musical|Mystery',\n",
       "       'Comedy|Drama|Horror|Sci-Fi', 'Drama|Romance|Sci-Fi|Thriller',\n",
       "       'Crime|Horror', 'Action|Crime|Horror|Sci-Fi|Thriller', 'Western',\n",
       "       'Comedy|Drama|Musical', 'Mystery|Romance|Thriller',\n",
       "       'Adventure|Comedy|Drama|Family', 'Musical|Romance',\n",
       "       'Documentary|Drama|War', 'Biography|Crime|Drama|Western',\n",
       "       'Comedy|Family|Fantasy|Musical',\n",
       "       'Crime|Drama|Musical|Romance|Thriller',\n",
       "       'Fantasy|Horror|Romance|Thriller', 'Comedy|Drama|Music|Musical',\n",
       "       'Action|Sport', 'Action|Comedy|Drama|Thriller',\n",
       "       'Drama|Horror|Mystery|Sci-Fi|Thriller', 'Comedy|Documentary',\n",
       "       'Adventure|Horror', 'Biography|Crime|Drama|Romance|Thriller',\n",
       "       'Comedy|Crime|Drama|Mystery|Thriller',\n",
       "       'Biography|Crime|Drama|Mystery|Thriller',\n",
       "       'Crime|Horror|Music|Thriller', 'Crime|Thriller|War',\n",
       "       'Crime|Drama|Fantasy|Romance', 'Documentary',\n",
       "       'Comedy|Horror|Mystery', 'Adventure|War|Western',\n",
       "       'Biography|Comedy|Musical|Romance|Western',\n",
       "       'Adventure|Comedy|Musical|Romance',\n",
       "       'Action|Adventure|Comedy|Musical', 'Crime|Documentary|Drama',\n",
       "       'Biography|Comedy|Documentary', 'Comedy|Documentary|Music',\n",
       "       'Crime|Drama|History|Romance', 'Comedy|Drama|Horror',\n",
       "       'Adventure|Family|Fantasy|Musical', 'Comedy|Crime|Drama|Sci-Fi',\n",
       "       'Comedy|Documentary|War', 'Drama|Musical',\n",
       "       'Action|Comedy|Horror|Sci-Fi', 'Documentary|History',\n",
       "       'Biography|Documentary|History',\n",
       "       'Action|Adventure|Comedy|Drama|Music|Sci-Fi',\n",
       "       'Crime|Drama|Film-Noir|Mystery|Thriller',\n",
       "       'Comedy|Fantasy|Musical|Sci-Fi',\n",
       "       'Biography|Crime|Documentary|History|Thriller',\n",
       "       'Adventure|Comedy|Horror', 'Adventure|Comedy|Sport',\n",
       "       'Action|Drama|Horror|Thriller', 'Crime|Documentary|War',\n",
       "       'Documentary|Sport', 'Adventure|Biography|Documentary|Drama',\n",
       "       'Comedy|Fantasy|Thriller', 'Drama|Fantasy|Sci-Fi',\n",
       "       'Action|Adventure|Animation|Comedy|Fantasy|Sci-Fi',\n",
       "       'Documentary|Drama|Sport', 'Documentary|History|Music',\n",
       "       'Adventure|Family|Romance',\n",
       "       'Adventure|Biography|Drama|Horror|Thriller',\n",
       "       'Biography|Documentary|Sport', 'Comedy|Horror|Musical',\n",
       "       'Biography|Documentary', 'Action|Fantasy|Horror|Mystery|Thriller',\n",
       "       'Thriller', 'Animation|Comedy|Drama|Fantasy|Sci-Fi',\n",
       "       'Adventure|Horror|Sci-Fi', 'Crime|Documentary',\n",
       "       'Comedy|Crime|Drama|Horror|Thriller', 'Comedy|Documentary|Drama',\n",
       "       'Comedy|Crime|Horror'], dtype=object)"
      ]
     },
     "execution_count": 24,
     "metadata": {},
     "output_type": "execute_result"
    }
   ],
   "source": [
    "movies_nn.genres.unique()"
   ]
  },
  {
   "cell_type": "code",
   "execution_count": 11,
   "metadata": {},
   "outputs": [
    {
     "data": {
      "text/html": [
       "<div>\n",
       "<style scoped>\n",
       "    .dataframe tbody tr th:only-of-type {\n",
       "        vertical-align: middle;\n",
       "    }\n",
       "\n",
       "    .dataframe tbody tr th {\n",
       "        vertical-align: top;\n",
       "    }\n",
       "\n",
       "    .dataframe thead th {\n",
       "        text-align: right;\n",
       "    }\n",
       "</style>\n",
       "<table border=\"1\" class=\"dataframe\">\n",
       "  <thead>\n",
       "    <tr style=\"text-align: right;\">\n",
       "      <th></th>\n",
       "      <th>num_critic_for_reviews</th>\n",
       "      <th>duration</th>\n",
       "      <th>director_facebook_likes</th>\n",
       "      <th>actor_3_facebook_likes</th>\n",
       "      <th>actor_1_facebook_likes</th>\n",
       "      <th>gross</th>\n",
       "      <th>num_voted_users</th>\n",
       "      <th>cast_total_facebook_likes</th>\n",
       "      <th>facenumber_in_poster</th>\n",
       "      <th>num_user_for_reviews</th>\n",
       "      <th>budget</th>\n",
       "      <th>title_year</th>\n",
       "      <th>actor_2_facebook_likes</th>\n",
       "      <th>imdb_score</th>\n",
       "      <th>aspect_ratio</th>\n",
       "      <th>movie_facebook_likes</th>\n",
       "    </tr>\n",
       "  </thead>\n",
       "  <tbody>\n",
       "    <tr>\n",
       "      <th>num_critic_for_reviews</th>\n",
       "      <td>1.000000</td>\n",
       "      <td>0.243351</td>\n",
       "      <td>0.175744</td>\n",
       "      <td>0.255203</td>\n",
       "      <td>0.167040</td>\n",
       "      <td>0.470754</td>\n",
       "      <td>0.594416</td>\n",
       "      <td>0.238858</td>\n",
       "      <td>-0.034079</td>\n",
       "      <td>0.564863</td>\n",
       "      <td>0.464057</td>\n",
       "      <td>0.433398</td>\n",
       "      <td>0.255578</td>\n",
       "      <td>0.356190</td>\n",
       "      <td>0.186175</td>\n",
       "      <td>0.707976</td>\n",
       "    </tr>\n",
       "    <tr>\n",
       "      <th>duration</th>\n",
       "      <td>0.243351</td>\n",
       "      <td>1.000000</td>\n",
       "      <td>0.188102</td>\n",
       "      <td>0.134334</td>\n",
       "      <td>0.090986</td>\n",
       "      <td>0.265636</td>\n",
       "      <td>0.352955</td>\n",
       "      <td>0.130321</td>\n",
       "      <td>0.023581</td>\n",
       "      <td>0.369479</td>\n",
       "      <td>0.302649</td>\n",
       "      <td>-0.128033</td>\n",
       "      <td>0.138478</td>\n",
       "      <td>0.376053</td>\n",
       "      <td>0.162368</td>\n",
       "      <td>0.222757</td>\n",
       "    </tr>\n",
       "    <tr>\n",
       "      <th>director_facebook_likes</th>\n",
       "      <td>0.175744</td>\n",
       "      <td>0.188102</td>\n",
       "      <td>1.000000</td>\n",
       "      <td>0.116661</td>\n",
       "      <td>0.088153</td>\n",
       "      <td>0.137379</td>\n",
       "      <td>0.300907</td>\n",
       "      <td>0.117186</td>\n",
       "      <td>-0.047857</td>\n",
       "      <td>0.219082</td>\n",
       "      <td>0.094366</td>\n",
       "      <td>-0.046466</td>\n",
       "      <td>0.115285</td>\n",
       "      <td>0.203228</td>\n",
       "      <td>0.038054</td>\n",
       "      <td>0.163061</td>\n",
       "    </tr>\n",
       "    <tr>\n",
       "      <th>actor_3_facebook_likes</th>\n",
       "      <td>0.255203</td>\n",
       "      <td>0.134334</td>\n",
       "      <td>0.116661</td>\n",
       "      <td>1.000000</td>\n",
       "      <td>0.247826</td>\n",
       "      <td>0.293838</td>\n",
       "      <td>0.267293</td>\n",
       "      <td>0.486293</td>\n",
       "      <td>0.104151</td>\n",
       "      <td>0.204899</td>\n",
       "      <td>0.262110</td>\n",
       "      <td>0.121101</td>\n",
       "      <td>0.551016</td>\n",
       "      <td>0.080785</td>\n",
       "      <td>0.046328</td>\n",
       "      <td>0.271869</td>\n",
       "    </tr>\n",
       "    <tr>\n",
       "      <th>actor_1_facebook_likes</th>\n",
       "      <td>0.167040</td>\n",
       "      <td>0.090986</td>\n",
       "      <td>0.088153</td>\n",
       "      <td>0.247826</td>\n",
       "      <td>1.000000</td>\n",
       "      <td>0.134262</td>\n",
       "      <td>0.176614</td>\n",
       "      <td>0.944441</td>\n",
       "      <td>0.054274</td>\n",
       "      <td>0.119386</td>\n",
       "      <td>0.156606</td>\n",
       "      <td>0.101264</td>\n",
       "      <td>0.387076</td>\n",
       "      <td>0.111227</td>\n",
       "      <td>0.056684</td>\n",
       "      <td>0.128960</td>\n",
       "    </tr>\n",
       "    <tr>\n",
       "      <th>gross</th>\n",
       "      <td>0.470754</td>\n",
       "      <td>0.265636</td>\n",
       "      <td>0.137379</td>\n",
       "      <td>0.293838</td>\n",
       "      <td>0.134262</td>\n",
       "      <td>1.000000</td>\n",
       "      <td>0.629051</td>\n",
       "      <td>0.224839</td>\n",
       "      <td>-0.038088</td>\n",
       "      <td>0.548406</td>\n",
       "      <td>0.643023</td>\n",
       "      <td>0.058237</td>\n",
       "      <td>0.244929</td>\n",
       "      <td>0.247039</td>\n",
       "      <td>0.064321</td>\n",
       "      <td>0.368924</td>\n",
       "    </tr>\n",
       "    <tr>\n",
       "      <th>num_voted_users</th>\n",
       "      <td>0.594416</td>\n",
       "      <td>0.352955</td>\n",
       "      <td>0.300907</td>\n",
       "      <td>0.267293</td>\n",
       "      <td>0.176614</td>\n",
       "      <td>0.629051</td>\n",
       "      <td>1.000000</td>\n",
       "      <td>0.246740</td>\n",
       "      <td>-0.034611</td>\n",
       "      <td>0.780670</td>\n",
       "      <td>0.394398</td>\n",
       "      <td>0.032761</td>\n",
       "      <td>0.243787</td>\n",
       "      <td>0.499245</td>\n",
       "      <td>0.088091</td>\n",
       "      <td>0.516388</td>\n",
       "    </tr>\n",
       "    <tr>\n",
       "      <th>cast_total_facebook_likes</th>\n",
       "      <td>0.238858</td>\n",
       "      <td>0.130321</td>\n",
       "      <td>0.117186</td>\n",
       "      <td>0.486293</td>\n",
       "      <td>0.944441</td>\n",
       "      <td>0.224839</td>\n",
       "      <td>0.246740</td>\n",
       "      <td>1.000000</td>\n",
       "      <td>0.077174</td>\n",
       "      <td>0.176517</td>\n",
       "      <td>0.234525</td>\n",
       "      <td>0.133075</td>\n",
       "      <td>0.640341</td>\n",
       "      <td>0.128997</td>\n",
       "      <td>0.068904</td>\n",
       "      <td>0.204865</td>\n",
       "    </tr>\n",
       "    <tr>\n",
       "      <th>facenumber_in_poster</th>\n",
       "      <td>-0.034079</td>\n",
       "      <td>0.023581</td>\n",
       "      <td>-0.047857</td>\n",
       "      <td>0.104151</td>\n",
       "      <td>0.054274</td>\n",
       "      <td>-0.038088</td>\n",
       "      <td>-0.034611</td>\n",
       "      <td>0.077174</td>\n",
       "      <td>1.000000</td>\n",
       "      <td>-0.085039</td>\n",
       "      <td>-0.028855</td>\n",
       "      <td>0.076427</td>\n",
       "      <td>0.070414</td>\n",
       "      <td>-0.060774</td>\n",
       "      <td>0.016863</td>\n",
       "      <td>0.015085</td>\n",
       "    </tr>\n",
       "    <tr>\n",
       "      <th>num_user_for_reviews</th>\n",
       "      <td>0.564863</td>\n",
       "      <td>0.369479</td>\n",
       "      <td>0.219082</td>\n",
       "      <td>0.204899</td>\n",
       "      <td>0.119386</td>\n",
       "      <td>0.548406</td>\n",
       "      <td>0.780670</td>\n",
       "      <td>0.176517</td>\n",
       "      <td>-0.085039</td>\n",
       "      <td>1.000000</td>\n",
       "      <td>0.415085</td>\n",
       "      <td>0.027945</td>\n",
       "      <td>0.186018</td>\n",
       "      <td>0.340215</td>\n",
       "      <td>0.100494</td>\n",
       "      <td>0.371522</td>\n",
       "    </tr>\n",
       "    <tr>\n",
       "      <th>budget</th>\n",
       "      <td>0.464057</td>\n",
       "      <td>0.302649</td>\n",
       "      <td>0.094366</td>\n",
       "      <td>0.262110</td>\n",
       "      <td>0.156606</td>\n",
       "      <td>0.643023</td>\n",
       "      <td>0.394398</td>\n",
       "      <td>0.234525</td>\n",
       "      <td>-0.028855</td>\n",
       "      <td>0.415085</td>\n",
       "      <td>1.000000</td>\n",
       "      <td>0.240639</td>\n",
       "      <td>0.245531</td>\n",
       "      <td>0.053674</td>\n",
       "      <td>0.177222</td>\n",
       "      <td>0.314827</td>\n",
       "    </tr>\n",
       "    <tr>\n",
       "      <th>title_year</th>\n",
       "      <td>0.433398</td>\n",
       "      <td>-0.128033</td>\n",
       "      <td>-0.046466</td>\n",
       "      <td>0.121101</td>\n",
       "      <td>0.101264</td>\n",
       "      <td>0.058237</td>\n",
       "      <td>0.032761</td>\n",
       "      <td>0.133075</td>\n",
       "      <td>0.076427</td>\n",
       "      <td>0.027945</td>\n",
       "      <td>0.240639</td>\n",
       "      <td>1.000000</td>\n",
       "      <td>0.126550</td>\n",
       "      <td>-0.135320</td>\n",
       "      <td>0.216908</td>\n",
       "      <td>0.315063</td>\n",
       "    </tr>\n",
       "    <tr>\n",
       "      <th>actor_2_facebook_likes</th>\n",
       "      <td>0.255578</td>\n",
       "      <td>0.138478</td>\n",
       "      <td>0.115285</td>\n",
       "      <td>0.551016</td>\n",
       "      <td>0.387076</td>\n",
       "      <td>0.244929</td>\n",
       "      <td>0.243787</td>\n",
       "      <td>0.640341</td>\n",
       "      <td>0.070414</td>\n",
       "      <td>0.186018</td>\n",
       "      <td>0.245531</td>\n",
       "      <td>0.126550</td>\n",
       "      <td>1.000000</td>\n",
       "      <td>0.120592</td>\n",
       "      <td>0.064215</td>\n",
       "      <td>0.232622</td>\n",
       "    </tr>\n",
       "    <tr>\n",
       "      <th>imdb_score</th>\n",
       "      <td>0.356190</td>\n",
       "      <td>0.376053</td>\n",
       "      <td>0.203228</td>\n",
       "      <td>0.080785</td>\n",
       "      <td>0.111227</td>\n",
       "      <td>0.247039</td>\n",
       "      <td>0.499245</td>\n",
       "      <td>0.128997</td>\n",
       "      <td>-0.060774</td>\n",
       "      <td>0.340215</td>\n",
       "      <td>0.053674</td>\n",
       "      <td>-0.135320</td>\n",
       "      <td>0.120592</td>\n",
       "      <td>1.000000</td>\n",
       "      <td>0.036741</td>\n",
       "      <td>0.288910</td>\n",
       "    </tr>\n",
       "    <tr>\n",
       "      <th>aspect_ratio</th>\n",
       "      <td>0.186175</td>\n",
       "      <td>0.162368</td>\n",
       "      <td>0.038054</td>\n",
       "      <td>0.046328</td>\n",
       "      <td>0.056684</td>\n",
       "      <td>0.064321</td>\n",
       "      <td>0.088091</td>\n",
       "      <td>0.068904</td>\n",
       "      <td>0.016863</td>\n",
       "      <td>0.100494</td>\n",
       "      <td>0.177222</td>\n",
       "      <td>0.216908</td>\n",
       "      <td>0.064215</td>\n",
       "      <td>0.036741</td>\n",
       "      <td>1.000000</td>\n",
       "      <td>0.113225</td>\n",
       "    </tr>\n",
       "    <tr>\n",
       "      <th>movie_facebook_likes</th>\n",
       "      <td>0.707976</td>\n",
       "      <td>0.222757</td>\n",
       "      <td>0.163061</td>\n",
       "      <td>0.271869</td>\n",
       "      <td>0.128960</td>\n",
       "      <td>0.368924</td>\n",
       "      <td>0.516388</td>\n",
       "      <td>0.204865</td>\n",
       "      <td>0.015085</td>\n",
       "      <td>0.371522</td>\n",
       "      <td>0.314827</td>\n",
       "      <td>0.315063</td>\n",
       "      <td>0.232622</td>\n",
       "      <td>0.288910</td>\n",
       "      <td>0.113225</td>\n",
       "      <td>1.000000</td>\n",
       "    </tr>\n",
       "  </tbody>\n",
       "</table>\n",
       "</div>"
      ],
      "text/plain": [
       "                           num_critic_for_reviews  duration  \\\n",
       "num_critic_for_reviews                   1.000000  0.243351   \n",
       "duration                                 0.243351  1.000000   \n",
       "director_facebook_likes                  0.175744  0.188102   \n",
       "actor_3_facebook_likes                   0.255203  0.134334   \n",
       "actor_1_facebook_likes                   0.167040  0.090986   \n",
       "gross                                    0.470754  0.265636   \n",
       "num_voted_users                          0.594416  0.352955   \n",
       "cast_total_facebook_likes                0.238858  0.130321   \n",
       "facenumber_in_poster                    -0.034079  0.023581   \n",
       "num_user_for_reviews                     0.564863  0.369479   \n",
       "budget                                   0.464057  0.302649   \n",
       "title_year                               0.433398 -0.128033   \n",
       "actor_2_facebook_likes                   0.255578  0.138478   \n",
       "imdb_score                               0.356190  0.376053   \n",
       "aspect_ratio                             0.186175  0.162368   \n",
       "movie_facebook_likes                     0.707976  0.222757   \n",
       "\n",
       "                           director_facebook_likes  actor_3_facebook_likes  \\\n",
       "num_critic_for_reviews                    0.175744                0.255203   \n",
       "duration                                  0.188102                0.134334   \n",
       "director_facebook_likes                   1.000000                0.116661   \n",
       "actor_3_facebook_likes                    0.116661                1.000000   \n",
       "actor_1_facebook_likes                    0.088153                0.247826   \n",
       "gross                                     0.137379                0.293838   \n",
       "num_voted_users                           0.300907                0.267293   \n",
       "cast_total_facebook_likes                 0.117186                0.486293   \n",
       "facenumber_in_poster                     -0.047857                0.104151   \n",
       "num_user_for_reviews                      0.219082                0.204899   \n",
       "budget                                    0.094366                0.262110   \n",
       "title_year                               -0.046466                0.121101   \n",
       "actor_2_facebook_likes                    0.115285                0.551016   \n",
       "imdb_score                                0.203228                0.080785   \n",
       "aspect_ratio                              0.038054                0.046328   \n",
       "movie_facebook_likes                      0.163061                0.271869   \n",
       "\n",
       "                           actor_1_facebook_likes     gross  num_voted_users  \\\n",
       "num_critic_for_reviews                   0.167040  0.470754         0.594416   \n",
       "duration                                 0.090986  0.265636         0.352955   \n",
       "director_facebook_likes                  0.088153  0.137379         0.300907   \n",
       "actor_3_facebook_likes                   0.247826  0.293838         0.267293   \n",
       "actor_1_facebook_likes                   1.000000  0.134262         0.176614   \n",
       "gross                                    0.134262  1.000000         0.629051   \n",
       "num_voted_users                          0.176614  0.629051         1.000000   \n",
       "cast_total_facebook_likes                0.944441  0.224839         0.246740   \n",
       "facenumber_in_poster                     0.054274 -0.038088        -0.034611   \n",
       "num_user_for_reviews                     0.119386  0.548406         0.780670   \n",
       "budget                                   0.156606  0.643023         0.394398   \n",
       "title_year                               0.101264  0.058237         0.032761   \n",
       "actor_2_facebook_likes                   0.387076  0.244929         0.243787   \n",
       "imdb_score                               0.111227  0.247039         0.499245   \n",
       "aspect_ratio                             0.056684  0.064321         0.088091   \n",
       "movie_facebook_likes                     0.128960  0.368924         0.516388   \n",
       "\n",
       "                           cast_total_facebook_likes  facenumber_in_poster  \\\n",
       "num_critic_for_reviews                      0.238858             -0.034079   \n",
       "duration                                    0.130321              0.023581   \n",
       "director_facebook_likes                     0.117186             -0.047857   \n",
       "actor_3_facebook_likes                      0.486293              0.104151   \n",
       "actor_1_facebook_likes                      0.944441              0.054274   \n",
       "gross                                       0.224839             -0.038088   \n",
       "num_voted_users                             0.246740             -0.034611   \n",
       "cast_total_facebook_likes                   1.000000              0.077174   \n",
       "facenumber_in_poster                        0.077174              1.000000   \n",
       "num_user_for_reviews                        0.176517             -0.085039   \n",
       "budget                                      0.234525             -0.028855   \n",
       "title_year                                  0.133075              0.076427   \n",
       "actor_2_facebook_likes                      0.640341              0.070414   \n",
       "imdb_score                                  0.128997             -0.060774   \n",
       "aspect_ratio                                0.068904              0.016863   \n",
       "movie_facebook_likes                        0.204865              0.015085   \n",
       "\n",
       "                           num_user_for_reviews    budget  title_year  \\\n",
       "num_critic_for_reviews                 0.564863  0.464057    0.433398   \n",
       "duration                               0.369479  0.302649   -0.128033   \n",
       "director_facebook_likes                0.219082  0.094366   -0.046466   \n",
       "actor_3_facebook_likes                 0.204899  0.262110    0.121101   \n",
       "actor_1_facebook_likes                 0.119386  0.156606    0.101264   \n",
       "gross                                  0.548406  0.643023    0.058237   \n",
       "num_voted_users                        0.780670  0.394398    0.032761   \n",
       "cast_total_facebook_likes              0.176517  0.234525    0.133075   \n",
       "facenumber_in_poster                  -0.085039 -0.028855    0.076427   \n",
       "num_user_for_reviews                   1.000000  0.415085    0.027945   \n",
       "budget                                 0.415085  1.000000    0.240639   \n",
       "title_year                             0.027945  0.240639    1.000000   \n",
       "actor_2_facebook_likes                 0.186018  0.245531    0.126550   \n",
       "imdb_score                             0.340215  0.053674   -0.135320   \n",
       "aspect_ratio                           0.100494  0.177222    0.216908   \n",
       "movie_facebook_likes                   0.371522  0.314827    0.315063   \n",
       "\n",
       "                           actor_2_facebook_likes  imdb_score  aspect_ratio  \\\n",
       "num_critic_for_reviews                   0.255578    0.356190      0.186175   \n",
       "duration                                 0.138478    0.376053      0.162368   \n",
       "director_facebook_likes                  0.115285    0.203228      0.038054   \n",
       "actor_3_facebook_likes                   0.551016    0.080785      0.046328   \n",
       "actor_1_facebook_likes                   0.387076    0.111227      0.056684   \n",
       "gross                                    0.244929    0.247039      0.064321   \n",
       "num_voted_users                          0.243787    0.499245      0.088091   \n",
       "cast_total_facebook_likes                0.640341    0.128997      0.068904   \n",
       "facenumber_in_poster                     0.070414   -0.060774      0.016863   \n",
       "num_user_for_reviews                     0.186018    0.340215      0.100494   \n",
       "budget                                   0.245531    0.053674      0.177222   \n",
       "title_year                               0.126550   -0.135320      0.216908   \n",
       "actor_2_facebook_likes                   1.000000    0.120592      0.064215   \n",
       "imdb_score                               0.120592    1.000000      0.036741   \n",
       "aspect_ratio                             0.064215    0.036741      1.000000   \n",
       "movie_facebook_likes                     0.232622    0.288910      0.113225   \n",
       "\n",
       "                           movie_facebook_likes  \n",
       "num_critic_for_reviews                 0.707976  \n",
       "duration                               0.222757  \n",
       "director_facebook_likes                0.163061  \n",
       "actor_3_facebook_likes                 0.271869  \n",
       "actor_1_facebook_likes                 0.128960  \n",
       "gross                                  0.368924  \n",
       "num_voted_users                        0.516388  \n",
       "cast_total_facebook_likes              0.204865  \n",
       "facenumber_in_poster                   0.015085  \n",
       "num_user_for_reviews                   0.371522  \n",
       "budget                                 0.314827  \n",
       "title_year                             0.315063  \n",
       "actor_2_facebook_likes                 0.232622  \n",
       "imdb_score                             0.288910  \n",
       "aspect_ratio                           0.113225  \n",
       "movie_facebook_likes                   1.000000  "
      ]
     },
     "execution_count": 11,
     "metadata": {},
     "output_type": "execute_result"
    }
   ],
   "source": [
    "movies_nn.corr()"
   ]
  },
  {
   "cell_type": "code",
   "execution_count": 26,
   "metadata": {},
   "outputs": [
    {
     "data": {
      "text/html": [
       "<div>\n",
       "<style scoped>\n",
       "    .dataframe tbody tr th:only-of-type {\n",
       "        vertical-align: middle;\n",
       "    }\n",
       "\n",
       "    .dataframe tbody tr th {\n",
       "        vertical-align: top;\n",
       "    }\n",
       "\n",
       "    .dataframe thead th {\n",
       "        text-align: right;\n",
       "    }\n",
       "</style>\n",
       "<table border=\"1\" class=\"dataframe\">\n",
       "  <thead>\n",
       "    <tr style=\"text-align: right;\">\n",
       "      <th></th>\n",
       "      <th>count</th>\n",
       "      <th>mean</th>\n",
       "      <th>std</th>\n",
       "      <th>min</th>\n",
       "      <th>25%</th>\n",
       "      <th>50%</th>\n",
       "      <th>75%</th>\n",
       "      <th>max</th>\n",
       "    </tr>\n",
       "  </thead>\n",
       "  <tbody>\n",
       "    <tr>\n",
       "      <th>num_critic_for_reviews</th>\n",
       "      <td>3598.0</td>\n",
       "      <td>167.96</td>\n",
       "      <td>124.50</td>\n",
       "      <td>2.00</td>\n",
       "      <td>77.00</td>\n",
       "      <td>138.50</td>\n",
       "      <td>224.00</td>\n",
       "      <td>813.0</td>\n",
       "    </tr>\n",
       "    <tr>\n",
       "      <th>duration</th>\n",
       "      <td>3598.0</td>\n",
       "      <td>110.02</td>\n",
       "      <td>22.20</td>\n",
       "      <td>37.00</td>\n",
       "      <td>96.00</td>\n",
       "      <td>106.00</td>\n",
       "      <td>120.00</td>\n",
       "      <td>330.0</td>\n",
       "    </tr>\n",
       "    <tr>\n",
       "      <th>director_facebook_likes</th>\n",
       "      <td>3598.0</td>\n",
       "      <td>822.85</td>\n",
       "      <td>3111.79</td>\n",
       "      <td>0.00</td>\n",
       "      <td>11.00</td>\n",
       "      <td>64.00</td>\n",
       "      <td>237.25</td>\n",
       "      <td>23000.0</td>\n",
       "    </tr>\n",
       "    <tr>\n",
       "      <th>actor_3_facebook_likes</th>\n",
       "      <td>3598.0</td>\n",
       "      <td>800.04</td>\n",
       "      <td>1929.94</td>\n",
       "      <td>0.00</td>\n",
       "      <td>218.00</td>\n",
       "      <td>452.00</td>\n",
       "      <td>701.75</td>\n",
       "      <td>23000.0</td>\n",
       "    </tr>\n",
       "    <tr>\n",
       "      <th>actor_1_facebook_likes</th>\n",
       "      <td>3598.0</td>\n",
       "      <td>8029.10</td>\n",
       "      <td>15780.51</td>\n",
       "      <td>0.00</td>\n",
       "      <td>785.25</td>\n",
       "      <td>1000.00</td>\n",
       "      <td>13000.00</td>\n",
       "      <td>640000.0</td>\n",
       "    </tr>\n",
       "    <tr>\n",
       "      <th>gross</th>\n",
       "      <td>3598.0</td>\n",
       "      <td>54628082.78</td>\n",
       "      <td>71100567.86</td>\n",
       "      <td>162.00</td>\n",
       "      <td>10298422.75</td>\n",
       "      <td>31886934.50</td>\n",
       "      <td>69988754.75</td>\n",
       "      <td>760505847.0</td>\n",
       "    </tr>\n",
       "    <tr>\n",
       "      <th>num_voted_users</th>\n",
       "      <td>3598.0</td>\n",
       "      <td>107521.36</td>\n",
       "      <td>153724.79</td>\n",
       "      <td>91.00</td>\n",
       "      <td>20014.25</td>\n",
       "      <td>54716.50</td>\n",
       "      <td>131224.50</td>\n",
       "      <td>1689764.0</td>\n",
       "    </tr>\n",
       "    <tr>\n",
       "      <th>cast_total_facebook_likes</th>\n",
       "      <td>3598.0</td>\n",
       "      <td>11950.28</td>\n",
       "      <td>19411.43</td>\n",
       "      <td>0.00</td>\n",
       "      <td>2056.00</td>\n",
       "      <td>4313.00</td>\n",
       "      <td>16743.75</td>\n",
       "      <td>656730.0</td>\n",
       "    </tr>\n",
       "    <tr>\n",
       "      <th>facenumber_in_poster</th>\n",
       "      <td>3598.0</td>\n",
       "      <td>1.39</td>\n",
       "      <td>2.06</td>\n",
       "      <td>0.00</td>\n",
       "      <td>0.00</td>\n",
       "      <td>1.00</td>\n",
       "      <td>2.00</td>\n",
       "      <td>43.0</td>\n",
       "    </tr>\n",
       "    <tr>\n",
       "      <th>num_user_for_reviews</th>\n",
       "      <td>3598.0</td>\n",
       "      <td>341.29</td>\n",
       "      <td>414.05</td>\n",
       "      <td>4.00</td>\n",
       "      <td>112.00</td>\n",
       "      <td>212.00</td>\n",
       "      <td>405.00</td>\n",
       "      <td>5060.0</td>\n",
       "    </tr>\n",
       "    <tr>\n",
       "      <th>budget</th>\n",
       "      <td>3598.0</td>\n",
       "      <td>39724474.56</td>\n",
       "      <td>43716751.56</td>\n",
       "      <td>218.00</td>\n",
       "      <td>11000000.00</td>\n",
       "      <td>25000000.00</td>\n",
       "      <td>51000000.00</td>\n",
       "      <td>390000000.0</td>\n",
       "    </tr>\n",
       "    <tr>\n",
       "      <th>title_year</th>\n",
       "      <td>3598.0</td>\n",
       "      <td>2002.95</td>\n",
       "      <td>9.85</td>\n",
       "      <td>1929.00</td>\n",
       "      <td>1999.00</td>\n",
       "      <td>2004.00</td>\n",
       "      <td>2010.00</td>\n",
       "      <td>2016.0</td>\n",
       "    </tr>\n",
       "    <tr>\n",
       "      <th>actor_2_facebook_likes</th>\n",
       "      <td>3598.0</td>\n",
       "      <td>2100.71</td>\n",
       "      <td>4627.17</td>\n",
       "      <td>0.00</td>\n",
       "      <td>415.25</td>\n",
       "      <td>712.00</td>\n",
       "      <td>984.75</td>\n",
       "      <td>137000.0</td>\n",
       "    </tr>\n",
       "    <tr>\n",
       "      <th>imdb_score</th>\n",
       "      <td>3598.0</td>\n",
       "      <td>6.43</td>\n",
       "      <td>1.05</td>\n",
       "      <td>1.60</td>\n",
       "      <td>5.80</td>\n",
       "      <td>6.50</td>\n",
       "      <td>7.20</td>\n",
       "      <td>9.3</td>\n",
       "    </tr>\n",
       "    <tr>\n",
       "      <th>aspect_ratio</th>\n",
       "      <td>3598.0</td>\n",
       "      <td>2.11</td>\n",
       "      <td>0.36</td>\n",
       "      <td>1.18</td>\n",
       "      <td>1.85</td>\n",
       "      <td>2.35</td>\n",
       "      <td>2.35</td>\n",
       "      <td>16.0</td>\n",
       "    </tr>\n",
       "    <tr>\n",
       "      <th>movie_facebook_likes</th>\n",
       "      <td>3598.0</td>\n",
       "      <td>9491.27</td>\n",
       "      <td>21777.70</td>\n",
       "      <td>0.00</td>\n",
       "      <td>0.00</td>\n",
       "      <td>239.50</td>\n",
       "      <td>11000.00</td>\n",
       "      <td>349000.0</td>\n",
       "    </tr>\n",
       "  </tbody>\n",
       "</table>\n",
       "</div>"
      ],
      "text/plain": [
       "                            count         mean          std      min  \\\n",
       "num_critic_for_reviews     3598.0       167.96       124.50     2.00   \n",
       "duration                   3598.0       110.02        22.20    37.00   \n",
       "director_facebook_likes    3598.0       822.85      3111.79     0.00   \n",
       "actor_3_facebook_likes     3598.0       800.04      1929.94     0.00   \n",
       "actor_1_facebook_likes     3598.0      8029.10     15780.51     0.00   \n",
       "gross                      3598.0  54628082.78  71100567.86   162.00   \n",
       "num_voted_users            3598.0    107521.36    153724.79    91.00   \n",
       "cast_total_facebook_likes  3598.0     11950.28     19411.43     0.00   \n",
       "facenumber_in_poster       3598.0         1.39         2.06     0.00   \n",
       "num_user_for_reviews       3598.0       341.29       414.05     4.00   \n",
       "budget                     3598.0  39724474.56  43716751.56   218.00   \n",
       "title_year                 3598.0      2002.95         9.85  1929.00   \n",
       "actor_2_facebook_likes     3598.0      2100.71      4627.17     0.00   \n",
       "imdb_score                 3598.0         6.43         1.05     1.60   \n",
       "aspect_ratio               3598.0         2.11         0.36     1.18   \n",
       "movie_facebook_likes       3598.0      9491.27     21777.70     0.00   \n",
       "\n",
       "                                   25%          50%          75%          max  \n",
       "num_critic_for_reviews           77.00       138.50       224.00        813.0  \n",
       "duration                         96.00       106.00       120.00        330.0  \n",
       "director_facebook_likes          11.00        64.00       237.25      23000.0  \n",
       "actor_3_facebook_likes          218.00       452.00       701.75      23000.0  \n",
       "actor_1_facebook_likes          785.25      1000.00     13000.00     640000.0  \n",
       "gross                      10298422.75  31886934.50  69988754.75  760505847.0  \n",
       "num_voted_users               20014.25     54716.50    131224.50    1689764.0  \n",
       "cast_total_facebook_likes      2056.00      4313.00     16743.75     656730.0  \n",
       "facenumber_in_poster              0.00         1.00         2.00         43.0  \n",
       "num_user_for_reviews            112.00       212.00       405.00       5060.0  \n",
       "budget                     11000000.00  25000000.00  51000000.00  390000000.0  \n",
       "title_year                     1999.00      2004.00      2010.00       2016.0  \n",
       "actor_2_facebook_likes          415.25       712.00       984.75     137000.0  \n",
       "imdb_score                        5.80         6.50         7.20          9.3  \n",
       "aspect_ratio                      1.85         2.35         2.35         16.0  \n",
       "movie_facebook_likes              0.00       239.50     11000.00     349000.0  "
      ]
     },
     "execution_count": 26,
     "metadata": {},
     "output_type": "execute_result"
    }
   ],
   "source": [
    "movies_nn.describe().T.round(2)"
   ]
  },
  {
   "cell_type": "code",
   "execution_count": 12,
   "metadata": {},
   "outputs": [
    {
     "name": "stdout",
     "output_type": "stream",
     "text": [
      "(3598, 16)\n"
     ]
    }
   ],
   "source": [
    "movies_nn = movies_nn.select_dtypes(include=['int64','float64']) #only float and int values\n",
    "print (movies_nn.shape)"
   ]
  },
  {
   "cell_type": "code",
   "execution_count": 28,
   "metadata": {},
   "outputs": [
    {
     "data": {
      "text/html": [
       "<div>\n",
       "<style scoped>\n",
       "    .dataframe tbody tr th:only-of-type {\n",
       "        vertical-align: middle;\n",
       "    }\n",
       "\n",
       "    .dataframe tbody tr th {\n",
       "        vertical-align: top;\n",
       "    }\n",
       "\n",
       "    .dataframe thead th {\n",
       "        text-align: right;\n",
       "    }\n",
       "</style>\n",
       "<table border=\"1\" class=\"dataframe\">\n",
       "  <thead>\n",
       "    <tr style=\"text-align: right;\">\n",
       "      <th></th>\n",
       "      <th>num_critic_for_reviews</th>\n",
       "      <th>duration</th>\n",
       "      <th>director_facebook_likes</th>\n",
       "      <th>actor_3_facebook_likes</th>\n",
       "      <th>actor_1_facebook_likes</th>\n",
       "      <th>gross</th>\n",
       "      <th>num_voted_users</th>\n",
       "      <th>cast_total_facebook_likes</th>\n",
       "      <th>facenumber_in_poster</th>\n",
       "      <th>num_user_for_reviews</th>\n",
       "      <th>budget</th>\n",
       "      <th>title_year</th>\n",
       "      <th>actor_2_facebook_likes</th>\n",
       "      <th>imdb_score</th>\n",
       "      <th>aspect_ratio</th>\n",
       "      <th>movie_facebook_likes</th>\n",
       "    </tr>\n",
       "  </thead>\n",
       "  <tbody>\n",
       "    <tr>\n",
       "      <th>0</th>\n",
       "      <td>723.0</td>\n",
       "      <td>178.0</td>\n",
       "      <td>0.0</td>\n",
       "      <td>855.0</td>\n",
       "      <td>1000.0</td>\n",
       "      <td>760505847.0</td>\n",
       "      <td>886204</td>\n",
       "      <td>4834</td>\n",
       "      <td>0.0</td>\n",
       "      <td>3054.0</td>\n",
       "      <td>237000000.0</td>\n",
       "      <td>2009.0</td>\n",
       "      <td>936.0</td>\n",
       "      <td>7.9</td>\n",
       "      <td>1.78</td>\n",
       "      <td>33000</td>\n",
       "    </tr>\n",
       "    <tr>\n",
       "      <th>1</th>\n",
       "      <td>302.0</td>\n",
       "      <td>169.0</td>\n",
       "      <td>563.0</td>\n",
       "      <td>1000.0</td>\n",
       "      <td>40000.0</td>\n",
       "      <td>309404152.0</td>\n",
       "      <td>471220</td>\n",
       "      <td>48350</td>\n",
       "      <td>0.0</td>\n",
       "      <td>1238.0</td>\n",
       "      <td>300000000.0</td>\n",
       "      <td>2007.0</td>\n",
       "      <td>5000.0</td>\n",
       "      <td>7.1</td>\n",
       "      <td>2.35</td>\n",
       "      <td>0</td>\n",
       "    </tr>\n",
       "    <tr>\n",
       "      <th>2</th>\n",
       "      <td>602.0</td>\n",
       "      <td>148.0</td>\n",
       "      <td>0.0</td>\n",
       "      <td>161.0</td>\n",
       "      <td>11000.0</td>\n",
       "      <td>200074175.0</td>\n",
       "      <td>275868</td>\n",
       "      <td>11700</td>\n",
       "      <td>1.0</td>\n",
       "      <td>994.0</td>\n",
       "      <td>245000000.0</td>\n",
       "      <td>2015.0</td>\n",
       "      <td>393.0</td>\n",
       "      <td>6.8</td>\n",
       "      <td>2.35</td>\n",
       "      <td>85000</td>\n",
       "    </tr>\n",
       "    <tr>\n",
       "      <th>3</th>\n",
       "      <td>813.0</td>\n",
       "      <td>164.0</td>\n",
       "      <td>22000.0</td>\n",
       "      <td>23000.0</td>\n",
       "      <td>27000.0</td>\n",
       "      <td>448130642.0</td>\n",
       "      <td>1144337</td>\n",
       "      <td>106759</td>\n",
       "      <td>0.0</td>\n",
       "      <td>2701.0</td>\n",
       "      <td>250000000.0</td>\n",
       "      <td>2012.0</td>\n",
       "      <td>23000.0</td>\n",
       "      <td>8.5</td>\n",
       "      <td>2.35</td>\n",
       "      <td>164000</td>\n",
       "    </tr>\n",
       "    <tr>\n",
       "      <th>5</th>\n",
       "      <td>462.0</td>\n",
       "      <td>132.0</td>\n",
       "      <td>475.0</td>\n",
       "      <td>530.0</td>\n",
       "      <td>640.0</td>\n",
       "      <td>73058679.0</td>\n",
       "      <td>212204</td>\n",
       "      <td>1873</td>\n",
       "      <td>1.0</td>\n",
       "      <td>738.0</td>\n",
       "      <td>263700000.0</td>\n",
       "      <td>2012.0</td>\n",
       "      <td>632.0</td>\n",
       "      <td>6.6</td>\n",
       "      <td>2.35</td>\n",
       "      <td>24000</td>\n",
       "    </tr>\n",
       "  </tbody>\n",
       "</table>\n",
       "</div>"
      ],
      "text/plain": [
       "   num_critic_for_reviews  duration  director_facebook_likes  \\\n",
       "0                   723.0     178.0                      0.0   \n",
       "1                   302.0     169.0                    563.0   \n",
       "2                   602.0     148.0                      0.0   \n",
       "3                   813.0     164.0                  22000.0   \n",
       "5                   462.0     132.0                    475.0   \n",
       "\n",
       "   actor_3_facebook_likes  actor_1_facebook_likes        gross  \\\n",
       "0                   855.0                  1000.0  760505847.0   \n",
       "1                  1000.0                 40000.0  309404152.0   \n",
       "2                   161.0                 11000.0  200074175.0   \n",
       "3                 23000.0                 27000.0  448130642.0   \n",
       "5                   530.0                   640.0   73058679.0   \n",
       "\n",
       "   num_voted_users  cast_total_facebook_likes  facenumber_in_poster  \\\n",
       "0           886204                       4834                   0.0   \n",
       "1           471220                      48350                   0.0   \n",
       "2           275868                      11700                   1.0   \n",
       "3          1144337                     106759                   0.0   \n",
       "5           212204                       1873                   1.0   \n",
       "\n",
       "   num_user_for_reviews       budget  title_year  actor_2_facebook_likes  \\\n",
       "0                3054.0  237000000.0      2009.0                   936.0   \n",
       "1                1238.0  300000000.0      2007.0                  5000.0   \n",
       "2                 994.0  245000000.0      2015.0                   393.0   \n",
       "3                2701.0  250000000.0      2012.0                 23000.0   \n",
       "5                 738.0  263700000.0      2012.0                   632.0   \n",
       "\n",
       "   imdb_score  aspect_ratio  movie_facebook_likes  \n",
       "0         7.9          1.78                 33000  \n",
       "1         7.1          2.35                     0  \n",
       "2         6.8          2.35                 85000  \n",
       "3         8.5          2.35                164000  \n",
       "5         6.6          2.35                 24000  "
      ]
     },
     "execution_count": 28,
     "metadata": {},
     "output_type": "execute_result"
    }
   ],
   "source": [
    "movies_nn.head()"
   ]
  },
  {
   "cell_type": "code",
   "execution_count": 13,
   "metadata": {},
   "outputs": [
    {
     "data": {
      "text/plain": [
       "(3598, 15)"
      ]
     },
     "execution_count": 13,
     "metadata": {},
     "output_type": "execute_result"
    }
   ],
   "source": [
    "X = movies_nn.drop(['gross'],axis = 1)\n",
    "y = movies_nn.gross\n",
    "X.shape"
   ]
  },
  {
   "cell_type": "code",
   "execution_count": 84,
   "metadata": {},
   "outputs": [
    {
     "data": {
      "text/html": [
       "<div>\n",
       "<style scoped>\n",
       "    .dataframe tbody tr th:only-of-type {\n",
       "        vertical-align: middle;\n",
       "    }\n",
       "\n",
       "    .dataframe tbody tr th {\n",
       "        vertical-align: top;\n",
       "    }\n",
       "\n",
       "    .dataframe thead th {\n",
       "        text-align: right;\n",
       "    }\n",
       "</style>\n",
       "<table border=\"1\" class=\"dataframe\">\n",
       "  <thead>\n",
       "    <tr style=\"text-align: right;\">\n",
       "      <th></th>\n",
       "      <th>num_critic_for_reviews</th>\n",
       "      <th>duration</th>\n",
       "      <th>director_facebook_likes</th>\n",
       "      <th>actor_3_facebook_likes</th>\n",
       "      <th>actor_1_facebook_likes</th>\n",
       "      <th>num_voted_users</th>\n",
       "      <th>cast_total_facebook_likes</th>\n",
       "      <th>facenumber_in_poster</th>\n",
       "      <th>num_user_for_reviews</th>\n",
       "      <th>budget</th>\n",
       "      <th>actor_2_facebook_likes</th>\n",
       "      <th>imdb_score</th>\n",
       "      <th>aspect_ratio</th>\n",
       "      <th>movie_facebook_likes</th>\n",
       "    </tr>\n",
       "  </thead>\n",
       "  <tbody>\n",
       "    <tr>\n",
       "      <th>0</th>\n",
       "      <td>723.0</td>\n",
       "      <td>178.0</td>\n",
       "      <td>0.0</td>\n",
       "      <td>855.0</td>\n",
       "      <td>1000.0</td>\n",
       "      <td>886204</td>\n",
       "      <td>4834</td>\n",
       "      <td>0.0</td>\n",
       "      <td>3054.0</td>\n",
       "      <td>237000000.0</td>\n",
       "      <td>936.0</td>\n",
       "      <td>7.9</td>\n",
       "      <td>1.78</td>\n",
       "      <td>33000</td>\n",
       "    </tr>\n",
       "    <tr>\n",
       "      <th>1</th>\n",
       "      <td>302.0</td>\n",
       "      <td>169.0</td>\n",
       "      <td>563.0</td>\n",
       "      <td>1000.0</td>\n",
       "      <td>40000.0</td>\n",
       "      <td>471220</td>\n",
       "      <td>48350</td>\n",
       "      <td>0.0</td>\n",
       "      <td>1238.0</td>\n",
       "      <td>300000000.0</td>\n",
       "      <td>5000.0</td>\n",
       "      <td>7.1</td>\n",
       "      <td>2.35</td>\n",
       "      <td>0</td>\n",
       "    </tr>\n",
       "    <tr>\n",
       "      <th>2</th>\n",
       "      <td>602.0</td>\n",
       "      <td>148.0</td>\n",
       "      <td>0.0</td>\n",
       "      <td>161.0</td>\n",
       "      <td>11000.0</td>\n",
       "      <td>275868</td>\n",
       "      <td>11700</td>\n",
       "      <td>1.0</td>\n",
       "      <td>994.0</td>\n",
       "      <td>245000000.0</td>\n",
       "      <td>393.0</td>\n",
       "      <td>6.8</td>\n",
       "      <td>2.35</td>\n",
       "      <td>85000</td>\n",
       "    </tr>\n",
       "    <tr>\n",
       "      <th>3</th>\n",
       "      <td>813.0</td>\n",
       "      <td>164.0</td>\n",
       "      <td>22000.0</td>\n",
       "      <td>23000.0</td>\n",
       "      <td>27000.0</td>\n",
       "      <td>1144337</td>\n",
       "      <td>106759</td>\n",
       "      <td>0.0</td>\n",
       "      <td>2701.0</td>\n",
       "      <td>250000000.0</td>\n",
       "      <td>23000.0</td>\n",
       "      <td>8.5</td>\n",
       "      <td>2.35</td>\n",
       "      <td>164000</td>\n",
       "    </tr>\n",
       "    <tr>\n",
       "      <th>5</th>\n",
       "      <td>462.0</td>\n",
       "      <td>132.0</td>\n",
       "      <td>475.0</td>\n",
       "      <td>530.0</td>\n",
       "      <td>640.0</td>\n",
       "      <td>212204</td>\n",
       "      <td>1873</td>\n",
       "      <td>1.0</td>\n",
       "      <td>738.0</td>\n",
       "      <td>263700000.0</td>\n",
       "      <td>632.0</td>\n",
       "      <td>6.6</td>\n",
       "      <td>2.35</td>\n",
       "      <td>24000</td>\n",
       "    </tr>\n",
       "  </tbody>\n",
       "</table>\n",
       "</div>"
      ],
      "text/plain": [
       "   num_critic_for_reviews  duration  director_facebook_likes  \\\n",
       "0                   723.0     178.0                      0.0   \n",
       "1                   302.0     169.0                    563.0   \n",
       "2                   602.0     148.0                      0.0   \n",
       "3                   813.0     164.0                  22000.0   \n",
       "5                   462.0     132.0                    475.0   \n",
       "\n",
       "   actor_3_facebook_likes  actor_1_facebook_likes  num_voted_users  \\\n",
       "0                   855.0                  1000.0           886204   \n",
       "1                  1000.0                 40000.0           471220   \n",
       "2                   161.0                 11000.0           275868   \n",
       "3                 23000.0                 27000.0          1144337   \n",
       "5                   530.0                   640.0           212204   \n",
       "\n",
       "   cast_total_facebook_likes  facenumber_in_poster  num_user_for_reviews  \\\n",
       "0                       4834                   0.0                3054.0   \n",
       "1                      48350                   0.0                1238.0   \n",
       "2                      11700                   1.0                 994.0   \n",
       "3                     106759                   0.0                2701.0   \n",
       "5                       1873                   1.0                 738.0   \n",
       "\n",
       "        budget  actor_2_facebook_likes  imdb_score  aspect_ratio  \\\n",
       "0  237000000.0                   936.0         7.9          1.78   \n",
       "1  300000000.0                  5000.0         7.1          2.35   \n",
       "2  245000000.0                   393.0         6.8          2.35   \n",
       "3  250000000.0                 23000.0         8.5          2.35   \n",
       "5  263700000.0                   632.0         6.6          2.35   \n",
       "\n",
       "   movie_facebook_likes  \n",
       "0                 33000  \n",
       "1                     0  \n",
       "2                 85000  \n",
       "3                164000  \n",
       "5                 24000  "
      ]
     },
     "execution_count": 84,
     "metadata": {},
     "output_type": "execute_result"
    }
   ],
   "source": [
    "X.head()"
   ]
  },
  {
   "cell_type": "code",
   "execution_count": 232,
   "metadata": {},
   "outputs": [
    {
     "data": {
      "text/plain": [
       "0    760505847.0\n",
       "1    309404152.0\n",
       "2    200074175.0\n",
       "3    448130642.0\n",
       "5     73058679.0\n",
       "Name: gross, dtype: float64"
      ]
     },
     "execution_count": 232,
     "metadata": {},
     "output_type": "execute_result"
    }
   ],
   "source": [
    "y.head()"
   ]
  },
  {
   "cell_type": "code",
   "execution_count": 16,
   "metadata": {},
   "outputs": [],
   "source": [
    "X_train, X_test, y_train, y_test = train_test_split(X, y, test_size=0.25,random_state=5)"
   ]
  },
  {
   "cell_type": "code",
   "execution_count": 31,
   "metadata": {},
   "outputs": [],
   "source": [
    "#With Hyper Parameters Tuning\n",
    "#2-3,SVM\n",
    "#importing modules\n",
    "from sklearn.model_selection import GridSearchCV\n",
    "from sklearn import svm"
   ]
  },
  {
   "cell_type": "code",
   "execution_count": 44,
   "metadata": {},
   "outputs": [],
   "source": [
    "#making the instance\n",
    "model=svm.SVR()\n",
    "#Hyper Parameters Set\n",
    "params = {'C': [1], \n",
    "          'kernel': ['rbf']}\n",
    "#Making models with hyper parameters sets\n",
    "model1 = GridSearchCV(model, param_grid=params, n_jobs=-1)"
   ]
  },
  {
   "cell_type": "code",
   "execution_count": 45,
   "metadata": {},
   "outputs": [
    {
     "name": "stdout",
     "output_type": "stream",
     "text": [
      "Best Hyper Parameters:\n",
      " {'C': 1, 'kernel': 'rbf'}\n"
     ]
    },
    {
     "name": "stderr",
     "output_type": "stream",
     "text": [
      "/anaconda3/lib/python3.6/site-packages/sklearn/svm/base.py:196: FutureWarning: The default value of gamma will change from 'auto' to 'scale' in version 0.22 to account better for unscaled features. Set gamma explicitly to 'auto' or 'scale' to avoid this warning.\n",
      "  \"avoid this warning.\", FutureWarning)\n"
     ]
    }
   ],
   "source": [
    "#Learning\n",
    "model1.fit(X_train,y_train)\n",
    "#The best hyper parameters set\n",
    "print(\"Best Hyper Parameters:\\n\",model1.best_params_)"
   ]
  },
  {
   "cell_type": "code",
   "execution_count": 46,
   "metadata": {},
   "outputs": [
    {
     "name": "stderr",
     "output_type": "stream",
     "text": [
      "/anaconda3/lib/python3.6/site-packages/scipy/stats/stats.py:1713: FutureWarning: Using a non-tuple sequence for multidimensional indexing is deprecated; use `arr[tuple(seq)]` instead of `arr[seq]`. In the future this will be interpreted as an array index, `arr[np.array(seq)]`, which will result either in an error or a different result.\n",
      "  return np.add.reduce(sorted[indexer] * weights, axis=axis) / sumval\n"
     ]
    },
    {
     "data": {
      "text/plain": [
       "<matplotlib.axes._subplots.AxesSubplot at 0x1a2126bf60>"
      ]
     },
     "execution_count": 46,
     "metadata": {},
     "output_type": "execute_result"
    },
    {
     "data": {
      "image/png": "[encoded data removed]",
      "text/plain": [
       "<Figure size 792x612 with 1 Axes>"
      ]
     },
     "metadata": {},
     "output_type": "display_data"
    }
   ],
   "source": [
    "#Prediction\n",
    "prediction=model1.predict(X_test)\n",
    "#importing the metrics module\n",
    "from sklearn import metrics\n",
    "#evaluation(Accuracy)\n",
    "# print(\"Accuracy:\",metrics.accuracy_score(prediction,y_test))\n",
    "#evaluation(Confusion Metrix)\n",
    "# print(\"Confusion Metrix:\\n\",metrics.confusion_matrix(prediction,y_test))\n",
    "diff = prediction - y_test\n",
    "\n",
    "plt.figure(figsize = (11,8.5))\n",
    "sns.distplot(diff)"
   ]
  },
  {
   "cell_type": "code",
   "execution_count": 47,
   "metadata": {},
   "outputs": [
    {
     "name": "stdout",
     "output_type": "stream",
     "text": [
      "1767    44450000.0\n",
      "4571      798341.0\n",
      "3418      108662.0\n",
      "401     20315324.0\n",
      "1264    42071069.0\n",
      "Name: gross, dtype: float64\n",
      "[31837373.5 31837373.5 31837373.5 31837373.5 31837373.5]\n",
      "1767   -12612626.5\n",
      "4571    31039032.5\n",
      "3418    31728711.5\n",
      "401     11522049.5\n",
      "1264   -10233695.5\n",
      "Name: gross, dtype: float64\n"
     ]
    }
   ],
   "source": [
    "print(y_test.head())\n",
    "print(prediction[0:5])\n",
    "print(diff[0:5])"
   ]
  },
  {
   "cell_type": "code",
   "execution_count": 98,
   "metadata": {
    "scrolled": true
   },
   "outputs": [
    {
     "name": "stderr",
     "output_type": "stream",
     "text": [
      "/anaconda3/lib/python3.6/site-packages/sklearn/linear_model/logistic.py:432: FutureWarning: Default solver will be changed to 'lbfgs' in 0.22. Specify a solver to silence this warning.\n",
      "  FutureWarning)\n",
      "/anaconda3/lib/python3.6/site-packages/sklearn/linear_model/logistic.py:459: FutureWarning: Default multi_class will be changed to 'auto' in 0.22. Specify the multi_class option to silence this warning.\n",
      "  \"this warning.\", FutureWarning)\n"
     ]
    },
    {
     "name": "stdout",
     "output_type": "stream",
     "text": [
      "The model accurately classified 0.89 percent of the testing data\n"
     ]
    },
    {
     "name": "stderr",
     "output_type": "stream",
     "text": [
      "/anaconda3/lib/python3.6/site-packages/sklearn/svm/base.py:922: ConvergenceWarning: Liblinear failed to converge, increase the number of iterations.\n",
      "  \"the number of iterations.\", ConvergenceWarning)\n"
     ]
    }
   ],
   "source": [
    "#Step 1\n",
    "X_train, X_test, y_train, y_test = train_test_split(X, y, test_size=0.25,random_state=5)\n",
    "#Step 2\n",
    "logr = LogisticRegression()\n",
    "logr.fit(X_train, y_train)\n",
    "\n",
    "#Step 3\n",
    "preds = logr.predict(X_test)\n",
    "\n",
    "#Step 4\n",
    "testing_score = accuracy_score(y_test, preds)\n",
    "\n",
    "print (\"The model accurately classified {:.2f} percent of the testing data\".format(testing_score*100))"
   ]
  },
  {
   "cell_type": "code",
   "execution_count": 33,
   "metadata": {},
   "outputs": [
    {
     "data": {
      "text/plain": [
       "array([3.34185206e+08, 8.00000000e+05, 3.00523113e+08, 3.34185206e+08,\n",
       "       3.34185206e+08, 4.48860890e+07, 1.00289690e+08, 3.34185206e+08,\n",
       "       3.33130696e+08, 1.00289690e+08, 2.88371150e+07, 4.77700700e+06,\n",
       "       1.02515793e+08, 3.33130696e+08, 3.00523113e+08, 1.93944100e+06,\n",
       "       3.40748950e+07, 2.85016510e+07, 1.28311210e+07, 3.00523113e+08,\n",
       "       4.48860890e+07, 1.87670866e+08, 2.88371150e+07, 3.34185206e+08,\n",
       "       6.10949030e+07, 1.86336103e+08, 1.00289690e+08, 3.34185206e+08,\n",
       "       2.92298923e+08, 2.06456431e+08, 3.34185206e+08, 8.00343020e+07,\n",
       "       3.34185206e+08, 1.00289690e+08, 5.82207760e+07, 3.12057433e+08,\n",
       "       4.48860890e+07, 3.29405070e+07, 3.00523113e+08, 2.00000000e+06,\n",
       "       8.13502420e+07, 1.58115031e+08, 3.12057433e+08, 7.76796380e+07,\n",
       "       7.09605170e+07, 4.48860890e+07, 2.88371150e+07, 2.88371150e+07,\n",
       "       2.44052771e+08, 3.34185206e+08, 9.04540430e+07, 5.69440100e+06,\n",
       "       1.80483000e+05, 2.30000000e+04, 4.58574530e+07, 1.31564731e+08,\n",
       "       1.86830669e+08, 3.34185206e+08, 1.80011740e+08, 3.34185206e+08,\n",
       "       4.14984497e+08, 3.18759914e+08, 3.34185206e+08, 1.72051787e+08,\n",
       "       1.44512310e+08, 2.88371150e+07, 2.02853933e+08, 3.33130696e+08,\n",
       "       3.34185206e+08, 1.90871240e+08, 3.33130696e+08, 3.57990260e+07,\n",
       "       1.48734225e+08, 3.00523113e+08, 1.29995817e+08, 7.76796380e+07,\n",
       "       3.92920220e+07, 1.14324072e+08, 1.41600000e+08, 1.32142550e+07,\n",
       "       3.29405070e+07, 1.00289690e+08, 2.88371150e+07, 3.33130696e+08,\n",
       "       3.33130696e+08, 2.18628680e+08, 3.00523113e+08, 3.34185206e+08,\n",
       "       5.82207760e+07, 6.76311570e+07, 2.02853933e+08, 3.00523113e+08,\n",
       "       4.48860890e+07, 3.34185206e+08, 1.89412677e+08, 3.34185206e+08,\n",
       "       2.88371150e+07, 2.50863268e+08, 6.10949030e+07, 4.14984497e+08,\n",
       "       1.00289690e+08, 2.34903076e+08, 3.33130696e+08, 6.10949030e+07,\n",
       "       2.88371150e+07, 7.03002000e+05, 4.79520200e+07, 3.57990260e+07,\n",
       "       1.14324072e+08, 3.00523113e+08, 3.34185206e+08, 3.34041000e+05,\n",
       "       1.14324072e+08, 1.86336103e+08, 3.34185206e+08, 2.88371150e+07,\n",
       "       2.36593100e+06, 8.58848150e+07, 3.34185206e+08, 1.00289690e+08,\n",
       "       1.93777270e+07, 3.34185206e+08, 3.34185206e+08, 7.26865900e+06,\n",
       "       3.34185206e+08, 1.89412677e+08, 1.34016830e+07, 3.34185206e+08,\n",
       "       2.32723060e+07, 3.00523113e+08, 6.76311570e+07, 2.06456431e+08,\n",
       "       2.81666058e+08, 1.00289690e+08, 1.14324072e+08, 3.05388685e+08,\n",
       "       1.41600000e+08, 1.00289690e+08, 3.02261440e+07, 1.00289690e+08,\n",
       "       1.79883016e+08, 1.77385700e+07, 3.34185206e+08, 1.34016830e+07,\n",
       "       3.00523113e+08, 1.63192114e+08, 1.71031347e+08, 3.34185206e+08,\n",
       "       3.34185206e+08, 3.34185206e+08, 1.28311210e+07, 3.34185206e+08,\n",
       "       1.32142550e+07, 3.33130696e+08, 5.42398560e+07, 7.52747480e+07,\n",
       "       1.54985087e+08, 1.54985087e+08, 3.34185206e+08, 3.34185206e+08,\n",
       "       8.57968400e+06, 1.36516620e+07, 3.90498200e+06, 3.34185206e+08,\n",
       "       6.64300000e+03, 1.54985087e+08, 4.64126000e+05, 3.15983080e+07,\n",
       "       3.34185206e+08, 1.00289690e+08, 1.00289690e+08, 6.85214400e+06,\n",
       "       1.00289690e+08, 3.34185206e+08, 3.34185206e+08, 2.95468000e+05,\n",
       "       4.79520200e+07, 2.28778080e+07, 3.90498200e+06, 1.00289690e+08,\n",
       "       3.00523113e+08, 3.34185206e+08, 6.10949030e+07, 2.50863268e+08,\n",
       "       9.41758540e+07, 3.34185206e+08, 2.88371150e+07, 1.86336103e+08,\n",
       "       4.24645577e+08, 2.88371150e+07, 4.24645577e+08, 1.54985087e+08,\n",
       "       1.36516620e+07, 3.34185206e+08, 3.34185206e+08, 3.90498200e+06,\n",
       "       8.00000000e+05, 1.00289690e+08, 3.34185206e+08, 1.00289690e+08,\n",
       "       3.00523113e+08, 2.06456431e+08, 2.24063620e+07, 1.70712300e+07,\n",
       "       5.88745700e+06, 5.61540940e+07, 1.54985087e+08, 2.88371150e+07,\n",
       "       1.72051787e+08, 3.33130696e+08, 2.95468000e+05, 1.48085755e+08,\n",
       "       2.41063875e+08, 3.15983080e+07, 3.34185206e+08, 1.00289690e+08,\n",
       "       3.15983080e+07, 7.15192300e+07, 8.00000000e+05, 1.71031347e+08,\n",
       "       3.34185206e+08, 1.44512310e+08, 3.34185206e+08, 1.00289690e+08,\n",
       "       3.34185206e+08, 1.00289690e+08, 3.92920220e+07, 2.24063620e+07,\n",
       "       1.86830669e+08, 3.34185206e+08, 3.15983080e+07, 3.34185206e+08,\n",
       "       1.00289690e+08, 1.54985087e+08, 3.33130696e+08, 3.30003770e+07,\n",
       "       7.89000000e+07, 3.34185206e+08, 3.34185206e+08, 3.79933900e+06,\n",
       "       3.34185206e+08, 3.57990260e+07, 2.24063620e+07, 3.00523113e+08,\n",
       "       1.00289690e+08, 1.86830669e+08, 2.50863268e+08, 2.36593100e+06,\n",
       "       1.00289690e+08, 1.77343675e+08, 8.00000000e+05, 2.09019489e+08,\n",
       "       2.01148159e+08, 8.00336430e+07, 3.57990260e+07, 9.07556430e+07,\n",
       "       4.45660040e+07, 1.50832203e+08, 1.00289690e+08, 3.34185206e+08,\n",
       "       1.41600000e+08, 6.76311570e+07, 7.87475850e+07, 2.50863268e+08,\n",
       "       1.00289690e+08, 1.00289690e+08, 1.80011740e+08, 5.39911370e+07,\n",
       "       3.34185206e+08, 1.00289690e+08, 3.33130696e+08, 6.76311570e+07,\n",
       "       1.63192114e+08, 3.00523113e+08, 3.57990260e+07, 3.12057433e+08,\n",
       "       1.26203320e+08, 7.89000000e+07, 3.34185206e+08, 3.57990260e+07,\n",
       "       1.00289690e+08, 2.02853933e+08, 1.36516620e+07, 3.34185206e+08,\n",
       "       1.86830669e+08, 3.34185206e+08, 1.14324072e+08, 3.34185206e+08,\n",
       "       3.34185206e+08, 3.00523113e+08, 1.86830669e+08, 1.82204440e+08,\n",
       "       2.88371150e+07, 3.00523113e+08, 1.14324072e+08, 1.15000000e+08,\n",
       "       1.32142550e+07, 3.34185206e+08, 4.48860890e+07, 1.14324072e+08,\n",
       "       1.00289690e+08, 3.00523113e+08, 1.95000874e+08, 1.54985087e+08,\n",
       "       1.63192114e+08, 3.90498200e+06, 3.00523113e+08, 1.00289690e+08,\n",
       "       3.34185206e+08, 1.00289690e+08, 3.12057433e+08, 1.86336103e+08,\n",
       "       1.00289690e+08, 3.12057433e+08, 1.86830669e+08, 6.76311570e+07,\n",
       "       4.70000000e+07, 1.86830669e+08, 4.24645577e+08, 3.34185206e+08,\n",
       "       1.14324072e+08, 3.34185206e+08, 3.00523113e+08, 3.34185206e+08,\n",
       "       4.08992272e+08, 2.88371150e+07, 4.03932000e+05, 3.34185206e+08,\n",
       "       2.24063620e+07, 4.08992272e+08, 1.00289690e+08, 7.89000000e+07,\n",
       "       1.00289690e+08, 1.00289690e+08, 3.18298180e+08, 3.34185206e+08,\n",
       "       1.00289690e+08, 3.34185206e+08, 6.76311570e+07, 1.00289690e+08,\n",
       "       1.86830669e+08, 1.66147885e+08, 5.51534030e+07, 1.54985087e+08,\n",
       "       5.18534500e+07, 3.57990260e+07, 1.92837820e+07, 1.00289690e+08,\n",
       "       6.04461800e+06, 3.34185206e+08, 3.34185206e+08, 2.50863268e+08,\n",
       "       1.54985087e+08, 1.93944100e+06, 3.12057433e+08, 2.41063875e+08,\n",
       "       6.25635430e+07, 3.34185206e+08, 3.00523113e+08, 1.00289690e+08,\n",
       "       2.61970615e+08, 1.00289690e+08, 2.88371150e+07, 3.34185206e+08,\n",
       "       1.00289690e+08, 3.00523113e+08, 5.28855870e+07, 1.71031347e+08,\n",
       "       1.54985087e+08, 3.34185206e+08, 1.00289690e+08, 3.12057433e+08,\n",
       "       4.03932000e+05, 3.34185206e+08, 2.88371150e+07, 3.00523113e+08,\n",
       "       3.40748950e+07, 3.12057433e+08, 1.93944100e+06, 3.57990260e+07,\n",
       "       2.88371150e+07, 3.17011114e+08, 3.34185206e+08, 1.54985087e+08,\n",
       "       5.68166620e+07, 3.34185206e+08, 4.73753270e+07, 1.28311210e+07,\n",
       "       6.76311570e+07, 3.34185206e+08, 1.01347540e+07, 1.93944100e+06,\n",
       "       3.00523113e+08, 3.12057433e+08, 3.33130696e+08, 2.27137090e+08,\n",
       "       4.48860890e+07, 4.68363940e+07, 3.52358779e+08, 2.57704099e+08,\n",
       "       1.00289690e+08, 3.34185206e+08, 3.12057433e+08, 7.87475850e+07,\n",
       "       1.00289690e+08, 4.48860890e+07, 3.00523113e+08, 2.17844320e+07,\n",
       "       3.33130696e+08, 2.91021565e+08, 1.54985087e+08, 1.32142550e+07,\n",
       "       3.34185206e+08, 2.24063620e+07, 3.34185206e+08, 4.24645577e+08,\n",
       "       5.22874140e+07, 6.76311570e+07, 2.88371150e+07, 7.87475850e+07,\n",
       "       1.54985087e+08, 7.93637850e+07, 2.88371150e+07, 1.54985087e+08,\n",
       "       5.82207760e+07, 1.86354000e+05, 6.71245100e+06, 1.00289690e+08,\n",
       "       3.34185206e+08, 3.30003770e+07, 1.91449475e+08, 1.41600000e+08,\n",
       "       2.65050000e+07, 7.52747480e+07, 1.00289690e+08, 3.34185206e+08,\n",
       "       2.41063875e+08, 5.18534500e+07, 3.34185206e+08, 1.93944100e+06,\n",
       "       2.41063875e+08, 1.54985087e+08, 6.49135000e+06, 4.48860890e+07,\n",
       "       1.00289690e+08, 1.00289690e+08, 1.72051787e+08, 2.88371150e+07,\n",
       "       6.65426000e+05, 6.46853590e+07, 3.34185206e+08, 2.88371150e+07,\n",
       "       1.28311210e+07, 8.00000000e+05, 2.28000000e+07, 2.88371150e+07,\n",
       "       3.34185206e+08, 3.34185206e+08, 3.12057433e+08, 1.14324072e+08,\n",
       "       1.00289690e+08, 2.88371150e+07, 3.34185206e+08, 6.76311570e+07,\n",
       "       1.54985087e+08, 1.18099659e+08, 4.95800000e+03, 2.50863268e+08,\n",
       "       4.03932000e+05, 3.34185206e+08, 3.30003770e+07, 2.17844320e+07,\n",
       "       6.76311570e+07, 3.34185206e+08, 3.00523113e+08, 7.00835190e+07,\n",
       "       1.00289690e+08, 1.54985087e+08, 3.34185206e+08, 3.52358779e+08,\n",
       "       3.57990260e+07, 3.34185206e+08, 1.01347540e+07, 1.14324072e+08,\n",
       "       3.79122000e+05, 7.52747480e+07, 2.57704099e+08, 3.34185206e+08,\n",
       "       1.00289690e+08, 1.00289690e+08, 3.34185206e+08, 8.00000000e+05,\n",
       "       1.14324072e+08, 6.10949030e+07, 2.28000000e+07, 1.36516620e+07,\n",
       "       1.00289690e+08, 1.00289690e+08, 1.55198410e+07, 3.34185206e+08,\n",
       "       1.37660140e+07, 1.93944100e+06, 2.64156490e+07, 1.93944100e+06,\n",
       "       1.14324072e+08, 3.00523113e+08, 4.49558000e+05, 1.00289690e+08,\n",
       "       1.54985087e+08, 4.48860890e+07, 7.78625460e+07, 8.38134600e+07,\n",
       "       3.34185206e+08, 2.88371150e+07, 3.34185206e+08, 1.69705587e+08,\n",
       "       7.89000000e+07, 2.95468000e+05, 1.48085755e+08, 2.45823397e+08,\n",
       "       2.88371150e+07, 1.86336103e+08, 1.60278660e+07, 1.00289690e+08,\n",
       "       3.34185206e+08, 1.00289690e+08, 1.86336103e+08, 3.34185206e+08,\n",
       "       2.24063620e+07, 1.00289690e+08, 2.50863268e+08, 3.33130696e+08,\n",
       "       3.34185206e+08, 1.19412921e+08, 1.00289690e+08, 1.03400692e+08,\n",
       "       3.34185206e+08, 1.32014112e+08, 3.34185206e+08, 1.00289690e+08,\n",
       "       3.15983080e+07, 3.34185206e+08, 3.34185206e+08, 1.80483000e+05,\n",
       "       3.90498200e+06, 1.11544445e+08, 5.27008320e+07, 3.34185206e+08,\n",
       "       8.57968400e+06, 3.52358779e+08, 4.48860890e+07, 1.91449475e+08,\n",
       "       5.00071680e+07, 1.50832203e+08, 3.00523113e+08, 4.24645577e+08,\n",
       "       2.88371150e+07, 3.12057433e+08, 1.00289690e+08, 3.12057433e+08,\n",
       "       2.50863268e+08, 3.34185206e+08, 2.00000000e+06, 3.34185206e+08,\n",
       "       2.74661000e+05, 3.00523113e+08, 1.00289690e+08, 4.77700700e+06,\n",
       "       2.88371150e+07, 3.30003770e+07, 3.18298180e+08, 1.28311210e+07,\n",
       "       1.01785482e+08, 2.88371150e+07, 1.14324072e+08, 3.12057433e+08,\n",
       "       3.34185206e+08, 1.86830669e+08, 1.00289690e+08, 3.33130696e+08,\n",
       "       3.33130696e+08, 3.33130696e+08, 3.12057433e+08, 2.50863268e+08,\n",
       "       2.02351611e+08, 3.34185206e+08, 1.33375846e+08, 3.34185206e+08,\n",
       "       3.00523113e+08, 4.24645577e+08, 1.00289690e+08, 6.76311570e+07,\n",
       "       2.92568851e+08, 1.00289690e+08, 1.11544445e+08, 3.33130696e+08,\n",
       "       8.00000000e+05, 1.01470202e+08, 3.57990260e+07, 1.27175354e+08,\n",
       "       1.28311210e+07, 9.14000000e+07, 2.50789370e+07, 2.00000000e+06,\n",
       "       3.74797780e+07, 7.13470100e+07, 5.88745700e+06, 4.58574530e+07,\n",
       "       1.26203320e+08, 1.00289690e+08, 1.00289690e+08, 2.50863268e+08,\n",
       "       3.00523113e+08, 1.00289690e+08, 2.61970615e+08, 1.00289690e+08,\n",
       "       8.57968400e+06, 3.42937710e+07, 3.33130696e+08, 1.54985087e+08,\n",
       "       1.00289690e+08, 4.08992272e+08, 2.41063875e+08, 1.31607400e+06,\n",
       "       3.34185206e+08, 2.50863268e+08, 1.32142550e+07, 3.00523113e+08,\n",
       "       2.06456431e+08, 2.88371150e+07, 7.23060650e+07, 8.00336430e+07,\n",
       "       1.77343675e+08, 2.41063875e+08, 3.34185206e+08, 1.54985087e+08,\n",
       "       2.41063875e+08, 3.00523113e+08, 4.20573400e+07, 3.34185206e+08,\n",
       "       1.00289690e+08, 4.48860890e+07, 4.64126000e+05, 3.34185206e+08,\n",
       "       4.14984497e+08, 3.12057433e+08, 1.54985087e+08, 3.34185206e+08,\n",
       "       2.40041590e+07, 1.79883016e+08, 3.00523113e+08, 1.00289690e+08,\n",
       "       1.00289690e+08, 3.34185206e+08, 1.00289690e+08, 6.15715700e+06,\n",
       "       3.15983080e+07, 3.34185206e+08, 4.48860890e+07, 1.00289690e+08,\n",
       "       4.03932000e+05, 5.82207760e+07, 6.10949030e+07, 5.82207760e+07,\n",
       "       3.00523113e+08, 3.33130696e+08, 1.41600000e+08, 3.34185206e+08,\n",
       "       1.41600000e+08, 7.89000000e+07, 1.89412677e+08, 1.00289690e+08,\n",
       "       3.29405070e+07, 6.95229000e+05, 2.88371150e+07, 1.00289690e+08,\n",
       "       2.06456431e+08, 1.36516620e+07, 2.41063875e+08, 1.71031347e+08,\n",
       "       4.14984497e+08, 2.41063875e+08, 1.00289690e+08, 3.33130696e+08,\n",
       "       1.00289690e+08, 3.34185206e+08, 1.14324072e+08, 1.00289690e+08,\n",
       "       2.88371150e+07, 3.12057433e+08, 3.34185206e+08, 3.57990260e+07,\n",
       "       2.50863268e+08, 6.51731600e+07, 3.34185206e+08, 1.28311210e+07,\n",
       "       1.63192114e+08, 6.15715700e+06, 8.00000000e+05, 1.71031347e+08,\n",
       "       3.34185206e+08, 2.50863268e+08, 1.01470202e+08, 3.00523113e+08,\n",
       "       3.34185206e+08, 1.54985087e+08, 1.28311210e+07, 1.01347540e+07,\n",
       "       6.76311570e+07, 2.40041590e+07, 2.59746958e+08, 2.88371150e+07,\n",
       "       1.00289690e+08, 1.00289690e+08, 2.17350219e+08, 1.66147885e+08,\n",
       "       2.41063875e+08, 1.00422786e+08, 3.57990260e+07, 1.28311210e+07,\n",
       "       3.34185206e+08, 3.34185206e+08, 1.54985087e+08, 1.72051787e+08,\n",
       "       2.01148159e+08, 3.34185206e+08, 3.34185206e+08, 3.34185206e+08,\n",
       "       1.79020854e+08, 1.54985087e+08, 1.00289690e+08, 2.87722220e+07,\n",
       "       1.00289690e+08, 3.34185206e+08, 1.54985087e+08, 2.41063875e+08,\n",
       "       3.34185206e+08, 3.00523113e+08, 6.10949030e+07, 1.86336103e+08,\n",
       "       3.34185206e+08, 3.34185206e+08, 1.97992827e+08, 3.34185206e+08,\n",
       "       1.00289690e+08, 2.88371150e+07, 4.03932000e+05, 6.91489970e+07,\n",
       "       3.34185206e+08, 2.90158751e+08, 4.48860890e+07, 1.71031347e+08,\n",
       "       3.00523113e+08, 1.95000874e+08, 3.23913740e+07, 1.00289690e+08,\n",
       "       3.34185206e+08, 3.33130696e+08, 3.19683470e+07, 2.88371150e+07,\n",
       "       1.00289690e+08, 2.74661000e+05, 3.34185206e+08, 4.45660040e+07,\n",
       "       4.48860890e+07, 1.00289690e+08, 4.48860890e+07, 3.34185206e+08,\n",
       "       3.34185206e+08, 1.63192114e+08, 2.06456431e+08, 4.64126000e+05,\n",
       "       2.88371150e+07, 3.34185206e+08, 3.34185206e+08, 1.00289690e+08,\n",
       "       1.00289690e+08, 3.34185206e+08, 1.80011740e+08, 8.30774700e+07,\n",
       "       8.73413800e+07, 3.34185206e+08, 2.88371150e+07, 3.34185206e+08,\n",
       "       2.88371150e+07, 3.57990260e+07, 3.33130696e+08, 1.32142550e+07,\n",
       "       4.48860890e+07, 1.89412677e+08, 1.14324072e+08, 3.00523113e+08,\n",
       "       2.06456431e+08, 3.90498200e+06, 2.85016510e+07, 3.12057433e+08,\n",
       "       1.00289690e+08, 2.13780000e+07, 1.71031347e+08, 3.34185206e+08,\n",
       "       3.34185206e+08, 1.72051787e+08, 5.22861700e+06, 3.34185206e+08,\n",
       "       1.80483000e+05, 3.34185206e+08, 3.33130696e+08, 1.00289690e+08,\n",
       "       3.34185206e+08, 9.07556430e+07, 3.34185206e+08, 3.34185206e+08,\n",
       "       7.89000000e+07, 3.57990260e+07, 6.52177271e+08, 3.00523113e+08,\n",
       "       1.00289690e+08, 3.34185206e+08, 2.23806889e+08, 3.34185206e+08,\n",
       "       2.06456431e+08, 5.82207760e+07, 1.00289690e+08, 4.48860890e+07,\n",
       "       1.93944100e+06, 3.33130696e+08, 1.80483000e+05, 2.02007640e+08,\n",
       "       1.36516620e+07, 3.34185206e+08, 4.14984497e+08, 6.10949030e+07,\n",
       "       2.88371150e+07, 3.57990260e+07, 3.34185206e+08, 3.34185206e+08,\n",
       "       8.00000000e+05, 6.42860000e+04, 1.54985087e+08, 1.72051787e+08,\n",
       "       1.15000000e+08, 2.41063875e+08, 1.22815000e+07, 3.34185206e+08,\n",
       "       1.54985087e+08, 9.41758540e+07, 3.34185206e+08, 3.57990260e+07,\n",
       "       3.34185206e+08, 3.12057433e+08, 1.61687410e+07, 1.00289690e+08,\n",
       "       2.41063875e+08, 3.00523113e+08, 3.34185206e+08, 1.01372320e+07,\n",
       "       6.65426000e+05, 3.34185206e+08, 3.00523113e+08, 3.34185206e+08,\n",
       "       1.00289690e+08, 1.36302260e+07, 6.64626000e+07, 3.49639670e+07,\n",
       "       3.00523113e+08, 3.34185206e+08, 1.48085755e+08, 1.54985087e+08,\n",
       "       2.55108370e+08, 1.77505830e+07, 3.15983080e+07, 3.34185206e+08,\n",
       "       3.34185206e+08, 6.91489970e+07, 1.00289690e+08, 2.88371150e+07,\n",
       "       1.54985087e+08, 8.57968400e+06, 1.15648585e+08, 2.18051260e+08,\n",
       "       1.28311210e+07, 5.82207760e+07, 6.63599590e+07, 3.12057433e+08,\n",
       "       2.13793150e+07, 1.14324072e+08, 4.69826320e+07, 3.34185206e+08,\n",
       "       3.50034110e+08, 3.90498200e+06, 3.43505530e+07, 3.40748950e+07,\n",
       "       9.07556430e+07, 1.44812796e+08, 3.34185206e+08, 1.19841000e+05,\n",
       "       2.18051260e+08, 3.34185206e+08, 5.61540940e+07, 2.50863268e+08])"
      ]
     },
     "execution_count": 33,
     "metadata": {},
     "output_type": "execute_result"
    }
   ],
   "source": [
    "preds"
   ]
  },
  {
   "cell_type": "code",
   "execution_count": 33,
   "metadata": {},
   "outputs": [
    {
     "data": {
      "text/plain": [
       "<matplotlib.axes._subplots.AxesSubplot at 0x1a194d8c18>"
      ]
     },
     "execution_count": 33,
     "metadata": {},
     "output_type": "execute_result"
    },
    {
     "data": {
      "image/png": "[encoded data removed]",
      "text/plain": [
       "<Figure size 792x612 with 1 Axes>"
      ]
     },
     "metadata": {},
     "output_type": "display_data"
    }
   ],
   "source": [
    "plt.figure(figsize = (11,8.5))\n",
    "sns.lineplot(x = y_test.index, y = preds - y_test)"
   ]
  },
  {
   "cell_type": "code",
   "execution_count": 40,
   "metadata": {},
   "outputs": [],
   "source": [
    "diff = preds - y_test"
   ]
  },
  {
   "cell_type": "code",
   "execution_count": 70,
   "metadata": {},
   "outputs": [
    {
     "data": {
      "text/plain": [
       "111103578.23444444"
      ]
     },
     "execution_count": 70,
     "metadata": {},
     "output_type": "execute_result"
    }
   ],
   "source": [
    "diff.mean()"
   ]
  },
  {
   "cell_type": "code",
   "execution_count": 96,
   "metadata": {},
   "outputs": [
    {
     "name": "stderr",
     "output_type": "stream",
     "text": [
      "/anaconda3/lib/python3.6/site-packages/sklearn/model_selection/_split.py:1943: FutureWarning: You should specify a value for 'cv' instead of relying on the default value. The default value will change from 3 to 5 in version 0.22.\n",
      "  warnings.warn(CV_WARNING, FutureWarning)\n",
      "/anaconda3/lib/python3.6/site-packages/sklearn/model_selection/_split.py:626: Warning: The least populated class in y has only 1 members, which is too few. The minimum number of members in any class cannot be less than n_splits=3.\n",
      "  % (min_groups, self.n_splits)), Warning)\n",
      "/anaconda3/lib/python3.6/site-packages/sklearn/linear_model/logistic.py:432: FutureWarning: Default solver will be changed to 'lbfgs' in 0.22. Specify a solver to silence this warning.\n",
      "  FutureWarning)\n",
      "/anaconda3/lib/python3.6/site-packages/sklearn/linear_model/logistic.py:459: FutureWarning: Default multi_class will be changed to 'auto' in 0.22. Specify the multi_class option to silence this warning.\n",
      "  \"this warning.\", FutureWarning)\n",
      "/anaconda3/lib/python3.6/site-packages/sklearn/linear_model/logistic.py:432: FutureWarning: Default solver will be changed to 'lbfgs' in 0.22. Specify a solver to silence this warning.\n",
      "  FutureWarning)\n",
      "/anaconda3/lib/python3.6/site-packages/sklearn/linear_model/logistic.py:459: FutureWarning: Default multi_class will be changed to 'auto' in 0.22. Specify the multi_class option to silence this warning.\n",
      "  \"this warning.\", FutureWarning)\n",
      "/anaconda3/lib/python3.6/site-packages/sklearn/svm/base.py:922: ConvergenceWarning: Liblinear failed to converge, increase the number of iterations.\n",
      "  \"the number of iterations.\", ConvergenceWarning)\n",
      "/anaconda3/lib/python3.6/site-packages/sklearn/linear_model/logistic.py:432: FutureWarning: Default solver will be changed to 'lbfgs' in 0.22. Specify a solver to silence this warning.\n",
      "  FutureWarning)\n",
      "/anaconda3/lib/python3.6/site-packages/sklearn/linear_model/logistic.py:459: FutureWarning: Default multi_class will be changed to 'auto' in 0.22. Specify the multi_class option to silence this warning.\n",
      "  \"this warning.\", FutureWarning)\n",
      "/anaconda3/lib/python3.6/site-packages/sklearn/svm/base.py:922: ConvergenceWarning: Liblinear failed to converge, increase the number of iterations.\n",
      "  \"the number of iterations.\", ConvergenceWarning)\n"
     ]
    },
    {
     "data": {
      "text/plain": [
       "0.3022486772486772"
      ]
     },
     "execution_count": 96,
     "metadata": {},
     "output_type": "execute_result"
    }
   ],
   "source": [
    "cross_val_score(LogisticRegression(), X_train, y_train, cv = 'warn', scoring=\"accuracy\").mean()"
   ]
  },
  {
   "cell_type": "code",
   "execution_count": 94,
   "metadata": {},
   "outputs": [
    {
     "name": "stdout",
     "output_type": "stream",
     "text": [
      "Accuracy: 0.008888888888888889\n"
     ]
    }
   ],
   "source": [
    "#Without Hyper Parameters Tuning\n",
    "#1-4,kNearestNeighbors\n",
    "#importing module\n",
    "from sklearn.neighbors import KNeighborsClassifier\n",
    "#making the instance\n",
    "model = KNeighborsClassifier(n_jobs=-1)\n",
    "#learning\n",
    "model.fit(X_train,y_train)\n",
    "#Prediction\n",
    "prediction=model.predict(X_test)\n",
    "#importing the metrics module\n",
    "from sklearn import metrics\n",
    "#evaluation(Accuracy)\n",
    "print(\"Accuracy:\",metrics.accuracy_score(prediction,y_test))\n",
    "#evaluation(Confusion Metrix)\n",
    "# print(\"Confusion Metrix:\\n\",metrics.confusion_matrix(prediction,y_test))\n"
   ]
  },
  {
   "cell_type": "code",
   "execution_count": 22,
   "metadata": {},
   "outputs": [
    {
     "name": "stderr",
     "output_type": "stream",
     "text": [
      "/anaconda3/lib/python3.6/site-packages/sklearn/ensemble/forest.py:248: FutureWarning: The default value of n_estimators will change from 10 in version 0.20 to 100 in 0.22.\n",
      "  \"10 in version 0.20 to 100 in 0.22.\", FutureWarning)\n",
      "/anaconda3/lib/python3.6/site-packages/scipy/stats/stats.py:1713: FutureWarning: Using a non-tuple sequence for multidimensional indexing is deprecated; use `arr[tuple(seq)]` instead of `arr[seq]`. In the future this will be interpreted as an array index, `arr[np.array(seq)]`, which will result either in an error or a different result.\n",
      "  return np.add.reduce(sorted[indexer] * weights, axis=axis) / sumval\n"
     ]
    },
    {
     "data": {
      "text/plain": [
       "<matplotlib.axes._subplots.AxesSubplot at 0x1a207cee80>"
      ]
     },
     "execution_count": 22,
     "metadata": {},
     "output_type": "execute_result"
    },
    {
     "data": {
      "image/png": "[encoded data removed]",
      "text/plain": [
       "<Figure size 792x612 with 1 Axes>"
      ]
     },
     "metadata": {},
     "output_type": "display_data"
    }
   ],
   "source": [
    "#Without Hyper Parameters Tuning\n",
    "#1-2,Randomforest\n",
    "#importing module\n",
    "from sklearn.ensemble import RandomForestRegressor\n",
    "#making the instance\n",
    "model=RandomForestRegressor(n_jobs=-1,random_state=123)\n",
    "#learning\n",
    "model.fit(X_train,y_train)\n",
    "#Prediction\n",
    "prediction=model.predict(X_test)\n",
    "#importing the metrics module\n",
    "from sklearn import metrics\n",
    "#evaluation(Accuracy)\n",
    "# print(\"Accuracy:\",metrics.accuracy_score(prediction,y_test))\n",
    "#evaluation(Confusion Metrix)\n",
    "# print(\"Confusion Metrix:\\n\",metrics.confusion_matrix(prediction,y_test))\n",
    "diff = prediction - y_test\n",
    "\n",
    "plt.figure(figsize = (11,8.5))\n",
    "sns.distplot(diff)"
   ]
  },
  {
   "cell_type": "code",
   "execution_count": 24,
   "metadata": {},
   "outputs": [
    {
     "name": "stdout",
     "output_type": "stream",
     "text": [
      "The model r2 error is 0.609927\n"
     ]
    },
    {
     "name": "stderr",
     "output_type": "stream",
     "text": [
      "/anaconda3/lib/python3.6/site-packages/scipy/stats/stats.py:1713: FutureWarning: Using a non-tuple sequence for multidimensional indexing is deprecated; use `arr[tuple(seq)]` instead of `arr[seq]`. In the future this will be interpreted as an array index, `arr[np.array(seq)]`, which will result either in an error or a different result.\n",
      "  return np.add.reduce(sorted[indexer] * weights, axis=axis) / sumval\n"
     ]
    },
    {
     "data": {
      "text/plain": [
       "<matplotlib.axes._subplots.AxesSubplot at 0x1a20b722e8>"
      ]
     },
     "execution_count": 24,
     "metadata": {},
     "output_type": "execute_result"
    },
    {
     "data": {
      "image/png": "[encoded data removed]",
      "text/plain": [
       "<Figure size 792x612 with 1 Axes>"
      ]
     },
     "metadata": {},
     "output_type": "display_data"
    }
   ],
   "source": [
    "from sklearn.linear_model import LinearRegression\n",
    "#Step 1\n",
    "X_train, X_test, y_train, y_test = train_test_split(X, y, test_size=0.25,random_state=5)\n",
    "#Step 2\n",
    "lr = LinearRegression()\n",
    "lr.fit(X_train, y_train)\n",
    "\n",
    "#Step 3\n",
    "preds = lr.predict(X_test)\n",
    "\n",
    "#Step 4\n",
    "testing_score = metrics.r2_score(y_test,preds)\n",
    "\n",
    "print (\"The model r2 error is {:.6f}\".format(testing_score))\n",
    "\n",
    "diff = preds - y_test\n",
    "plt.figure(figsize = (11,8.5))\n",
    "sns.distplot(diff)"
   ]
  },
  {
   "cell_type": "code",
   "execution_count": 30,
   "metadata": {},
   "outputs": [
    {
     "name": "stdout",
     "output_type": "stream",
     "text": [
      "1767    44450000.0\n",
      "4571      798341.0\n",
      "3418      108662.0\n",
      "401     20315324.0\n",
      "1264    42071069.0\n",
      "Name: gross, dtype: float64\n",
      "[34551432.0324018  -4231331.90982389 15088259.64674735 62832012.16174817\n",
      " 29239131.25055647]\n",
      "1767   -9.898568e+06\n",
      "4571   -5.029673e+06\n",
      "3418    1.497960e+07\n",
      "401     4.251669e+07\n",
      "1264   -1.283194e+07\n",
      "Name: gross, dtype: float64\n"
     ]
    }
   ],
   "source": [
    "print(y_test.head())\n",
    "print(preds[0:5])\n",
    "print(diff[0:5])"
   ]
  },
  {
   "cell_type": "code",
   "execution_count": 105,
   "metadata": {},
   "outputs": [
    {
     "data": {
      "text/plain": [
       "1767   -9.898568e+06\n",
       "4571   -5.029673e+06\n",
       "3418    1.497960e+07\n",
       "401     4.251669e+07\n",
       "1264   -1.283194e+07\n",
       "4706    5.026959e+07\n",
       "3301    1.380192e+07\n",
       "995     4.338648e+06\n",
       "1976    3.758395e+07\n",
       "1824   -1.409520e+07\n",
       "3411    1.015750e+06\n",
       "1361    1.848507e+07\n",
       "48     -1.690765e+07\n",
       "1381   -5.830197e+07\n",
       "3608    6.036399e+06\n",
       "4546    8.265253e+06\n",
       "3445    8.667327e+06\n",
       "1185    1.598510e+07\n",
       "867    -9.458446e+06\n",
       "3378   -2.077309e+06\n",
       "4384    7.352964e+06\n",
       "339    -8.371182e+07\n",
       "4122    9.344104e+05\n",
       "1758   -4.379571e+07\n",
       "2507   -9.600087e+06\n",
       "1259    7.593646e+06\n",
       "1683    1.450032e+07\n",
       "738    -1.963561e+07\n",
       "174    -1.189370e+08\n",
       "1042   -9.795687e+06\n",
       "            ...     \n",
       "950    -1.146946e+07\n",
       "1750   -6.179840e+07\n",
       "2692    3.807692e+06\n",
       "1343   -1.082433e+07\n",
       "1823    1.778960e+07\n",
       "3793    2.425162e+05\n",
       "1146    2.064780e+07\n",
       "3775    8.568804e+06\n",
       "1140    2.350803e+07\n",
       "34      5.576902e+05\n",
       "1997    2.492137e+07\n",
       "550     2.246963e+07\n",
       "2858    3.609902e+07\n",
       "2168   -2.760670e+07\n",
       "2813    7.780589e+07\n",
       "3119   -4.117213e+06\n",
       "917     5.381178e+06\n",
       "1266    1.084979e+07\n",
       "27     -7.908510e+07\n",
       "1960    3.281007e+05\n",
       "823     3.788639e+07\n",
       "3492    6.183549e+06\n",
       "232     5.175233e+07\n",
       "278    -6.761804e+07\n",
       "729    -1.115323e+07\n",
       "4710   -1.624617e+06\n",
       "16      4.657399e+07\n",
       "1027    3.587115e+07\n",
       "3374    1.757909e+06\n",
       "87     -8.373366e+07\n",
       "Name: gross, Length: 900, dtype: float64"
      ]
     },
     "execution_count": 105,
     "metadata": {},
     "output_type": "execute_result"
    }
   ],
   "source": [
    "preds - y_test"
   ]
  },
  {
   "cell_type": "code",
   "execution_count": 106,
   "metadata": {},
   "outputs": [
    {
     "data": {
      "text/plain": [
       "<matplotlib.axes._subplots.AxesSubplot at 0x1a185c1400>"
      ]
     },
     "execution_count": 106,
     "metadata": {},
     "output_type": "execute_result"
    },
    {
     "data": {
      "image/png": "[encoded data removed]",
      "text/plain": [
       "<Figure size 792x612 with 1 Axes>"
      ]
     },
     "metadata": {},
     "output_type": "display_data"
    }
   ],
   "source": [
    "plt.figure(figsize = (11,8.5))\n",
    "sns.lineplot(x = y_test.index, y = preds - y_test)"
   ]
  },
  {
   "cell_type": "code",
   "execution_count": null,
   "metadata": {},
   "outputs": [],
   "source": []
  }
 ],
 "metadata": {
  "kernelspec": {
   "display_name": "Python 3",
   "language": "python",
   "name": "python3"
  },
  "language_info": {
   "codemirror_mode": {
    "name": "ipython",
    "version": 3
   },
   "file_extension": ".py",
   "mimetype": "text/x-python",
   "name": "python",
   "nbconvert_exporter": "python",
   "pygments_lexer": "ipython3",
   "version": "3.6.6"
  }
 },
 "nbformat": 4,
 "nbformat_minor": 2
}
