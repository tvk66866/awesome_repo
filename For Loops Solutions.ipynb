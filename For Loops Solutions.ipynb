{
 "cells": [
  {
   "cell_type": "markdown",
   "metadata": {},
   "source": [
    "# For Loops\n",
    "&copy; QuantSprout"
   ]
  },
  {
   "cell_type": "markdown",
   "metadata": {},
   "source": [
    "Create a for loop"
   ]
  },
  {
   "cell_type": "code",
   "execution_count": 1,
   "metadata": {},
   "outputs": [
    {
     "name": "stdout",
     "output_type": "stream",
     "text": [
      "1\n",
      "2\n",
      "3\n"
     ]
    }
   ],
   "source": [
    "for x in [1,2,3]: \n",
    "    print (x)"
   ]
  },
  {
   "cell_type": "markdown",
   "metadata": {},
   "source": [
    "Create a for loop with range"
   ]
  },
  {
   "cell_type": "code",
   "execution_count": 2,
   "metadata": {},
   "outputs": [
    {
     "name": "stdout",
     "output_type": "stream",
     "text": [
      "0\n",
      "1\n",
      "4\n",
      "9\n",
      "16\n",
      "25\n",
      "36\n",
      "49\n",
      "64\n",
      "81\n"
     ]
    }
   ],
   "source": [
    "for x in range(10):\n",
    "    x_squared =  x ** 2\n",
    "    print (x_squared)"
   ]
  },
  {
   "cell_type": "markdown",
   "metadata": {},
   "source": [
    "Create a for loop with multiple values"
   ]
  },
  {
   "cell_type": "code",
   "execution_count": 3,
   "metadata": {},
   "outputs": [
    {
     "name": "stdout",
     "output_type": "stream",
     "text": [
      "7.96\n",
      "14.950000000000001\n",
      "23.94\n"
     ]
    }
   ],
   "source": [
    "for price, quantity in [[1.99,4],[2.99,5],[3.99,6]]:\n",
    "    print (price * quantity)"
   ]
  },
  {
   "cell_type": "markdown",
   "metadata": {},
   "source": [
    "Capture the all the results of a for loop"
   ]
  },
  {
   "cell_type": "code",
   "execution_count": 4,
   "metadata": {},
   "outputs": [
    {
     "name": "stdout",
     "output_type": "stream",
     "text": [
      "[100, 400, 900]\n"
     ]
    }
   ],
   "source": [
    "results = []\n",
    "for x in [10,20,30]:\n",
    "    squared = x ** 2\n",
    "    results.append(squared)\n",
    "\n",
    "print(results)"
   ]
  },
  {
   "cell_type": "markdown",
   "metadata": {},
   "source": [
    "### Exercise\n",
    "#### 1. Create procedures that convert a list of Celsius temperatures into a list of Fahrenheit temperatures."
   ]
  },
  {
   "cell_type": "code",
   "execution_count": 5,
   "metadata": {},
   "outputs": [
    {
     "name": "stdout",
     "output_type": "stream",
     "text": [
      "[32.0, 50.0, 68.0, 98.60000000000001, 212.0]\n"
     ]
    }
   ],
   "source": [
    "celsius_list = [0,10,20,37,100]\n",
    "fahrenheit_list = []\n",
    "for c in celsius_list:\n",
    "    f = c * 1.8 + 32\n",
    "    fahrenheit_list.append(f)\n",
    "    \n",
    "print(fahrenheit_list)"
   ]
  },
  {
   "cell_type": "code",
   "execution_count": 6,
   "metadata": {},
   "outputs": [],
   "source": [
    "# print(list(range(2,5)))\n",
    "# print(list(range(10,101,10)))"
   ]
  },
  {
   "cell_type": "markdown",
   "metadata": {},
   "source": [
    "#### 2. Update your temperature conversion function from the Python Fundamentals exercise to accept a list of Celsius temperatures and return a list of Fahrenheit temperatures "
   ]
  },
  {
   "cell_type": "code",
   "execution_count": 7,
   "metadata": {},
   "outputs": [],
   "source": [
    "def convert_temp_list(celsius_list):\n",
    "    fahrenheit_list = []\n",
    "    for c in celsius_list:\n",
    "        f = c * 1.8 + 32.0\n",
    "        fahrenheit_list.append(f)\n",
    "    return fahrenheit_list"
   ]
  },
  {
   "cell_type": "code",
   "execution_count": 8,
   "metadata": {},
   "outputs": [],
   "source": [
    "def convert_temp(c):\n",
    "    f = c * 1.8 + 32\n",
    "    return \"{0} degrees C = {1} degrees F\".format(c, f)\n",
    "\n",
    "def convert_temp_list2(celsius_list):\n",
    "    fahrenheit_list = []\n",
    "    for c in celsius_list:\n",
    "        fahrenheit_list.append(convert_temp(c))\n",
    "    return fahrenheit_list"
   ]
  },
  {
   "cell_type": "code",
   "execution_count": 9,
   "metadata": {},
   "outputs": [
    {
     "data": {
      "text/plain": [
       "['0 degrees C = 32.0 degrees F',\n",
       " '30 degrees C = 86.0 degrees F',\n",
       " '100 degrees C = 212.0 degrees F']"
      ]
     },
     "execution_count": 9,
     "metadata": {},
     "output_type": "execute_result"
    }
   ],
   "source": [
    "convert_temp_list2([0,30,100])"
   ]
  },
  {
   "cell_type": "markdown",
   "metadata": {},
   "source": [
    "#### Bonus: Add error handling to your temperature conversion function.\n"
   ]
  },
  {
   "cell_type": "code",
   "execution_count": 10,
   "metadata": {},
   "outputs": [],
   "source": [
    "def convert_temp_check(c):\n",
    "    if (type(c) == int) | (type(c) == float):\n",
    "        f = c * 1.8 + 32\n",
    "        return \"{0} degrees C = {1} degrees F\".format(c, f)\n",
    "    else:\n",
    "        return \"Error. {} is a non-numeric value.\".format(c)\n",
    "    \n",
    "def convert_temp_list3(celsius_list):\n",
    "    fahrenheit_list = []\n",
    "    for c in celsius_list:\n",
    "        fahrenheit_list.append(convert_temp_check(c))\n",
    "    return fahrenheit_list"
   ]
  },
  {
   "cell_type": "code",
   "execution_count": 11,
   "metadata": {},
   "outputs": [
    {
     "data": {
      "text/plain": [
       "['0 degrees C = 32.0 degrees F',\n",
       " '30 degrees C = 86.0 degrees F',\n",
       " '100 degrees C = 212.0 degrees F',\n",
       " 'Error. cat is a non-numeric value.']"
      ]
     },
     "execution_count": 11,
     "metadata": {},
     "output_type": "execute_result"
    }
   ],
   "source": [
    "convert_temp_list3([0,30,100,'cat'])"
   ]
  },
  {
   "cell_type": "code",
   "execution_count": 33,
   "metadata": {},
   "outputs": [],
   "source": [
    "def convert_temp_list4(celsius_list):\n",
    "    fahrenheit_list = []\n",
    "    for c in celsius_list:\n",
    "        if (type(c) == int) | (type(c) == float):\n",
    "            f = c * 1.8 + 32\n",
    "            fahrenheit_list.append(f)\n",
    "        else:\n",
    "            fahrenheit_list.append(\"Error. {} is a non-numeric value.\".format(c))\n",
    "    return fahrenheit_list"
   ]
  },
  {
   "cell_type": "code",
   "execution_count": 34,
   "metadata": {},
   "outputs": [
    {
     "data": {
      "text/plain": [
       "[32.0, 86.0, 212.0, 'Error. cat is a non-numeric value.']"
      ]
     },
     "execution_count": 34,
     "metadata": {},
     "output_type": "execute_result"
    }
   ],
   "source": [
    "convert_temp_list4((0,30,100,'cat'))"
   ]
  },
  {
   "cell_type": "code",
   "execution_count": 35,
   "metadata": {},
   "outputs": [
    {
     "data": {
      "text/plain": [
       "[33.8, 35.6, 37.4, 39.2, 41.0, 'Error. NA is a non-numeric value.']"
      ]
     },
     "execution_count": 35,
     "metadata": {},
     "output_type": "execute_result"
    }
   ],
   "source": [
    "c_list = [1,2,3,4,5,'NA']\n",
    "convert_temp_list4(c_list)"
   ]
  },
  {
   "cell_type": "code",
   "execution_count": null,
   "metadata": {},
   "outputs": [],
   "source": []
  }
 ],
 "metadata": {
  "anaconda-cloud": {},
  "kernelspec": {
   "display_name": "Python 3",
   "language": "python",
   "name": "python3"
  },
  "language_info": {
   "codemirror_mode": {
    "name": "ipython",
    "version": 3
   },
   "file_extension": ".py",
   "mimetype": "text/x-python",
   "name": "python",
   "nbconvert_exporter": "python",
   "pygments_lexer": "ipython3",
   "version": "3.6.5"
  }
 },
 "nbformat": 4,
 "nbformat_minor": 1
}
