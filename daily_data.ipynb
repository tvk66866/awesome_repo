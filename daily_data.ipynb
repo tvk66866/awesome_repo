{
 "cells": [
  {
   "cell_type": "code",
   "execution_count": 24,
   "metadata": {},
   "outputs": [],
   "source": [
    "import datetime as dt\n",
    "import pandas as pd\n",
    "import numpy as np\n",
    "import matplotlib.pyplot as plt\n",
    "import seaborn as sns\n",
    "%matplotlib inline\n",
    "\n",
    "#Import regression models\n",
    "from sklearn.cluster import KMeans\n",
    "from sklearn.linear_model import LogisticRegression\n",
    "from sklearn.neighbors import KNeighborsClassifier\n",
    "from sklearn.tree import DecisionTreeClassifier\n",
    "from sklearn.ensemble import RandomForestClassifier\n",
    "from sklearn.preprocessing import StandardScaler\n",
    "from sklearn.model_selection import cross_val_predict, cross_val_score, GridSearchCV, train_test_split, RandomizedSearchCV\n",
    "from sklearn.pipeline import Pipeline\n",
    "from sklearn.metrics import accuracy_score, recall_score, precision_score, roc_auc_score, roc_curve, log_loss, confusion_matrix\n",
    "from sklearn.tree import export_graphviz\n",
    "import graphviz\n",
    "plt.style.use(\"fivethirtyeight\")\n",
    "from sklearn.metrics import silhouette_score\n",
    "from sklearn.preprocessing import StandardScaler"
   ]
  },
  {
   "cell_type": "code",
   "execution_count": 3,
   "metadata": {},
   "outputs": [],
   "source": [
    "daily_data= pd.read_csv('/Users/vasanthakumarthirugnanam/Desktop/Python/Data/daily_health_data.csv',delimiter = ',')"
   ]
  },
  {
   "cell_type": "code",
   "execution_count": 4,
   "metadata": {},
   "outputs": [
    {
     "data": {
      "text/html": [
       "<div>\n",
       "<style scoped>\n",
       "    .dataframe tbody tr th:only-of-type {\n",
       "        vertical-align: middle;\n",
       "    }\n",
       "\n",
       "    .dataframe tbody tr th {\n",
       "        vertical-align: top;\n",
       "    }\n",
       "\n",
       "    .dataframe thead th {\n",
       "        text-align: right;\n",
       "    }\n",
       "</style>\n",
       "<table border=\"1\" class=\"dataframe\">\n",
       "  <thead>\n",
       "    <tr style=\"text-align: right;\">\n",
       "      <th></th>\n",
       "      <th>Start</th>\n",
       "      <th>Finish</th>\n",
       "      <th>Active Calories (kcal)</th>\n",
       "      <th>Cycling Distance (mi)</th>\n",
       "      <th>Dietary Calories (cal)</th>\n",
       "      <th>Distance (mi)</th>\n",
       "      <th>Flights Climbed (count)</th>\n",
       "      <th>Heart Rate (count/min)</th>\n",
       "      <th>Resting Calories (kcal)</th>\n",
       "      <th>Steps (count)</th>\n",
       "      <th>Weight (lb)</th>\n",
       "    </tr>\n",
       "  </thead>\n",
       "  <tbody>\n",
       "    <tr>\n",
       "      <th>0</th>\n",
       "      <td>17-Jan-2016 00:00</td>\n",
       "      <td>18-Jan-2016 00:00</td>\n",
       "      <td>0.0</td>\n",
       "      <td>0.0</td>\n",
       "      <td>0.0</td>\n",
       "      <td>0.821956</td>\n",
       "      <td>1.0</td>\n",
       "      <td>0.0</td>\n",
       "      <td>0.0</td>\n",
       "      <td>1715.0</td>\n",
       "      <td>0.0</td>\n",
       "    </tr>\n",
       "    <tr>\n",
       "      <th>1</th>\n",
       "      <td>18-Jan-2016 00:00</td>\n",
       "      <td>19-Jan-2016 00:00</td>\n",
       "      <td>0.0</td>\n",
       "      <td>0.0</td>\n",
       "      <td>0.0</td>\n",
       "      <td>2.837383</td>\n",
       "      <td>8.0</td>\n",
       "      <td>0.0</td>\n",
       "      <td>0.0</td>\n",
       "      <td>5829.0</td>\n",
       "      <td>0.0</td>\n",
       "    </tr>\n",
       "    <tr>\n",
       "      <th>2</th>\n",
       "      <td>19-Jan-2016 00:00</td>\n",
       "      <td>20-Jan-2016 00:00</td>\n",
       "      <td>0.0</td>\n",
       "      <td>0.0</td>\n",
       "      <td>0.0</td>\n",
       "      <td>1.161026</td>\n",
       "      <td>5.0</td>\n",
       "      <td>0.0</td>\n",
       "      <td>0.0</td>\n",
       "      <td>2463.0</td>\n",
       "      <td>0.0</td>\n",
       "    </tr>\n",
       "    <tr>\n",
       "      <th>3</th>\n",
       "      <td>20-Jan-2016 00:00</td>\n",
       "      <td>21-Jan-2016 00:00</td>\n",
       "      <td>0.0</td>\n",
       "      <td>0.0</td>\n",
       "      <td>0.0</td>\n",
       "      <td>1.693746</td>\n",
       "      <td>3.0</td>\n",
       "      <td>0.0</td>\n",
       "      <td>0.0</td>\n",
       "      <td>3878.0</td>\n",
       "      <td>0.0</td>\n",
       "    </tr>\n",
       "    <tr>\n",
       "      <th>4</th>\n",
       "      <td>21-Jan-2016 00:00</td>\n",
       "      <td>22-Jan-2016 00:00</td>\n",
       "      <td>0.0</td>\n",
       "      <td>0.0</td>\n",
       "      <td>0.0</td>\n",
       "      <td>1.423878</td>\n",
       "      <td>2.0</td>\n",
       "      <td>0.0</td>\n",
       "      <td>0.0</td>\n",
       "      <td>2894.0</td>\n",
       "      <td>0.0</td>\n",
       "    </tr>\n",
       "  </tbody>\n",
       "</table>\n",
       "</div>"
      ],
      "text/plain": [
       "               Start             Finish  Active Calories (kcal)  \\\n",
       "0  17-Jan-2016 00:00  18-Jan-2016 00:00                     0.0   \n",
       "1  18-Jan-2016 00:00  19-Jan-2016 00:00                     0.0   \n",
       "2  19-Jan-2016 00:00  20-Jan-2016 00:00                     0.0   \n",
       "3  20-Jan-2016 00:00  21-Jan-2016 00:00                     0.0   \n",
       "4  21-Jan-2016 00:00  22-Jan-2016 00:00                     0.0   \n",
       "\n",
       "   Cycling Distance (mi)  Dietary Calories (cal)  Distance (mi)  \\\n",
       "0                    0.0                     0.0       0.821956   \n",
       "1                    0.0                     0.0       2.837383   \n",
       "2                    0.0                     0.0       1.161026   \n",
       "3                    0.0                     0.0       1.693746   \n",
       "4                    0.0                     0.0       1.423878   \n",
       "\n",
       "   Flights Climbed (count)  Heart Rate (count/min)  Resting Calories (kcal)  \\\n",
       "0                      1.0                     0.0                      0.0   \n",
       "1                      8.0                     0.0                      0.0   \n",
       "2                      5.0                     0.0                      0.0   \n",
       "3                      3.0                     0.0                      0.0   \n",
       "4                      2.0                     0.0                      0.0   \n",
       "\n",
       "   Steps (count)  Weight (lb)  \n",
       "0         1715.0          0.0  \n",
       "1         5829.0          0.0  \n",
       "2         2463.0          0.0  \n",
       "3         3878.0          0.0  \n",
       "4         2894.0          0.0  "
      ]
     },
     "execution_count": 4,
     "metadata": {},
     "output_type": "execute_result"
    }
   ],
   "source": [
    "daily_data.head()"
   ]
  },
  {
   "cell_type": "code",
   "execution_count": 5,
   "metadata": {},
   "outputs": [],
   "source": [
    "daily_data['user'] = 'vasanth'"
   ]
  },
  {
   "cell_type": "code",
   "execution_count": 6,
   "metadata": {},
   "outputs": [
    {
     "data": {
      "text/html": [
       "<div>\n",
       "<style scoped>\n",
       "    .dataframe tbody tr th:only-of-type {\n",
       "        vertical-align: middle;\n",
       "    }\n",
       "\n",
       "    .dataframe tbody tr th {\n",
       "        vertical-align: top;\n",
       "    }\n",
       "\n",
       "    .dataframe thead th {\n",
       "        text-align: right;\n",
       "    }\n",
       "</style>\n",
       "<table border=\"1\" class=\"dataframe\">\n",
       "  <thead>\n",
       "    <tr style=\"text-align: right;\">\n",
       "      <th></th>\n",
       "      <th>Start</th>\n",
       "      <th>Finish</th>\n",
       "      <th>Active Calories (kcal)</th>\n",
       "      <th>Cycling Distance (mi)</th>\n",
       "      <th>Dietary Calories (cal)</th>\n",
       "      <th>Distance (mi)</th>\n",
       "      <th>Flights Climbed (count)</th>\n",
       "      <th>Heart Rate (count/min)</th>\n",
       "      <th>Resting Calories (kcal)</th>\n",
       "      <th>Steps (count)</th>\n",
       "      <th>Weight (lb)</th>\n",
       "      <th>user</th>\n",
       "    </tr>\n",
       "  </thead>\n",
       "  <tbody>\n",
       "    <tr>\n",
       "      <th>0</th>\n",
       "      <td>17-Jan-2016 00:00</td>\n",
       "      <td>18-Jan-2016 00:00</td>\n",
       "      <td>0.0</td>\n",
       "      <td>0.0</td>\n",
       "      <td>0.0</td>\n",
       "      <td>0.821956</td>\n",
       "      <td>1.0</td>\n",
       "      <td>0.0</td>\n",
       "      <td>0.0</td>\n",
       "      <td>1715.0</td>\n",
       "      <td>0.0</td>\n",
       "      <td>vasanth</td>\n",
       "    </tr>\n",
       "    <tr>\n",
       "      <th>1</th>\n",
       "      <td>18-Jan-2016 00:00</td>\n",
       "      <td>19-Jan-2016 00:00</td>\n",
       "      <td>0.0</td>\n",
       "      <td>0.0</td>\n",
       "      <td>0.0</td>\n",
       "      <td>2.837383</td>\n",
       "      <td>8.0</td>\n",
       "      <td>0.0</td>\n",
       "      <td>0.0</td>\n",
       "      <td>5829.0</td>\n",
       "      <td>0.0</td>\n",
       "      <td>vasanth</td>\n",
       "    </tr>\n",
       "    <tr>\n",
       "      <th>2</th>\n",
       "      <td>19-Jan-2016 00:00</td>\n",
       "      <td>20-Jan-2016 00:00</td>\n",
       "      <td>0.0</td>\n",
       "      <td>0.0</td>\n",
       "      <td>0.0</td>\n",
       "      <td>1.161026</td>\n",
       "      <td>5.0</td>\n",
       "      <td>0.0</td>\n",
       "      <td>0.0</td>\n",
       "      <td>2463.0</td>\n",
       "      <td>0.0</td>\n",
       "      <td>vasanth</td>\n",
       "    </tr>\n",
       "    <tr>\n",
       "      <th>3</th>\n",
       "      <td>20-Jan-2016 00:00</td>\n",
       "      <td>21-Jan-2016 00:00</td>\n",
       "      <td>0.0</td>\n",
       "      <td>0.0</td>\n",
       "      <td>0.0</td>\n",
       "      <td>1.693746</td>\n",
       "      <td>3.0</td>\n",
       "      <td>0.0</td>\n",
       "      <td>0.0</td>\n",
       "      <td>3878.0</td>\n",
       "      <td>0.0</td>\n",
       "      <td>vasanth</td>\n",
       "    </tr>\n",
       "    <tr>\n",
       "      <th>4</th>\n",
       "      <td>21-Jan-2016 00:00</td>\n",
       "      <td>22-Jan-2016 00:00</td>\n",
       "      <td>0.0</td>\n",
       "      <td>0.0</td>\n",
       "      <td>0.0</td>\n",
       "      <td>1.423878</td>\n",
       "      <td>2.0</td>\n",
       "      <td>0.0</td>\n",
       "      <td>0.0</td>\n",
       "      <td>2894.0</td>\n",
       "      <td>0.0</td>\n",
       "      <td>vasanth</td>\n",
       "    </tr>\n",
       "  </tbody>\n",
       "</table>\n",
       "</div>"
      ],
      "text/plain": [
       "               Start             Finish  Active Calories (kcal)  \\\n",
       "0  17-Jan-2016 00:00  18-Jan-2016 00:00                     0.0   \n",
       "1  18-Jan-2016 00:00  19-Jan-2016 00:00                     0.0   \n",
       "2  19-Jan-2016 00:00  20-Jan-2016 00:00                     0.0   \n",
       "3  20-Jan-2016 00:00  21-Jan-2016 00:00                     0.0   \n",
       "4  21-Jan-2016 00:00  22-Jan-2016 00:00                     0.0   \n",
       "\n",
       "   Cycling Distance (mi)  Dietary Calories (cal)  Distance (mi)  \\\n",
       "0                    0.0                     0.0       0.821956   \n",
       "1                    0.0                     0.0       2.837383   \n",
       "2                    0.0                     0.0       1.161026   \n",
       "3                    0.0                     0.0       1.693746   \n",
       "4                    0.0                     0.0       1.423878   \n",
       "\n",
       "   Flights Climbed (count)  Heart Rate (count/min)  Resting Calories (kcal)  \\\n",
       "0                      1.0                     0.0                      0.0   \n",
       "1                      8.0                     0.0                      0.0   \n",
       "2                      5.0                     0.0                      0.0   \n",
       "3                      3.0                     0.0                      0.0   \n",
       "4                      2.0                     0.0                      0.0   \n",
       "\n",
       "   Steps (count)  Weight (lb)     user  \n",
       "0         1715.0          0.0  vasanth  \n",
       "1         5829.0          0.0  vasanth  \n",
       "2         2463.0          0.0  vasanth  \n",
       "3         3878.0          0.0  vasanth  \n",
       "4         2894.0          0.0  vasanth  "
      ]
     },
     "execution_count": 6,
     "metadata": {},
     "output_type": "execute_result"
    }
   ],
   "source": [
    "daily_data.head()"
   ]
  },
  {
   "cell_type": "code",
   "execution_count": 7,
   "metadata": {},
   "outputs": [
    {
     "name": "stdout",
     "output_type": "stream",
     "text": [
      "<class 'pandas.core.frame.DataFrame'>\n",
      "RangeIndex: 1039 entries, 0 to 1038\n",
      "Data columns (total 12 columns):\n",
      "Start                      1039 non-null object\n",
      "Finish                     1039 non-null object\n",
      "Active Calories (kcal)     1039 non-null float64\n",
      "Cycling Distance (mi)      1039 non-null float64\n",
      "Dietary Calories (cal)     1039 non-null float64\n",
      "Distance (mi)              1039 non-null float64\n",
      "Flights Climbed (count)    1039 non-null float64\n",
      "Heart Rate (count/min)     1039 non-null float64\n",
      "Resting Calories (kcal)    1039 non-null float64\n",
      "Steps (count)              1039 non-null float64\n",
      "Weight (lb)                1039 non-null float64\n",
      "user                       1039 non-null object\n",
      "dtypes: float64(9), object(3)\n",
      "memory usage: 97.5+ KB\n"
     ]
    }
   ],
   "source": [
    "daily_data.info()"
   ]
  },
  {
   "cell_type": "code",
   "execution_count": 13,
   "metadata": {},
   "outputs": [
    {
     "data": {
      "text/plain": [
       "Index(['Start', 'Finish', 'Active Calories (kcal)', 'Cycling Distance (mi)',\n",
       "       'Dietary Calories (cal)', 'Distance (mi)', 'Flights Climbed (count)',\n",
       "       'Heart Rate (count/min)', 'Resting Calories (kcal)', 'Steps (count)',\n",
       "       'Weight (lb)', 'user'],\n",
       "      dtype='object')"
      ]
     },
     "execution_count": 13,
     "metadata": {},
     "output_type": "execute_result"
    }
   ],
   "source": [
    "daily_data.columns"
   ]
  },
  {
   "cell_type": "code",
   "execution_count": 14,
   "metadata": {},
   "outputs": [
    {
     "data": {
      "text/plain": [
       "Index(['Start', 'Finish', 'Active_Calories__kcal', 'Cycling_Distance__mi',\n",
       "       'Dietary_Calories__cal', 'Distance__mi', 'Flights_Climbed__count',\n",
       "       'Heart_Rate__count/min', 'Resting_Calories__kcal', 'Steps__count',\n",
       "       'Weight__lb', 'user'],\n",
       "      dtype='object')"
      ]
     },
     "execution_count": 14,
     "metadata": {},
     "output_type": "execute_result"
    }
   ],
   "source": [
    "daily_data.columns = daily_data.columns.str.replace(\"(\",\"_\").str.replace(\" \",\"_\").str.replace(\")\",\"\")\n",
    "daily_data.columns"
   ]
  },
  {
   "cell_type": "code",
   "execution_count": 16,
   "metadata": {},
   "outputs": [],
   "source": [
    "daily_data.columns = daily_data.columns.str.lower()"
   ]
  },
  {
   "cell_type": "code",
   "execution_count": 17,
   "metadata": {},
   "outputs": [
    {
     "data": {
      "text/html": [
       "<div>\n",
       "<style scoped>\n",
       "    .dataframe tbody tr th:only-of-type {\n",
       "        vertical-align: middle;\n",
       "    }\n",
       "\n",
       "    .dataframe tbody tr th {\n",
       "        vertical-align: top;\n",
       "    }\n",
       "\n",
       "    .dataframe thead th {\n",
       "        text-align: right;\n",
       "    }\n",
       "</style>\n",
       "<table border=\"1\" class=\"dataframe\">\n",
       "  <thead>\n",
       "    <tr style=\"text-align: right;\">\n",
       "      <th></th>\n",
       "      <th>start</th>\n",
       "      <th>finish</th>\n",
       "      <th>active_calories__kcal</th>\n",
       "      <th>cycling_distance__mi</th>\n",
       "      <th>dietary_calories__cal</th>\n",
       "      <th>distance__mi</th>\n",
       "      <th>flights_climbed__count</th>\n",
       "      <th>heart_rate__count/min</th>\n",
       "      <th>resting_calories__kcal</th>\n",
       "      <th>steps__count</th>\n",
       "      <th>weight__lb</th>\n",
       "      <th>user</th>\n",
       "    </tr>\n",
       "  </thead>\n",
       "  <tbody>\n",
       "    <tr>\n",
       "      <th>0</th>\n",
       "      <td>17-Jan-2016 00:00</td>\n",
       "      <td>18-Jan-2016 00:00</td>\n",
       "      <td>0.0</td>\n",
       "      <td>0.0</td>\n",
       "      <td>0.0</td>\n",
       "      <td>0.821956</td>\n",
       "      <td>1.0</td>\n",
       "      <td>0.0</td>\n",
       "      <td>0.0</td>\n",
       "      <td>1715.0</td>\n",
       "      <td>0.0</td>\n",
       "      <td>vasanth</td>\n",
       "    </tr>\n",
       "    <tr>\n",
       "      <th>1</th>\n",
       "      <td>18-Jan-2016 00:00</td>\n",
       "      <td>19-Jan-2016 00:00</td>\n",
       "      <td>0.0</td>\n",
       "      <td>0.0</td>\n",
       "      <td>0.0</td>\n",
       "      <td>2.837383</td>\n",
       "      <td>8.0</td>\n",
       "      <td>0.0</td>\n",
       "      <td>0.0</td>\n",
       "      <td>5829.0</td>\n",
       "      <td>0.0</td>\n",
       "      <td>vasanth</td>\n",
       "    </tr>\n",
       "    <tr>\n",
       "      <th>2</th>\n",
       "      <td>19-Jan-2016 00:00</td>\n",
       "      <td>20-Jan-2016 00:00</td>\n",
       "      <td>0.0</td>\n",
       "      <td>0.0</td>\n",
       "      <td>0.0</td>\n",
       "      <td>1.161026</td>\n",
       "      <td>5.0</td>\n",
       "      <td>0.0</td>\n",
       "      <td>0.0</td>\n",
       "      <td>2463.0</td>\n",
       "      <td>0.0</td>\n",
       "      <td>vasanth</td>\n",
       "    </tr>\n",
       "    <tr>\n",
       "      <th>3</th>\n",
       "      <td>20-Jan-2016 00:00</td>\n",
       "      <td>21-Jan-2016 00:00</td>\n",
       "      <td>0.0</td>\n",
       "      <td>0.0</td>\n",
       "      <td>0.0</td>\n",
       "      <td>1.693746</td>\n",
       "      <td>3.0</td>\n",
       "      <td>0.0</td>\n",
       "      <td>0.0</td>\n",
       "      <td>3878.0</td>\n",
       "      <td>0.0</td>\n",
       "      <td>vasanth</td>\n",
       "    </tr>\n",
       "    <tr>\n",
       "      <th>4</th>\n",
       "      <td>21-Jan-2016 00:00</td>\n",
       "      <td>22-Jan-2016 00:00</td>\n",
       "      <td>0.0</td>\n",
       "      <td>0.0</td>\n",
       "      <td>0.0</td>\n",
       "      <td>1.423878</td>\n",
       "      <td>2.0</td>\n",
       "      <td>0.0</td>\n",
       "      <td>0.0</td>\n",
       "      <td>2894.0</td>\n",
       "      <td>0.0</td>\n",
       "      <td>vasanth</td>\n",
       "    </tr>\n",
       "  </tbody>\n",
       "</table>\n",
       "</div>"
      ],
      "text/plain": [
       "               start             finish  active_calories__kcal  \\\n",
       "0  17-Jan-2016 00:00  18-Jan-2016 00:00                    0.0   \n",
       "1  18-Jan-2016 00:00  19-Jan-2016 00:00                    0.0   \n",
       "2  19-Jan-2016 00:00  20-Jan-2016 00:00                    0.0   \n",
       "3  20-Jan-2016 00:00  21-Jan-2016 00:00                    0.0   \n",
       "4  21-Jan-2016 00:00  22-Jan-2016 00:00                    0.0   \n",
       "\n",
       "   cycling_distance__mi  dietary_calories__cal  distance__mi  \\\n",
       "0                   0.0                    0.0      0.821956   \n",
       "1                   0.0                    0.0      2.837383   \n",
       "2                   0.0                    0.0      1.161026   \n",
       "3                   0.0                    0.0      1.693746   \n",
       "4                   0.0                    0.0      1.423878   \n",
       "\n",
       "   flights_climbed__count  heart_rate__count/min  resting_calories__kcal  \\\n",
       "0                     1.0                    0.0                     0.0   \n",
       "1                     8.0                    0.0                     0.0   \n",
       "2                     5.0                    0.0                     0.0   \n",
       "3                     3.0                    0.0                     0.0   \n",
       "4                     2.0                    0.0                     0.0   \n",
       "\n",
       "   steps__count  weight__lb     user  \n",
       "0        1715.0         0.0  vasanth  \n",
       "1        5829.0         0.0  vasanth  \n",
       "2        2463.0         0.0  vasanth  \n",
       "3        3878.0         0.0  vasanth  \n",
       "4        2894.0         0.0  vasanth  "
      ]
     },
     "execution_count": 17,
     "metadata": {},
     "output_type": "execute_result"
    }
   ],
   "source": [
    "daily_data.head()"
   ]
  },
  {
   "cell_type": "code",
   "execution_count": 18,
   "metadata": {},
   "outputs": [
    {
     "data": {
      "text/plain": [
       "0.000000      988\n",
       "166.889932      4\n",
       "166.228546      4\n",
       "168.653631      3\n",
       "168.212706      3\n",
       "167.110395      3\n",
       "168.433168      3\n",
       "166.449008      3\n",
       "167.330857      3\n",
       "169.315017      2\n",
       "169.755942      2\n",
       "167.771782      2\n",
       "166.669470      2\n",
       "167.992244      2\n",
       "167.551319      2\n",
       "164.905772      1\n",
       "169.976404      1\n",
       "170.196866      1\n",
       "171.800000      1\n",
       "169.535480      1\n",
       "176.200000      1\n",
       "168.874093      1\n",
       "165.787621      1\n",
       "175.000000      1\n",
       "169.094555      1\n",
       "171.299178      1\n",
       "170.800000      1\n",
       "173.944725      1\n",
       "Name: weight__lb, dtype: int64"
      ]
     },
     "execution_count": 18,
     "metadata": {},
     "output_type": "execute_result"
    }
   ],
   "source": [
    "daily_data.weight__lb.value_counts()"
   ]
  },
  {
   "cell_type": "code",
   "execution_count": 19,
   "metadata": {},
   "outputs": [],
   "source": [
    "daily_data_cl = daily_data.drop(['start','finish','user'],axis = 1)"
   ]
  },
  {
   "cell_type": "code",
   "execution_count": 20,
   "metadata": {},
   "outputs": [
    {
     "name": "stdout",
     "output_type": "stream",
     "text": [
      "<class 'pandas.core.frame.DataFrame'>\n",
      "RangeIndex: 1039 entries, 0 to 1038\n",
      "Data columns (total 9 columns):\n",
      "active_calories__kcal     1039 non-null float64\n",
      "cycling_distance__mi      1039 non-null float64\n",
      "dietary_calories__cal     1039 non-null float64\n",
      "distance__mi              1039 non-null float64\n",
      "flights_climbed__count    1039 non-null float64\n",
      "heart_rate__count/min     1039 non-null float64\n",
      "resting_calories__kcal    1039 non-null float64\n",
      "steps__count              1039 non-null float64\n",
      "weight__lb                1039 non-null float64\n",
      "dtypes: float64(9)\n",
      "memory usage: 73.1 KB\n"
     ]
    }
   ],
   "source": [
    "daily_data_cl.info()"
   ]
  },
  {
   "cell_type": "code",
   "execution_count": 21,
   "metadata": {},
   "outputs": [],
   "source": [
    "X = daily_data_cl"
   ]
  },
  {
   "cell_type": "code",
   "execution_count": 25,
   "metadata": {},
   "outputs": [
    {
     "data": {
      "text/plain": [
       "2    735\n",
       "0    217\n",
       "1     87\n",
       "dtype: int64"
      ]
     },
     "execution_count": 25,
     "metadata": {},
     "output_type": "execute_result"
    }
   ],
   "source": [
    "#Intialize scaler\n",
    "ss = StandardScaler()\n",
    "\n",
    "#Fit and transform scaler on data\n",
    "Xs = ss.fit_transform(X)\n",
    "\n",
    "#Intialize kmeans with 3 clusters and random_state = 10\n",
    "km3_s = KMeans(n_clusters=3, random_state=10)\n",
    "\n",
    "#Fit model\n",
    "km3_s.fit(Xs)\n",
    "\n",
    "#Generate labels\n",
    "labs3_s = km3_s.labels_\n",
    "\n",
    "#Value_counts\n",
    "pd.value_counts(labs3_s)"
   ]
  },
  {
   "cell_type": "code",
   "execution_count": 26,
   "metadata": {},
   "outputs": [],
   "source": [
    "daily_data_cl['classify'] = labs3_s"
   ]
  },
  {
   "cell_type": "code",
   "execution_count": 27,
   "metadata": {},
   "outputs": [
    {
     "name": "stdout",
     "output_type": "stream",
     "text": [
      "<class 'pandas.core.frame.DataFrame'>\n",
      "RangeIndex: 1039 entries, 0 to 1038\n",
      "Data columns (total 10 columns):\n",
      "active_calories__kcal     1039 non-null float64\n",
      "cycling_distance__mi      1039 non-null float64\n",
      "dietary_calories__cal     1039 non-null float64\n",
      "distance__mi              1039 non-null float64\n",
      "flights_climbed__count    1039 non-null float64\n",
      "heart_rate__count/min     1039 non-null float64\n",
      "resting_calories__kcal    1039 non-null float64\n",
      "steps__count              1039 non-null float64\n",
      "weight__lb                1039 non-null float64\n",
      "classify                  1039 non-null int32\n",
      "dtypes: float64(9), int32(1)\n",
      "memory usage: 77.2 KB\n"
     ]
    }
   ],
   "source": [
    "daily_data_cl.info()"
   ]
  },
  {
   "cell_type": "code",
   "execution_count": 28,
   "metadata": {},
   "outputs": [
    {
     "data": {
      "text/plain": [
       "array([1, 2, 0])"
      ]
     },
     "execution_count": 28,
     "metadata": {},
     "output_type": "execute_result"
    }
   ],
   "source": [
    "daily_data_cl.classify.unique()"
   ]
  },
  {
   "cell_type": "code",
   "execution_count": 34,
   "metadata": {},
   "outputs": [
    {
     "data": {
      "text/plain": [
       "active_calories__kcal        3.539195\n",
       "cycling_distance__mi         0.000000\n",
       "dietary_calories__cal        0.000000\n",
       "distance__mi                 1.848105\n",
       "flights_climbed__count       4.666667\n",
       "heart_rate__count/min        2.114943\n",
       "resting_calories__kcal     126.907348\n",
       "steps__count              4203.145182\n",
       "weight__lb                  42.437718\n",
       "classify                     1.000000\n",
       "dtype: float64"
      ]
     },
     "execution_count": 34,
     "metadata": {},
     "output_type": "execute_result"
    }
   ],
   "source": [
    "daily_data_cl[(daily_data_cl.classify == 1)].mean()"
   ]
  },
  {
   "cell_type": "code",
   "execution_count": 35,
   "metadata": {},
   "outputs": [
    {
     "data": {
      "text/plain": [
       "active_calories__kcal       666.921494\n",
       "cycling_distance__mi          0.522534\n",
       "dietary_calories__cal         0.000000\n",
       "distance__mi                  4.759427\n",
       "flights_climbed__count        9.825340\n",
       "heart_rate__count/min       139.967742\n",
       "resting_calories__kcal     1939.461922\n",
       "steps__count              11108.860783\n",
       "weight__lb                    3.130158\n",
       "classify                      0.000000\n",
       "dtype: float64"
      ]
     },
     "execution_count": 35,
     "metadata": {},
     "output_type": "execute_result"
    }
   ],
   "source": [
    "daily_data_cl[(daily_data_cl.classify == 0)].mean()"
   ]
  },
  {
   "cell_type": "code",
   "execution_count": 36,
   "metadata": {},
   "outputs": [
    {
     "data": {
      "text/plain": [
       "active_calories__kcal      311.616538\n",
       "cycling_distance__mi         0.026427\n",
       "dietary_calories__cal     1409.368174\n",
       "distance__mi                 2.310399\n",
       "flights_climbed__count       5.890492\n",
       "heart_rate__count/min      103.948321\n",
       "resting_calories__kcal    1855.520738\n",
       "steps__count              5444.736586\n",
       "weight__lb                   5.735025\n",
       "classify                     2.000000\n",
       "dtype: float64"
      ]
     },
     "execution_count": 36,
     "metadata": {},
     "output_type": "execute_result"
    }
   ],
   "source": [
    "daily_data_cl[(daily_data_cl.classify == 2)].mean()"
   ]
  },
  {
   "cell_type": "code",
   "execution_count": 41,
   "metadata": {},
   "outputs": [
    {
     "data": {
      "text/html": [
       "<div>\n",
       "<style scoped>\n",
       "    .dataframe tbody tr th:only-of-type {\n",
       "        vertical-align: middle;\n",
       "    }\n",
       "\n",
       "    .dataframe tbody tr th {\n",
       "        vertical-align: top;\n",
       "    }\n",
       "\n",
       "    .dataframe thead tr th {\n",
       "        text-align: left;\n",
       "    }\n",
       "\n",
       "    .dataframe thead tr:last-of-type th {\n",
       "        text-align: right;\n",
       "    }\n",
       "</style>\n",
       "<table border=\"1\" class=\"dataframe\">\n",
       "  <thead>\n",
       "    <tr>\n",
       "      <th></th>\n",
       "      <th>active_calories__kcal</th>\n",
       "      <th>cycling_distance__mi</th>\n",
       "      <th>dietary_calories__cal</th>\n",
       "      <th>distance__mi</th>\n",
       "      <th>flights_climbed__count</th>\n",
       "      <th>heart_rate__count/min</th>\n",
       "      <th>resting_calories__kcal</th>\n",
       "      <th>steps__count</th>\n",
       "      <th>weight__lb</th>\n",
       "    </tr>\n",
       "    <tr>\n",
       "      <th></th>\n",
       "      <th>mean</th>\n",
       "      <th>mean</th>\n",
       "      <th>mean</th>\n",
       "      <th>mean</th>\n",
       "      <th>mean</th>\n",
       "      <th>mean</th>\n",
       "      <th>mean</th>\n",
       "      <th>mean</th>\n",
       "      <th>mean</th>\n",
       "    </tr>\n",
       "    <tr>\n",
       "      <th>classify</th>\n",
       "      <th></th>\n",
       "      <th></th>\n",
       "      <th></th>\n",
       "      <th></th>\n",
       "      <th></th>\n",
       "      <th></th>\n",
       "      <th></th>\n",
       "      <th></th>\n",
       "      <th></th>\n",
       "    </tr>\n",
       "  </thead>\n",
       "  <tbody>\n",
       "    <tr>\n",
       "      <th>0</th>\n",
       "      <td>666.9</td>\n",
       "      <td>0.5</td>\n",
       "      <td>0.0</td>\n",
       "      <td>4.8</td>\n",
       "      <td>9.8</td>\n",
       "      <td>140.0</td>\n",
       "      <td>1939.5</td>\n",
       "      <td>11108.9</td>\n",
       "      <td>3.1</td>\n",
       "    </tr>\n",
       "    <tr>\n",
       "      <th>1</th>\n",
       "      <td>3.5</td>\n",
       "      <td>0.0</td>\n",
       "      <td>0.0</td>\n",
       "      <td>1.8</td>\n",
       "      <td>4.7</td>\n",
       "      <td>2.1</td>\n",
       "      <td>126.9</td>\n",
       "      <td>4203.1</td>\n",
       "      <td>42.4</td>\n",
       "    </tr>\n",
       "    <tr>\n",
       "      <th>2</th>\n",
       "      <td>311.6</td>\n",
       "      <td>0.0</td>\n",
       "      <td>1409.4</td>\n",
       "      <td>2.3</td>\n",
       "      <td>5.9</td>\n",
       "      <td>103.9</td>\n",
       "      <td>1855.5</td>\n",
       "      <td>5444.7</td>\n",
       "      <td>5.7</td>\n",
       "    </tr>\n",
       "  </tbody>\n",
       "</table>\n",
       "</div>"
      ],
      "text/plain": [
       "         active_calories__kcal cycling_distance__mi dietary_calories__cal  \\\n",
       "                          mean                 mean                  mean   \n",
       "classify                                                                    \n",
       "0                        666.9                  0.5                   0.0   \n",
       "1                          3.5                  0.0                   0.0   \n",
       "2                        311.6                  0.0                1409.4   \n",
       "\n",
       "         distance__mi flights_climbed__count heart_rate__count/min  \\\n",
       "                 mean                   mean                  mean   \n",
       "classify                                                             \n",
       "0                 4.8                    9.8                 140.0   \n",
       "1                 1.8                    4.7                   2.1   \n",
       "2                 2.3                    5.9                 103.9   \n",
       "\n",
       "         resting_calories__kcal steps__count weight__lb  \n",
       "                           mean         mean       mean  \n",
       "classify                                                 \n",
       "0                        1939.5      11108.9        3.1  \n",
       "1                         126.9       4203.1       42.4  \n",
       "2                        1855.5       5444.7        5.7  "
      ]
     },
     "execution_count": 41,
     "metadata": {},
     "output_type": "execute_result"
    }
   ],
   "source": [
    "daily_data_cl.groupby('classify').agg(['mean']).round(1)"
   ]
  },
  {
   "cell_type": "code",
   "execution_count": null,
   "metadata": {},
   "outputs": [],
   "source": []
  }
 ],
 "metadata": {
  "kernelspec": {
   "display_name": "Python 3",
   "language": "python",
   "name": "python3"
  },
  "language_info": {
   "codemirror_mode": {
    "name": "ipython",
    "version": 3
   },
   "file_extension": ".py",
   "mimetype": "text/x-python",
   "name": "python",
   "nbconvert_exporter": "python",
   "pygments_lexer": "ipython3",
   "version": "3.6.6"
  }
 },
 "nbformat": 4,
 "nbformat_minor": 2
}
