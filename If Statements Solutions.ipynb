{
 "cells": [
  {
   "cell_type": "markdown",
   "metadata": {},
   "source": [
    " # If Statements\n",
    " &copy; QuantSprout"
   ]
  },
  {
   "cell_type": "markdown",
   "metadata": {},
   "source": [
    "Simple If Statement"
   ]
  },
  {
   "cell_type": "code",
   "execution_count": 1,
   "metadata": {},
   "outputs": [
    {
     "name": "stdout",
     "output_type": "stream",
     "text": [
      "3\n"
     ]
    }
   ],
   "source": [
    "x=3\n",
    "if x>0:\n",
    "    print(x)"
   ]
  },
  {
   "cell_type": "markdown",
   "metadata": {},
   "source": [
    "Write if statements with multiple conditions"
   ]
  },
  {
   "cell_type": "code",
   "execution_count": 2,
   "metadata": {},
   "outputs": [
    {
     "name": "stdout",
     "output_type": "stream",
     "text": [
      "4 is even and greater than zero\n"
     ]
    }
   ],
   "source": [
    "x = 4\n",
    "if x > 0 and x%2 == 0:\n",
    "    print(x, 'is even and greater than zero')"
   ]
  },
  {
   "cell_type": "code",
   "execution_count": 3,
   "metadata": {},
   "outputs": [
    {
     "name": "stdout",
     "output_type": "stream",
     "text": [
      "3.0 is greater than 10 or a float type\n"
     ]
    }
   ],
   "source": [
    "x = 3.0\n",
    "if (x > 10) |  (type(x) == float):\n",
    "    print(x, 'is greater than 10 or a float type')"
   ]
  },
  {
   "cell_type": "markdown",
   "metadata": {},
   "source": [
    "Else If Statement"
   ]
  },
  {
   "cell_type": "code",
   "execution_count": 4,
   "metadata": {},
   "outputs": [
    {
     "name": "stdout",
     "output_type": "stream",
     "text": [
      "small customer\n"
     ]
    }
   ],
   "source": [
    "sales = 30\n",
    "if sales > 1000:\n",
    "    print('top customer')\n",
    "elif sales > 100:\n",
    "    print('regular customer')\n",
    "else:\n",
    "    print('small customer')"
   ]
  },
  {
   "cell_type": "markdown",
   "metadata": {},
   "source": [
    "## Exercise: Update your function to handle errors and convert Fahrenheit to Celsius"
   ]
  },
  {
   "cell_type": "markdown",
   "metadata": {},
   "source": [
    "#### 1. Create a function that checks the type of an input and returns True if the input is numeric (float or integer) or a False if it is another data type.\n"
   ]
  },
  {
   "cell_type": "code",
   "execution_count": 5,
   "metadata": {},
   "outputs": [],
   "source": [
    "def is_numeric(x):\n",
    "    if type(x) == int or type(x) == float:\n",
    "        return True\n",
    "    else:\n",
    "        return False"
   ]
  },
  {
   "cell_type": "code",
   "execution_count": 6,
   "metadata": {},
   "outputs": [],
   "source": [
    "# Short hand version of solution\n",
    "def is_numeric(x):\n",
    "    return (type(x) == int) | (type(x) == float)"
   ]
  },
  {
   "cell_type": "code",
   "execution_count": 7,
   "metadata": {},
   "outputs": [],
   "source": [
    "# Alternative solution using the in operator\n",
    "def is_numeric(x):\n",
    "    return type(x) in [int,float]"
   ]
  },
  {
   "cell_type": "code",
   "execution_count": 8,
   "metadata": {},
   "outputs": [
    {
     "name": "stdout",
     "output_type": "stream",
     "text": [
      "True\n",
      "True\n",
      "False\n",
      "False\n"
     ]
    }
   ],
   "source": [
    "print(is_numeric(10))\n",
    "print(is_numeric(10.1))\n",
    "print(is_numeric(True))\n",
    "print(is_numeric('Test'))"
   ]
  },
  {
   "cell_type": "markdown",
   "metadata": {},
   "source": [
    "#### 2. Update your temperature function from the Python Fundamentals exercise to return an error message if a string is entered instead of a number."
   ]
  },
  {
   "cell_type": "code",
   "execution_count": 9,
   "metadata": {},
   "outputs": [],
   "source": [
    "def convert_temp_check(c):\n",
    "    if (type(c) == int) | (type(c) == float):\n",
    "        f = c * 1.8 + 32\n",
    "        return '{0}C is {1}F'.format(c, f) \n",
    "    else:\n",
    "        return \"Error. '{}' is a non-numeric value.\".format(c)"
   ]
  },
  {
   "cell_type": "code",
   "execution_count": 10,
   "metadata": {},
   "outputs": [
    {
     "name": "stdout",
     "output_type": "stream",
     "text": [
      "100C is 212.0F\n",
      "Error. 'Test' is a non-numeric value.\n",
      "Error. 'None' is a non-numeric value.\n"
     ]
    }
   ],
   "source": [
    "print(convert_temp_check(100))\n",
    "print(convert_temp_check('Test'))\n",
    "print(convert_temp_check(None))"
   ]
  },
  {
   "cell_type": "code",
   "execution_count": 11,
   "metadata": {},
   "outputs": [
    {
     "name": "stdout",
     "output_type": "stream",
     "text": [
      "100C is 212.0F\n",
      "Error. Test is a non-numeric value.\n"
     ]
    }
   ],
   "source": [
    "# Use is_numeric function we've already created\n",
    "def convert_temp_check2(c):\n",
    "    if is_numeric(c):\n",
    "        f = c * 1.8 + 32\n",
    "        return '{0}C is {1}F'.format(c, f) \n",
    "    else:\n",
    "        return \"Error. {} is a non-numeric value.\".format(c)        \n",
    "\n",
    "print(convert_temp_check2(100))\n",
    "print(convert_temp_check2('Test'))"
   ]
  },
  {
   "cell_type": "code",
   "execution_count": 12,
   "metadata": {},
   "outputs": [
    {
     "name": "stdout",
     "output_type": "stream",
     "text": [
      "100 degrees C = 212.0 degrees F\n",
      "Error. Test is <class 'str'> and is non-numeric.\n",
      "Error. True is <class 'bool'> and is non-numeric.\n"
     ]
    }
   ],
   "source": [
    "# Use convert_temp and is_numeric functions we've already created\n",
    "def convert_temp(c):\n",
    "    f = c * 1.8 + 32\n",
    "    return \"{0} degrees C = {1} degrees F\".format(c, f)\n",
    "\n",
    "def convert_temp_check3(c):\n",
    "    if is_numeric(c):\n",
    "        return convert_temp(c)\n",
    "    else:\n",
    "        return \"Error. {0} is {1} and is non-numeric.\".format(c, type(c))     \n",
    "\n",
    "print(convert_temp_check3(100))\n",
    "print(convert_temp_check3('Test'))\n",
    "print(convert_temp_check3(True))"
   ]
  },
  {
   "cell_type": "code",
   "execution_count": null,
   "metadata": {},
   "outputs": [],
   "source": []
  },
  {
   "cell_type": "code",
   "execution_count": null,
   "metadata": {},
   "outputs": [],
   "source": []
  }
 ],
 "metadata": {
  "anaconda-cloud": {},
  "kernelspec": {
   "display_name": "Python 3",
   "language": "python",
   "name": "python3"
  },
  "language_info": {
   "codemirror_mode": {
    "name": "ipython",
    "version": 3
   },
   "file_extension": ".py",
   "mimetype": "text/x-python",
   "name": "python",
   "nbconvert_exporter": "python",
   "pygments_lexer": "ipython3",
   "version": "3.6.5"
  }
 },
 "nbformat": 4,
 "nbformat_minor": 1
}
