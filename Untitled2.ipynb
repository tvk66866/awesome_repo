{
 "cells": [
  {
   "cell_type": "code",
   "execution_count": null,
   "metadata": {},
   "outputs": [],
   "source": [
    "\n"
   ]
  },
  {
   "cell_type": "code",
   "execution_count": 5,
   "metadata": {},
   "outputs": [
    {
     "name": "stderr",
     "output_type": "stream",
     "text": [
      "usage: ipykernel_launcher.py [-h] [--auth_host_name AUTH_HOST_NAME]\n",
      "                             [--noauth_local_webserver]\n",
      "                             [--auth_host_port [AUTH_HOST_PORT [AUTH_HOST_PORT ...]]]\n",
      "                             [--logging_level {DEBUG,INFO,WARNING,ERROR,CRITICAL}]\n",
      "ipykernel_launcher.py: error: unrecognized arguments: -f /Users/vasanthakumarthirugnanam/Library/Jupyter/runtime/kernel-0e6273d3-5edc-4306-bb4a-fb88428f7ec4.json\n"
     ]
    },
    {
     "ename": "SystemExit",
     "evalue": "2",
     "traceback": [
      "An exception has occurred, use %tb to see the full traceback.\n",
      "\u001b[0;31mSystemExit\u001b[0m\u001b[0;31m:\u001b[0m 2\n"
     ],
     "output_type": "error"
    }
   ],
   "source": [
    "import sys\n",
    "\n",
    "from oauth2client import client\n",
    "from googleapiclient import sample_tools\n",
    "\n",
    "\n",
    "def main(argv):\n",
    "    # Authenticate and construct service.\n",
    "    service, flags = sample_tools.init(\n",
    "        argv, 'calendar', 'v3', __doc__, \"__file__\",\n",
    "        scope='https://www.googleapis.com/auth/calendar.readonly')\n",
    "\n",
    "    try:\n",
    "        page_token = None\n",
    "        while True:\n",
    "            calendar_list = service.calendarList().list(\n",
    "                pageToken=page_token).execute()\n",
    "            for calendar_list_entry in calendar_list['items']:\n",
    "                print(calendar_list_entry['summary'])\n",
    "            page_token = calendar_list.get('nextPageToken')\n",
    "            if not page_token:\n",
    "                break\n",
    "\n",
    "    except client.AccessTokenRefreshError:\n",
    "        print('The credentials have been revoked or expired, please re-run'\n",
    "              'the application to re-authorize.')\n",
    "\n",
    "if __name__ == '__main__':\n",
    "    main(sys.argv)"
   ]
  },
  {
   "cell_type": "code",
   "execution_count": null,
   "metadata": {},
   "outputs": [],
   "source": []
  }
 ],
 "metadata": {
  "kernelspec": {
   "display_name": "Python 3",
   "language": "python",
   "name": "python3"
  },
  "language_info": {
   "codemirror_mode": {
    "name": "ipython",
    "version": 3
   },
   "file_extension": ".py",
   "mimetype": "text/x-python",
   "name": "python",
   "nbconvert_exporter": "python",
   "pygments_lexer": "ipython3",
   "version": "3.6.6"
  }
 },
 "nbformat": 4,
 "nbformat_minor": 2
}
