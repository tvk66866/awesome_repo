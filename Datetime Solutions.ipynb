{
 "cells": [
  {
   "cell_type": "markdown",
   "metadata": {},
   "source": [
    " # Datetime Package\n",
    " &copy; QuantSprout"
   ]
  },
  {
   "cell_type": "markdown",
   "metadata": {},
   "source": [
    "Import the datetime package"
   ]
  },
  {
   "cell_type": "code",
   "execution_count": 1,
   "metadata": {},
   "outputs": [],
   "source": [
    "import datetime as dt"
   ]
  },
  {
   "cell_type": "markdown",
   "metadata": {},
   "source": [
    "Use ipython magic to see function options. Type datetime. and press tab.  Highlight time and press enter.  Hit shift-tab"
   ]
  },
  {
   "cell_type": "code",
   "execution_count": 2,
   "metadata": {},
   "outputs": [
    {
     "data": {
      "text/plain": [
       "datetime.time"
      ]
     },
     "execution_count": 2,
     "metadata": {},
     "output_type": "execute_result"
    }
   ],
   "source": [
    "dt.time"
   ]
  },
  {
   "cell_type": "markdown",
   "metadata": {},
   "source": [
    "Create an instance of a time"
   ]
  },
  {
   "cell_type": "code",
   "execution_count": 3,
   "metadata": {},
   "outputs": [
    {
     "name": "stdout",
     "output_type": "stream",
     "text": [
      "01:00:00\n"
     ]
    }
   ],
   "source": [
    "print (dt.time(1))"
   ]
  },
  {
   "cell_type": "markdown",
   "metadata": {},
   "source": [
    "Use the now function to get the current datetime stamp.   "
   ]
  },
  {
   "cell_type": "code",
   "execution_count": 4,
   "metadata": {},
   "outputs": [
    {
     "name": "stdout",
     "output_type": "stream",
     "text": [
      "2018-09-14 17:14:13.622608\n"
     ]
    }
   ],
   "source": [
    "ts_now = dt.datetime.now()\n",
    "print (ts_now)"
   ]
  },
  {
   "cell_type": "markdown",
   "metadata": {},
   "source": [
    "Extract the day from the timestamp"
   ]
  },
  {
   "cell_type": "code",
   "execution_count": 5,
   "metadata": {},
   "outputs": [
    {
     "name": "stdout",
     "output_type": "stream",
     "text": [
      "14\n"
     ]
    }
   ],
   "source": [
    "print (ts_now.day)"
   ]
  },
  {
   "cell_type": "markdown",
   "metadata": {},
   "source": [
    "Extract some other datetime elements"
   ]
  },
  {
   "cell_type": "code",
   "execution_count": 6,
   "metadata": {},
   "outputs": [
    {
     "name": "stdout",
     "output_type": "stream",
     "text": [
      "2018\n",
      "9\n",
      "14\n",
      "13\n",
      "622608\n"
     ]
    }
   ],
   "source": [
    "print (ts_now.year)\n",
    "print (ts_now.month)\n",
    "print (ts_now.minute)\n",
    "print (ts_now.second)\n",
    "print (ts_now.microsecond)"
   ]
  },
  {
   "cell_type": "markdown",
   "metadata": {},
   "source": [
    "Create a timestamp for Christmas"
   ]
  },
  {
   "cell_type": "code",
   "execution_count": 7,
   "metadata": {},
   "outputs": [
    {
     "name": "stdout",
     "output_type": "stream",
     "text": [
      "2016-12-25 00:00:00\n"
     ]
    }
   ],
   "source": [
    "ts_xmas = dt.datetime(2016,12,25)\n",
    "print (ts_xmas)"
   ]
  },
  {
   "cell_type": "markdown",
   "metadata": {},
   "source": [
    "Do math with the timestamps"
   ]
  },
  {
   "cell_type": "code",
   "execution_count": 8,
   "metadata": {},
   "outputs": [
    {
     "name": "stdout",
     "output_type": "stream",
     "text": [
      "24346\n",
      "<class 'datetime.timedelta'>\n"
     ]
    }
   ],
   "source": [
    "ts_diff = ts_xmas - ts_now\n",
    "print (ts_diff.seconds)\n",
    "print (type(ts_diff))"
   ]
  },
  {
   "cell_type": "markdown",
   "metadata": {},
   "source": [
    "Convert a string to datetime format"
   ]
  },
  {
   "cell_type": "code",
   "execution_count": 9,
   "metadata": {},
   "outputs": [
    {
     "name": "stdout",
     "output_type": "stream",
     "text": [
      "2015-01-10 00:00:00\n",
      "<class 'datetime.datetime'>\n"
     ]
    }
   ],
   "source": [
    "date_str = \"01-10-2015\"\n",
    "date_ts = dt.datetime.strptime(date_str,\"%m-%d-%Y\")\n",
    "print (date_ts)\n",
    "print (type(date_ts))"
   ]
  },
  {
   "cell_type": "markdown",
   "metadata": {},
   "source": [
    "Convert a datetime object to a string"
   ]
  },
  {
   "cell_type": "code",
   "execution_count": 10,
   "metadata": {},
   "outputs": [
    {
     "name": "stdout",
     "output_type": "stream",
     "text": [
      "00:00:00 01-10-2015\n",
      "<class 'str'>\n"
     ]
    }
   ],
   "source": [
    "new_date_str = dt.datetime.strftime(date_ts,\"%H:%M:%S %m-%d-%Y\")\n",
    "print (new_date_str)\n",
    "print (type(new_date_str))"
   ]
  },
  {
   "cell_type": "markdown",
   "metadata": {},
   "source": [
    "### Exercises"
   ]
  },
  {
   "cell_type": "markdown",
   "metadata": {},
   "source": [
    "#### 1. Create a variable called future with a datetime value of January 20, 2021 at 12:00pm"
   ]
  },
  {
   "cell_type": "code",
   "execution_count": 11,
   "metadata": {},
   "outputs": [
    {
     "name": "stdout",
     "output_type": "stream",
     "text": [
      "2021-01-20 12:00:00\n"
     ]
    }
   ],
   "source": [
    "future = dt.datetime(2021,1,20,12)\n",
    "print(future)"
   ]
  },
  {
   "cell_type": "markdown",
   "metadata": {},
   "source": [
    "#### 2. Create a variable with a timedelta equal to the difference between future and now"
   ]
  },
  {
   "cell_type": "code",
   "execution_count": 12,
   "metadata": {},
   "outputs": [
    {
     "name": "stdout",
     "output_type": "stream",
     "text": [
      "858 days, 18:45:46.309326\n"
     ]
    }
   ],
   "source": [
    "td = future - dt.datetime.now()\n",
    "print(td)"
   ]
  },
  {
   "cell_type": "markdown",
   "metadata": {},
   "source": [
    "#### 3. Print the number of seconds from the timedelta"
   ]
  },
  {
   "cell_type": "code",
   "execution_count": 13,
   "metadata": {
    "scrolled": true
   },
   "outputs": [
    {
     "name": "stdout",
     "output_type": "stream",
     "text": [
      "74198746.309326\n",
      "858 days, 18:45:46.309326\n",
      "67546\n",
      "858\n",
      "74198746.309326\n"
     ]
    }
   ],
   "source": [
    "print (td.total_seconds())\n",
    "print (td)\n",
    "print (td.seconds)\n",
    "print (td.days)\n",
    "print (td.days*24*60*60 + td.seconds + td.microseconds/1000000.)"
   ]
  },
  {
   "cell_type": "markdown",
   "metadata": {},
   "source": [
    "#### 4. Convert the following string into a datetime object"
   ]
  },
  {
   "cell_type": "code",
   "execution_count": 14,
   "metadata": {},
   "outputs": [
    {
     "data": {
      "text/plain": [
       "datetime.datetime(2017, 1, 20, 17, 0)"
      ]
     },
     "execution_count": 14,
     "metadata": {},
     "output_type": "execute_result"
    }
   ],
   "source": [
    "dt.datetime.strptime('Jan 20, 2017 5pm', '%b %d, %Y %I%p')"
   ]
  },
  {
   "cell_type": "code",
   "execution_count": 15,
   "metadata": {},
   "outputs": [
    {
     "data": {
      "text/plain": [
       "'September 14, 2018 05PM'"
      ]
     },
     "execution_count": 15,
     "metadata": {},
     "output_type": "execute_result"
    }
   ],
   "source": [
    "dt.datetime.strftime(dt.datetime.now(),'%B %d, %Y %I%p')"
   ]
  },
  {
   "cell_type": "markdown",
   "metadata": {},
   "source": [
    "#### Bonus: \n",
    "Try converting strings to datetime objects and datetime objects back to strings.  What are some interesting datetime formats you can find in the documentation?"
   ]
  },
  {
   "cell_type": "code",
   "execution_count": 16,
   "metadata": {},
   "outputs": [
    {
     "name": "stdout",
     "output_type": "stream",
     "text": [
      "09/14/18\n",
      "September 14, 2018 05PM\n",
      "17:14:13\n",
      "September 14, 2018\n",
      "Fri 05 PM\n",
      "Sep 14,2018 05PM\n",
      "sales report 20180914.xlsx\n"
     ]
    }
   ],
   "source": [
    "example = dt.datetime.now()\n",
    "print (dt.datetime.strftime(example,'%m/%d/%y'))\n",
    "print (dt.datetime.strftime(example,'%B %d, %Y %I%p'))\n",
    "print (dt.datetime.strftime(example,'%H:%M:%S'))\n",
    "print (dt.datetime.strftime(example,'%B %d, %Y'))\n",
    "print (dt.datetime.strftime(example,'%a %I %p'))\n",
    "print (dt.datetime.strftime(example,'%b %d,%Y %I%p'))\n",
    "print (dt.datetime.strftime(dt.datetime.now(),'sales report %Y%m%d.xlsx'))"
   ]
  },
  {
   "cell_type": "code",
   "execution_count": null,
   "metadata": {},
   "outputs": [],
   "source": []
  }
 ],
 "metadata": {
  "anaconda-cloud": {},
  "kernelspec": {
   "display_name": "Python 3",
   "language": "python",
   "name": "python3"
  },
  "language_info": {
   "codemirror_mode": {
    "name": "ipython",
    "version": 3
   },
   "file_extension": ".py",
   "mimetype": "text/x-python",
   "name": "python",
   "nbconvert_exporter": "python",
   "pygments_lexer": "ipython3",
   "version": "3.6.6"
  }
 },
 "nbformat": 4,
 "nbformat_minor": 1
}
